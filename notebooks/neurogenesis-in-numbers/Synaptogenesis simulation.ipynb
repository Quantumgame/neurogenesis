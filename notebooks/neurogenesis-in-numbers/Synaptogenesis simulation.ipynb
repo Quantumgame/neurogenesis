{
 "cells": [
  {
   "cell_type": "markdown",
   "metadata": {
    "collapsed": true
   },
   "source": [
    "Some problems with the implementation proposed by Simeon Bamford:\n",
    "\n",
    "-  the use of Euclidian distance -- we need to use Manhattan distance for my sake\n",
    "-  Gaussian process for extracting $nProbConnect$ and others \n",
    "-  Source and target layers means either logical division (same \"layers\" on one core) or physical one with each layer on a different core\n",
    "    \n",
    "    \n",
    "## Simulation Algorithm 1 Model Summary:\n",
    "\n",
    "There are two layers of the size, the input and target layers; each is a square grid\n",
    "of neurons with periodic boundaries, and the ideal location of each neuron in the input\n",
    "layer is the location with the same coordinates in the target area. Each target-layer neuron\n",
    "has the same number of potential synapses; these are dendritic locations in which actual\n",
    "synapses may form; synapses can be with a pre-synaptic neuron from either the input or\n",
    "target layer, including the post-synaptic neuron itself.\n",
    "\n",
    "Initial conditions: all potential synapses start formed, with conductance $g_{max}$.\n",
    "\n",
    "Input: neurons are independent Poisson processes. A stimulus location $s$ is randomly \n",
    "chosen and firing rates are set to \n",
    "\n",
    "$f_{base} + f_{peak}\\times e^{-d / 2\\sigma^{2}_{stim}}$\n",
    " \n",
    ", where d is the distance from $s$. With a period $t_{sim}$, $s$ moves and the process repeats.\n",
    "\n",
    "Neuron dynamics (target-layer): the membrane voltage $V_{mem}$ is described by:\n",
    "\n",
    "$\\tau_{mem}\\frac{\\delta V_{mem}}{\\delta t} = V_{rest} - V_{mem} + g_{ex}(t)(E_{ex}-V_{mem})$\n",
    "\n",
    "\n",
    "$E_{ex}$ = excitatory reversal potential; $V_{rest}$ = resting potential; $\\tau_{mem}$ = membrane time constant. Upon reaching a threshold $V_{thr}$, a spike occurs and $V_{mem}$ is reset to $V_{rest}$. A presynaptic\n",
    "spike at time 0 causes a synaptic conductance at time $t \\geq O$ of $g_{ex}(t) = ge^\\frac{-t}{\\tau_{ex}}(\\tau_{ex}$= synaptic time constant); this is cumulative for all pre-synaptic spikes.\n",
    "\n",
    "**STDP**: a pre-synaptic spike at time $t_{pre}$ and post-synaptic spike at $t_{post}$ modify the synaptic\n",
    "conductance by $g —> g + g_{max}F(\\Delta t)$,where $\\Delta t = t_{pre}—t_{post}$ and $F(\\Delta t) = A_{+}exp (\\Delta t/T_{+})$ if\n",
    "$\\Delta t$ < 0, otherwise $F(\\Delta t) = -A_{-}exp (-\\Delta t/T_{-})$, where $A_{+/-}$ are magnitudes and \n",
    "$\\tau_{+/-}$ are time constants for potentiation and depression respectively. This is cumulative for all pre and\n",
    "post-synaptic spike pairs; g is bounded in (0, $g_{max}$).\n",
    "\n",
    "**Synaptic rewiring**: At a fixed rate $f_{rew}$, a potential synapse is randomly chosen. If it is an\n",
    "actual synapse, the elimination rule is used, otherwise the formation rule is used.\n",
    "\n",
    "**Formation rule**: A possible pre-synaptic neuron is randomly selected from either the input\n",
    "or target layer and synapse formation occurs if:\n",
    "\n",
    "$r < p_{form}e^{-\\frac{\\delta^{2}}{2\\sigma^2_{form}}}$\n",
    "\n",
    "r = uniform random number in (0, 1); $p_{form}$ = peak formation probability;$\\delta$ = distance of \n",
    "possible pre-synaptic neuron from ideal location of post-synaptic neuron; $\\sigma_{form}$  = variance \n",
    "of the connection field. $p_{form}$ and $\\sigma^2_{form}$ formmay differ based on which layer the possible presynaptic\n",
    "neuron is from.\n",
    "\n",
    "**Elimination rule**: If the synapse's conductance is below $0.5g_{max}$ it is eliminated with probability\n",
    "$p_{elim-dep}$, otherwise probability $p_{elim-pot}$ is used\n",
    "   "
   ]
  },
  {
   "cell_type": "code",
   "execution_count": 2,
   "metadata": {
    "collapsed": false
   },
   "outputs": [],
   "source": [
    "import numpy as np\n",
    "import matplotlib.pyplot as plt\n",
    "%matplotlib inline"
   ]
  },
  {
   "cell_type": "markdown",
   "metadata": {},
   "source": [
    "### Layer representation"
   ]
  },
  {
   "cell_type": "code",
   "execution_count": null,
   "metadata": {
    "collapsed": false
   },
   "outputs": [],
   "source": []
  },
  {
   "cell_type": "markdown",
   "metadata": {},
   "source": [
    "### Periodic Boundries "
   ]
  },
  {
   "cell_type": "code",
   "execution_count": null,
   "metadata": {
    "collapsed": true
   },
   "outputs": [],
   "source": []
  }
 ],
 "metadata": {
  "kernelspec": {
   "display_name": "Python 2",
   "language": "python",
   "name": "python2"
  },
  "language_info": {
   "codemirror_mode": {
    "name": "ipython",
    "version": 2
   },
   "file_extension": ".py",
   "mimetype": "text/x-python",
   "name": "python",
   "nbconvert_exporter": "python",
   "pygments_lexer": "ipython2",
   "version": "2.7.6"
  }
 },
 "nbformat": 4,
 "nbformat_minor": 0
}
