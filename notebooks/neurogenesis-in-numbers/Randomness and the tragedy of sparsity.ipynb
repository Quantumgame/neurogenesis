{
 "cells": [
  {
   "cell_type": "markdown",
   "metadata": {},
   "source": [
    "## Randomness and the tragedy of sparsity, or how to cheat chance"
   ]
  },
  {
   "cell_type": "code",
   "execution_count": 6,
   "metadata": {
    "collapsed": true
   },
   "outputs": [],
   "source": [
    "import numpy as np\n",
    "import os\n",
    "ff = []\n",
    "lat = []"
   ]
  },
  {
   "cell_type": "code",
   "execution_count": 7,
   "metadata": {
    "collapsed": false
   },
   "outputs": [
    {
     "name": "stdout",
     "output_type": "stream",
     "text": [
      "['lat_w', 'lat_conn', 's', 'ff_w', 'ff_conn']\n"
     ]
    }
   ],
   "source": [
    "seed = 7\n",
    "np.random.seed(seed)\n",
    "recording_filename = str(np.random.randint(100000, 1000000))\n",
    "\n",
    "if os.path.isfile(recording_filename + \".npz\"):\n",
    "    with np.load(recording_filename + \".npz\")as init_data:\n",
    "        print init_data.keys()\n",
    "        ff = init_data['ff_conn']\n",
    "        lat = init_data['lat_conn']"
   ]
  },
  {
   "cell_type": "code",
   "execution_count": 11,
   "metadata": {
    "collapsed": false
   },
   "outputs": [
    {
     "name": "stdout",
     "output_type": "stream",
     "text": [
      "Connectivity of ff 6.25 %\n",
      ",as such, the sparsity of it is 93.75 %\n"
     ]
    }
   ],
   "source": [
    "conn_ff =  np.count_nonzero(ff) / float(ff.size) * 100\n",
    "print \"Connectivity of ff\", conn_ff, \"%\"\n",
    "print \",as such, the sparsity of it is\", 100. - conn_ff, \"%\""
   ]
  },
  {
   "cell_type": "code",
   "execution_count": 12,
   "metadata": {
    "collapsed": false
   },
   "outputs": [
    {
     "name": "stdout",
     "output_type": "stream",
     "text": [
      "Connectivity of lat 6.25 %\n",
      ",as such, the sparsity of it is 93.75 %\n"
     ]
    }
   ],
   "source": [
    "conn_lat =  np.count_nonzero(lat) / float(lat.size) * 100\n",
    "print \"Connectivity of lat\", conn_lat, \"%\"\n",
    "print \",as such, the sparsity of it is\", 100. - conn_lat, \"%\""
   ]
  },
  {
   "cell_type": "markdown",
   "metadata": {},
   "source": [
    "Let's focus on Feedforward projections"
   ]
  },
  {
   "cell_type": "code",
   "execution_count": 14,
   "metadata": {
    "collapsed": false
   },
   "outputs": [
    {
     "name": "stdout",
     "output_type": "stream",
     "text": [
      "There are 4096 feeedforward projections, out of  65536 possible projections\n"
     ]
    }
   ],
   "source": [
    "print \"There are\", np.count_nonzero(ff), \"feeedforward projections, out of \",  ff.size,\"possible projections\""
   ]
  },
  {
   "cell_type": "code",
   "execution_count": 19,
   "metadata": {
    "collapsed": false
   },
   "outputs": [
    {
     "name": "stdout",
     "output_type": "stream",
     "text": [
      "As such, the probability of randomly choosing a formed synapse to consider for elimination (using a uniform random process) is  0.0625\n"
     ]
    }
   ],
   "source": [
    "print \"As such, the probability of randomly choosing a formed synapse to consider for elimination \\\n",
    "(using a uniform random process) is \", float(np.count_nonzero(ff)) / ff.size"
   ]
  },
  {
   "cell_type": "code",
   "execution_count": null,
   "metadata": {
    "collapsed": true
   },
   "outputs": [],
   "source": []
  },
  {
   "cell_type": "code",
   "execution_count": 26,
   "metadata": {
    "collapsed": true
   },
   "outputs": [],
   "source": [
    "def find_projection():\n",
    "    global ff, lat\n",
    "    # First, choose a type of projection (FF or LAT)\n",
    "    projection_index = np.random.randint(0, 2)\n",
    "    # Second, choose a postsynaptic neuron from that projection\n",
    "    postsynaptic_neuron_index = np.random.randint(0, 256)\n",
    "\n",
    "    potential_pre =  np.random.randint(0, 256)\n",
    "    _2d_to_1d_arithmetic = potential_pre * 256 + postsynaptic_neuron_index\n",
    "    #         _2d_to_1d_arithmetic = pre_x * N + pre_y\n",
    "    # Third, check if the synapse exists or not and follow the appropriate rule\n",
    "    if  projection_index==0 and ff[_2d_to_1d_arithmetic] or projection_index==1 and lat[_2d_to_1d_arithmetic]:\n",
    "        return _2d_to_1d_arithmetic\n",
    "    return None"
   ]
  },
  {
   "cell_type": "code",
   "execution_count": 31,
   "metadata": {
    "collapsed": false
   },
   "outputs": [],
   "source": [
    "count = 0\n",
    "for _ in range(20000):\n",
    "    if find_projection():\n",
    "        count += 1"
   ]
  },
  {
   "cell_type": "code",
   "execution_count": 32,
   "metadata": {
    "collapsed": false
   },
   "outputs": [
    {
     "name": "stdout",
     "output_type": "stream",
     "text": [
      "1271\n"
     ]
    }
   ],
   "source": [
    "print count"
   ]
  },
  {
   "cell_type": "code",
   "execution_count": 33,
   "metadata": {
    "collapsed": false
   },
   "outputs": [
    {
     "name": "stdout",
     "output_type": "stream",
     "text": [
      "0.06355\n"
     ]
    }
   ],
   "source": [
    "print count / 20000."
   ]
  },
  {
   "cell_type": "markdown",
   "metadata": {},
   "source": [
    "This seems to match up with our expectation. But why did I not get these results?\n",
    "\n",
    "Because someone **FORGOT** what potential pre-synaptic neuron meant and would only return indices corresponding to neurons which were **NOT CONNECTED**, meaning I could **NEVER** eliminate a synapse because I would only look at connections that should have been formed. GG"
   ]
  },
  {
   "cell_type": "code",
   "execution_count": 30,
   "metadata": {
    "collapsed": true
   },
   "outputs": [],
   "source": [
    "def potential_presynaptic_neuron(self, projection, postsynaptic_index):\n",
    "        potential_neurons = \\\n",
    "            np.nonzero(np.invert(projection.synapse_connected.reshape(self.N, self.N)[:, postsynaptic_index]))[0]\n",
    "        if len(potential_neurons) == 0:\n",
    "            return None\n",
    "        random_index = potential_neurons[np.random.randint(0, len(potential_neurons))]\n",
    "        return random_index"
   ]
  }
 ],
 "metadata": {
  "kernelspec": {
   "display_name": "Python 2",
   "language": "python",
   "name": "python2"
  },
  "language_info": {
   "codemirror_mode": {
    "name": "ipython",
    "version": 2
   },
   "file_extension": ".py",
   "mimetype": "text/x-python",
   "name": "python",
   "nbconvert_exporter": "python",
   "pygments_lexer": "ipython2",
   "version": "2.7.9"
  }
 },
 "nbformat": 4,
 "nbformat_minor": 0
}
