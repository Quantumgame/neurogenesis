{
 "cells": [
  {
   "cell_type": "code",
   "execution_count": 1,
   "metadata": {
    "collapsed": false
   },
   "outputs": [
    {
     "data": {
      "text/plain": [
       "<matplotlib.figure.Figure at 0x6af5f30>"
      ]
     },
     "metadata": {},
     "output_type": "display_data"
    }
   ],
   "source": [
    "import numpy as np\n",
    "import matplotlib.pyplot as plt\n",
    "import scipy\n",
    "%matplotlib inline\n",
    "plt.viridis()\n",
    "import time\n",
    "from brian2.units import *\n",
    "from scipy.spatial.distance import minkowski"
   ]
  },
  {
   "cell_type": "code",
   "execution_count": 2,
   "metadata": {
    "collapsed": true
   },
   "outputs": [],
   "source": [
    "def distance(s, t, grid_shape, dimensions):\n",
    "        '''\n",
    "        Function that computes distance in a grid of neurons taking into account periodic boundry conditions.\n",
    "\n",
    "        First, translate source into the center of the grid.\n",
    "        Second, translate target by the same amount.\n",
    "        Finally, perform desired distance computation.\n",
    "        '''\n",
    "        s = np.asarray(s)\n",
    "        t = np.asarray(t)\n",
    "        _grid_size = np.asarray(grid_shape)\n",
    "        trans = s - (_grid_size // 2)\n",
    "        s = np.mod(s - trans, _grid_size)\n",
    "        t = np.mod(t - trans, _grid_size)\n",
    "        return minkowski(s, t, dimensions)"
   ]
  },
  {
   "cell_type": "code",
   "execution_count": 3,
   "metadata": {
    "collapsed": true
   },
   "outputs": [],
   "source": [
    "def generate_rates(s, grid_shape, dimensions):\n",
    "    '''\n",
    "    Function that generates an array the same shape as the input layer so that \n",
    "    each cell has a value corresponding to the firing rate for the neuron\n",
    "    at that position.\n",
    "    '''\n",
    "    _rates = np.zeros(grid_shape)\n",
    "    for x, y in np.ndindex(grid_shape):\n",
    "        _d = distance(s, (x,y), grid_shape=grid_shape, dimensions=dimensions)\n",
    "        _rates[x, y] = f_base + f_peak * np.e ** (-_d/(2 * sigma_stim**2))\n",
    "    return _rates * Hz"
   ]
  },
  {
   "cell_type": "code",
   "execution_count": 4,
   "metadata": {
    "collapsed": true
   },
   "outputs": [],
   "source": [
    "duration = 100 * ms\n",
    "d = 2\n",
    "# Wiring\n",
    "n = 16\n",
    "N_layer = n ** 2\n",
    "S = (n, n)\n",
    "\n",
    "s = (n//2, n//2)\n",
    "sigma_form_forward = 2.5\n",
    "sigma_form_lateral = 1\n",
    "\n",
    "# Inputs\n",
    "f_mean = 20 * Hz\n",
    "f_base = 5 * Hz\n",
    "f_peak = 152.8  * Hz\n",
    "sigma_stim = 2\n",
    "t_stim = 0.02 * second"
   ]
  },
  {
   "cell_type": "code",
   "execution_count": 5,
   "metadata": {
    "collapsed": false
   },
   "outputs": [
    {
     "data": {
      "text/plain": [
       "200.0"
      ]
     },
     "execution_count": 5,
     "metadata": {},
     "output_type": "execute_result"
    }
   ],
   "source": [
    "_chunk = 20 * ms\n",
    "_dt = .1 * ms\n",
    "_chunk / _dt"
   ]
  },
  {
   "cell_type": "code",
   "execution_count": 6,
   "metadata": {
    "collapsed": true
   },
   "outputs": [],
   "source": [
    "smth = [[],]"
   ]
  },
  {
   "cell_type": "code",
   "execution_count": 7,
   "metadata": {
    "collapsed": false
   },
   "outputs": [],
   "source": [
    "smth.append([3,2,1])"
   ]
  },
  {
   "cell_type": "code",
   "execution_count": 8,
   "metadata": {
    "collapsed": false
   },
   "outputs": [
    {
     "data": {
      "text/plain": [
       "[[], [3, 2, 1]]"
      ]
     },
     "execution_count": 8,
     "metadata": {},
     "output_type": "execute_result"
    }
   ],
   "source": [
    "smth"
   ]
  },
  {
   "cell_type": "markdown",
   "metadata": {},
   "source": [
    "The idea is to generate a 2D spike time array (different times for different spike source). To obtain a set a times I need to consider the rate of each spiking source, then generate a poisson series, and convert nonzero indices to times."
   ]
  },
  {
   "cell_type": "code",
   "execution_count": 192,
   "metadata": {
    "collapsed": true
   },
   "outputs": [],
   "source": [
    "def generate_spike_times(s, dt=.1 * ms, chunk = 20 * ms, time_offset=0. * ms, grid_shape=(16,16), dimensions=2):\n",
    "    rates = generate_rates(s, grid_shape, dimensions)\n",
    "    spike_times = []\n",
    "    for _, rate in np.ndenumerate(rates/Hz):\n",
    "        spikes = np.random.poisson(rate/1000., int(chunk/dt))\n",
    "        fucking_indices = np.nonzero(spikes)[0]\n",
    "        fucking_indices_as_times = fucking_indices * dt\n",
    "        shifted_fucking_indices = fucking_indices_as_times + time_offset\n",
    "        spike_times.append((( shifted_fucking_indices)/ms).tolist())\n",
    "    return spike_times"
   ]
  },
  {
   "cell_type": "code",
   "execution_count": 198,
   "metadata": {
    "collapsed": false
   },
   "outputs": [],
   "source": [
    "spike_times = generate_spike_times((13,8), time_offset=20*ms, grid_shape=S, dimensions=2)"
   ]
  },
  {
   "cell_type": "code",
   "execution_count": 199,
   "metadata": {
    "collapsed": true
   },
   "outputs": [],
   "source": [
    "def give_me_spike_times(N = 256, duration=25*ms, t_stim = 20*ms, dimensions=2):\n",
    "    spike_times = [[], ] * N\n",
    "    time_slot = 0\n",
    "    for time_slot in range(int(duration / t_stim)):\n",
    "        _sp = generate_spike_times(np.random.randint(0, np.sqrt(N), 2),\n",
    "                                chunk=t_stim,\n",
    "                                time_offset=time_slot * t_stim,\n",
    "                                dimensions=dimensions,\n",
    "                                  grid_shape=(np.sqrt(N),np.sqrt(N)))\n",
    "        for index, value in np.ndenumerate(_sp):\n",
    "            if hasattr(value , '__iter__'):\n",
    "                for v in value:\n",
    "                    spike_times[index[0]].append(v)\n",
    "            else:\n",
    "                spike_times[index[0]].append(value)\n",
    "    print \"time slot\", time_slot\n",
    "    if not np.isclose(duration % t_stim / ms, 0):\n",
    "        print duration % t_stim\n",
    "        _sp = generate_spike_times(np.random.randint(0, 16, 2),\n",
    "                                chunk=duration % t_stim,\n",
    "                                time_offset=(time_slot+1) * t_stim,\n",
    "                                dimensions=dimensions,\n",
    "                                  grid_shape=(np.sqrt(N),np.sqrt(N)))\n",
    "        for index, value in np.ndenumerate(_sp):\n",
    "            if hasattr(value, '__iter__'):\n",
    "                for v in value:\n",
    "                    spike_times[index[0]].append(v)\n",
    "            else:\n",
    "                spike_times[index[0]].append(value)\n",
    "    return spike_times"
   ]
  },
  {
   "cell_type": "code",
   "execution_count": 200,
   "metadata": {
    "collapsed": false
   },
   "outputs": [
    {
     "name": "stderr",
     "output_type": "stream",
     "text": [
      "WARNING    c:\\python27\\lib\\site-packages\\ipykernel\\__main__.py:7: VisibleDeprecationWarning: using a non-integer number instead of an integer will result in an error in the future\n",
      " [py.warnings]\n"
     ]
    },
    {
     "name": "stdout",
     "output_type": "stream",
     "text": [
      "time slot 0\n",
      "5. ms\n"
     ]
    }
   ],
   "source": [
    "spike_times = give_me_spike_times(4)"
   ]
  },
  {
   "cell_type": "code",
   "execution_count": 201,
   "metadata": {
    "collapsed": false
   },
   "outputs": [
    {
     "data": {
      "text/plain": [
       "[0.1,\n",
       " 0.4,\n",
       " 2.6,\n",
       " 3.0,\n",
       " 7.800000000000001,\n",
       " 8.5,\n",
       " 10.3,\n",
       " 11.0,\n",
       " 11.7,\n",
       " 12.100000000000001,\n",
       " 12.4,\n",
       " 13.8,\n",
       " 13.9,\n",
       " 14.0,\n",
       " 15.1,\n",
       " 15.5,\n",
       " 16.3,\n",
       " 17.2,\n",
       " 18.4,\n",
       " 19.700000000000003,\n",
       " 0.0,\n",
       " 0.9,\n",
       " 1.5,\n",
       " 2.5,\n",
       " 4.4,\n",
       " 4.8999999999999995,\n",
       " 5.800000000000001,\n",
       " 6.4,\n",
       " 6.7,\n",
       " 6.800000000000001,\n",
       " 8.700000000000001,\n",
       " 9.2,\n",
       " 9.7,\n",
       " 12.3,\n",
       " 12.8,\n",
       " 13.4,\n",
       " 13.8,\n",
       " 14.9,\n",
       " 15.4,\n",
       " 15.600000000000001,\n",
       " 16.099999999999998,\n",
       " 16.7,\n",
       " 16.900000000000002,\n",
       " 17.400000000000002,\n",
       " 18.6,\n",
       " 19.0,\n",
       " 19.900000000000002,\n",
       " 0.1,\n",
       " 0.4,\n",
       " 0.8,\n",
       " 1.3,\n",
       " 1.9,\n",
       " 2.0,\n",
       " 2.8,\n",
       " 3.7,\n",
       " 3.9000000000000004,\n",
       " 4.0,\n",
       " 6.9,\n",
       " 7.9,\n",
       " 8.9,\n",
       " 9.5,\n",
       " 10.3,\n",
       " 13.0,\n",
       " 13.8,\n",
       " 13.9,\n",
       " 14.200000000000001,\n",
       " 14.6,\n",
       " 15.700000000000001,\n",
       " 16.0,\n",
       " 16.2,\n",
       " 17.8,\n",
       " 18.2,\n",
       " 18.9,\n",
       " 3.2,\n",
       " 4.8999999999999995,\n",
       " 5.3,\n",
       " 6.0,\n",
       " 6.4,\n",
       " 7.3,\n",
       " 7.6,\n",
       " 8.0,\n",
       " 9.3,\n",
       " 9.7,\n",
       " 10.0,\n",
       " 10.5,\n",
       " 10.6,\n",
       " 11.2,\n",
       " 11.600000000000001,\n",
       " 11.9,\n",
       " 12.3,\n",
       " 12.4,\n",
       " 14.700000000000001,\n",
       " 15.0,\n",
       " 16.099999999999998,\n",
       " 16.400000000000002,\n",
       " 16.5,\n",
       " 16.6,\n",
       " 17.7,\n",
       " 18.4,\n",
       " 18.500000000000004,\n",
       " 19.200000000000003,\n",
       " 19.4,\n",
       " 20.6,\n",
       " 22.9,\n",
       " 24.2,\n",
       " 24.6,\n",
       " 24.8,\n",
       " 22.0,\n",
       " 22.1,\n",
       " 23.7,\n",
       " 20.900000000000002,\n",
       " 21.2,\n",
       " 21.4,\n",
       " 21.6,\n",
       " 23.1,\n",
       " 23.900000000000002,\n",
       " 24.400000000000002,\n",
       " 20.400000000000002,\n",
       " 21.1,\n",
       " 22.3,\n",
       " 23.1,\n",
       " 24.0,\n",
       " 24.400000000000002,\n",
       " 24.5]"
      ]
     },
     "execution_count": 201,
     "metadata": {},
     "output_type": "execute_result"
    }
   ],
   "source": [
    "spike_times[0]"
   ]
  },
  {
   "cell_type": "code",
   "execution_count": 202,
   "metadata": {
    "collapsed": false
   },
   "outputs": [
    {
     "data": {
      "text/plain": [
       "124"
      ]
     },
     "execution_count": 202,
     "metadata": {},
     "output_type": "execute_result"
    }
   ],
   "source": [
    "len(spike_times[0])"
   ]
  },
  {
   "cell_type": "code",
   "execution_count": 114,
   "metadata": {
    "collapsed": false
   },
   "outputs": [
    {
     "data": {
      "text/plain": [
       "array([2786, 2255,  671, ..., 4822, 4828, 4731])"
      ]
     },
     "execution_count": 114,
     "metadata": {},
     "output_type": "execute_result"
    }
   ],
   "source": [
    "np.argsort(spike_times[0])"
   ]
  },
  {
   "cell_type": "code",
   "execution_count": null,
   "metadata": {
    "collapsed": true
   },
   "outputs": [],
   "source": []
  }
 ],
 "metadata": {
  "kernelspec": {
   "display_name": "Python 2",
   "language": "python",
   "name": "python2"
  },
  "language_info": {
   "codemirror_mode": {
    "name": "ipython",
    "version": 2
   },
   "file_extension": ".py",
   "mimetype": "text/x-python",
   "name": "python",
   "nbconvert_exporter": "python",
   "pygments_lexer": "ipython2",
   "version": "2.7.9"
  }
 },
 "nbformat": 4,
 "nbformat_minor": 0
}
