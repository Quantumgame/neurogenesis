{
 "cells": [
  {
   "cell_type": "code",
   "execution_count": 1,
   "metadata": {
    "collapsed": false
   },
   "outputs": [
    {
     "data": {
      "text/plain": [
       "<matplotlib.figure.Figure at 0x7efc85c4d1d0>"
      ]
     },
     "metadata": {},
     "output_type": "display_data"
    }
   ],
   "source": [
    "import numpy as np\n",
    "import matplotlib.pyplot as plt\n",
    "import scipy\n",
    "%matplotlib inline\n",
    "plt.viridis()\n",
    "import time\n",
    "from brian2.units import *\n",
    "from scipy.spatial.distance import minkowski"
   ]
  },
  {
   "cell_type": "code",
   "execution_count": 2,
   "metadata": {
    "collapsed": true
   },
   "outputs": [],
   "source": [
    "def distance(s, t, grid_shape, dimensions):\n",
    "        '''\n",
    "        Function that computes distance in a grid of neurons taking into account periodic boundry conditions.\n",
    "\n",
    "        First, translate source into the center of the grid.\n",
    "        Second, translate target by the same amount.\n",
    "        Finally, perform desired distance computation.\n",
    "        '''\n",
    "        s = np.asarray(s)\n",
    "        t = np.asarray(t)\n",
    "        _grid_size = np.asarray(grid_shape)\n",
    "        trans = s - (_grid_size // 2)\n",
    "        s = np.mod(s - trans, _grid_size)\n",
    "        t = np.mod(t - trans, _grid_size)\n",
    "        return minkowski(s, t, dimensions)"
   ]
  },
  {
   "cell_type": "code",
   "execution_count": 3,
   "metadata": {
    "collapsed": true
   },
   "outputs": [],
   "source": [
    "def generate_rates(s, grid_shape, dimensions):\n",
    "    '''\n",
    "    Function that generates an array the same shape as the input layer so that \n",
    "    each cell has a value corresponding to the firing rate for the neuron\n",
    "    at that position.\n",
    "    '''\n",
    "    _rates = np.zeros(grid_shape)\n",
    "    for x, y in np.ndindex(grid_shape):\n",
    "        _d = distance(s, (x,y), grid_shape=grid_shape, dimensions=dimensions)\n",
    "        _rates[x, y] = f_base + f_peak * np.e ** (-_d/(2 * sigma_stim**2))\n",
    "    return _rates * Hz"
   ]
  },
  {
   "cell_type": "code",
   "execution_count": 4,
   "metadata": {
    "collapsed": true
   },
   "outputs": [],
   "source": [
    "duration = 100 * ms\n",
    "d = 2\n",
    "# Wiring\n",
    "n = 16\n",
    "N_layer = n ** 2\n",
    "S = (n, n)\n",
    "\n",
    "s = (n//2, n//2)\n",
    "sigma_form_forward = 2.5\n",
    "sigma_form_lateral = 1\n",
    "\n",
    "# Inputs\n",
    "f_mean = 20 * Hz\n",
    "f_base = 5 * Hz\n",
    "f_peak = 152.8  * Hz\n",
    "sigma_stim = 2\n",
    "t_stim = 0.02 * second"
   ]
  },
  {
   "cell_type": "code",
   "execution_count": 5,
   "metadata": {
    "collapsed": false
   },
   "outputs": [
    {
     "data": {
      "text/plain": [
       "200.0"
      ]
     },
     "execution_count": 5,
     "metadata": {},
     "output_type": "execute_result"
    }
   ],
   "source": [
    "_chunk = 20 * ms\n",
    "_dt = .1 * ms\n",
    "_chunk / _dt"
   ]
  },
  {
   "cell_type": "code",
   "execution_count": 6,
   "metadata": {
    "collapsed": true
   },
   "outputs": [],
   "source": [
    "smth = [[],]"
   ]
  },
  {
   "cell_type": "code",
   "execution_count": 7,
   "metadata": {
    "collapsed": false
   },
   "outputs": [],
   "source": [
    "smth.append([3,2,1])"
   ]
  },
  {
   "cell_type": "code",
   "execution_count": 8,
   "metadata": {
    "collapsed": false
   },
   "outputs": [
    {
     "data": {
      "text/plain": [
       "[[], [3, 2, 1]]"
      ]
     },
     "execution_count": 8,
     "metadata": {},
     "output_type": "execute_result"
    }
   ],
   "source": [
    "smth"
   ]
  },
  {
   "cell_type": "markdown",
   "metadata": {},
   "source": [
    "The idea is to generate a 2D spike time array (different times for different spike source). To obtain a set a times I need to consider the rate of each spiking source, then generate a poisson series, and convert nonzero indices to times."
   ]
  },
  {
   "cell_type": "code",
   "execution_count": 9,
   "metadata": {
    "collapsed": true
   },
   "outputs": [],
   "source": [
    "def generate_spike_times(s, dt=.1 * ms, chunk = 20 * ms, time_offset=0. * ms, grid_shape=(16,16), dimensions=2):\n",
    "    rates = generate_rates(s, grid_shape, dimensions)\n",
    "    spike_times = []\n",
    "    for _, rate in np.ndenumerate(rates/Hz):\n",
    "        spikes = np.random.poisson(rate/1000., int(chunk/dt))\n",
    "        fucking_indices = np.nonzero(spikes)[0]\n",
    "        fucking_indices_as_times = fucking_indices * dt\n",
    "        shifted_fucking_indices = fucking_indices_as_times + time_offset\n",
    "        spike_times.append((( shifted_fucking_indices)/ms).tolist())\n",
    "    return spike_times"
   ]
  },
  {
   "cell_type": "code",
   "execution_count": 16,
   "metadata": {
    "collapsed": false
   },
   "outputs": [],
   "source": [
    "spike_times = generate_spike_times((13,8), time_offset=20*ms, grid_shape=S, dimensions=2)"
   ]
  },
  {
   "cell_type": "code",
   "execution_count": 18,
   "metadata": {
    "collapsed": false
   },
   "outputs": [
    {
     "data": {
      "text/plain": [
       "[20.900000000000002,\n",
       " 21.8,\n",
       " 22.6,\n",
       " 23.599999999999998,\n",
       " 26.9,\n",
       " 28.200000000000003,\n",
       " 29.8,\n",
       " 30.8,\n",
       " 32.4,\n",
       " 35.3,\n",
       " 36.50000000000001,\n",
       " 39.5]"
      ]
     },
     "execution_count": 18,
     "metadata": {},
     "output_type": "execute_result"
    }
   ],
   "source": [
    "spike_times[1]"
   ]
  },
  {
   "cell_type": "code",
   "execution_count": 11,
   "metadata": {
    "collapsed": true
   },
   "outputs": [],
   "source": [
    "def give_me_spike_times(N = 256, duration=25*ms, t_stim = 20*ms, dimensions=2):\n",
    "    spike_times = [[], ] * N\n",
    "    time_slot = 0\n",
    "    for time_slot in range(int(duration / t_stim)):\n",
    "        _sp = generate_spike_times(np.random.randint(0, np.sqrt(N), 2),\n",
    "                                chunk=t_stim,\n",
    "                                time_offset=time_slot * t_stim,\n",
    "                                dimensions=dimensions,\n",
    "                                  grid_shape=(np.sqrt(N),np.sqrt(N)))\n",
    "        for index, value in np.ndenumerate(_sp):\n",
    "            if hasattr(value , '__iter__'):\n",
    "                for v in value:\n",
    "                    spike_times[index[0]].append(v)\n",
    "            else:\n",
    "                spike_times[index[0]].append(value)\n",
    "    print \"time slot\", time_slot\n",
    "    if not np.isclose(duration % t_stim / ms, 0):\n",
    "        print duration % t_stim\n",
    "        _sp = generate_spike_times(np.random.randint(0, 16, 2),\n",
    "                                chunk=duration % t_stim,\n",
    "                                time_offset=(time_slot+1) * t_stim,\n",
    "                                dimensions=dimensions,\n",
    "                                  grid_shape=(np.sqrt(N),np.sqrt(N)))\n",
    "        for index, value in np.ndenumerate(_sp):\n",
    "            if hasattr(value, '__iter__'):\n",
    "                for v in value:\n",
    "                    spike_times[index[0]].append(v)\n",
    "            else:\n",
    "                spike_times[index[0]].append(value)\n",
    "    return spike_times"
   ]
  },
  {
   "cell_type": "code",
   "execution_count": 12,
   "metadata": {
    "collapsed": false
   },
   "outputs": [
    {
     "name": "stderr",
     "output_type": "stream",
     "text": [
      "WARNING    /home/bogdanp/PhD/phd_venv/lib/python2.7/site-packages/ipykernel/__main__.py:7: VisibleDeprecationWarning: using a non-integer number instead of an integer will result in an error in the future\n",
      " [py.warnings]\n",
      "WARNING    /home/bogdanp/PhD/phd_venv/local/lib/python2.7/site-packages/numpy/core/numeric.py:482: VisibleDeprecationWarning: using a non-integer number instead of an integer will result in an error in the future\n",
      "  return array(a, dtype, copy=False, order=order)\n",
      " [py.warnings]\n"
     ]
    },
    {
     "name": "stdout",
     "output_type": "stream",
     "text": [
      "time slot 0\n",
      "5. ms\n"
     ]
    }
   ],
   "source": [
    "spike_times = give_me_spike_times(4)"
   ]
  },
  {
   "cell_type": "code",
   "execution_count": 13,
   "metadata": {
    "collapsed": false
   },
   "outputs": [
    {
     "data": {
      "text/plain": [
       "[1.2000000000000002,\n",
       " 5.2,\n",
       " 5.4,\n",
       " 5.800000000000001,\n",
       " 7.0,\n",
       " 7.3,\n",
       " 10.0,\n",
       " 10.5,\n",
       " 10.6,\n",
       " 11.1,\n",
       " 11.600000000000001,\n",
       " 11.799999999999999,\n",
       " 12.100000000000001,\n",
       " 12.200000000000001,\n",
       " 14.100000000000001,\n",
       " 15.5,\n",
       " 16.0,\n",
       " 16.099999999999998,\n",
       " 16.400000000000002,\n",
       " 16.8,\n",
       " 16.900000000000002,\n",
       " 17.5,\n",
       " 17.9,\n",
       " 18.8,\n",
       " 19.1,\n",
       " 19.4,\n",
       " 1.2000000000000002,\n",
       " 1.4,\n",
       " 1.5,\n",
       " 1.6,\n",
       " 1.7000000000000002,\n",
       " 2.8,\n",
       " 3.7,\n",
       " 4.800000000000001,\n",
       " 4.8999999999999995,\n",
       " 5.1000000000000005,\n",
       " 7.9,\n",
       " 9.1,\n",
       " 9.3,\n",
       " 9.600000000000001,\n",
       " 10.3,\n",
       " 11.799999999999999,\n",
       " 12.100000000000001,\n",
       " 12.4,\n",
       " 12.6,\n",
       " 12.700000000000001,\n",
       " 12.8,\n",
       " 13.9,\n",
       " 15.1,\n",
       " 15.8,\n",
       " 15.9,\n",
       " 16.400000000000002,\n",
       " 16.5,\n",
       " 17.1,\n",
       " 18.4,\n",
       " 18.8,\n",
       " 19.1,\n",
       " 19.4,\n",
       " 19.700000000000003,\n",
       " 0.0,\n",
       " 0.5,\n",
       " 3.2,\n",
       " 4.2,\n",
       " 4.8999999999999995,\n",
       " 5.8999999999999995,\n",
       " 6.5,\n",
       " 6.6,\n",
       " 6.7,\n",
       " 8.700000000000001,\n",
       " 12.100000000000001,\n",
       " 12.700000000000001,\n",
       " 13.4,\n",
       " 13.8,\n",
       " 14.4,\n",
       " 14.6,\n",
       " 15.1,\n",
       " 15.2,\n",
       " 17.400000000000002,\n",
       " 18.2,\n",
       " 18.3,\n",
       " 18.500000000000004,\n",
       " 19.4,\n",
       " 0.4,\n",
       " 2.0,\n",
       " 2.1,\n",
       " 2.7,\n",
       " 3.3,\n",
       " 4.7,\n",
       " 5.800000000000001,\n",
       " 7.7,\n",
       " 8.9,\n",
       " 9.9,\n",
       " 11.0,\n",
       " 12.200000000000001,\n",
       " 12.4,\n",
       " 12.6,\n",
       " 12.8,\n",
       " 12.9,\n",
       " 13.7,\n",
       " 13.8,\n",
       " 14.0,\n",
       " 14.9,\n",
       " 16.2,\n",
       " 16.6,\n",
       " 17.9,\n",
       " 18.4,\n",
       " 18.9,\n",
       " 21.8,\n",
       " 22.3,\n",
       " 23.0,\n",
       " 24.099999999999998,\n",
       " 24.2,\n",
       " 24.7,\n",
       " 24.9,\n",
       " 20.3,\n",
       " 21.5,\n",
       " 21.7,\n",
       " 22.5,\n",
       " 22.7,\n",
       " 23.599999999999998,\n",
       " 23.7,\n",
       " 24.3,\n",
       " 24.400000000000002,\n",
       " 20.2,\n",
       " 20.400000000000002,\n",
       " 21.2,\n",
       " 21.8,\n",
       " 23.0,\n",
       " 23.3,\n",
       " 24.400000000000002,\n",
       " 20.6,\n",
       " 21.0,\n",
       " 21.8,\n",
       " 22.4,\n",
       " 22.9,\n",
       " 24.0]"
      ]
     },
     "execution_count": 13,
     "metadata": {},
     "output_type": "execute_result"
    }
   ],
   "source": [
    "spike_times[0]"
   ]
  },
  {
   "cell_type": "code",
   "execution_count": 14,
   "metadata": {
    "collapsed": false
   },
   "outputs": [
    {
     "data": {
      "text/plain": [
       "136"
      ]
     },
     "execution_count": 14,
     "metadata": {},
     "output_type": "execute_result"
    }
   ],
   "source": [
    "len(spike_times[0])"
   ]
  },
  {
   "cell_type": "code",
   "execution_count": 15,
   "metadata": {
    "collapsed": false
   },
   "outputs": [
    {
     "data": {
      "text/plain": [
       "array([ 59,  82,  60,   0,  26,  27,  28,  29,  30,  83,  84,  85,  31,\n",
       "        61,  86,  32,  62,  87,  33,  34,  63,  35,   1,   2,  88,   3,\n",
       "        64,  65,  66,  67,   4,   5,  89,  36,  68,  90,  37,  38,  39,\n",
       "        91,   6,  40,   7,   8,  92,   9,  10,  41,  11,  69,  12,  42,\n",
       "        93,  13,  94,  43,  95,  44,  45,  70,  96,  46,  97,  71,  98,\n",
       "        72,  99,  47, 100,  14,  73,  74, 101,  75,  48,  76,  15,  49,\n",
       "        50,  16,  17, 102,  51,  18,  52, 103,  19,  20,  53,  77,  21,\n",
       "        22, 104,  78,  79, 105,  54,  80,  23,  55, 106,  24,  56,  81,\n",
       "        25,  57,  58, 123, 114, 124, 130, 131, 125, 115, 116, 132, 126,\n",
       "       107, 108, 133, 117, 118, 134, 127, 109, 128, 119, 120, 135, 110,\n",
       "       111, 121, 122, 129, 112, 113])"
      ]
     },
     "execution_count": 15,
     "metadata": {},
     "output_type": "execute_result"
    }
   ],
   "source": [
    "np.argsort(spike_times[0])"
   ]
  },
  {
   "cell_type": "code",
   "execution_count": null,
   "metadata": {
    "collapsed": true
   },
   "outputs": [],
   "source": []
  }
 ],
 "metadata": {
  "kernelspec": {
   "display_name": "Python 2",
   "language": "python",
   "name": "python2"
  },
  "language_info": {
   "codemirror_mode": {
    "name": "ipython",
    "version": 2
   },
   "file_extension": ".py",
   "mimetype": "text/x-python",
   "name": "python",
   "nbconvert_exporter": "python",
   "pygments_lexer": "ipython2",
   "version": "2.7.6"
  }
 },
 "nbformat": 4,
 "nbformat_minor": 0
}
