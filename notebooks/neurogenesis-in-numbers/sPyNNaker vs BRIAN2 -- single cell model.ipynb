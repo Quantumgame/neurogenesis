{
 "cells": [
  {
   "cell_type": "code",
   "execution_count": 98,
   "metadata": {
    "collapsed": false
   },
   "outputs": [
    {
     "data": {
      "text/plain": [
       "<matplotlib.figure.Figure at 0xab47510>"
      ]
     },
     "metadata": {},
     "output_type": "display_data"
    }
   ],
   "source": [
    "import numpy as np\n",
    "import matplotlib.pyplot as plt\n",
    "import scipy\n",
    "%matplotlib inline\n",
    "plt.viridis()\n",
    "import time\n",
    "from brian2.units import *"
   ]
  },
  {
   "cell_type": "code",
   "execution_count": 99,
   "metadata": {
    "collapsed": true
   },
   "outputs": [],
   "source": [
    "import synaptogenesis.brian_model \n",
    "import synaptogenesis.pynn_model\n",
    "brian_model = reload(synaptogenesis.brian_model )\n",
    "pynn_model = reload(synaptogenesis.pynn_model )"
   ]
  },
  {
   "cell_type": "code",
   "execution_count": 100,
   "metadata": {
    "collapsed": false
   },
   "outputs": [],
   "source": [
    "case = 1\n",
    "duration = 100 * ms\n",
    "rate = 157.8 * Hz\n",
    "spike_times = np.linspace(0.1*ms, duration, num=rate * duration)/ms\n",
    "spike_times = [5.]"
   ]
  },
  {
   "cell_type": "code",
   "execution_count": 101,
   "metadata": {
    "collapsed": false
   },
   "outputs": [
    {
     "name": "stderr",
     "output_type": "stream",
     "text": [
      "Allocating virtual identifiers\n",
      "|0                           50%                         100%|\n",
      " ============================================================\n",
      "Partitioning graph vertices\n",
      "|0                           50%                         100%|\n",
      " ============================================================\n",
      "Partitioning graph edges\n",
      "|0                           50%                         100%|\n",
      " ============================================================\n",
      "Generating partitioner report\n",
      "|0                           50%                         100%|\n",
      " ============================================================\n",
      "Filtering edges\n",
      "|0                           50%                         100%|\n",
      " ============================================================\n",
      "Placing graph vertices\n",
      "|0                           50%                         100%|\n",
      " ============================================================\n",
      "Generating placement report\n",
      "|0                           50%                         100%|\n",
      " ============================================================\n",
      "Generating placement by core report\n",
      "|0                           50%                         100%|\n",
      " ============================================================\n",
      "Generating SDRAM usage report\n",
      "|0                           50%                         100%|\n",
      " ============================================================\n",
      "Routing\n",
      "|0                           50%                         100%|\n",
      " ============================================================\n",
      "Allocating tags\n",
      "|0                           50%                         100%|\n",
      " ============================================================\n",
      "Reporting Tags\n",
      "|0                           50%                         100%|\n",
      " ============================================================\n",
      "Deducing edge to number of keys map\n",
      "|0                           50%                         100%|\n",
      " ============================================================\n",
      "Allocating routing keys\n",
      "|0                           50%                         100%|\n",
      " ============================================================\n",
      "Generating Routing info report\n",
      "|0                           50%                         100%|\n",
      " ============================================================\n",
      "Generating routing tables\n",
      "|0                           50%                         100%|\n",
      " ============================================================\n",
      "Generating Router table report\n",
      "|0                           50%                         100%|\n",
      " ============================================================\n",
      "Compressing routing Tables\n",
      "|0                           50%                         100%|\n",
      " ============================================================\n",
      "Generating compressed router table report\n",
      "|0                           50%                         100%|\n",
      " ============================================================\n",
      "Generating comparison of router table report\n",
      "|0                           50%                         100%|\n",
      " ============================================================\n",
      "Generating sPyNNaker data specifications\n",
      "|0                           50%                         100%|\n",
      " ============================================================\n",
      "Loading routing data onto the machine\n",
      "|0                           50%                         100%|\n",
      " ============================================================\n",
      "Clearing tags\n",
      "|0                           50%                         100%|\n",
      " ============================================================\n",
      "Loading Tags\n",
      "|0                           50%                         100%|\n",
      " ============================================================\n",
      "Executing data specifications and loading data\n",
      "|0                           50%                         100%|\n",
      " ============================================================\n",
      "Loading executables onto the machine\n",
      "|0                           50%                         100%|\n",
      " ============================================================\n",
      "Initialising buffers\n",
      "|0                           50%                         100%|\n",
      " ============================================================\n",
      "Updating run time\n",
      "|0                           50%                         100%|\n",
      " ============================================================\n",
      "Loading buffers (12 bytes)\n",
      "|0                           50%                         100%|\n",
      " ============================================================\n",
      "Getting membrane voltage for target_layer\n",
      "|0                           50%                         100%|\n",
      " ============================================================\n",
      "Getting conductance for target_layer\n",
      "|0                           50%                         100%|\n",
      " ============================================================\n",
      "Getting spikes for target_layer\n",
      "|0                           50%                         100%|\n",
      " ============================================================"
     ]
    },
    {
     "name": "stdout",
     "output_type": "stream",
     "text": [
      "PyNN sim done in 3.94300008 s\n"
     ]
    },
    {
     "name": "stderr",
     "output_type": "stream",
     "text": [
      "\n"
     ]
    }
   ],
   "source": [
    "start = time.time() * second\n",
    "pynn_model = synaptogenesis.pynn_model.PyNNModel(seed=7, dimensions=1, case=case, N=1)\n",
    "pynn_model.record('use_files', False)\n",
    "pynn_model.set_spike_times(spike_times)\n",
    "pynn_model.simulate(duration)\n",
    "\n",
    "v = pynn_model.target.get_v(compatible_output=True)\n",
    "gsyn = pynn_model.target.get_gsyn(compatible_output=True)\n",
    "spikes = pynn_model.target.getSpikes(compatible_output=True)\n",
    "end = time.time() * second\n",
    "print \"PyNN sim done in\", end-start"
   ]
  },
  {
   "cell_type": "code",
   "execution_count": 102,
   "metadata": {
    "collapsed": true
   },
   "outputs": [],
   "source": [
    "v = np.asarray(v)\n",
    "gsyn = np.asarray(gsyn)\n",
    "spikes = np.asarray(spikes)"
   ]
  },
  {
   "cell_type": "code",
   "execution_count": 103,
   "metadata": {
    "collapsed": false
   },
   "outputs": [
    {
     "data": {
      "text/plain": [
       "[<matplotlib.lines.Line2D at 0xcf7e7d0>]"
      ]
     },
     "execution_count": 103,
     "metadata": {},
     "output_type": "execute_result"
    },
    {
     "data": {
      "image/png": "[encoded data removed]",
      "text/plain": [
       "<matplotlib.figure.Figure at 0xe18ddd0>"
      ]
     },
     "metadata": {},
     "output_type": "display_data"
    },
    {
     "data": {
      "image/png": "[encoded data removed]",
      "text/plain": [
       "<matplotlib.figure.Figure at 0xd570d70>"
      ]
     },
     "metadata": {},
     "output_type": "display_data"
    }
   ],
   "source": [
    "plt.figure(figsize=(8, 4))\n",
    "plt.title('Single neuron voltage')\n",
    "plt.xlabel('Times (ms)')\n",
    "plt.ylabel('mV')\n",
    "plt.plot(v[:,1],v[:, 2], alpha=.7)\n",
    "for t in spikes[:, 1]:\n",
    "    plt.axvline(t, ls=':', c='y', lw=2)\n",
    "\n",
    "plt.figure(figsize=(8, 4))\n",
    "plt.title('Single neuron synaptic conductance')\n",
    "plt.xlabel('Times (ms)')\n",
    "plt.ylabel('mF')\n",
    "plt.plot(gsyn[:,1], gsyn[:, 2], alpha=.7)\n"
   ]
  },
  {
   "cell_type": "code",
   "execution_count": 104,
   "metadata": {
    "collapsed": false
   },
   "outputs": [
    {
     "data": {
      "text/plain": [
       "0"
      ]
     },
     "execution_count": 104,
     "metadata": {},
     "output_type": "execute_result"
    }
   ],
   "source": [
    "spikes[:,1].size"
   ]
  },
  {
   "cell_type": "code",
   "execution_count": 105,
   "metadata": {
    "collapsed": false
   },
   "outputs": [
    {
     "name": "stdout",
     "output_type": "stream",
     "text": [
      "0. Hz\n"
     ]
    }
   ],
   "source": [
    "pynn_rate = spikes[:,1].size / (duration)\n",
    "print pynn_rate"
   ]
  },
  {
   "cell_type": "code",
   "execution_count": 106,
   "metadata": {
    "collapsed": false
   },
   "outputs": [
    {
     "name": "stderr",
     "output_type": "stream",
     "text": [
      "Getting provenance data from partitioned graph\n",
      "|0                           50%                         100%|\n",
      " ============================================================\n",
      "Getting provenance data from partitionable graph\n",
      "|0                           50%                         100%|\n",
      " ============================================================\n",
      "Getting provenance data\n",
      "|0                           50%                         100%|\n",
      " ============================================================\n",
      "Getting Router Provenance\n",
      "|0                           50%                         100%|\n",
      " ============================================================\n"
     ]
    }
   ],
   "source": [
    "pynn_model.end()"
   ]
  },
  {
   "cell_type": "code",
   "execution_count": 140,
   "metadata": {
    "collapsed": true
   },
   "outputs": [],
   "source": [
    "from brian2 import *"
   ]
  },
  {
   "cell_type": "code",
   "execution_count": 141,
   "metadata": {
    "collapsed": true
   },
   "outputs": [],
   "source": [
    "# Wiring\n",
    "n = 1\n",
    "N = 1\n",
    "S = (n, n)\n",
    "\n",
    "s_max = 32\n",
    "sigma_form_forward = 2.5\n",
    "sigma_form_lateral = 1\n",
    "p_form_lateral = 1\n",
    "p_form_forward = 0.16\n",
    "p_elim_dep = 0.0245\n",
    "p_elim_pot = 1.36 * np.e ** -4\n",
    "f_rew = 10 ** 4 * Hz#Hz\n",
    "\n",
    "# Membrane\n",
    "v_rest = -70 * mvolt #mV\n",
    "e_ext = 0 * mvolt #V\n",
    "v_thr = -54 * mvolt #mV\n",
    "g_max = 0.2\n",
    "tau_m = 20* ms #ms\n",
    "tau_ex = 5* ms #ms\n",
    "e = np.e\n",
    "g = g_max\n",
    "pre_t = 0 * ms\n",
    "\n",
    "\n",
    "# Inputs\n",
    "f_mean = 20 * Hz\n",
    "f_base = 5 * Hz\n",
    "f_peak = 152.8  * Hz\n",
    "sigma_stim = 2\n",
    "t_stim = 0.02 * second\n",
    "\n",
    "# STDP\n",
    "Apre = a_plus = 0.1\n",
    "b = 1.2\n",
    "taupre = tau_plus = 20 * ms #ms\n",
    "taupost = tau_minus = 64 * ms #ms\n",
    "Apost = a_minus = (a_plus * tau_plus * b) / tau_minus"
   ]
  },
  {
   "cell_type": "code",
   "execution_count": 142,
   "metadata": {
    "collapsed": false
   },
   "outputs": [
    {
     "name": "stdout",
     "output_type": "stream",
     "text": [
      "Starting sim\n",
      "Sim done\n",
      "BRIAN sim done in 5.59100008 s\n"
     ]
    }
   ],
   "source": [
    "\n",
    "start = time.time() * second\n",
    "start_scope()\n",
    "projections = []\n",
    "layers = []\n",
    "neuron_dynamics = '''\n",
    "dv/dt = (v_rest-v + gex * (e_ext - v))/tau_m : volt\n",
    "dgex/dt = -gex/tau_ex: 1\n",
    "s : 1\n",
    "'''\n",
    "G = NeuronGroup(N, neuron_dynamics, threshold='v > -54 * mV',\n",
    "                reset='v = -70 * mV', method='euler', dt=0.1 * ms, name=\"target_layer\")\n",
    "G.v   = [-70*mV,] * N\n",
    "G.gex = [0.0, ]   * N\n",
    "G.s   = [0, ]     * N\n",
    "layers.append(G)\n",
    "statemon = StateMonitor(G, ['v', 'gex'], record=True)\n",
    "spikemon = SpikeMonitor(G)\n",
    "ratemon  = PopulationRateMonitor(G)\n",
    "\n",
    "\n",
    "\n",
    "# Pre pop\n",
    "# inp = NeuronGroup(2, 'rates : Hz', threshold='rand()<rates*dt', dt=0.1 * ms, name=\"source_layer\")\n",
    "inp = SpikeGeneratorGroup(N, [0]*len(spike_times), spike_times * ms)\n",
    "layers.append(inp)\n",
    "# inp.rates = rate\n",
    "\n",
    "synapse_model = '''\n",
    "                 w : 1\n",
    "                 dapre/dt = -apre/taupre : 1 (event-driven)\n",
    "                 dapost/dt = -apost/taupost : 1 (event-driven)\n",
    "                 '''\n",
    "on_pre_model = '''\n",
    "                 gex_post += w\n",
    "                 apre += Apre\n",
    "                 w = clip(w+apost, 0, g_max)\n",
    "                 '''\n",
    "on_post_model = '''\n",
    "                 apost += Apost\n",
    "                 w = clip(w+apre, 0, g_max)\n",
    "                 '''\n",
    "\n",
    "# Feedforward connections (from source to target)\n",
    "feedforward = Synapses(inp, G, synapse_model, \n",
    "                 on_pre = on_pre_model,\n",
    "                 on_post = on_post_model,\n",
    "                 dt = .1 * ms, name=\"feedforward_projections\", delay=.1*ms)\n",
    "feedforward.connect()\n",
    "feedforward.add_attribute('synapse_connected')\n",
    "feedforward.synapse_connected = np.zeros(N**2, dtype=np.bool_)\n",
    "# feedforward.w = [g_max, ] * (N**2)\n",
    "feedforward.w = g_max\n",
    "projections.append(feedforward)\n",
    "\n",
    "# Lateral connections (from target to target)\n",
    "\n",
    "lateral = Synapses(G, G, synapse_model, \n",
    "                 on_pre = on_pre_model,\n",
    "                 on_post = on_post_model,\n",
    "                 dt = .1 * ms, name=\"lateral_projections\")\n",
    "lateral.connect()\n",
    "lateral.add_attribute('synapse_connected')\n",
    "lateral.synapse_connected = np.zeros(N**2, dtype=np.bool_)\n",
    "lateral.w = [0, ] * (N**2)\n",
    "projections.append(lateral)\n",
    "\n",
    "inp_spikemon = SpikeMonitor(inp)\n",
    "inp_ratemon = PopulationRateMonitor(inp)\n",
    "\n",
    "print \"Starting sim\"    \n",
    "run(duration)\n",
    "print \"Sim done\"\n",
    "\n",
    "\n",
    "end = time.time() * second\n",
    "print \"BRIAN sim done in\", end - start"
   ]
  },
  {
   "cell_type": "code",
   "execution_count": 143,
   "metadata": {
    "collapsed": false
   },
   "outputs": [
    {
     "data": {
      "text/plain": [
       "[<matplotlib.lines.Line2D at 0xe865bd0>]"
      ]
     },
     "execution_count": 143,
     "metadata": {},
     "output_type": "execute_result"
    },
    {
     "data": {
      "image/png": "[encoded data removed]",
      "text/plain": [
       "<matplotlib.figure.Figure at 0xe88a370>"
      ]
     },
     "metadata": {},
     "output_type": "display_data"
    },
    {
     "data": {
      "image/png": "[encoded data removed]",
      "text/plain": [
       "<matplotlib.figure.Figure at 0xcde95d0>"
      ]
     },
     "metadata": {},
     "output_type": "display_data"
    }
   ],
   "source": [
    "plt.figure(figsize=(8, 4))\n",
    "plt.title('Single neuron voltage')\n",
    "plt.xlabel('Times (ms)')\n",
    "plt.ylabel('mV')\n",
    "plt.plot(statemon.t/ms, statemon.v[0], alpha=.7)\n",
    "# for t in spikes[:, 1]:\n",
    "#     plt.axvline(t, ls=':', c='y', lw=2)\n",
    "for t in spikemon.spike_trains()[0]:\n",
    "    axvline(t/ms, ls=':', c='y', lw=2)\n",
    "\n",
    "plt.figure(figsize=(8, 4))\n",
    "plt.title('Single neuron synaptic conductance')\n",
    "plt.xlabel('Times (ms)')\n",
    "plt.ylabel('mF')\n",
    "plt.plot(statemon.t/ms, statemon.gex[0], alpha=.7)"
   ]
  },
  {
   "cell_type": "code",
   "execution_count": 144,
   "metadata": {
    "collapsed": false
   },
   "outputs": [
    {
     "data": {
      "text/plain": [
       "[<matplotlib.lines.Line2D at 0xcdd74b0>]"
      ]
     },
     "execution_count": 144,
     "metadata": {},
     "output_type": "execute_result"
    },
    {
     "data": {
      "image/png": "[encoded data removed]",
      "text/plain": [
       "<matplotlib.figure.Figure at 0xb38cd50>"
      ]
     },
     "metadata": {},
     "output_type": "display_data"
    }
   ],
   "source": [
    "plt.figure(figsize=(8, 4))\n",
    "plt.plot(gsyn[:, 2] - statemon.gex[0])"
   ]
  },
  {
   "cell_type": "code",
   "execution_count": 145,
   "metadata": {
    "collapsed": false
   },
   "outputs": [
    {
     "data": {
      "text/plain": [
       "60"
      ]
     },
     "execution_count": 145,
     "metadata": {},
     "output_type": "execute_result"
    }
   ],
   "source": [
    "np.nonzero(gsyn[:, 2])[0][0]"
   ]
  },
  {
   "cell_type": "code",
   "execution_count": 146,
   "metadata": {
    "collapsed": false
   },
   "outputs": [
    {
     "data": {
      "text/plain": [
       "5.0"
      ]
     },
     "execution_count": 146,
     "metadata": {},
     "output_type": "execute_result"
    }
   ],
   "source": [
    "spike_times[0]"
   ]
  },
  {
   "cell_type": "code",
   "execution_count": 147,
   "metadata": {
    "collapsed": false
   },
   "outputs": [
    {
     "data": {
      "text/plain": [
       "array([ 0. ,  1.1,  0. ,  0. ])"
      ]
     },
     "execution_count": 147,
     "metadata": {},
     "output_type": "execute_result"
    }
   ],
   "source": [
    "gsyn[11, :]"
   ]
  },
  {
   "cell_type": "code",
   "execution_count": 148,
   "metadata": {
    "collapsed": false
   },
   "outputs": [
    {
     "data": {
      "text/plain": [
       "array([ 0. ,  1.2,  0. ,  0. ])"
      ]
     },
     "execution_count": 148,
     "metadata": {},
     "output_type": "execute_result"
    }
   ],
   "source": [
    "gsyn[12, :]"
   ]
  },
  {
   "cell_type": "code",
   "execution_count": 149,
   "metadata": {
    "collapsed": false
   },
   "outputs": [
    {
     "data": {
      "text/plain": [
       "array([ 0. ,  1.3,  0. ,  0. ])"
      ]
     },
     "execution_count": 149,
     "metadata": {},
     "output_type": "execute_result"
    }
   ],
   "source": [
    "gsyn[13, :]"
   ]
  },
  {
   "cell_type": "code",
   "execution_count": 150,
   "metadata": {
    "collapsed": false
   },
   "outputs": [
    {
     "data": {
      "text/plain": [
       "52"
      ]
     },
     "execution_count": 150,
     "metadata": {},
     "output_type": "execute_result"
    }
   ],
   "source": [
    "np.nonzero(statemon.gex[0])[0][0]"
   ]
  },
  {
   "cell_type": "code",
   "execution_count": 151,
   "metadata": {
    "collapsed": true
   },
   "outputs": [],
   "source": [
    "# align the g_syns\n",
    "aligned_brian_gex = np.insert(statemon.gex[0], 0, [0.] * (np.nonzero(gsyn[:, 2])[0][0]-np.nonzero(statemon.gex[0])[0][0]))"
   ]
  },
  {
   "cell_type": "code",
   "execution_count": 152,
   "metadata": {
    "collapsed": false
   },
   "outputs": [
    {
     "data": {
      "text/plain": [
       "[<matplotlib.lines.Line2D at 0xd8ee570>]"
      ]
     },
     "execution_count": 152,
     "metadata": {},
     "output_type": "execute_result"
    },
    {
     "data": {
      "image/png": "[encoded data removed]",
      "text/plain": [
       "<matplotlib.figure.Figure at 0xe88a530>"
      ]
     },
     "metadata": {},
     "output_type": "display_data"
    }
   ],
   "source": [
    "plt.figure(figsize=(8, 4))\n",
    "plt.plot(gsyn[:, 2] - aligned_brian_gex[0:len(gsyn[:, 2])])"
   ]
  },
  {
   "cell_type": "code",
   "execution_count": 153,
   "metadata": {
    "collapsed": false
   },
   "outputs": [
    {
     "data": {
      "text/plain": [
       "array([], dtype=float64)"
      ]
     },
     "execution_count": 153,
     "metadata": {},
     "output_type": "execute_result"
    }
   ],
   "source": [
    "np.diff(spikes[:, 1])"
   ]
  },
  {
   "cell_type": "code",
   "execution_count": 154,
   "metadata": {
    "collapsed": true
   },
   "outputs": [],
   "source": [
    "gsyn_diff = gsyn[:, 2] - aligned_brian_gex[0:len(gsyn[:, 2])]"
   ]
  },
  {
   "cell_type": "code",
   "execution_count": 155,
   "metadata": {
    "collapsed": false
   },
   "outputs": [],
   "source": [
    "times_of_traughs =  [0 if x > -.05 else index[0] * 0.1 for index, x in np.ndenumerate(gsyn_diff) ]"
   ]
  },
  {
   "cell_type": "code",
   "execution_count": 156,
   "metadata": {
    "collapsed": false
   },
   "outputs": [
    {
     "data": {
      "text/plain": [
       "[0,\n",
       " 0,\n",
       " 0,\n",
       " 0,\n",
       " 0,\n",
       " 0,\n",
       " 0,\n",
       " 0,\n",
       " 0,\n",
       " 0,\n",
       " 0,\n",
       " 0,\n",
       " 0,\n",
       " 0,\n",
       " 0,\n",
       " 0,\n",
       " 0,\n",
       " 0,\n",
       " 0,\n",
       " 0,\n",
       " 0,\n",
       " 0,\n",
       " 0,\n",
       " 0,\n",
       " 0,\n",
       " 0,\n",
       " 0,\n",
       " 0,\n",
       " 0,\n",
       " 0,\n",
       " 0,\n",
       " 0,\n",
       " 0,\n",
       " 0,\n",
       " 0,\n",
       " 0,\n",
       " 0,\n",
       " 0,\n",
       " 0,\n",
       " 0,\n",
       " 0,\n",
       " 0,\n",
       " 0,\n",
       " 0,\n",
       " 0,\n",
       " 0,\n",
       " 0,\n",
       " 0,\n",
       " 0,\n",
       " 0,\n",
       " 0,\n",
       " 0,\n",
       " 0,\n",
       " 0,\n",
       " 0,\n",
       " 0,\n",
       " 0,\n",
       " 0,\n",
       " 0,\n",
       " 0,\n",
       " 6.0,\n",
       " 6.1000000000000005,\n",
       " 6.2,\n",
       " 6.300000000000001,\n",
       " 6.4,\n",
       " 6.5,\n",
       " 6.6000000000000005,\n",
       " 6.7,\n",
       " 6.800000000000001,\n",
       " 6.9,\n",
       " 7.0,\n",
       " 7.1000000000000005,\n",
       " 7.2,\n",
       " 7.300000000000001,\n",
       " 7.4,\n",
       " 7.5,\n",
       " 7.6000000000000005,\n",
       " 7.7,\n",
       " 7.800000000000001,\n",
       " 7.9,\n",
       " 8.0,\n",
       " 8.1,\n",
       " 8.200000000000001,\n",
       " 8.3,\n",
       " 8.4,\n",
       " 8.5,\n",
       " 8.6,\n",
       " 8.700000000000001,\n",
       " 8.8,\n",
       " 8.9,\n",
       " 9.0,\n",
       " 9.1,\n",
       " 9.200000000000001,\n",
       " 9.3,\n",
       " 9.4,\n",
       " 0,\n",
       " 0,\n",
       " 0,\n",
       " 0,\n",
       " 0,\n",
       " 0,\n",
       " 0,\n",
       " 0,\n",
       " 0,\n",
       " 0,\n",
       " 0,\n",
       " 0,\n",
       " 0,\n",
       " 0,\n",
       " 0,\n",
       " 0,\n",
       " 0,\n",
       " 0,\n",
       " 0,\n",
       " 0,\n",
       " 0,\n",
       " 0,\n",
       " 0,\n",
       " 0,\n",
       " 0,\n",
       " 0,\n",
       " 0,\n",
       " 0,\n",
       " 0,\n",
       " 0,\n",
       " 0,\n",
       " 0,\n",
       " 0,\n",
       " 0,\n",
       " 0,\n",
       " 0,\n",
       " 0,\n",
       " 0,\n",
       " 0,\n",
       " 0,\n",
       " 0,\n",
       " 0,\n",
       " 0,\n",
       " 0,\n",
       " 0,\n",
       " 0,\n",
       " 0,\n",
       " 0,\n",
       " 0,\n",
       " 0,\n",
       " 0,\n",
       " 0,\n",
       " 0,\n",
       " 0,\n",
       " 0,\n",
       " 0,\n",
       " 0,\n",
       " 0,\n",
       " 0,\n",
       " 0,\n",
       " 0,\n",
       " 0,\n",
       " 0,\n",
       " 0,\n",
       " 0,\n",
       " 0,\n",
       " 0,\n",
       " 0,\n",
       " 0,\n",
       " 0,\n",
       " 0,\n",
       " 0,\n",
       " 0,\n",
       " 0,\n",
       " 0,\n",
       " 0,\n",
       " 0,\n",
       " 0,\n",
       " 0,\n",
       " 0,\n",
       " 0,\n",
       " 0,\n",
       " 0,\n",
       " 0,\n",
       " 0,\n",
       " 0,\n",
       " 0,\n",
       " 0,\n",
       " 0,\n",
       " 0,\n",
       " 0,\n",
       " 0,\n",
       " 0,\n",
       " 0,\n",
       " 0,\n",
       " 0,\n",
       " 0,\n",
       " 0,\n",
       " 0,\n",
       " 0,\n",
       " 0,\n",
       " 0,\n",
       " 0,\n",
       " 0,\n",
       " 0,\n",
       " 0,\n",
       " 0,\n",
       " 0,\n",
       " 0,\n",
       " 0,\n",
       " 0,\n",
       " 0,\n",
       " 0,\n",
       " 0,\n",
       " 0,\n",
       " 0,\n",
       " 0,\n",
       " 0,\n",
       " 0,\n",
       " 0,\n",
       " 0,\n",
       " 0,\n",
       " 0,\n",
       " 0,\n",
       " 0,\n",
       " 0,\n",
       " 0,\n",
       " 0,\n",
       " 0,\n",
       " 0,\n",
       " 0,\n",
       " 0,\n",
       " 0,\n",
       " 0,\n",
       " 0,\n",
       " 0,\n",
       " 0,\n",
       " 0,\n",
       " 0,\n",
       " 0,\n",
       " 0,\n",
       " 0,\n",
       " 0,\n",
       " 0,\n",
       " 0,\n",
       " 0,\n",
       " 0,\n",
       " 0,\n",
       " 0,\n",
       " 0,\n",
       " 0,\n",
       " 0,\n",
       " 0,\n",
       " 0,\n",
       " 0,\n",
       " 0,\n",
       " 0,\n",
       " 0,\n",
       " 0,\n",
       " 0,\n",
       " 0,\n",
       " 0,\n",
       " 0,\n",
       " 0,\n",
       " 0,\n",
       " 0,\n",
       " 0,\n",
       " 0,\n",
       " 0,\n",
       " 0,\n",
       " 0,\n",
       " 0,\n",
       " 0,\n",
       " 0,\n",
       " 0,\n",
       " 0,\n",
       " 0,\n",
       " 0,\n",
       " 0,\n",
       " 0,\n",
       " 0,\n",
       " 0,\n",
       " 0,\n",
       " 0,\n",
       " 0,\n",
       " 0,\n",
       " 0,\n",
       " 0,\n",
       " 0,\n",
       " 0,\n",
       " 0,\n",
       " 0,\n",
       " 0,\n",
       " 0,\n",
       " 0,\n",
       " 0,\n",
       " 0,\n",
       " 0,\n",
       " 0,\n",
       " 0,\n",
       " 0,\n",
       " 0,\n",
       " 0,\n",
       " 0,\n",
       " 0,\n",
       " 0,\n",
       " 0,\n",
       " 0,\n",
       " 0,\n",
       " 0,\n",
       " 0,\n",
       " 0,\n",
       " 0,\n",
       " 0,\n",
       " 0,\n",
       " 0,\n",
       " 0,\n",
       " 0,\n",
       " 0,\n",
       " 0,\n",
       " 0,\n",
       " 0,\n",
       " 0,\n",
       " 0,\n",
       " 0,\n",
       " 0,\n",
       " 0,\n",
       " 0,\n",
       " 0,\n",
       " 0,\n",
       " 0,\n",
       " 0,\n",
       " 0,\n",
       " 0,\n",
       " 0,\n",
       " 0,\n",
       " 0,\n",
       " 0,\n",
       " 0,\n",
       " 0,\n",
       " 0,\n",
       " 0,\n",
       " 0,\n",
       " 0,\n",
       " 0,\n",
       " 0,\n",
       " 0,\n",
       " 0,\n",
       " 0,\n",
       " 0,\n",
       " 0,\n",
       " 0,\n",
       " 0,\n",
       " 0,\n",
       " 0,\n",
       " 0,\n",
       " 0,\n",
       " 0,\n",
       " 0,\n",
       " 0,\n",
       " 0,\n",
       " 0,\n",
       " 0,\n",
       " 0,\n",
       " 0,\n",
       " 0,\n",
       " 0,\n",
       " 0,\n",
       " 0,\n",
       " 0,\n",
       " 0,\n",
       " 0,\n",
       " 0,\n",
       " 0,\n",
       " 0,\n",
       " 0,\n",
       " 0,\n",
       " 0,\n",
       " 0,\n",
       " 0,\n",
       " 0,\n",
       " 0,\n",
       " 0,\n",
       " 0,\n",
       " 0,\n",
       " 0,\n",
       " 0,\n",
       " 0,\n",
       " 0,\n",
       " 0,\n",
       " 0,\n",
       " 0,\n",
       " 0,\n",
       " 0,\n",
       " 0,\n",
       " 0,\n",
       " 0,\n",
       " 0,\n",
       " 0,\n",
       " 0,\n",
       " 0,\n",
       " 0,\n",
       " 0,\n",
       " 0,\n",
       " 0,\n",
       " 0,\n",
       " 0,\n",
       " 0,\n",
       " 0,\n",
       " 0,\n",
       " 0,\n",
       " 0,\n",
       " 0,\n",
       " 0,\n",
       " 0,\n",
       " 0,\n",
       " 0,\n",
       " 0,\n",
       " 0,\n",
       " 0,\n",
       " 0,\n",
       " 0,\n",
       " 0,\n",
       " 0,\n",
       " 0,\n",
       " 0,\n",
       " 0,\n",
       " 0,\n",
       " 0,\n",
       " 0,\n",
       " 0,\n",
       " 0,\n",
       " 0,\n",
       " 0,\n",
       " 0,\n",
       " 0,\n",
       " 0,\n",
       " 0,\n",
       " 0,\n",
       " 0,\n",
       " 0,\n",
       " 0,\n",
       " 0,\n",
       " 0,\n",
       " 0,\n",
       " 0,\n",
       " 0,\n",
       " 0,\n",
       " 0,\n",
       " 0,\n",
       " 0,\n",
       " 0,\n",
       " 0,\n",
       " 0,\n",
       " 0,\n",
       " 0,\n",
       " 0,\n",
       " 0,\n",
       " 0,\n",
       " 0,\n",
       " 0,\n",
       " 0,\n",
       " 0,\n",
       " 0,\n",
       " 0,\n",
       " 0,\n",
       " 0,\n",
       " 0,\n",
       " 0,\n",
       " 0,\n",
       " 0,\n",
       " 0,\n",
       " 0,\n",
       " 0,\n",
       " 0,\n",
       " 0,\n",
       " 0,\n",
       " 0,\n",
       " 0,\n",
       " 0,\n",
       " 0,\n",
       " 0,\n",
       " 0,\n",
       " 0,\n",
       " 0,\n",
       " 0,\n",
       " 0,\n",
       " 0,\n",
       " 0,\n",
       " 0,\n",
       " 0,\n",
       " 0,\n",
       " 0,\n",
       " 0,\n",
       " 0,\n",
       " 0,\n",
       " 0,\n",
       " 0,\n",
       " 0,\n",
       " 0,\n",
       " 0,\n",
       " 0,\n",
       " 0,\n",
       " 0,\n",
       " 0,\n",
       " 0,\n",
       " 0,\n",
       " 0,\n",
       " 0,\n",
       " 0,\n",
       " 0,\n",
       " 0,\n",
       " 0,\n",
       " 0,\n",
       " 0,\n",
       " 0,\n",
       " 0,\n",
       " 0,\n",
       " 0,\n",
       " 0,\n",
       " 0,\n",
       " 0,\n",
       " 0,\n",
       " 0,\n",
       " 0,\n",
       " 0,\n",
       " 0,\n",
       " 0,\n",
       " 0,\n",
       " 0,\n",
       " 0,\n",
       " 0,\n",
       " 0,\n",
       " 0,\n",
       " 0,\n",
       " 0,\n",
       " 0,\n",
       " 0,\n",
       " 0,\n",
       " 0,\n",
       " 0,\n",
       " 0,\n",
       " 0,\n",
       " 0,\n",
       " 0,\n",
       " 0,\n",
       " 0,\n",
       " 0,\n",
       " 0,\n",
       " 0,\n",
       " 0,\n",
       " 0,\n",
       " 0,\n",
       " 0,\n",
       " 0,\n",
       " 0,\n",
       " 0,\n",
       " 0,\n",
       " 0,\n",
       " 0,\n",
       " 0,\n",
       " 0,\n",
       " 0,\n",
       " 0,\n",
       " 0,\n",
       " 0,\n",
       " 0,\n",
       " 0,\n",
       " 0,\n",
       " 0,\n",
       " 0,\n",
       " 0,\n",
       " 0,\n",
       " 0,\n",
       " 0,\n",
       " 0,\n",
       " 0,\n",
       " 0,\n",
       " 0,\n",
       " 0,\n",
       " 0,\n",
       " 0,\n",
       " 0,\n",
       " 0,\n",
       " 0,\n",
       " 0,\n",
       " 0,\n",
       " 0,\n",
       " 0,\n",
       " 0,\n",
       " 0,\n",
       " 0,\n",
       " 0,\n",
       " 0,\n",
       " 0,\n",
       " 0,\n",
       " 0,\n",
       " 0,\n",
       " 0,\n",
       " 0,\n",
       " 0,\n",
       " 0,\n",
       " 0,\n",
       " 0,\n",
       " 0,\n",
       " 0,\n",
       " 0,\n",
       " 0,\n",
       " 0,\n",
       " 0,\n",
       " 0,\n",
       " 0,\n",
       " 0,\n",
       " 0,\n",
       " 0,\n",
       " 0,\n",
       " 0,\n",
       " 0,\n",
       " 0,\n",
       " 0,\n",
       " 0,\n",
       " 0,\n",
       " 0,\n",
       " 0,\n",
       " 0,\n",
       " 0,\n",
       " 0,\n",
       " 0,\n",
       " 0,\n",
       " 0,\n",
       " 0,\n",
       " 0,\n",
       " 0,\n",
       " 0,\n",
       " 0,\n",
       " 0,\n",
       " 0,\n",
       " 0,\n",
       " 0,\n",
       " 0,\n",
       " 0,\n",
       " 0,\n",
       " 0,\n",
       " 0,\n",
       " 0,\n",
       " 0,\n",
       " 0,\n",
       " 0,\n",
       " 0,\n",
       " 0,\n",
       " 0,\n",
       " 0,\n",
       " 0,\n",
       " 0,\n",
       " 0,\n",
       " 0,\n",
       " 0,\n",
       " 0,\n",
       " 0,\n",
       " 0,\n",
       " 0,\n",
       " 0,\n",
       " 0,\n",
       " 0,\n",
       " 0,\n",
       " 0,\n",
       " 0,\n",
       " 0,\n",
       " 0,\n",
       " 0,\n",
       " 0,\n",
       " 0,\n",
       " 0,\n",
       " 0,\n",
       " 0,\n",
       " 0,\n",
       " 0,\n",
       " 0,\n",
       " 0,\n",
       " 0,\n",
       " 0,\n",
       " 0,\n",
       " 0,\n",
       " 0,\n",
       " 0,\n",
       " 0,\n",
       " 0,\n",
       " 0,\n",
       " 0,\n",
       " 0,\n",
       " 0,\n",
       " 0,\n",
       " 0,\n",
       " 0,\n",
       " 0,\n",
       " 0,\n",
       " 0,\n",
       " 0,\n",
       " 0,\n",
       " 0,\n",
       " 0,\n",
       " 0,\n",
       " 0,\n",
       " 0,\n",
       " 0,\n",
       " 0,\n",
       " 0,\n",
       " 0,\n",
       " 0,\n",
       " 0,\n",
       " 0,\n",
       " 0,\n",
       " 0,\n",
       " 0,\n",
       " 0,\n",
       " 0,\n",
       " 0,\n",
       " 0,\n",
       " 0,\n",
       " 0,\n",
       " 0,\n",
       " 0,\n",
       " 0,\n",
       " 0,\n",
       " 0,\n",
       " 0,\n",
       " 0,\n",
       " 0,\n",
       " 0,\n",
       " 0,\n",
       " 0,\n",
       " 0,\n",
       " 0,\n",
       " 0,\n",
       " 0,\n",
       " 0,\n",
       " 0,\n",
       " 0,\n",
       " 0,\n",
       " 0,\n",
       " 0,\n",
       " 0,\n",
       " 0,\n",
       " 0,\n",
       " 0,\n",
       " 0,\n",
       " 0,\n",
       " 0,\n",
       " 0,\n",
       " 0,\n",
       " 0,\n",
       " 0,\n",
       " 0,\n",
       " 0,\n",
       " 0,\n",
       " 0,\n",
       " 0,\n",
       " 0,\n",
       " 0,\n",
       " 0,\n",
       " 0,\n",
       " 0,\n",
       " 0,\n",
       " 0,\n",
       " 0,\n",
       " 0,\n",
       " 0,\n",
       " 0,\n",
       " 0,\n",
       " 0,\n",
       " 0,\n",
       " 0,\n",
       " 0,\n",
       " 0,\n",
       " 0,\n",
       " 0,\n",
       " 0,\n",
       " 0,\n",
       " 0,\n",
       " 0,\n",
       " 0,\n",
       " 0,\n",
       " 0,\n",
       " 0,\n",
       " 0,\n",
       " 0,\n",
       " 0,\n",
       " 0,\n",
       " 0,\n",
       " 0,\n",
       " 0,\n",
       " 0,\n",
       " 0,\n",
       " 0,\n",
       " 0,\n",
       " 0,\n",
       " 0,\n",
       " 0,\n",
       " 0,\n",
       " 0,\n",
       " 0,\n",
       " 0,\n",
       " 0,\n",
       " 0,\n",
       " 0,\n",
       " 0,\n",
       " 0,\n",
       " 0,\n",
       " 0,\n",
       " 0,\n",
       " 0,\n",
       " 0,\n",
       " 0,\n",
       " 0,\n",
       " 0,\n",
       " 0,\n",
       " 0,\n",
       " 0,\n",
       " 0,\n",
       " 0,\n",
       " 0,\n",
       " 0,\n",
       " 0,\n",
       " 0,\n",
       " 0,\n",
       " 0,\n",
       " 0,\n",
       " 0,\n",
       " 0,\n",
       " 0,\n",
       " 0,\n",
       " 0,\n",
       " 0,\n",
       " 0,\n",
       " 0,\n",
       " 0,\n",
       " 0,\n",
       " 0,\n",
       " 0,\n",
       " 0,\n",
       " 0,\n",
       " 0,\n",
       " 0,\n",
       " 0,\n",
       " 0,\n",
       " 0,\n",
       " 0,\n",
       " 0,\n",
       " 0,\n",
       " 0,\n",
       " 0,\n",
       " 0,\n",
       " 0,\n",
       " 0,\n",
       " 0,\n",
       " 0,\n",
       " 0,\n",
       " 0,\n",
       " 0,\n",
       " 0,\n",
       " 0,\n",
       " 0,\n",
       " 0,\n",
       " 0,\n",
       " 0,\n",
       " 0,\n",
       " 0,\n",
       " 0,\n",
       " 0,\n",
       " 0,\n",
       " 0,\n",
       " 0,\n",
       " 0,\n",
       " 0,\n",
       " 0,\n",
       " 0,\n",
       " 0,\n",
       " 0,\n",
       " 0,\n",
       " 0,\n",
       " 0,\n",
       " 0,\n",
       " 0,\n",
       " 0,\n",
       " 0,\n",
       " 0,\n",
       " 0,\n",
       " 0,\n",
       " 0,\n",
       " 0,\n",
       " 0,\n",
       " 0,\n",
       " 0,\n",
       " 0,\n",
       " 0,\n",
       " 0,\n",
       " 0,\n",
       " 0,\n",
       " 0,\n",
       " 0,\n",
       " 0,\n",
       " 0,\n",
       " 0,\n",
       " 0,\n",
       " 0,\n",
       " 0,\n",
       " 0,\n",
       " 0,\n",
       " 0,\n",
       " 0,\n",
       " 0,\n",
       " 0,\n",
       " 0,\n",
       " 0,\n",
       " 0,\n",
       " 0,\n",
       " 0,\n",
       " 0,\n",
       " 0,\n",
       " 0,\n",
       " 0,\n",
       " 0,\n",
       " 0,\n",
       " 0,\n",
       " 0,\n",
       " 0,\n",
       " 0,\n",
       " 0,\n",
       " 0,\n",
       " 0,\n",
       " 0,\n",
       " 0,\n",
       " 0,\n",
       " 0,\n",
       " 0,\n",
       " 0,\n",
       " 0,\n",
       " 0,\n",
       " 0,\n",
       " 0,\n",
       " 0,\n",
       " 0,\n",
       " 0,\n",
       " 0,\n",
       " 0,\n",
       " 0,\n",
       " 0,\n",
       " 0,\n",
       " 0,\n",
       " 0,\n",
       " 0,\n",
       " 0,\n",
       " 0,\n",
       " 0,\n",
       " 0,\n",
       " 0,\n",
       " 0,\n",
       " 0,\n",
       " 0,\n",
       " 0,\n",
       " 0,\n",
       " 0,\n",
       " 0,\n",
       " 0,\n",
       " 0,\n",
       " 0,\n",
       " 0,\n",
       " 0,\n",
       " 0,\n",
       " 0,\n",
       " 0,\n",
       " 0,\n",
       " 0,\n",
       " 0,\n",
       " 0,\n",
       " 0,\n",
       " 0,\n",
       " 0,\n",
       " 0,\n",
       " 0,\n",
       " 0,\n",
       " 0,\n",
       " 0,\n",
       " 0,\n",
       " 0,\n",
       " 0,\n",
       " 0,\n",
       " 0,\n",
       " 0,\n",
       " 0,\n",
       " 0,\n",
       " 0,\n",
       " 0,\n",
       " 0,\n",
       " 0,\n",
       " 0,\n",
       " 0,\n",
       " 0,\n",
       " 0,\n",
       " 0,\n",
       " 0,\n",
       " 0,\n",
       " 0,\n",
       " 0,\n",
       " 0]"
      ]
     },
     "execution_count": 156,
     "metadata": {},
     "output_type": "execute_result"
    }
   ],
   "source": [
    "times_of_traughs"
   ]
  },
  {
   "cell_type": "code",
   "execution_count": 157,
   "metadata": {
    "collapsed": false
   },
   "outputs": [
    {
     "data": {
      "image/png": "[encoded data removed]",
      "text/plain": [
       "<matplotlib.figure.Figure at 0xe2a6270>"
      ]
     },
     "metadata": {},
     "output_type": "display_data"
    }
   ],
   "source": [
    "#sanity check \n",
    "plt.figure(figsize=(8, 4))\n",
    "plt.plot(gsyn[:, 2] - aligned_brian_gex[0:len(gsyn[:, 2])])\n",
    "for t in times_of_traughs:\n",
    "    plt.axvline(t * 10, ls=':', c='y', lw=2)"
   ]
  },
  {
   "cell_type": "code",
   "execution_count": 158,
   "metadata": {
    "collapsed": true
   },
   "outputs": [],
   "source": [
    "time_of_pynn_peaks = [0 if x < .19 else index[0] * 0.1 for index, x in np.ndenumerate(gsyn[:,2]) ]"
   ]
  },
  {
   "cell_type": "code",
   "execution_count": 159,
   "metadata": {
    "collapsed": false
   },
   "outputs": [
    {
     "data": {
      "image/png": "[encoded data removed]",
      "text/plain": [
       "<matplotlib.figure.Figure at 0xf23e470>"
      ]
     },
     "metadata": {},
     "output_type": "display_data"
    }
   ],
   "source": [
    "#sanity check \n",
    "plt.figure(figsize=(8, 4))\n",
    "plt.title('Single neuron synaptic conductance')\n",
    "plt.xlabel('Times (ms)')\n",
    "plt.ylabel('mF')\n",
    "plt.plot(gsyn[:,1], gsyn[:, 2], alpha=.7)\n",
    "for t in time_of_pynn_peaks:\n",
    "    plt.axvline(t, ls=':', c='y', lw=2)"
   ]
  },
  {
   "cell_type": "code",
   "execution_count": 160,
   "metadata": {
    "collapsed": false
   },
   "outputs": [],
   "source": [
    "#isolating peaks\n",
    "ediff = np.ediff1d(time_of_pynn_peaks)"
   ]
  },
  {
   "cell_type": "code",
   "execution_count": 161,
   "metadata": {
    "collapsed": false
   },
   "outputs": [],
   "source": [
    "peak_isolation=[]\n",
    "for index, value in np.ndenumerate(ediff):\n",
    "    if value > 0 and ediff[index[0]-1]==0:\n",
    "        peak_isolation.append(index[0])"
   ]
  },
  {
   "cell_type": "code",
   "execution_count": 162,
   "metadata": {
    "collapsed": false
   },
   "outputs": [
    {
     "data": {
      "image/png": "[encoded data removed]",
      "text/plain": [
       "<matplotlib.figure.Figure at 0xf767030>"
      ]
     },
     "metadata": {},
     "output_type": "display_data"
    }
   ],
   "source": [
    "#sanity check 2\n",
    "plt.figure(figsize=(8, 4))\n",
    "plt.title('Single neuron synaptic conductance')\n",
    "plt.xlabel('Times (ms)')\n",
    "plt.ylabel('mF')\n",
    "plt.plot(gsyn[:,1], gsyn[:, 2], alpha=.7)\n",
    "for t in peak_isolation:\n",
    "    plt.axvline(t/10., ls=':', c='y', lw=2)"
   ]
  },
  {
   "cell_type": "code",
   "execution_count": 163,
   "metadata": {
    "collapsed": false
   },
   "outputs": [
    {
     "data": {
      "text/plain": [
       "array([1, 1, 1, 1, 1, 1, 1, 1, 1, 1, 1, 1, 1, 1, 1, 1, 1, 1, 1, 1, 1, 1, 1,\n",
       "       1, 1, 1, 1, 1, 1, 1, 1, 1, 1, 1])"
      ]
     },
     "execution_count": 163,
     "metadata": {},
     "output_type": "execute_result"
    }
   ],
   "source": [
    "np.ediff1d(np.nonzero(times_of_traughs)[0])"
   ]
  },
  {
   "cell_type": "code",
   "execution_count": 164,
   "metadata": {
    "collapsed": false
   },
   "outputs": [
    {
     "data": {
      "text/plain": [
       "array([], dtype=float64)"
      ]
     },
     "execution_count": 164,
     "metadata": {},
     "output_type": "execute_result"
    }
   ],
   "source": [
    "np.ediff1d(peak_isolation)"
   ]
  },
  {
   "cell_type": "code",
   "execution_count": 165,
   "metadata": {
    "collapsed": true
   },
   "outputs": [],
   "source": [
    "brain_peaks = []\n",
    "brian_ediff = np.ediff1d(statemon.gex[0])"
   ]
  },
  {
   "cell_type": "code",
   "execution_count": 166,
   "metadata": {
    "collapsed": false
   },
   "outputs": [
    {
     "data": {
      "text/plain": [
       "array([  0.00000000e+00,   0.00000000e+00,   0.00000000e+00,\n",
       "         0.00000000e+00,   0.00000000e+00,   0.00000000e+00,\n",
       "         0.00000000e+00,   0.00000000e+00,   0.00000000e+00,\n",
       "         0.00000000e+00,   0.00000000e+00,   0.00000000e+00,\n",
       "         0.00000000e+00,   0.00000000e+00,   0.00000000e+00,\n",
       "         0.00000000e+00,   0.00000000e+00,   0.00000000e+00,\n",
       "         0.00000000e+00,   0.00000000e+00,   0.00000000e+00,\n",
       "         0.00000000e+00,   0.00000000e+00,   0.00000000e+00,\n",
       "         0.00000000e+00,   0.00000000e+00,   0.00000000e+00,\n",
       "         0.00000000e+00,   0.00000000e+00,   0.00000000e+00,\n",
       "         0.00000000e+00,   0.00000000e+00,   0.00000000e+00,\n",
       "         0.00000000e+00,   0.00000000e+00,   0.00000000e+00,\n",
       "         0.00000000e+00,   0.00000000e+00,   0.00000000e+00,\n",
       "         0.00000000e+00,   0.00000000e+00,   0.00000000e+00,\n",
       "         0.00000000e+00,   0.00000000e+00,   0.00000000e+00,\n",
       "         0.00000000e+00,   0.00000000e+00,   0.00000000e+00,\n",
       "         0.00000000e+00,   0.00000000e+00,   0.00000000e+00,\n",
       "         2.00000000e-01,  -4.00000000e-03,  -3.92000000e-03,\n",
       "        -3.84160000e-03,  -3.76476800e-03,  -3.68947264e-03,\n",
       "        -3.61568319e-03,  -3.54336952e-03,  -3.47250213e-03,\n",
       "        -3.40305209e-03,  -3.33499105e-03,  -3.26829123e-03,\n",
       "        -3.20292540e-03,  -3.13886689e-03,  -3.07608956e-03,\n",
       "        -3.01456777e-03,  -2.95427641e-03,  -2.89519088e-03,\n",
       "        -2.83728706e-03,  -2.78054132e-03,  -2.72493050e-03,\n",
       "        -2.67043189e-03,  -2.61702325e-03,  -2.56468278e-03,\n",
       "        -2.51338913e-03,  -2.46312135e-03,  -2.41385892e-03,\n",
       "        -2.36558174e-03,  -2.31827011e-03,  -2.27190470e-03,\n",
       "        -2.22646661e-03,  -2.18193728e-03,  -2.13829853e-03,\n",
       "        -2.09553256e-03,  -2.05362191e-03,  -2.01254947e-03,\n",
       "        -1.97229848e-03,  -1.93285251e-03,  -1.89419546e-03,\n",
       "        -1.85631155e-03,  -1.81918532e-03,  -1.78280162e-03,\n",
       "        -1.74714558e-03,  -1.71220267e-03,  -1.67795862e-03,\n",
       "        -1.64439945e-03,  -1.61151146e-03,  -1.57928123e-03,\n",
       "        -1.54769560e-03,  -1.51674169e-03,  -1.48640686e-03,\n",
       "        -1.45667872e-03,  -1.42754515e-03,  -1.39899424e-03,\n",
       "        -1.37101436e-03,  -1.34359407e-03,  -1.31672219e-03,\n",
       "        -1.29038775e-03,  -1.26457999e-03,  -1.23928839e-03,\n",
       "        -1.21450262e-03,  -1.19021257e-03,  -1.16640832e-03,\n",
       "        -1.14308015e-03,  -1.12021855e-03,  -1.09781418e-03,\n",
       "        -1.07585790e-03,  -1.05434074e-03,  -1.03325392e-03,\n",
       "        -1.01258884e-03,  -9.92337067e-04,  -9.72490326e-04,\n",
       "        -9.53040519e-04,  -9.33979709e-04,  -9.15300115e-04,\n",
       "        -8.96994113e-04,  -8.79054230e-04,  -8.61473146e-04,\n",
       "        -8.44243683e-04,  -8.27358809e-04,  -8.10811633e-04,\n",
       "        -7.94595400e-04,  -7.78703492e-04,  -7.63129422e-04,\n",
       "        -7.47866834e-04,  -7.32909497e-04,  -7.18251307e-04,\n",
       "        -7.03886281e-04,  -6.89808556e-04,  -6.76012385e-04,\n",
       "        -6.62492137e-04,  -6.49242294e-04,  -6.36257448e-04,\n",
       "        -6.23532299e-04,  -6.11061653e-04,  -5.98840420e-04,\n",
       "        -5.86863612e-04,  -5.75126340e-04,  -5.63623813e-04,\n",
       "        -5.52351337e-04,  -5.41304310e-04,  -5.30478224e-04,\n",
       "        -5.19868659e-04,  -5.09471286e-04,  -4.99281860e-04,\n",
       "        -4.89296223e-04,  -4.79510299e-04,  -4.69920093e-04,\n",
       "        -4.60521691e-04,  -4.51311257e-04,  -4.42285032e-04,\n",
       "        -4.33439331e-04,  -4.24770545e-04,  -4.16275134e-04,\n",
       "        -4.07949631e-04,  -3.99790638e-04,  -3.91794826e-04,\n",
       "        -3.83958929e-04,  -3.76279750e-04,  -3.68754155e-04,\n",
       "        -3.61379072e-04,  -3.54151491e-04,  -3.47068461e-04,\n",
       "        -3.40127092e-04,  -3.33324550e-04,  -3.26658059e-04,\n",
       "        -3.20124898e-04,  -3.13722400e-04,  -3.07447952e-04,\n",
       "        -3.01298993e-04,  -2.95273013e-04,  -2.89367553e-04,\n",
       "        -2.83580202e-04,  -2.77908598e-04,  -2.72350426e-04,\n",
       "        -2.66903417e-04,  -2.61565349e-04,  -2.56334042e-04,\n",
       "        -2.51207361e-04,  -2.46183214e-04,  -2.41259550e-04,\n",
       "        -2.36434359e-04,  -2.31705671e-04,  -2.27071558e-04,\n",
       "        -2.22530127e-04,  -2.18079524e-04,  -2.13717934e-04,\n",
       "        -2.09443575e-04,  -2.05254704e-04,  -2.01149610e-04,\n",
       "        -1.97126617e-04,  -1.93184085e-04,  -1.89320403e-04,\n",
       "        -1.85533995e-04,  -1.81823315e-04,  -1.78186849e-04,\n",
       "        -1.74623112e-04,  -1.71130650e-04,  -1.67708037e-04,\n",
       "        -1.64353876e-04,  -1.61066799e-04,  -1.57845463e-04,\n",
       "        -1.54688553e-04,  -1.51594782e-04,  -1.48562887e-04,\n",
       "        -1.45591629e-04,  -1.42679796e-04,  -1.39826200e-04,\n",
       "        -1.37029676e-04,  -1.34289083e-04,  -1.31603301e-04,\n",
       "        -1.28971235e-04,  -1.26391810e-04,  -1.23863974e-04,\n",
       "        -1.21386695e-04,  -1.18958961e-04,  -1.16579782e-04,\n",
       "        -1.14248186e-04,  -1.11963222e-04,  -1.09723958e-04,\n",
       "        -1.07529479e-04,  -1.05378889e-04,  -1.03271311e-04,\n",
       "        -1.01205885e-04,  -9.91817674e-05,  -9.71981320e-05,\n",
       "        -9.52541694e-05,  -9.33490860e-05,  -9.14821043e-05,\n",
       "        -8.96524622e-05,  -8.78594130e-05,  -8.61022247e-05,\n",
       "        -8.43801802e-05,  -8.26925766e-05,  -8.10387251e-05,\n",
       "        -7.94179506e-05,  -7.78295916e-05,  -7.62729997e-05,\n",
       "        -7.47475397e-05,  -7.32525889e-05,  -7.17875372e-05,\n",
       "        -7.03517864e-05,  -6.89447507e-05,  -6.75658557e-05,\n",
       "        -6.62145386e-05,  -6.48902478e-05,  -6.35924428e-05,\n",
       "        -6.23205940e-05,  -6.10741821e-05,  -5.98526985e-05,\n",
       "        -5.86556445e-05,  -5.74825316e-05,  -5.63328810e-05,\n",
       "        -5.52062234e-05,  -5.41020989e-05,  -5.30200569e-05,\n",
       "        -5.19596558e-05,  -5.09204627e-05,  -4.99020534e-05,\n",
       "        -4.89040123e-05,  -4.79259321e-05,  -4.69674134e-05,\n",
       "        -4.60280652e-05,  -4.51075039e-05,  -4.42053538e-05,\n",
       "        -4.33212467e-05,  -4.24548218e-05,  -4.16057253e-05,\n",
       "        -4.07736108e-05,  -3.99581386e-05,  -3.91589759e-05,\n",
       "        -3.83757963e-05,  -3.76082804e-05,  -3.68561148e-05,\n",
       "        -3.61189925e-05,  -3.53966127e-05,  -3.46886804e-05,\n",
       "        -3.39949068e-05,  -3.33150087e-05,  -3.26487085e-05,\n",
       "        -3.19957343e-05,  -3.13558196e-05,  -3.07287032e-05,\n",
       "        -3.01141292e-05,  -2.95118466e-05,  -2.89216097e-05,\n",
       "        -2.83431775e-05,  -2.77763139e-05,  -2.72207876e-05,\n",
       "        -2.66763719e-05,  -2.61428444e-05,  -2.56199876e-05,\n",
       "        -2.51075878e-05,  -2.46054360e-05,  -2.41133273e-05,\n",
       "        -2.36310608e-05,  -2.31584396e-05,  -2.26952708e-05,\n",
       "        -2.22413654e-05,  -2.17965381e-05,  -2.13606073e-05,\n",
       "        -2.09333951e-05,  -2.05147272e-05,  -2.01044327e-05,\n",
       "        -1.97023440e-05,  -1.93082972e-05,  -1.89221312e-05,\n",
       "        -1.85436886e-05,  -1.81728148e-05,  -1.78093585e-05,\n",
       "        -1.74531714e-05,  -1.71041079e-05,  -1.67620258e-05,\n",
       "        -1.64267853e-05,  -1.60982495e-05,  -1.57762846e-05,\n",
       "        -1.54607589e-05,  -1.51515437e-05,  -1.48485128e-05,\n",
       "        -1.45515426e-05,  -1.42605117e-05,  -1.39753015e-05,\n",
       "        -1.36957954e-05,  -1.34218795e-05,  -1.31534419e-05,\n",
       "        -1.28903731e-05,  -1.26325656e-05,  -1.23799143e-05,\n",
       "        -1.21323160e-05,  -1.18896697e-05,  -1.16518763e-05,\n",
       "        -1.14188388e-05,  -1.11904620e-05,  -1.09666528e-05,\n",
       "        -1.07473197e-05,  -1.05323733e-05,  -1.03217259e-05,\n",
       "        -1.01152914e-05,  -9.91298552e-06,  -9.71472581e-06,\n",
       "        -9.52043130e-06,  -9.33002267e-06,  -9.14342222e-06,\n",
       "        -8.96055377e-06,  -8.78134270e-06,  -8.60571584e-06,\n",
       "        -8.43360153e-06,  -8.26492950e-06,  -8.09963091e-06,\n",
       "        -7.93763829e-06,  -7.77888552e-06,  -7.62330781e-06,\n",
       "        -7.47084166e-06,  -7.32142482e-06,  -7.17499633e-06,\n",
       "        -7.03149640e-06,  -6.89086647e-06,  -6.75304914e-06,\n",
       "        -6.61798816e-06,  -6.48562840e-06,  -6.35591583e-06,\n",
       "        -6.22879751e-06,  -6.10422156e-06,  -5.98213713e-06,\n",
       "        -5.86249439e-06,  -5.74524450e-06,  -5.63033961e-06,\n",
       "        -5.51773282e-06,  -5.40737816e-06,  -5.29923060e-06,\n",
       "        -5.19324599e-06,  -5.08938107e-06,  -4.98759345e-06,\n",
       "        -4.88784158e-06,  -4.79008475e-06,  -4.69428305e-06,\n",
       "        -4.60039739e-06,  -4.50838944e-06,  -4.41822165e-06,\n",
       "        -4.32985722e-06,  -4.24326008e-06,  -4.15839487e-06,\n",
       "        -4.07522698e-06,  -3.99372244e-06,  -3.91384799e-06,\n",
       "        -3.83557103e-06,  -3.75885961e-06,  -3.68368242e-06,\n",
       "        -3.61000877e-06,  -3.53780859e-06,  -3.46705242e-06,\n",
       "        -3.39771137e-06,  -3.32975714e-06,  -3.26316200e-06,\n",
       "        -3.19789876e-06,  -3.13394079e-06,  -3.07126197e-06,\n",
       "        -3.00983673e-06,  -2.94964000e-06,  -2.89064720e-06,\n",
       "        -2.83283425e-06,  -2.77617757e-06,  -2.72065402e-06,\n",
       "        -2.66624094e-06,  -2.61291612e-06,  -2.56065779e-06,\n",
       "        -2.50944464e-06,  -2.45925575e-06,  -2.41007063e-06,\n",
       "        -2.36186922e-06,  -2.31463183e-06,  -2.26833920e-06,\n",
       "        -2.22297241e-06,  -2.17851297e-06,  -2.13494271e-06,\n",
       "        -2.09224385e-06,  -2.05039897e-06,  -2.00939100e-06,\n",
       "        -1.96920318e-06,  -1.92981911e-06,  -1.89122273e-06,\n",
       "        -1.85339827e-06,  -1.81633031e-06,  -1.78000370e-06,\n",
       "        -1.74440363e-06,  -1.70951556e-06,  -1.67532525e-06,\n",
       "        -1.64181874e-06,  -1.60898237e-06,  -1.57680272e-06,\n",
       "        -1.54526666e-06,  -1.51436133e-06,  -1.48407410e-06,\n",
       "        -1.45439262e-06,  -1.42530477e-06,  -1.39679867e-06,\n",
       "        -1.36886270e-06,  -1.34148545e-06,  -1.31465574e-06,\n",
       "        -1.28836262e-06,  -1.26259537e-06,  -1.23734346e-06,\n",
       "        -1.21259659e-06,  -1.18834466e-06,  -1.16457777e-06,\n",
       "        -1.14128621e-06,  -1.11846049e-06,  -1.09609128e-06,\n",
       "        -1.07416945e-06,  -1.05268606e-06,  -1.03163234e-06,\n",
       "        -1.01099970e-06,  -9.90779703e-07,  -9.70964109e-07,\n",
       "        -9.51544826e-07,  -9.32513930e-07,  -9.13863651e-07,\n",
       "        -8.95586378e-07,  -8.77674651e-07,  -8.60121158e-07,\n",
       "        -8.42918735e-07,  -8.26060360e-07,  -8.09539153e-07,\n",
       "        -7.93348370e-07,  -7.77481402e-07,  -7.61931774e-07,\n",
       "        -7.46693139e-07,  -7.31759276e-07,  -7.17124090e-07,\n",
       "        -7.02781609e-07,  -6.88725976e-07,  -6.74951457e-07,\n",
       "        -6.61452428e-07,  -6.48223379e-07,  -6.35258912e-07,\n",
       "        -6.22553733e-07,  -6.10102659e-07,  -5.97900606e-07,\n",
       "        -5.85942593e-07,  -5.74223742e-07,  -5.62739267e-07,\n",
       "        -5.51484481e-07,  -5.40454792e-07,  -5.29645696e-07,\n",
       "        -5.19052782e-07,  -5.08671726e-07,  -4.98498292e-07,\n",
       "        -4.88528326e-07,  -4.78757759e-07,  -4.69182604e-07,\n",
       "        -4.59798952e-07,  -4.50602973e-07,  -4.41590914e-07,\n",
       "        -4.32759095e-07,  -4.24103914e-07,  -4.15621835e-07,\n",
       "        -4.07309399e-07,  -3.99163211e-07,  -3.91179946e-07,\n",
       "        -3.83356347e-07,  -3.75689220e-07,  -3.68175436e-07,\n",
       "        -3.60811927e-07,  -3.53595689e-07,  -3.46523775e-07,\n",
       "        -3.39593300e-07,  -3.32801434e-07,  -3.26145405e-07,\n",
       "        -3.19622497e-07,  -3.13230047e-07,  -3.06965446e-07,\n",
       "        -3.00826137e-07,  -2.94809614e-07,  -2.88913422e-07,\n",
       "        -2.83135154e-07,  -2.77472450e-07,  -2.71923001e-07,\n",
       "        -2.66484541e-07,  -2.61154851e-07,  -2.55931754e-07,\n",
       "        -2.50813118e-07,  -2.45796856e-07,  -2.40880919e-07,\n",
       "        -2.36063301e-07,  -2.31342035e-07,  -2.26715194e-07,\n",
       "        -2.22180890e-07,  -2.17737272e-07,  -2.13382527e-07,\n",
       "        -2.09114876e-07,  -2.04932579e-07,  -2.00833927e-07,\n",
       "        -1.96817249e-07,  -1.92880904e-07,  -1.89023286e-07,\n",
       "        -1.85242820e-07,  -1.81537963e-07,  -1.77907204e-07,\n",
       "        -1.74349060e-07,  -1.70862079e-07,  -1.67444837e-07,\n",
       "        -1.64095941e-07,  -1.60814022e-07,  -1.57597741e-07,\n",
       "        -1.54445787e-07,  -1.51356871e-07,  -1.48329733e-07,\n",
       "        -1.45363139e-07,  -1.42455876e-07,  -1.39606758e-07,\n",
       "        -1.36814623e-07,  -1.34078331e-07,  -1.31396764e-07,\n",
       "        -1.28768829e-07,  -1.26193452e-07,  -1.23669583e-07,\n",
       "        -1.21196192e-07,  -1.18772268e-07,  -1.16396822e-07,\n",
       "        -1.14068886e-07,  -1.11787508e-07,  -1.09551758e-07,\n",
       "        -1.07360723e-07,  -1.05213508e-07,  -1.03109238e-07,\n",
       "        -1.01047054e-07,  -9.90261124e-08,  -9.70455902e-08,\n",
       "        -9.51046784e-08,  -9.32025848e-08,  -9.13385331e-08,\n",
       "        -8.95117625e-08,  -8.77215272e-08,  -8.59670967e-08,\n",
       "        -8.42477547e-08,  -8.25627996e-08,  -8.09115436e-08,\n",
       "        -7.92933128e-08,  -7.77074465e-08,  -7.61532976e-08,\n",
       "        -7.46302316e-08,  -7.31376270e-08,  -7.16748745e-08,\n",
       "        -7.02413770e-08,  -6.88365494e-08,  -6.74598184e-08,\n",
       "        -6.61106221e-08,  -6.47884096e-08,  -6.34926414e-08,\n",
       "        -6.22227886e-08,  -6.09783328e-08,  -5.97587662e-08,\n",
       "        -5.85635909e-08,  -5.73923190e-08,  -5.62444727e-08,\n",
       "        -5.51195832e-08,  -5.40171915e-08,  -5.29368477e-08,\n",
       "        -5.18781108e-08,  -5.08405485e-08,  -4.98237376e-08,\n",
       "        -4.88272628e-08,  -4.78507176e-08,  -4.68937032e-08,\n",
       "        -4.59558292e-08,  -4.50367126e-08,  -4.41359783e-08,\n",
       "        -4.32532588e-08,  -4.23881936e-08,  -4.15404297e-08,\n",
       "        -4.07096211e-08,  -3.98954287e-08,  -3.90975201e-08,\n",
       "        -3.83155697e-08,  -3.75492583e-08,  -3.67982732e-08,\n",
       "        -3.60623077e-08,  -3.53410615e-08,  -3.46342403e-08,\n",
       "        -3.39415555e-08,  -3.32627244e-08,  -3.25974699e-08,\n",
       "        -3.19455205e-08,  -3.13066101e-08,  -3.06804779e-08,\n",
       "        -3.00668683e-08,  -2.94655310e-08,  -2.88762203e-08,\n",
       "        -2.82986959e-08,  -2.77327220e-08,  -2.71780676e-08,\n",
       "        -2.66345062e-08,  -2.61018161e-08,  -2.55797798e-08,\n",
       "        -2.50681842e-08,  -2.45668205e-08,  -2.40754841e-08,\n",
       "        -2.35939744e-08,  -2.31220949e-08,  -2.26596530e-08,\n",
       "        -2.22064600e-08,  -2.17623308e-08,  -2.13270841e-08,\n",
       "        -2.09005425e-08,  -2.04825316e-08,  -2.00728810e-08,\n",
       "        -1.96714234e-08,  -1.92779949e-08,  -1.88924350e-08,\n",
       "        -1.85145863e-08,  -1.81442946e-08,  -1.77814087e-08,\n",
       "        -1.74257805e-08,  -1.70772649e-08,  -1.67357196e-08,\n",
       "        -1.64010052e-08,  -1.60729851e-08,  -1.57515254e-08,\n",
       "        -1.54364949e-08,  -1.51277650e-08,  -1.48252097e-08,\n",
       "        -1.45287055e-08,  -1.42381314e-08,  -1.39533688e-08,\n",
       "        -1.36743014e-08,  -1.34008154e-08,  -1.31327991e-08,\n",
       "        -1.28701431e-08,  -1.26127402e-08,  -1.23604854e-08,\n",
       "        -1.21132757e-08,  -1.18710102e-08,  -1.16335900e-08,\n",
       "        -1.14009182e-08,  -1.11728998e-08,  -1.09494418e-08,\n",
       "        -1.07304530e-08,  -1.05158439e-08,  -1.03055270e-08,\n",
       "        -1.00994165e-08,  -9.89742818e-09,  -9.69947961e-09,\n",
       "        -9.50549002e-09,  -9.31538022e-09,  -9.12907262e-09,\n",
       "        -8.94649116e-09,  -8.76756134e-09,  -8.59221011e-09,\n",
       "        -8.42036591e-09,  -8.25195859e-09,  -8.08691942e-09,\n",
       "        -7.92518103e-09,  -7.76667741e-09,  -7.61134386e-09,\n",
       "        -7.45911699e-09,  -7.30993465e-09,  -7.16373595e-09,\n",
       "        -7.02046123e-09,  -6.88005201e-09,  -6.74245097e-09,\n",
       "        -6.60760195e-09,  -6.47544991e-09,  -6.34594091e-09,\n",
       "        -6.21902209e-09,  -6.09464165e-09,  -5.97274882e-09,\n",
       "        -5.85329384e-09,  -5.73622797e-09,  -5.62150341e-09,\n",
       "        -5.50907334e-09,  -5.39889187e-09,  -5.29091403e-09,\n",
       "        -5.18509575e-09,  -5.08139384e-09,  -4.97976596e-09,\n",
       "        -4.88017064e-09,  -4.78256723e-09,  -4.68691589e-09,\n",
       "        -4.59317757e-09,  -4.50131402e-09,  -4.41128774e-09,\n",
       "        -4.32306198e-09,  -4.23660074e-09,  -4.15186873e-09,\n",
       "        -4.06883135e-09,  -3.98745473e-09,  -3.90770563e-09,\n",
       "        -3.82955152e-09,  -3.75296049e-09,  -3.67790128e-09,\n",
       "        -3.60434325e-09,  -3.53225639e-09,  -3.46161126e-09,\n",
       "        -3.39237903e-09,  -3.32453145e-09,  -3.25804082e-09,\n",
       "        -3.19288001e-09,  -3.12902241e-09,  -3.06644196e-09,\n",
       "        -3.00511312e-09,  -2.94501086e-09,  -2.88611064e-09,\n",
       "        -2.82838843e-09,  -2.77182066e-09,  -2.71638425e-09,\n",
       "        -2.66205656e-09,  -2.60881543e-09,  -2.55663912e-09,\n",
       "        -2.50550634e-09,  -2.45539621e-09,  -2.40628829e-09,\n",
       "        -2.35816252e-09,  -2.31099927e-09,  -2.26477929e-09,\n",
       "        -2.21948370e-09,  -2.17509403e-09,  -2.13159215e-09,\n",
       "        -2.08896030e-09,  -2.04718110e-09,  -2.00623748e-09,\n",
       "        -1.96611273e-09,  -1.92679047e-09,  -1.88825466e-09,\n",
       "        -1.85048957e-09,  -1.81347978e-09,  -1.77721018e-09,\n",
       "        -1.74166598e-09,  -1.70683266e-09,  -1.67269601e-09,\n",
       "        -1.63924209e-09,  -1.60645724e-09,  -1.57432810e-09,\n",
       "        -1.54284154e-09,  -1.51198471e-09,  -1.48174501e-09,\n",
       "        -1.45211011e-09,  -1.42306791e-09,  -1.39460655e-09,\n",
       "        -1.36671442e-09,  -1.33938013e-09,  -1.31259253e-09,\n",
       "        -1.28634068e-09,  -1.26061387e-09,  -1.23540159e-09,\n",
       "        -1.21069356e-09,  -1.18647968e-09,  -1.16275009e-09,\n",
       "        -1.13949509e-09,  -1.11670519e-09,  -1.09437108e-09,\n",
       "        -1.07248366e-09,  -1.05103399e-09,  -1.03001331e-09,\n",
       "        -1.00941304e-09,  -9.89224782e-10,  -9.69440286e-10,\n",
       "        -9.50051481e-10,  -9.31050451e-10,  -9.12429442e-10,\n",
       "        -8.94180853e-10,  -8.76297236e-10,  -8.58771291e-10,\n",
       "        -8.41595866e-10,  -8.24763948e-10,  -8.08268669e-10,\n",
       "        -7.92103296e-10,  -7.76261230e-10,  -7.60736005e-10,\n",
       "        -7.45521285e-10,  -7.30610860e-10,  -7.15998642e-10,\n",
       "        -7.01678670e-10,  -6.87645096e-10,  -6.73892194e-10,\n",
       "        -6.60414350e-10,  -6.47206063e-10,  -6.34261942e-10,\n",
       "        -6.21576703e-10,  -6.09145169e-10,  -5.96962266e-10,\n",
       "        -5.85023020e-10,  -5.73322560e-10,  -5.61856109e-10,\n",
       "        -5.50618987e-10,  -5.39606607e-10,  -5.28814475e-10,\n",
       "        -5.18238185e-10,  -5.07873422e-10,  -4.97715953e-10,\n",
       "        -4.87761634e-10,  -4.78006401e-10,  -4.68446273e-10,\n",
       "        -4.59077348e-10,  -4.49895801e-10,  -4.40897885e-10,\n",
       "        -4.32079927e-10,  -4.23438329e-10,  -4.14969562e-10,\n",
       "        -4.06670171e-10,  -3.98536767e-10,  -3.90566032e-10,\n",
       "        -3.82754711e-10,  -3.75099617e-10,  -3.67597625e-10,\n",
       "        -3.60245672e-10,  -3.53040759e-10,  -3.45979944e-10,\n",
       "        -3.39060345e-10,  -3.32279138e-10,  -3.25633555e-10,\n",
       "        -3.19120884e-10,  -3.12738466e-10,  -3.06483697e-10,\n",
       "        -3.00354023e-10,  -2.94346943e-10,  -2.88460004e-10,\n",
       "        -2.82690804e-10,  -2.77036988e-10,  -2.71496248e-10,\n",
       "        -2.66066323e-10,  -2.60744997e-10,  -2.55530097e-10,\n",
       "        -2.50419495e-10,  -2.45411105e-10,  -2.40502883e-10,\n",
       "        -2.35692825e-10,  -2.30978969e-10,  -2.26359389e-10,\n",
       "        -2.21832201e-10,  -2.17395557e-10,  -2.13047646e-10,\n",
       "        -2.08786693e-10,  -2.04610959e-10,  -2.00518740e-10,\n",
       "        -1.96508365e-10,  -1.92578198e-10,  -1.88726634e-10,\n",
       "        -1.84952101e-10,  -1.81253059e-10,  -1.77627998e-10,\n",
       "        -1.74075438e-10,  -1.70593930e-10,  -1.67182051e-10,\n",
       "        -1.63838410e-10,  -1.60561642e-10,  -1.57350409e-10,\n",
       "        -1.54203401e-10,  -1.51119333e-10,  -1.48096946e-10,\n",
       "        -1.45135007e-10,  -1.42232307e-10,  -1.39387661e-10,\n",
       "        -1.36599908e-10,  -1.33867909e-10,  -1.31190551e-10,\n",
       "        -1.28566740e-10,  -1.25995405e-10,  -1.23475497e-10,\n",
       "        -1.21005987e-10,  -1.18585868e-10,  -1.16214150e-10,\n",
       "        -1.13889867e-10,  -1.11612070e-10,  -1.09379829e-10,\n",
       "        -1.07192232e-10,  -1.05048387e-10,  -1.02947420e-10,\n",
       "        -1.00888471e-10,  -9.88707018e-11,  -9.68932877e-11,\n",
       "        -9.49554220e-11,  -9.30563135e-11,  -9.11951873e-11,\n",
       "        -8.93712835e-11,  -8.75838579e-11,  -8.58321807e-11,\n",
       "        -8.41155371e-11,  -8.24332263e-11,  -8.07845618e-11,\n",
       "        -7.91688706e-11,  -7.75854932e-11,  -7.60337833e-11,\n",
       "        -7.45131076e-11,  -7.30228455e-11,  -7.15623886e-11,\n",
       "        -7.01311408e-11,  -6.87285180e-11,  -6.73539476e-11,\n",
       "        -6.60068687e-11,  -6.46867313e-11,  -6.33929967e-11,\n",
       "        -6.21251367e-11,  -6.08826340e-11,  -5.96649813e-11,\n",
       "        -5.84716817e-11,  -5.73022481e-11,  -5.61562031e-11,\n",
       "        -5.50330790e-11,  -5.39324175e-11,  -5.28537691e-11,\n",
       "        -5.17966937e-11,  -5.07607599e-11,  -4.97455447e-11,\n",
       "        -4.87506338e-11,  -4.77756211e-11,  -4.68201087e-11,\n",
       "        -4.58837065e-11,  -4.49660324e-11,  -4.40667117e-11,\n",
       "        -4.31853775e-11,  -4.23216699e-11,  -4.14752365e-11,\n",
       "        -4.06457318e-11,  -3.98328172e-11,  -3.90361608e-11,\n",
       "        -3.82554376e-11,  -3.74903289e-11,  -3.67405223e-11,\n",
       "        -3.60057118e-11,  -3.52855976e-11,  -3.45798856e-11,\n",
       "        -3.38882879e-11,  -3.32105222e-11,  -3.25463117e-11,\n",
       "        -3.18953855e-11,  -3.12574778e-11,  -3.06323282e-11,\n",
       "        -3.00196817e-11,  -2.94192880e-11,  -2.88309023e-11,\n",
       "        -2.82542842e-11,  -2.76891985e-11,  -2.71354146e-11,\n",
       "        -2.65927063e-11,  -2.60608522e-11,  -2.55396351e-11,\n",
       "        -2.50288424e-11,  -2.45282656e-11,  -2.40377002e-11,\n",
       "        -2.35569462e-11,  -2.30858073e-11,  -2.26240912e-11,\n",
       "        -2.21716093e-11,  -2.17281772e-11,  -2.12936136e-11,\n",
       "        -2.08677413e-11,  -2.04503865e-11,  -2.00413788e-11])"
      ]
     },
     "execution_count": 166,
     "metadata": {},
     "output_type": "execute_result"
    }
   ],
   "source": [
    "brian_ediff"
   ]
  },
  {
   "cell_type": "code",
   "execution_count": 167,
   "metadata": {
    "collapsed": true
   },
   "outputs": [],
   "source": [
    "brian_peak_isolation=[]\n",
    "for index, value in np.ndenumerate(brian_ediff):\n",
    "    if value > 0 and brian_ediff[index[0]-1]<=0:\n",
    "        brian_peak_isolation.append(index[0])"
   ]
  },
  {
   "cell_type": "code",
   "execution_count": 168,
   "metadata": {
    "collapsed": false
   },
   "outputs": [
    {
     "data": {
      "text/plain": [
       "[51]"
      ]
     },
     "execution_count": 168,
     "metadata": {},
     "output_type": "execute_result"
    }
   ],
   "source": [
    "brian_peak_isolation"
   ]
  },
  {
   "cell_type": "code",
   "execution_count": 169,
   "metadata": {
    "collapsed": false
   },
   "outputs": [
    {
     "data": {
      "image/png": "[encoded data removed]",
      "text/plain": [
       "<matplotlib.figure.Figure at 0xeae01b0>"
      ]
     },
     "metadata": {},
     "output_type": "display_data"
    }
   ],
   "source": [
    "plt.figure(figsize=(8, 4))\n",
    "plt.title('Single neuron synaptic conductance')\n",
    "plt.xlabel('Times (ms)')\n",
    "plt.ylabel('mF')\n",
    "plt.plot(statemon.t/ms, statemon.gex[0], alpha=.7)\n",
    "for t in brian_peak_isolation:\n",
    "    plt.axvline(t/10., ls=':', c='y', lw=2)"
   ]
  },
  {
   "cell_type": "code",
   "execution_count": 170,
   "metadata": {
    "collapsed": false
   },
   "outputs": [
    {
     "name": "stdout",
     "output_type": "stream",
     "text": [
      "[]\n",
      "[]\n"
     ]
    }
   ],
   "source": [
    "brian_peak_ediff = np.ediff1d(brian_peak_isolation)\n",
    "print brian_peak_ediff\n",
    "print np.ediff1d(peak_isolation)"
   ]
  },
  {
   "cell_type": "code",
   "execution_count": 171,
   "metadata": {
    "collapsed": false
   },
   "outputs": [
    {
     "data": {
      "text/plain": [
       "array([], shape=(1, 0), dtype=float64)"
      ]
     },
     "execution_count": 171,
     "metadata": {},
     "output_type": "execute_result"
    }
   ],
   "source": [
    "x = np.asarray([np.ediff1d(peak_isolation),brian_peak_ediff])\n",
    "np.diff(x, axis=0)"
   ]
  },
  {
   "cell_type": "code",
   "execution_count": 172,
   "metadata": {
    "collapsed": false
   },
   "outputs": [
    {
     "name": "stdout",
     "output_type": "stream",
     "text": [
      "(nan, nan)\n"
     ]
    }
   ],
   "source": [
    "print scipy.stats.pearsonr(np.ediff1d(peak_isolation),brian_peak_ediff)"
   ]
  },
  {
   "cell_type": "code",
   "execution_count": null,
   "metadata": {
    "collapsed": true
   },
   "outputs": [],
   "source": []
  }
 ],
 "metadata": {
  "kernelspec": {
   "display_name": "Python 2",
   "language": "python",
   "name": "python2"
  },
  "language_info": {
   "codemirror_mode": {
    "name": "ipython",
    "version": 2
   },
   "file_extension": ".py",
   "mimetype": "text/x-python",
   "name": "python",
   "nbconvert_exporter": "python",
   "pygments_lexer": "ipython2",
   "version": "2.7.9"
  }
 },
 "nbformat": 4,
 "nbformat_minor": 0
}
