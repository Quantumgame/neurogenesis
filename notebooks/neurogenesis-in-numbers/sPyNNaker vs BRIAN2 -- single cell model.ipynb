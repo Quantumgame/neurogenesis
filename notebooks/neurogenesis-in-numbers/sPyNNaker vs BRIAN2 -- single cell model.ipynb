{
 "cells": [
  {
   "cell_type": "code",
   "execution_count": 118,
   "metadata": {
    "collapsed": false
   },
   "outputs": [
    {
     "data": {
      "text/plain": [
       "<matplotlib.figure.Figure at 0xb3ca190>"
      ]
     },
     "metadata": {},
     "output_type": "display_data"
    }
   ],
   "source": [
    "import numpy as np\n",
    "import matplotlib.pyplot as plt\n",
    "import scipy\n",
    "%matplotlib inline\n",
    "plt.viridis()\n",
    "import time\n",
    "from brian2.units import *"
   ]
  },
  {
   "cell_type": "code",
   "execution_count": 29,
   "metadata": {
    "collapsed": true
   },
   "outputs": [],
   "source": [
    "from synaptogenesis.brian_model import BrianModel\n",
    "from synaptogenesis.pynn_model import PyNNModel"
   ]
  },
  {
   "cell_type": "code",
   "execution_count": 31,
   "metadata": {
    "collapsed": false
   },
   "outputs": [],
   "source": [
    "case = 1\n",
    "duration = 100 * ms\n",
    "rate = 157.8 * Hz\n",
    "spike_times = np.linspace(0.1*ms, duration, num=rate * duration)/ms"
   ]
  },
  {
   "cell_type": "code",
   "execution_count": 32,
   "metadata": {
    "collapsed": false
   },
   "outputs": [
    {
     "name": "stderr",
     "output_type": "stream",
     "text": [
      "Allocating virtual identifiers\n",
      "|0                           50%                         100%|\n",
      " ============================================================\n",
      "Partitioning graph vertices\n",
      "|0                           50%                         100%|\n",
      " ============================================================\n",
      "Partitioning graph edges\n",
      "|0                           50%                         100%|\n",
      " ============================================================\n",
      "Generating partitioner report\n",
      "|0                           50%                         100%|\n",
      " ============================================================\n",
      "Filtering edges\n",
      "|0                           50%                         100%|\n",
      " ============================================================\n",
      "Placing graph vertices\n",
      "|0                           50%                         100%|\n",
      " ============================================================\n",
      "Generating placement report\n",
      "|0                           50%                         100%|\n",
      " ============================================================\n",
      "Generating placement by core report\n",
      "|0                           50%                         100%|\n",
      " ============================================================\n",
      "Generating SDRAM usage report\n",
      "|0                           50%                         100%|\n",
      " ============================================================\n",
      "Routing\n",
      "|0                           50%                         100%|\n",
      " ============================================================\n",
      "Allocating tags\n",
      "|0                           50%                         100%|\n",
      " ============================================================\n",
      "Reporting Tags\n",
      "|0                           50%                         100%|\n",
      " ============================================================\n",
      "Deducing edge to number of keys map\n",
      "|0                           50%                         100%|\n",
      " ============================================================\n",
      "Allocating routing keys\n",
      "|0                           50%                         100%|\n",
      " ============================================================\n",
      "Generating Routing info report\n",
      "|0                           50%                         100%|\n",
      " ============================================================\n",
      "Generating routing tables\n",
      "|0                           50%                         100%|\n",
      " ============================================================\n",
      "Generating Router table report\n",
      "|0                           50%                         100%|\n",
      " ============================================================\n",
      "Compressing routing Tables\n",
      "|0                           50%                         100%|\n",
      " ============================================================\n",
      "Generating compressed router table report\n",
      "|0                           50%                         100%|\n",
      " ============================================================\n",
      "Generating comparison of router table report\n",
      "|0                           50%                         100%|\n",
      " ============================================================\n",
      "Generating sPyNNaker data specifications\n",
      "|0                           50%                         100%|\n",
      " ============================================================\n",
      "Loading routing data onto the machine\n",
      "|0                           50%                         100%|\n",
      " ============================================================\n",
      "Clearing tags\n",
      "|0                           50%                         100%|\n",
      " ============================================================\n",
      "Loading Tags\n",
      "|0                           50%                         100%|\n",
      " ============================================================\n",
      "Executing data specifications and loading data\n",
      "|0                           50%                         100%|\n",
      " ============================================================\n",
      "Loading executables onto the machine\n",
      "|0                           50%                         100%|\n",
      " ============================================================\n",
      "Initialising buffers\n",
      "|0                           50%                         100%|\n",
      " ============================================================\n",
      "Updating run time\n",
      "|0                           50%                         100%|\n",
      " ============================================================\n",
      "Loading buffers (142 bytes)\n",
      "|0                           50%                         100%|\n",
      " ============================================================\n",
      "Getting membrane voltage for target_layer\n",
      "|0                           50%                         100%|\n",
      " ============================================================\n",
      "Getting conductance for target_layer\n",
      "|0                           50%                         100%|\n",
      " ============================================================\n",
      "Getting spikes for target_layer\n",
      "|0                           50%                         100%|\n",
      " ============================================================"
     ]
    },
    {
     "name": "stdout",
     "output_type": "stream",
     "text": [
      "PyNN sim done in 3.96600008 s\n"
     ]
    },
    {
     "name": "stderr",
     "output_type": "stream",
     "text": [
      "\n"
     ]
    }
   ],
   "source": [
    "start = time.time() * second\n",
    "pynn_model = PyNNModel(seed=7, dimensions=1, case=case, N=1)\n",
    "pynn_model.record('use_files', False)\n",
    "pynn_model.set_spike_times(spike_times)\n",
    "pynn_model.simulate(duration)\n",
    "\n",
    "v = pynn_model.target.get_v(compatible_output=True)\n",
    "gsyn = pynn_model.target.get_gsyn(compatible_output=True)\n",
    "spikes = pynn_model.target.getSpikes(compatible_output=True)\n",
    "end = time.time() * second\n",
    "print \"PyNN sim done in\", end-start"
   ]
  },
  {
   "cell_type": "code",
   "execution_count": 33,
   "metadata": {
    "collapsed": true
   },
   "outputs": [],
   "source": [
    "v = np.asarray(v)\n",
    "gsyn = np.asarray(gsyn)\n",
    "spikes = np.asarray(spikes)"
   ]
  },
  {
   "cell_type": "code",
   "execution_count": 34,
   "metadata": {
    "collapsed": false
   },
   "outputs": [
    {
     "data": {
      "text/plain": [
       "[<matplotlib.lines.Line2D at 0xc5002d0>]"
      ]
     },
     "execution_count": 34,
     "metadata": {},
     "output_type": "execute_result"
    },
    {
     "data": {
      "image/png": "[encoded data removed]",
      "text/plain": [
       "<matplotlib.figure.Figure at 0xc32a0b0>"
      ]
     },
     "metadata": {},
     "output_type": "display_data"
    },
    {
     "data": {
      "image/png": "[encoded data removed]",
      "text/plain": [
       "<matplotlib.figure.Figure at 0xc472530>"
      ]
     },
     "metadata": {},
     "output_type": "display_data"
    }
   ],
   "source": [
    "plt.figure(figsize=(8, 4))\n",
    "plt.title('Single neuron voltage')\n",
    "plt.xlabel('Times (ms)')\n",
    "plt.ylabel('mV')\n",
    "plt.plot(v[:,1],v[:, 2], alpha=.7)\n",
    "for t in spikes[:, 1]:\n",
    "    plt.axvline(t, ls=':', c='y', lw=2)\n",
    "\n",
    "plt.figure(figsize=(8, 4))\n",
    "plt.title('Single neuron synaptic conductance')\n",
    "plt.xlabel('Times (ms)')\n",
    "plt.ylabel('mF')\n",
    "plt.plot(gsyn[:,1], gsyn[:, 2], alpha=.7)\n"
   ]
  },
  {
   "cell_type": "code",
   "execution_count": 35,
   "metadata": {
    "collapsed": false
   },
   "outputs": [
    {
     "name": "stdout",
     "output_type": "stream",
     "text": [
      "0.48 kHz\n"
     ]
    }
   ],
   "source": [
    "pynn_rate = spikes[:,1].size / (duration)\n",
    "print pynn_rate"
   ]
  },
  {
   "cell_type": "code",
   "execution_count": 36,
   "metadata": {
    "collapsed": false
   },
   "outputs": [
    {
     "name": "stderr",
     "output_type": "stream",
     "text": [
      "Getting provenance data from partitioned graph\n",
      "|0                           50%                         100%|\n",
      " ============================================================\n",
      "Getting provenance data from partitionable graph\n",
      "|0                           50%                         100%|\n",
      " ============================================================\n",
      "Getting provenance data\n",
      "|0                           50%                         100%|\n",
      " ============================================================\n",
      "Getting Router Provenance\n",
      "|0                           50%                         100%|\n",
      " ============================================================\n"
     ]
    }
   ],
   "source": [
    "pynn_model.end()"
   ]
  },
  {
   "cell_type": "code",
   "execution_count": 37,
   "metadata": {
    "collapsed": true
   },
   "outputs": [],
   "source": [
    "from brian2 import *"
   ]
  },
  {
   "cell_type": "code",
   "execution_count": 38,
   "metadata": {
    "collapsed": true
   },
   "outputs": [],
   "source": [
    "# Wiring\n",
    "n = 1\n",
    "N = 1\n",
    "S = (n, n)\n",
    "\n",
    "s_max = 32\n",
    "sigma_form_forward = 2.5\n",
    "sigma_form_lateral = 1\n",
    "p_form_lateral = 1\n",
    "p_form_forward = 0.16\n",
    "p_elim_dep = 0.0245\n",
    "p_elim_pot = 1.36 * np.e ** -4\n",
    "f_rew = 10 ** 4 * Hz#Hz\n",
    "\n",
    "# Membrane\n",
    "v_rest = -70 * mvolt #mV\n",
    "e_ext = 0 * mvolt #V\n",
    "v_thr = -54 * mvolt #mV\n",
    "g_max = 0.2\n",
    "tau_m = 20* ms #ms\n",
    "tau_ex = 5* ms #ms\n",
    "e = np.e\n",
    "g = g_max\n",
    "pre_t = 0 * ms\n",
    "\n",
    "\n",
    "# Inputs\n",
    "f_mean = 20 * Hz\n",
    "f_base = 5 * Hz\n",
    "f_peak = 152.8  * Hz\n",
    "sigma_stim = 2\n",
    "t_stim = 0.02 * second\n",
    "\n",
    "# STDP\n",
    "Apre = a_plus = 0.1\n",
    "b = 1.2\n",
    "taupre = tau_plus = 20 * ms #ms\n",
    "taupost = tau_minus = 64 * ms #ms\n",
    "Apost = a_minus = (a_plus * tau_plus * b) / tau_minus"
   ]
  },
  {
   "cell_type": "code",
   "execution_count": 55,
   "metadata": {
    "collapsed": false
   },
   "outputs": [
    {
     "name": "stdout",
     "output_type": "stream",
     "text": [
      "Starting sim\n",
      "Sim done\n",
      "BRIAN sim done in 7.0079999 s\n"
     ]
    }
   ],
   "source": [
    "\n",
    "start = time.time() * second\n",
    "start_scope()\n",
    "projections = []\n",
    "layers = []\n",
    "neuron_dynamics = '''\n",
    "dv/dt = (v_rest-v + gex * (e_ext - v))/tau_m : volt\n",
    "dgex/dt = -gex/tau_ex: 1\n",
    "s : 1\n",
    "'''\n",
    "G = NeuronGroup(N, neuron_dynamics, threshold='v > -54 * mV',\n",
    "                reset='v = -70 * mV', method='euler', dt=0.1 * ms, name=\"target_layer\")\n",
    "G.v   = [-70*mV,] * N\n",
    "G.gex = [0.0, ]   * N\n",
    "G.s   = [0, ]     * N\n",
    "layers.append(G)\n",
    "statemon = StateMonitor(G, ['v', 'gex'], record=True)\n",
    "spikemon = SpikeMonitor(G)\n",
    "ratemon  = PopulationRateMonitor(G)\n",
    "\n",
    "\n",
    "\n",
    "# Pre pop\n",
    "# inp = NeuronGroup(2, 'rates : Hz', threshold='rand()<rates*dt', dt=0.1 * ms, name=\"source_layer\")\n",
    "inp = SpikeGeneratorGroup(N, [0]*len(spike_times), spike_times * ms)\n",
    "layers.append(inp)\n",
    "# inp.rates = rate\n",
    "\n",
    "synapse_model = '''\n",
    "                 w : 1\n",
    "                 dapre/dt = -apre/taupre : 1 (event-driven)\n",
    "                 dapost/dt = -apost/taupost : 1 (event-driven)\n",
    "                 '''\n",
    "on_pre_model = '''\n",
    "                 gex_post += w\n",
    "                 apre += Apre\n",
    "                 w = clip(w+apost, 0, g_max)\n",
    "                 '''\n",
    "on_post_model = '''\n",
    "                 apost += Apost\n",
    "                 w = clip(w+apre, 0, g_max)\n",
    "                 '''\n",
    "\n",
    "# Feedforward connections (from source to target)\n",
    "feedforward = Synapses(inp, G, synapse_model, \n",
    "                 on_pre = on_pre_model,\n",
    "                 on_post = on_post_model,\n",
    "                 dt = .1 * ms, name=\"feedforward_projections\", delay=.1*ms)\n",
    "feedforward.connect()\n",
    "feedforward.add_attribute('synapse_connected')\n",
    "feedforward.synapse_connected = np.zeros(N**2, dtype=np.bool_)\n",
    "# feedforward.w = [g_max, ] * (N**2)\n",
    "feedforward.w = g_max\n",
    "projections.append(feedforward)\n",
    "\n",
    "# Lateral connections (from target to target)\n",
    "\n",
    "lateral = Synapses(G, G, synapse_model, \n",
    "                 on_pre = on_pre_model,\n",
    "                 on_post = on_post_model,\n",
    "                 dt = .1 * ms, name=\"lateral_projections\")\n",
    "lateral.connect()\n",
    "lateral.add_attribute('synapse_connected')\n",
    "lateral.synapse_connected = np.zeros(N**2, dtype=np.bool_)\n",
    "lateral.w = [0, ] * (N**2)\n",
    "projections.append(lateral)\n",
    "\n",
    "inp_spikemon = SpikeMonitor(inp)\n",
    "inp_ratemon = PopulationRateMonitor(inp)\n",
    "\n",
    "print \"Starting sim\"    \n",
    "run(duration)\n",
    "print \"Sim done\"\n",
    "\n",
    "\n",
    "end = time.time() * second\n",
    "print \"BRIAN sim done in\", end - start"
   ]
  },
  {
   "cell_type": "code",
   "execution_count": 56,
   "metadata": {
    "collapsed": false
   },
   "outputs": [
    {
     "data": {
      "text/plain": [
       "[<matplotlib.lines.Line2D at 0xc50da50>]"
      ]
     },
     "execution_count": 56,
     "metadata": {},
     "output_type": "execute_result"
    },
    {
     "data": {
      "image/png": "[encoded data removed]",
      "text/plain": [
       "<matplotlib.figure.Figure at 0xc890110>"
      ]
     },
     "metadata": {},
     "output_type": "display_data"
    },
    {
     "data": {
      "image/png": "[encoded data removed]",
      "text/plain": [
       "<matplotlib.figure.Figure at 0xc96c6d0>"
      ]
     },
     "metadata": {},
     "output_type": "display_data"
    }
   ],
   "source": [
    "plt.figure(figsize=(8, 4))\n",
    "plt.title('Single neuron voltage')\n",
    "plt.xlabel('Times (ms)')\n",
    "plt.ylabel('mV')\n",
    "plt.plot(statemon.t/ms, statemon.v[0], alpha=.7)\n",
    "# for t in spikes[:, 1]:\n",
    "#     plt.axvline(t, ls=':', c='y', lw=2)\n",
    "for t in spikemon.spike_trains()[0]:\n",
    "    axvline(t/ms, ls=':', c='y', lw=2)\n",
    "\n",
    "plt.figure(figsize=(8, 4))\n",
    "plt.title('Single neuron synaptic conductance')\n",
    "plt.xlabel('Times (ms)')\n",
    "plt.ylabel('mF')\n",
    "plt.plot(statemon.t/ms, statemon.gex[0], alpha=.7)"
   ]
  },
  {
   "cell_type": "code",
   "execution_count": 57,
   "metadata": {
    "collapsed": false
   },
   "outputs": [
    {
     "data": {
      "text/plain": [
       "[<matplotlib.lines.Line2D at 0xac2bcd0>]"
      ]
     },
     "execution_count": 57,
     "metadata": {},
     "output_type": "execute_result"
    },
    {
     "data": {
      "image/png": "[encoded data removed]",
      "text/plain": [
       "<matplotlib.figure.Figure at 0xc5292f0>"
      ]
     },
     "metadata": {},
     "output_type": "display_data"
    }
   ],
   "source": [
    "plt.figure(figsize=(8, 4))\n",
    "plt.plot(gsyn[:, 2] - statemon.gex[0])"
   ]
  },
  {
   "cell_type": "code",
   "execution_count": 49,
   "metadata": {
    "collapsed": false
   },
   "outputs": [
    {
     "data": {
      "text/plain": [
       "11"
      ]
     },
     "execution_count": 49,
     "metadata": {},
     "output_type": "execute_result"
    }
   ],
   "source": [
    "np.nonzero(gsyn[:, 2])[0][0]"
   ]
  },
  {
   "cell_type": "code",
   "execution_count": 43,
   "metadata": {
    "collapsed": false
   },
   "outputs": [
    {
     "data": {
      "text/plain": [
       "0.10000000000000001"
      ]
     },
     "execution_count": 43,
     "metadata": {},
     "output_type": "execute_result"
    }
   ],
   "source": [
    "spike_times[0]"
   ]
  },
  {
   "cell_type": "code",
   "execution_count": 50,
   "metadata": {
    "collapsed": false
   },
   "outputs": [
    {
     "data": {
      "text/plain": [
       "array([ 0.        ,  1.1       ,  0.19800409,  0.        ])"
      ]
     },
     "execution_count": 50,
     "metadata": {},
     "output_type": "execute_result"
    }
   ],
   "source": [
    "gsyn[11, :]"
   ]
  },
  {
   "cell_type": "code",
   "execution_count": 51,
   "metadata": {
    "collapsed": false
   },
   "outputs": [
    {
     "data": {
      "text/plain": [
       "array([ 0.       ,  1.2      ,  0.1940672,  0.       ])"
      ]
     },
     "execution_count": 51,
     "metadata": {},
     "output_type": "execute_result"
    }
   ],
   "source": [
    "gsyn[12, :]"
   ]
  },
  {
   "cell_type": "code",
   "execution_count": 53,
   "metadata": {
    "collapsed": false
   },
   "outputs": [
    {
     "data": {
      "text/plain": [
       "array([ 0.        ,  1.3       ,  0.19022187,  0.        ])"
      ]
     },
     "execution_count": 53,
     "metadata": {},
     "output_type": "execute_result"
    }
   ],
   "source": [
    "gsyn[13, :]"
   ]
  },
  {
   "cell_type": "code",
   "execution_count": 58,
   "metadata": {
    "collapsed": false
   },
   "outputs": [
    {
     "data": {
      "text/plain": [
       "3"
      ]
     },
     "execution_count": 58,
     "metadata": {},
     "output_type": "execute_result"
    }
   ],
   "source": [
    "np.nonzero(statemon.gex[0])[0][0]"
   ]
  },
  {
   "cell_type": "code",
   "execution_count": 60,
   "metadata": {
    "collapsed": true
   },
   "outputs": [],
   "source": [
    "# align the g_syns\n",
    "aligned_brian_gex = np.insert(statemon.gex[0], 0, [0.] * (np.nonzero(gsyn[:, 2])[0][0]-np.nonzero(statemon.gex[0])[0][0]))"
   ]
  },
  {
   "cell_type": "code",
   "execution_count": 62,
   "metadata": {
    "collapsed": false
   },
   "outputs": [
    {
     "data": {
      "text/plain": [
       "[<matplotlib.lines.Line2D at 0xc96e110>]"
      ]
     },
     "execution_count": 62,
     "metadata": {},
     "output_type": "execute_result"
    },
    {
     "data": {
      "image/png": "[encoded data removed]",
      "text/plain": [
       "<matplotlib.figure.Figure at 0xac34f50>"
      ]
     },
     "metadata": {},
     "output_type": "display_data"
    }
   ],
   "source": [
    "plt.figure(figsize=(8, 4))\n",
    "plt.plot(gsyn[:, 2] - aligned_brian_gex[0:len(gsyn[:, 2])])"
   ]
  },
  {
   "cell_type": "code",
   "execution_count": 63,
   "metadata": {
    "collapsed": false
   },
   "outputs": [
    {
     "data": {
      "text/plain": [
       "array([ 2.4,  3.5,  1.3,  1.8,  3. ,  1.7,  1.5,  2.2,  2.8,  1.3,  1.7,\n",
       "        2.7,  1.9,  1.4,  2. ,  3.1,  1.2,  1.6,  2.5,  2.3,  1.3,  1.8,\n",
       "        3. ,  1.4,  1.5,  2.1,  2.8,  1.2,  1.7,  2.6,  2.1,  1.4,  1.9,\n",
       "        3.2,  1.2,  1.6,  2.4,  2.4,  1.3,  1.8,  3. ,  1.5,  1.5,  2.2,\n",
       "        2.8,  1.3,  1.7])"
      ]
     },
     "execution_count": 63,
     "metadata": {},
     "output_type": "execute_result"
    }
   ],
   "source": [
    "np.diff(spikes[:, 1])"
   ]
  },
  {
   "cell_type": "code",
   "execution_count": 65,
   "metadata": {
    "collapsed": true
   },
   "outputs": [],
   "source": [
    "gsyn_diff = gsyn[:, 2] - aligned_brian_gex[0:len(gsyn[:, 2])]"
   ]
  },
  {
   "cell_type": "code",
   "execution_count": 72,
   "metadata": {
    "collapsed": false
   },
   "outputs": [],
   "source": [
    "times_of_traughs =  [0 if x > -.05 else index[0] * 0.1 for index, x in np.ndenumerate(gsyn_diff) ]"
   ]
  },
  {
   "cell_type": "code",
   "execution_count": 73,
   "metadata": {
    "collapsed": false
   },
   "outputs": [
    {
     "data": {
      "text/plain": [
       "[0,\n",
       " 0,\n",
       " 0,\n",
       " 0,\n",
       " 0,\n",
       " 0,\n",
       " 0,\n",
       " 0,\n",
       " 0,\n",
       " 0,\n",
       " 0,\n",
       " 0,\n",
       " 0,\n",
       " 0,\n",
       " 0,\n",
       " 0,\n",
       " 0,\n",
       " 0,\n",
       " 0,\n",
       " 0,\n",
       " 0,\n",
       " 0,\n",
       " 0,\n",
       " 0,\n",
       " 0,\n",
       " 0,\n",
       " 0,\n",
       " 0,\n",
       " 0,\n",
       " 0,\n",
       " 0,\n",
       " 0,\n",
       " 0,\n",
       " 0,\n",
       " 0,\n",
       " 0,\n",
       " 0,\n",
       " 0,\n",
       " 0,\n",
       " 0,\n",
       " 0,\n",
       " 0,\n",
       " 0,\n",
       " 0,\n",
       " 0,\n",
       " 0,\n",
       " 0,\n",
       " 0,\n",
       " 0,\n",
       " 0,\n",
       " 0,\n",
       " 0,\n",
       " 0,\n",
       " 0,\n",
       " 0,\n",
       " 0,\n",
       " 0,\n",
       " 0,\n",
       " 0,\n",
       " 0,\n",
       " 0,\n",
       " 0,\n",
       " 0,\n",
       " 0,\n",
       " 0,\n",
       " 0,\n",
       " 0,\n",
       " 0,\n",
       " 0,\n",
       " 0,\n",
       " 0,\n",
       " 0,\n",
       " 0,\n",
       " 0,\n",
       " 0,\n",
       " 0,\n",
       " 0,\n",
       " 0,\n",
       " 0,\n",
       " 0,\n",
       " 0,\n",
       " 0,\n",
       " 8.200000000000001,\n",
       " 0,\n",
       " 0,\n",
       " 0,\n",
       " 0,\n",
       " 0,\n",
       " 0,\n",
       " 0,\n",
       " 0,\n",
       " 0,\n",
       " 0,\n",
       " 0,\n",
       " 0,\n",
       " 0,\n",
       " 0,\n",
       " 0,\n",
       " 0,\n",
       " 0,\n",
       " 0,\n",
       " 0,\n",
       " 0,\n",
       " 0,\n",
       " 0,\n",
       " 0,\n",
       " 0,\n",
       " 0,\n",
       " 0,\n",
       " 0,\n",
       " 0,\n",
       " 0,\n",
       " 0,\n",
       " 0,\n",
       " 0,\n",
       " 0,\n",
       " 0,\n",
       " 0,\n",
       " 0,\n",
       " 0,\n",
       " 0,\n",
       " 0,\n",
       " 0,\n",
       " 0,\n",
       " 0,\n",
       " 0,\n",
       " 0,\n",
       " 0,\n",
       " 0,\n",
       " 0,\n",
       " 0,\n",
       " 0,\n",
       " 0,\n",
       " 0,\n",
       " 0,\n",
       " 0,\n",
       " 0,\n",
       " 0,\n",
       " 0,\n",
       " 0,\n",
       " 0,\n",
       " 0,\n",
       " 0,\n",
       " 0,\n",
       " 0,\n",
       " 0,\n",
       " 0,\n",
       " 0,\n",
       " 0,\n",
       " 0,\n",
       " 0,\n",
       " 0,\n",
       " 0,\n",
       " 15.3,\n",
       " 0,\n",
       " 0,\n",
       " 0,\n",
       " 0,\n",
       " 0,\n",
       " 0,\n",
       " 0,\n",
       " 0,\n",
       " 0,\n",
       " 0,\n",
       " 0,\n",
       " 0,\n",
       " 0,\n",
       " 0,\n",
       " 0,\n",
       " 0,\n",
       " 0,\n",
       " 0,\n",
       " 0,\n",
       " 0,\n",
       " 0,\n",
       " 0,\n",
       " 0,\n",
       " 0,\n",
       " 0,\n",
       " 0,\n",
       " 0,\n",
       " 0,\n",
       " 0,\n",
       " 0,\n",
       " 0,\n",
       " 0,\n",
       " 0,\n",
       " 0,\n",
       " 0,\n",
       " 0,\n",
       " 0,\n",
       " 0,\n",
       " 0,\n",
       " 0,\n",
       " 0,\n",
       " 0,\n",
       " 0,\n",
       " 0,\n",
       " 0,\n",
       " 0,\n",
       " 0,\n",
       " 0,\n",
       " 0,\n",
       " 0,\n",
       " 0,\n",
       " 0,\n",
       " 0,\n",
       " 0,\n",
       " 0,\n",
       " 0,\n",
       " 0,\n",
       " 0,\n",
       " 0,\n",
       " 0,\n",
       " 0,\n",
       " 0,\n",
       " 0,\n",
       " 0,\n",
       " 0,\n",
       " 0,\n",
       " 0,\n",
       " 0,\n",
       " 0,\n",
       " 0,\n",
       " 0,\n",
       " 22.5,\n",
       " 0,\n",
       " 0,\n",
       " 0,\n",
       " 0,\n",
       " 0,\n",
       " 0,\n",
       " 0,\n",
       " 0,\n",
       " 0,\n",
       " 0,\n",
       " 0,\n",
       " 0,\n",
       " 0,\n",
       " 0,\n",
       " 0,\n",
       " 0,\n",
       " 0,\n",
       " 0,\n",
       " 0,\n",
       " 0,\n",
       " 0,\n",
       " 0,\n",
       " 0,\n",
       " 0,\n",
       " 0,\n",
       " 0,\n",
       " 0,\n",
       " 0,\n",
       " 0,\n",
       " 0,\n",
       " 0,\n",
       " 0,\n",
       " 0,\n",
       " 0,\n",
       " 0,\n",
       " 0,\n",
       " 0,\n",
       " 0,\n",
       " 0,\n",
       " 0,\n",
       " 0,\n",
       " 0,\n",
       " 0,\n",
       " 0,\n",
       " 0,\n",
       " 0,\n",
       " 0,\n",
       " 0,\n",
       " 0,\n",
       " 0,\n",
       " 0,\n",
       " 0,\n",
       " 0,\n",
       " 0,\n",
       " 0,\n",
       " 0,\n",
       " 0,\n",
       " 0,\n",
       " 0,\n",
       " 0,\n",
       " 0,\n",
       " 0,\n",
       " 0,\n",
       " 0,\n",
       " 0,\n",
       " 0,\n",
       " 0,\n",
       " 0,\n",
       " 0,\n",
       " 0,\n",
       " 29.6,\n",
       " 0,\n",
       " 0,\n",
       " 0,\n",
       " 0,\n",
       " 0,\n",
       " 0,\n",
       " 0,\n",
       " 0,\n",
       " 0,\n",
       " 0,\n",
       " 0,\n",
       " 0,\n",
       " 0,\n",
       " 0,\n",
       " 0,\n",
       " 0,\n",
       " 0,\n",
       " 0,\n",
       " 0,\n",
       " 0,\n",
       " 0,\n",
       " 0,\n",
       " 0,\n",
       " 0,\n",
       " 0,\n",
       " 0,\n",
       " 0,\n",
       " 0,\n",
       " 0,\n",
       " 0,\n",
       " 0,\n",
       " 0,\n",
       " 0,\n",
       " 0,\n",
       " 0,\n",
       " 0,\n",
       " 0,\n",
       " 0,\n",
       " 0,\n",
       " 0,\n",
       " 0,\n",
       " 0,\n",
       " 0,\n",
       " 0,\n",
       " 0,\n",
       " 0,\n",
       " 0,\n",
       " 0,\n",
       " 0,\n",
       " 0,\n",
       " 0,\n",
       " 0,\n",
       " 0,\n",
       " 0,\n",
       " 0,\n",
       " 0,\n",
       " 0,\n",
       " 0,\n",
       " 0,\n",
       " 0,\n",
       " 0,\n",
       " 0,\n",
       " 0,\n",
       " 0,\n",
       " 0,\n",
       " 0,\n",
       " 0,\n",
       " 0,\n",
       " 0,\n",
       " 0,\n",
       " 36.7,\n",
       " 0,\n",
       " 0,\n",
       " 0,\n",
       " 0,\n",
       " 0,\n",
       " 0,\n",
       " 0,\n",
       " 0,\n",
       " 0,\n",
       " 0,\n",
       " 0,\n",
       " 0,\n",
       " 0,\n",
       " 0,\n",
       " 0,\n",
       " 0,\n",
       " 0,\n",
       " 0,\n",
       " 0,\n",
       " 0,\n",
       " 0,\n",
       " 0,\n",
       " 0,\n",
       " 0,\n",
       " 0,\n",
       " 0,\n",
       " 0,\n",
       " 0,\n",
       " 0,\n",
       " 0,\n",
       " 0,\n",
       " 0,\n",
       " 0,\n",
       " 0,\n",
       " 0,\n",
       " 0,\n",
       " 0,\n",
       " 0,\n",
       " 0,\n",
       " 0,\n",
       " 0,\n",
       " 0,\n",
       " 0,\n",
       " 0,\n",
       " 0,\n",
       " 0,\n",
       " 0,\n",
       " 0,\n",
       " 0,\n",
       " 0,\n",
       " 0,\n",
       " 0,\n",
       " 0,\n",
       " 0,\n",
       " 0,\n",
       " 0,\n",
       " 0,\n",
       " 0,\n",
       " 0,\n",
       " 0,\n",
       " 0,\n",
       " 0,\n",
       " 0,\n",
       " 0,\n",
       " 0,\n",
       " 0,\n",
       " 0,\n",
       " 0,\n",
       " 0,\n",
       " 0,\n",
       " 0,\n",
       " 43.900000000000006,\n",
       " 0,\n",
       " 0,\n",
       " 0,\n",
       " 0,\n",
       " 0,\n",
       " 0,\n",
       " 0,\n",
       " 0,\n",
       " 0,\n",
       " 0,\n",
       " 0,\n",
       " 0,\n",
       " 0,\n",
       " 0,\n",
       " 0,\n",
       " 0,\n",
       " 0,\n",
       " 0,\n",
       " 0,\n",
       " 0,\n",
       " 0,\n",
       " 0,\n",
       " 0,\n",
       " 0,\n",
       " 0,\n",
       " 0,\n",
       " 0,\n",
       " 0,\n",
       " 0,\n",
       " 0,\n",
       " 0,\n",
       " 0,\n",
       " 0,\n",
       " 0,\n",
       " 0,\n",
       " 0,\n",
       " 0,\n",
       " 0,\n",
       " 0,\n",
       " 0,\n",
       " 0,\n",
       " 0,\n",
       " 0,\n",
       " 0,\n",
       " 0,\n",
       " 0,\n",
       " 0,\n",
       " 0,\n",
       " 0,\n",
       " 0,\n",
       " 0,\n",
       " 0,\n",
       " 0,\n",
       " 0,\n",
       " 0,\n",
       " 0,\n",
       " 0,\n",
       " 0,\n",
       " 0,\n",
       " 0,\n",
       " 0,\n",
       " 0,\n",
       " 0,\n",
       " 0,\n",
       " 0,\n",
       " 0,\n",
       " 0,\n",
       " 0,\n",
       " 0,\n",
       " 0,\n",
       " 51.0,\n",
       " 0,\n",
       " 0,\n",
       " 0,\n",
       " 0,\n",
       " 0,\n",
       " 0,\n",
       " 0,\n",
       " 0,\n",
       " 0,\n",
       " 0,\n",
       " 0,\n",
       " 0,\n",
       " 0,\n",
       " 0,\n",
       " 0,\n",
       " 0,\n",
       " 0,\n",
       " 0,\n",
       " 0,\n",
       " 0,\n",
       " 0,\n",
       " 0,\n",
       " 0,\n",
       " 0,\n",
       " 0,\n",
       " 0,\n",
       " 0,\n",
       " 0,\n",
       " 0,\n",
       " 0,\n",
       " 0,\n",
       " 0,\n",
       " 0,\n",
       " 0,\n",
       " 0,\n",
       " 0,\n",
       " 0,\n",
       " 0,\n",
       " 0,\n",
       " 0,\n",
       " 0,\n",
       " 0,\n",
       " 0,\n",
       " 0,\n",
       " 0,\n",
       " 0,\n",
       " 0,\n",
       " 0,\n",
       " 0,\n",
       " 0,\n",
       " 0,\n",
       " 0,\n",
       " 0,\n",
       " 0,\n",
       " 0,\n",
       " 0,\n",
       " 0,\n",
       " 0,\n",
       " 0,\n",
       " 0,\n",
       " 0,\n",
       " 0,\n",
       " 0,\n",
       " 0,\n",
       " 0,\n",
       " 0,\n",
       " 0,\n",
       " 0,\n",
       " 0,\n",
       " 0,\n",
       " 58.1,\n",
       " 0,\n",
       " 0,\n",
       " 0,\n",
       " 0,\n",
       " 0,\n",
       " 0,\n",
       " 0,\n",
       " 0,\n",
       " 0,\n",
       " 0,\n",
       " 0,\n",
       " 0,\n",
       " 0,\n",
       " 0,\n",
       " 0,\n",
       " 0,\n",
       " 0,\n",
       " 0,\n",
       " 0,\n",
       " 0,\n",
       " 0,\n",
       " 0,\n",
       " 0,\n",
       " 0,\n",
       " 0,\n",
       " 0,\n",
       " 0,\n",
       " 0,\n",
       " 0,\n",
       " 0,\n",
       " 0,\n",
       " 0,\n",
       " 0,\n",
       " 0,\n",
       " 0,\n",
       " 0,\n",
       " 0,\n",
       " 0,\n",
       " 0,\n",
       " 0,\n",
       " 0,\n",
       " 0,\n",
       " 0,\n",
       " 0,\n",
       " 0,\n",
       " 0,\n",
       " 0,\n",
       " 0,\n",
       " 0,\n",
       " 0,\n",
       " 0,\n",
       " 0,\n",
       " 0,\n",
       " 0,\n",
       " 0,\n",
       " 0,\n",
       " 0,\n",
       " 0,\n",
       " 0,\n",
       " 0,\n",
       " 0,\n",
       " 0,\n",
       " 0,\n",
       " 0,\n",
       " 0,\n",
       " 0,\n",
       " 0,\n",
       " 0,\n",
       " 0,\n",
       " 0,\n",
       " 0,\n",
       " 65.3,\n",
       " 0,\n",
       " 0,\n",
       " 0,\n",
       " 0,\n",
       " 0,\n",
       " 0,\n",
       " 0,\n",
       " 0,\n",
       " 0,\n",
       " 0,\n",
       " 0,\n",
       " 0,\n",
       " 0,\n",
       " 0,\n",
       " 0,\n",
       " 0,\n",
       " 0,\n",
       " 0,\n",
       " 0,\n",
       " 0,\n",
       " 0,\n",
       " 0,\n",
       " 0,\n",
       " 0,\n",
       " 0,\n",
       " 0,\n",
       " 0,\n",
       " 0,\n",
       " 0,\n",
       " 0,\n",
       " 0,\n",
       " 0,\n",
       " 0,\n",
       " 0,\n",
       " 0,\n",
       " 0,\n",
       " 0,\n",
       " 0,\n",
       " 0,\n",
       " 0,\n",
       " 0,\n",
       " 0,\n",
       " 0,\n",
       " 0,\n",
       " 0,\n",
       " 0,\n",
       " 0,\n",
       " 0,\n",
       " 0,\n",
       " 0,\n",
       " 0,\n",
       " 0,\n",
       " 0,\n",
       " 0,\n",
       " 0,\n",
       " 0,\n",
       " 0,\n",
       " 0,\n",
       " 0,\n",
       " 0,\n",
       " 0,\n",
       " 0,\n",
       " 0,\n",
       " 0,\n",
       " 0,\n",
       " 0,\n",
       " 0,\n",
       " 0,\n",
       " 0,\n",
       " 0,\n",
       " 72.4,\n",
       " 0,\n",
       " 0,\n",
       " 0,\n",
       " 0,\n",
       " 0,\n",
       " 0,\n",
       " 0,\n",
       " 0,\n",
       " 0,\n",
       " 0,\n",
       " 0,\n",
       " 0,\n",
       " 0,\n",
       " 0,\n",
       " 0,\n",
       " 0,\n",
       " 0,\n",
       " 0,\n",
       " 0,\n",
       " 0,\n",
       " 0,\n",
       " 0,\n",
       " 0,\n",
       " 0,\n",
       " 0,\n",
       " 0,\n",
       " 0,\n",
       " 0,\n",
       " 0,\n",
       " 0,\n",
       " 0,\n",
       " 0,\n",
       " 0,\n",
       " 0,\n",
       " 0,\n",
       " 0,\n",
       " 0,\n",
       " 0,\n",
       " 0,\n",
       " 0,\n",
       " 0,\n",
       " 0,\n",
       " 0,\n",
       " 0,\n",
       " 0,\n",
       " 0,\n",
       " 0,\n",
       " 0,\n",
       " 0,\n",
       " 0,\n",
       " 0,\n",
       " 0,\n",
       " 0,\n",
       " 0,\n",
       " 0,\n",
       " 0,\n",
       " 0,\n",
       " 0,\n",
       " 0,\n",
       " 0,\n",
       " 0,\n",
       " 0,\n",
       " 0,\n",
       " 0,\n",
       " 0,\n",
       " 0,\n",
       " 0,\n",
       " 0,\n",
       " 0,\n",
       " 0,\n",
       " 79.5,\n",
       " 0,\n",
       " 0,\n",
       " 0,\n",
       " 0,\n",
       " 0,\n",
       " 0,\n",
       " 0,\n",
       " 0,\n",
       " 0,\n",
       " 0,\n",
       " 0,\n",
       " 0,\n",
       " 0,\n",
       " 0,\n",
       " 0,\n",
       " 0,\n",
       " 0,\n",
       " 0,\n",
       " 0,\n",
       " 0,\n",
       " 0,\n",
       " 0,\n",
       " 0,\n",
       " 0,\n",
       " 0,\n",
       " 0,\n",
       " 0,\n",
       " 0,\n",
       " 0,\n",
       " 0,\n",
       " 0,\n",
       " 0,\n",
       " 0,\n",
       " 0,\n",
       " 0,\n",
       " 0,\n",
       " 0,\n",
       " 0,\n",
       " 0,\n",
       " 0,\n",
       " 0,\n",
       " 0,\n",
       " 0,\n",
       " 0,\n",
       " 0,\n",
       " 0,\n",
       " 0,\n",
       " 0,\n",
       " 0,\n",
       " 0,\n",
       " 0,\n",
       " 0,\n",
       " 0,\n",
       " 0,\n",
       " 0,\n",
       " 0,\n",
       " 0,\n",
       " 0,\n",
       " 0,\n",
       " 0,\n",
       " 0,\n",
       " 0,\n",
       " 0,\n",
       " 0,\n",
       " 0,\n",
       " 0,\n",
       " 0,\n",
       " 0,\n",
       " 0,\n",
       " 0,\n",
       " 0,\n",
       " 86.7,\n",
       " 0,\n",
       " 0,\n",
       " 0,\n",
       " 0,\n",
       " 0,\n",
       " 0,\n",
       " 0,\n",
       " 0,\n",
       " 0,\n",
       " 0,\n",
       " 0,\n",
       " 0,\n",
       " 0,\n",
       " 0,\n",
       " 0,\n",
       " 0,\n",
       " 0,\n",
       " 0,\n",
       " 0,\n",
       " 0,\n",
       " 0,\n",
       " 0,\n",
       " 0,\n",
       " 0,\n",
       " 0,\n",
       " 0,\n",
       " 0,\n",
       " 0,\n",
       " 0,\n",
       " 0,\n",
       " 0,\n",
       " 0,\n",
       " 0,\n",
       " 0,\n",
       " 0,\n",
       " 0,\n",
       " 0,\n",
       " 0,\n",
       " 0,\n",
       " 0,\n",
       " 0,\n",
       " 0,\n",
       " 0,\n",
       " 0,\n",
       " 0,\n",
       " 0,\n",
       " 0,\n",
       " 0,\n",
       " 0,\n",
       " 0,\n",
       " 0,\n",
       " 0,\n",
       " 0,\n",
       " 0,\n",
       " 0,\n",
       " 0,\n",
       " 0,\n",
       " 0,\n",
       " 0,\n",
       " 0,\n",
       " 0,\n",
       " 0,\n",
       " 0,\n",
       " 0,\n",
       " 0,\n",
       " 0,\n",
       " 0,\n",
       " 0,\n",
       " 0,\n",
       " 0,\n",
       " 93.80000000000001,\n",
       " 0,\n",
       " 0,\n",
       " 0,\n",
       " 0,\n",
       " 0,\n",
       " 0,\n",
       " 0,\n",
       " 0,\n",
       " 0,\n",
       " 0,\n",
       " 0,\n",
       " 0,\n",
       " 0,\n",
       " 0,\n",
       " 0,\n",
       " 0,\n",
       " 0,\n",
       " 0,\n",
       " 0,\n",
       " 0,\n",
       " 0,\n",
       " 0,\n",
       " 0,\n",
       " 0,\n",
       " 0,\n",
       " 0,\n",
       " 0,\n",
       " 0,\n",
       " 0,\n",
       " 0,\n",
       " 0,\n",
       " 0,\n",
       " 0,\n",
       " 0,\n",
       " 0,\n",
       " 0,\n",
       " 0,\n",
       " 0,\n",
       " 0,\n",
       " 0,\n",
       " 0,\n",
       " 0,\n",
       " 0,\n",
       " 0,\n",
       " 0,\n",
       " 0,\n",
       " 0,\n",
       " 0,\n",
       " 0,\n",
       " 0,\n",
       " 0,\n",
       " 0,\n",
       " 0,\n",
       " 0,\n",
       " 0,\n",
       " 0,\n",
       " 0,\n",
       " 0,\n",
       " 0,\n",
       " 0,\n",
       " 0]"
      ]
     },
     "execution_count": 73,
     "metadata": {},
     "output_type": "execute_result"
    }
   ],
   "source": [
    "times_of_traughs"
   ]
  },
  {
   "cell_type": "code",
   "execution_count": 74,
   "metadata": {
    "collapsed": false
   },
   "outputs": [
    {
     "data": {
      "image/png": "[encoded data removed]",
      "text/plain": [
       "<matplotlib.figure.Figure at 0xcc85950>"
      ]
     },
     "metadata": {},
     "output_type": "display_data"
    }
   ],
   "source": [
    "#sanity check \n",
    "plt.figure(figsize=(8, 4))\n",
    "plt.plot(gsyn[:, 2] - aligned_brian_gex[0:len(gsyn[:, 2])])\n",
    "for t in times_of_traughs:\n",
    "    plt.axvline(t * 10, ls=':', c='y', lw=2)"
   ]
  },
  {
   "cell_type": "code",
   "execution_count": 80,
   "metadata": {
    "collapsed": true
   },
   "outputs": [],
   "source": [
    "time_of_pynn_peaks = [0 if x < .19 else index[0] * 0.1 for index, x in np.ndenumerate(gsyn[:,2]) ]"
   ]
  },
  {
   "cell_type": "code",
   "execution_count": 81,
   "metadata": {
    "collapsed": false
   },
   "outputs": [
    {
     "data": {
      "image/png": "[encoded data removed]",
      "text/plain": [
       "<matplotlib.figure.Figure at 0x10bdb250>"
      ]
     },
     "metadata": {},
     "output_type": "display_data"
    }
   ],
   "source": [
    "#sanity check \n",
    "plt.figure(figsize=(8, 4))\n",
    "plt.title('Single neuron synaptic conductance')\n",
    "plt.xlabel('Times (ms)')\n",
    "plt.ylabel('mF')\n",
    "plt.plot(gsyn[:,1], gsyn[:, 2], alpha=.7)\n",
    "for t in time_of_pynn_peaks:\n",
    "    plt.axvline(t, ls=':', c='y', lw=2)"
   ]
  },
  {
   "cell_type": "code",
   "execution_count": 85,
   "metadata": {
    "collapsed": false
   },
   "outputs": [],
   "source": [
    "#isolating peaks\n",
    "ediff = np.ediff1d(time_of_pynn_peaks)"
   ]
  },
  {
   "cell_type": "code",
   "execution_count": 87,
   "metadata": {
    "collapsed": false
   },
   "outputs": [],
   "source": [
    "peak_isolation=[]\n",
    "for index, value in np.ndenumerate(ediff):\n",
    "    if value > 0 and ediff[index[0]-1]==0:\n",
    "        peak_isolation.append(index[0])"
   ]
  },
  {
   "cell_type": "code",
   "execution_count": 91,
   "metadata": {
    "collapsed": false
   },
   "outputs": [
    {
     "data": {
      "image/png": "[encoded data removed]",
      "text/plain": [
       "<matplotlib.figure.Figure at 0xeaba730>"
      ]
     },
     "metadata": {},
     "output_type": "display_data"
    }
   ],
   "source": [
    "#sanity check 2\n",
    "plt.figure(figsize=(8, 4))\n",
    "plt.title('Single neuron synaptic conductance')\n",
    "plt.xlabel('Times (ms)')\n",
    "plt.ylabel('mF')\n",
    "plt.plot(gsyn[:,1], gsyn[:, 2], alpha=.7)\n",
    "for t in peak_isolation:\n",
    "    plt.axvline(t/10., ls=':', c='y', lw=2)"
   ]
  },
  {
   "cell_type": "code",
   "execution_count": 93,
   "metadata": {
    "collapsed": false
   },
   "outputs": [
    {
     "data": {
      "text/plain": [
       "array([71, 72, 71, 71, 72, 71, 71, 72, 71, 71, 72, 71])"
      ]
     },
     "execution_count": 93,
     "metadata": {},
     "output_type": "execute_result"
    }
   ],
   "source": [
    "np.ediff1d(np.nonzero(times_of_traughs)[0])"
   ]
  },
  {
   "cell_type": "code",
   "execution_count": 94,
   "metadata": {
    "collapsed": false
   },
   "outputs": [
    {
     "data": {
      "text/plain": [
       "array([72, 71, 72, 71, 71, 72, 71, 71, 72, 71, 71, 72, 71])"
      ]
     },
     "execution_count": 94,
     "metadata": {},
     "output_type": "execute_result"
    }
   ],
   "source": [
    "np.ediff1d(peak_isolation)"
   ]
  },
  {
   "cell_type": "code",
   "execution_count": 95,
   "metadata": {
    "collapsed": true
   },
   "outputs": [],
   "source": [
    "brain_peaks = []\n",
    "brian_ediff = np.ediff1d(statemon.gex[0])"
   ]
  },
  {
   "cell_type": "code",
   "execution_count": 96,
   "metadata": {
    "collapsed": false
   },
   "outputs": [
    {
     "data": {
      "text/plain": [
       "array([ 0.        ,  0.        ,  0.2       , -0.004     , -0.00392   ,\n",
       "       -0.0038416 , -0.00376477, -0.00368947, -0.00361568, -0.00354337,\n",
       "       -0.0034725 , -0.00340305, -0.00333499, -0.00326829, -0.00320293,\n",
       "       -0.00313887, -0.00307609, -0.00301457, -0.00295428, -0.00289519,\n",
       "       -0.00283729, -0.00278054, -0.00272493, -0.00267043, -0.00261702,\n",
       "       -0.00256468, -0.00251339, -0.00246312, -0.00241386, -0.00236558,\n",
       "       -0.00231827, -0.0022719 , -0.00222647, -0.00218194, -0.0021383 ,\n",
       "       -0.00209553, -0.00205362, -0.00201255, -0.0019723 , -0.00193285,\n",
       "       -0.0018942 , -0.00185631, -0.00181919, -0.0017828 , -0.00174715,\n",
       "       -0.0017122 , -0.00167796, -0.0016444 , -0.00161151, -0.00157928,\n",
       "       -0.0015477 , -0.00151674, -0.00148641, -0.00145668, -0.00142755,\n",
       "       -0.00139899, -0.00137101, -0.00134359, -0.00131672, -0.00129039,\n",
       "       -0.00126458, -0.00123929, -0.0012145 , -0.00119021, -0.00116641,\n",
       "       -0.00114308, -0.00112022, -0.00109781, -0.00107586, -0.00105434,\n",
       "       -0.00103325, -0.00101259, -0.00099234,  0.19902751, -0.00495304,\n",
       "       -0.00485398, -0.0047569 , -0.00466176, -0.00456853, -0.00447716,\n",
       "       -0.00438761, -0.00429986, -0.00421386, -0.00412959, -0.00404699,\n",
       "       -0.00396605, -0.00388673, -0.003809  , -0.00373282, -0.00365816,\n",
       "       -0.003585  , -0.0035133 , -0.00344303, -0.00337417, -0.00330669,\n",
       "       -0.00324056, -0.00317574, -0.00311223, -0.00304998, -0.00298899,\n",
       "       -0.00292921, -0.00287062, -0.00281321, -0.00275694, -0.00270181,\n",
       "       -0.00264777, -0.00259481, -0.00254292, -0.00249206, -0.00244222,\n",
       "       -0.00239337, -0.00234551, -0.0022986 , -0.00225262, -0.00220757,\n",
       "       -0.00216342, -0.00212015, -0.00207775, -0.00203619, -0.00199547,\n",
       "       -0.00195556, -0.00191645, -0.00187812, -0.00184056, -0.00180375,\n",
       "       -0.00176767, -0.00173232, -0.00169767, -0.00166372, -0.00163044,\n",
       "       -0.00159784, -0.00156588, -0.00153456, -0.00150387, -0.00147379,\n",
       "       -0.00144432, -0.00141543, -0.00138712, -0.00135938, -0.00133219,\n",
       "       -0.00130555, -0.00127944, -0.00125385, -0.00122877,  0.1987958 ,\n",
       "       -0.00518011, -0.00507651, -0.00497498, -0.00487548, -0.00477797,\n",
       "       -0.00468241, -0.00458876, -0.00449699, -0.00440705, -0.00431891,\n",
       "       -0.00423253, -0.00414788, -0.00406492, -0.00398362, -0.00390395,\n",
       "       -0.00382587, -0.00374935, -0.00367437, -0.00360088, -0.00352886,\n",
       "       -0.00345828, -0.00338912, -0.00332134, -0.00325491, -0.00318981,\n",
       "       -0.00312601, -0.00306349, -0.00300222, -0.00294218, -0.00288334,\n",
       "       -0.00282567, -0.00276916, -0.00271377, -0.0026595 , -0.00260631,\n",
       "       -0.00255418, -0.0025031 , -0.00245304, -0.00240398, -0.0023559 ,\n",
       "       -0.00230878, -0.0022626 , -0.00221735, -0.002173  , -0.00212954,\n",
       "       -0.00208695, -0.00204521, -0.00200431, -0.00196422, -0.00192494,\n",
       "       -0.00188644, -0.00184871, -0.00181174, -0.0017755 , -0.00173999,\n",
       "       -0.00170519, -0.00167109, -0.00163767, -0.00160491, -0.00157281,\n",
       "       -0.00154136, -0.00151053, -0.00148032, -0.00145071, -0.0014217 ,\n",
       "       -0.00139327, -0.0013654 , -0.00133809, -0.00131133, -0.0012851 ,\n",
       "       -0.0012594 ,  0.19876579, -0.00520953, -0.00510534, -0.00500323,\n",
       "       -0.00490317, -0.0048051 , -0.004709  , -0.00461482, -0.00452253,\n",
       "       -0.00443208, -0.00434343, -0.00425657, -0.00417143, -0.00408801,\n",
       "       -0.00400625, -0.00392612, -0.0038476 , -0.00377065, -0.00369523,\n",
       "       -0.00362133, -0.0035489 , -0.00347792, -0.00340837, -0.0033402 ,\n",
       "       -0.00327339, -0.00320793, -0.00314377, -0.00308089, -0.00301927,\n",
       "       -0.00295889, -0.00289971, -0.00284172, -0.00278488, -0.00272918,\n",
       "       -0.0026746 , -0.00262111, -0.00256869, -0.00251731, -0.00246697,\n",
       "       -0.00241763, -0.00236928, -0.00232189, -0.00227545, -0.00222994,\n",
       "       -0.00218534, -0.00214164, -0.0020988 , -0.00205683, -0.00201569,\n",
       "       -0.00197538, -0.00193587, -0.00189715, -0.00185921, -0.00182203,\n",
       "       -0.00178559, -0.00174987, -0.00171488, -0.00168058, -0.00164697,\n",
       "       -0.00161403, -0.00158175, -0.00155011, -0.00151911, -0.00148873,\n",
       "       -0.00145895, -0.00142977, -0.00140118, -0.00137315, -0.00134569,\n",
       "       -0.00131878, -0.0012924 ,  0.19873345, -0.00524122, -0.0051364 ,\n",
       "       -0.00503367, -0.004933  , -0.00483434, -0.00473765, -0.0046429 ,\n",
       "       -0.00455004, -0.00445904, -0.00436986, -0.00428246, -0.00419681,\n",
       "       -0.00411288, -0.00403062, -0.00395001, -0.00387101, -0.00379359,\n",
       "       -0.00371771, -0.00364336, -0.00357049, -0.00349908, -0.0034291 ,\n",
       "       -0.00336052, -0.00329331, -0.00322744, -0.00316289, -0.00309964,\n",
       "       -0.00303764, -0.00297689, -0.00291735, -0.00285901, -0.00280183,\n",
       "       -0.00274579, -0.00269087, -0.00263706, -0.00258431, -0.00253263,\n",
       "       -0.00248198, -0.00243234, -0.00238369, -0.00233602, -0.0022893 ,\n",
       "       -0.00224351, -0.00219864, -0.00215467, -0.00211157, -0.00206934,\n",
       "       -0.00202795, -0.0019874 , -0.00194765, -0.00190869, -0.00187052,\n",
       "       -0.00183311, -0.00179645, -0.00176052, -0.00172531, -0.0016908 ,\n",
       "       -0.00165699, -0.00162385, -0.00159137, -0.00155954, -0.00152835,\n",
       "       -0.00149778, -0.00146783, -0.00143847, -0.0014097 , -0.00138151,\n",
       "       -0.00135388, -0.0013268 , -0.00130027,  0.19872574, -0.00524877,\n",
       "       -0.0051438 , -0.00504092, -0.0049401 , -0.0048413 , -0.00474448,\n",
       "       -0.00464959, -0.0045566 , -0.00446546, -0.00437615, -0.00428863,\n",
       "       -0.00420286, -0.0041188 , -0.00403643, -0.0039557 , -0.00387658,\n",
       "       -0.00379905, -0.00372307, -0.00364861, -0.00357564, -0.00350412,\n",
       "       -0.00343404, -0.00336536, -0.00329805, -0.00323209, -0.00316745,\n",
       "       -0.0031041 , -0.00304202, -0.00298118, -0.00292156, -0.00286312,\n",
       "       -0.00280586, -0.00274974, -0.00269475, -0.00264085, -0.00258804,\n",
       "       -0.00253628, -0.00248555, -0.00243584, -0.00238712, -0.00233938,\n",
       "       -0.00229259, -0.00224674, -0.00220181, -0.00215777, -0.00211462,\n",
       "       -0.00207232, -0.00203088, -0.00199026, -0.00195045, -0.00191144,\n",
       "       -0.00187322, -0.00183575, -0.00179904, -0.00176306, -0.00172779,\n",
       "       -0.00169324, -0.00165937, -0.00162619, -0.00159366, -0.00156179,\n",
       "       -0.00153055, -0.00149994, -0.00146994, -0.00144054, -0.00141173,\n",
       "       -0.0013835 , -0.00135583, -0.00132871, -0.00130214, -0.0012761 ,\n",
       "        0.19874943, -0.00522556, -0.00512105, -0.00501863, -0.00491826,\n",
       "       -0.00481989, -0.00472349, -0.00462902, -0.00453644, -0.00444572,\n",
       "       -0.0043568 , -0.00426966, -0.00418427, -0.00410059, -0.00401857,\n",
       "       -0.0039382 , -0.00385944, -0.00378225, -0.00370661, -0.00363247,\n",
       "       -0.00355982, -0.00348863, -0.00341885, -0.00335048, -0.00328347,\n",
       "       -0.0032178 , -0.00315344, -0.00309037, -0.00302857, -0.00296799,\n",
       "       -0.00290863, -0.00285046, -0.00279345, -0.00273758, -0.00268283,\n",
       "       -0.00262918, -0.00257659, -0.00252506, -0.00247456, -0.00242507,\n",
       "       -0.00237657, -0.00232904, -0.00228245, -0.00223681, -0.00219207,\n",
       "       -0.00214823, -0.00210526, -0.00206316, -0.00202189, -0.00198146,\n",
       "       -0.00194183, -0.00190299, -0.00186493, -0.00182763, -0.00179108,\n",
       "       -0.00175526, -0.00172015, -0.00168575, -0.00165204, -0.00161899,\n",
       "       -0.00158661, -0.00155488, -0.00152378, -0.00149331, -0.00146344,\n",
       "       -0.00143417, -0.00140549, -0.00137738, -0.00134983, -0.00132284,\n",
       "       -0.00129638,  0.19872955, -0.00524504, -0.00514014, -0.00503734,\n",
       "       -0.00493659, -0.00483786, -0.0047411 , -0.00464628, -0.00455336,\n",
       "       -0.00446229, -0.00437304, -0.00428558, -0.00419987, -0.00411587,\n",
       "       -0.00403356, -0.00395288, -0.00387383, -0.00379635, -0.00372042,\n",
       "       -0.00364601, -0.00357309, -0.00350163, -0.0034316 , -0.00336297,\n",
       "       -0.00329571, -0.00322979, -0.0031652 , -0.00310189, -0.00303986,\n",
       "       -0.00297906, -0.00291948, -0.00286109, -0.00280387, -0.00274779,\n",
       "       -0.00269283, -0.00263898, -0.0025862 , -0.00253447, -0.00248378,\n",
       "       -0.00243411, -0.00238543, -0.00233772, -0.00229096, -0.00224514,\n",
       "       -0.00220024, -0.00215624, -0.00211311, -0.00207085, -0.00202943,\n",
       "       -0.00198884, -0.00194907, -0.00191009, -0.00187188, -0.00183445,\n",
       "       -0.00179776, -0.0017618 , -0.00172657, -0.00169203, -0.00165819,\n",
       "       -0.00162503, -0.00159253, -0.00156068, -0.00152947, -0.00149888,\n",
       "       -0.0014689 , -0.00143952, -0.00141073, -0.00138252, -0.00135487,\n",
       "       -0.00132777, -0.00130121,  0.19872481, -0.00524968, -0.00514469,\n",
       "       -0.0050418 , -0.00494096, -0.00484214, -0.0047453 , -0.00465039,\n",
       "       -0.00455739, -0.00446624, -0.00437691, -0.00428937, -0.00420359,\n",
       "       -0.00411952, -0.00403713, -0.00395638, -0.00387725, -0.00379971,\n",
       "       -0.00372372, -0.00364924, -0.00357626, -0.00350473, -0.00343464,\n",
       "       -0.00336594, -0.00329863, -0.00323265, -0.003168  , -0.00310464,\n",
       "       -0.00304255, -0.0029817 , -0.00292206, -0.00286362, -0.00280635,\n",
       "       -0.00275022, -0.00269522, -0.00264131, -0.00258849, -0.00253672,\n",
       "       -0.00248598, -0.00243626, -0.00238754, -0.00233979, -0.00229299,\n",
       "       -0.00224713, -0.00220219, -0.00215814, -0.00211498, -0.00207268,\n",
       "       -0.00203123, -0.0019906 , -0.00195079, -0.00191178, -0.00187354,\n",
       "       -0.00183607, -0.00179935, -0.00176336, -0.00172809, -0.00169353,\n",
       "       -0.00165966, -0.00162647, -0.00159394, -0.00156206, -0.00153082,\n",
       "       -0.0015002 , -0.0014702 , -0.00144079, -0.00141198, -0.00138374,\n",
       "       -0.00135606, -0.00132894, -0.00130236, -0.00127632,  0.19874921,\n",
       "       -0.00522577, -0.00512126, -0.00501883, -0.00491846, -0.00482009,\n",
       "       -0.00472369, -0.00462921, -0.00453663, -0.0044459 , -0.00435698,\n",
       "       -0.00426984, -0.00418444, -0.00410075, -0.00401874, -0.00393836,\n",
       "       -0.0038596 , -0.0037824 , -0.00370676, -0.00363262, -0.00355997,\n",
       "       -0.00348877, -0.00341899, -0.00335061, -0.0032836 , -0.00321793,\n",
       "       -0.00315357, -0.0030905 , -0.00302869, -0.00296812, -0.00290875,\n",
       "       -0.00285058, -0.00279357, -0.0027377 , -0.00268294, -0.00262928,\n",
       "       -0.0025767 , -0.00252516, -0.00247466, -0.00242517, -0.00237666,\n",
       "       -0.00232913, -0.00228255, -0.0022369 , -0.00219216, -0.00214832,\n",
       "       -0.00210535, -0.00206324, -0.00202198, -0.00198154, -0.00194191,\n",
       "       -0.00190307, -0.00186501, -0.00182771, -0.00179115, -0.00175533,\n",
       "       -0.00172022, -0.00168582, -0.0016521 , -0.00161906, -0.00158668,\n",
       "       -0.00155495, -0.00152385, -0.00149337, -0.0014635 , -0.00143423,\n",
       "       -0.00140555, -0.00137744, -0.00134989, -0.00132289, -0.00129643,\n",
       "        0.1987295 , -0.00524509, -0.00514019, -0.00503739, -0.00493664,\n",
       "       -0.00483791, -0.00474115, -0.00464633, -0.0045534 , -0.00446233,\n",
       "       -0.00437309, -0.00428562, -0.00419991, -0.00411591, -0.00403359,\n",
       "       -0.00395292, -0.00387386, -0.00379639, -0.00372046, -0.00364605,\n",
       "       -0.00357313, -0.00350167, -0.00343163, -0.003363  , -0.00329574,\n",
       "       -0.00322983, -0.00316523, -0.00310192, -0.00303989, -0.00297909,\n",
       "       -0.00291951, -0.00286112, -0.00280389, -0.00274782, -0.00269286,\n",
       "       -0.002639  , -0.00258622, -0.0025345 , -0.00248381, -0.00243413,\n",
       "       -0.00238545, -0.00233774, -0.00229099, -0.00224517, -0.00220026,\n",
       "       -0.00215626, -0.00211313, -0.00207087, -0.00202945, -0.00198886,\n",
       "       -0.00194909, -0.0019101 , -0.0018719 , -0.00183446, -0.00179777,\n",
       "       -0.00176182, -0.00172658, -0.00169205, -0.00165821, -0.00162505,\n",
       "       -0.00159255, -0.00156069, -0.00152948, -0.00149889, -0.00146891,\n",
       "       -0.00143953, -0.00141074, -0.00138253, -0.00135488, -0.00132778,\n",
       "       -0.00130123,  0.1987248 , -0.0052497 , -0.0051447 , -0.00504181,\n",
       "       -0.00494097, -0.00484215, -0.00474531, -0.0046504 , -0.0045574 ,\n",
       "       -0.00446625, -0.00437692, -0.00428938, -0.0042036 , -0.00411952,\n",
       "       -0.00403713, -0.00395639, -0.00387726, -0.00379972, -0.00372372,\n",
       "       -0.00364925, -0.00357626, -0.00350474, -0.00343464, -0.00336595,\n",
       "       -0.00329863, -0.00323266, -0.00316801, -0.00310465, -0.00304255,\n",
       "       -0.0029817 , -0.00292207, -0.00286363, -0.00280635, -0.00275023,\n",
       "       -0.00269522, -0.00264132, -0.00258849, -0.00253672, -0.00248599,\n",
       "       -0.00243627, -0.00238754, -0.00233979, -0.002293  , -0.00224714,\n",
       "       -0.00220219, -0.00215815, -0.00211499, -0.00207269, -0.00203123,\n",
       "       -0.00199061, -0.0019508 , -0.00191178, -0.00187354, -0.00183607,\n",
       "       -0.00179935, -0.00176337, -0.0017281 , -0.00169354, -0.00165967,\n",
       "       -0.00162647, -0.00159394, -0.00156206, -0.00153082, -0.00150021,\n",
       "       -0.0014702 , -0.0014408 , -0.00141198, -0.00138374, -0.00135607,\n",
       "       -0.00132895, -0.00130237, -0.00127632,  0.19874921, -0.00522578,\n",
       "       -0.00512126, -0.00501884, -0.00491846, -0.00482009, -0.00472369,\n",
       "       -0.00462922, -0.00453663, -0.0044459 , -0.00435698, -0.00426984,\n",
       "       -0.00418444, -0.00410076, -0.00401874, -0.00393837, -0.0038596 ,\n",
       "       -0.00378241, -0.00370676, -0.00363262, -0.00355997, -0.00348877,\n",
       "       -0.003419  , -0.00335062, -0.0032836 , -0.00321793, -0.00315357,\n",
       "       -0.0030905 , -0.00302869, -0.00296812, -0.00290875, -0.00285058,\n",
       "       -0.00279357, -0.0027377 , -0.00268294, -0.00262928, -0.0025767 ,\n",
       "       -0.00252516, -0.00247466, -0.00242517, -0.00237666, -0.00232913,\n",
       "       -0.00228255, -0.0022369 , -0.00219216, -0.00214832, -0.00210535,\n",
       "       -0.00206324, -0.00202198, -0.00198154, -0.00194191, -0.00190307,\n",
       "       -0.00186501, -0.00182771, -0.00179115, -0.00175533, -0.00172022,\n",
       "       -0.00168582, -0.0016521 , -0.00161906, -0.00158668, -0.00155495,\n",
       "       -0.00152385, -0.00149337, -0.0014635 , -0.00143423, -0.00140555,\n",
       "       -0.00137744, -0.00134989, -0.00132289, -0.00129643,  0.1987295 ,\n",
       "       -0.00524509, -0.00514019, -0.00503739, -0.00493664, -0.00483791,\n",
       "       -0.00474115, -0.00464633, -0.0045534 , -0.00446233, -0.00437309,\n",
       "       -0.00428562, -0.00419991, -0.00411591, -0.0040336 , -0.00395292,\n",
       "       -0.00387386, -0.00379639, -0.00372046, -0.00364605, -0.00357313,\n",
       "       -0.00350167, -0.00343163, -0.003363  , -0.00329574, -0.00322983,\n",
       "       -0.00316523, -0.00310192, -0.00303989, -0.00297909, -0.00291951,\n",
       "       -0.00286112, -0.00280389, -0.00274782, -0.00269286, -0.002639  ,\n",
       "       -0.00258622, -0.0025345 , -0.00248381, -0.00243413, -0.00238545,\n",
       "       -0.00233774, -0.00229099, -0.00224517, -0.00220026, -0.00215626,\n",
       "       -0.00211313, -0.00207087, -0.00202945, -0.00198886, -0.00194909,\n",
       "       -0.0019101 , -0.0018719 , -0.00183446, -0.00179777, -0.00176182,\n",
       "       -0.00172658, -0.00169205, -0.00165821, -0.00162505, -0.00159255,\n",
       "       -0.00156069, -0.00152948, -0.00149889, -0.00146891, -0.00143953,\n",
       "       -0.00141074, -0.00138253, -0.00135488, -0.00132778])"
      ]
     },
     "execution_count": 96,
     "metadata": {},
     "output_type": "execute_result"
    }
   ],
   "source": [
    "brian_ediff"
   ]
  },
  {
   "cell_type": "code",
   "execution_count": 108,
   "metadata": {
    "collapsed": true
   },
   "outputs": [],
   "source": [
    "brian_peak_isolation=[]\n",
    "for index, value in np.ndenumerate(brian_ediff):\n",
    "    if value > 0 and brian_ediff[index[0]-1]<=0:\n",
    "        brian_peak_isolation.append(index[0])"
   ]
  },
  {
   "cell_type": "code",
   "execution_count": 109,
   "metadata": {
    "collapsed": false
   },
   "outputs": [
    {
     "data": {
      "text/plain": [
       "[2, 73, 144, 216, 287, 358, 430, 501, 572, 644, 715, 786, 858, 929]"
      ]
     },
     "execution_count": 109,
     "metadata": {},
     "output_type": "execute_result"
    }
   ],
   "source": [
    "brian_peak_isolation"
   ]
  },
  {
   "cell_type": "code",
   "execution_count": 110,
   "metadata": {
    "collapsed": false
   },
   "outputs": [
    {
     "data": {
      "image/png": "[encoded data removed]",
      "text/plain": [
       "<matplotlib.figure.Figure at 0xf61c170>"
      ]
     },
     "metadata": {},
     "output_type": "display_data"
    }
   ],
   "source": [
    "plt.figure(figsize=(8, 4))\n",
    "plt.title('Single neuron synaptic conductance')\n",
    "plt.xlabel('Times (ms)')\n",
    "plt.ylabel('mF')\n",
    "plt.plot(statemon.t/ms, statemon.gex[0], alpha=.7)\n",
    "for t in brian_peak_isolation:\n",
    "    plt.axvline(t/10., ls=':', c='y', lw=2)"
   ]
  },
  {
   "cell_type": "code",
   "execution_count": 111,
   "metadata": {
    "collapsed": false
   },
   "outputs": [
    {
     "name": "stdout",
     "output_type": "stream",
     "text": [
      "[71 71 72 71 71 72 71 71 72 71 71 72 71]\n",
      "[72 71 72 71 71 72 71 71 72 71 71 72 71]\n"
     ]
    }
   ],
   "source": [
    "brian_peak_ediff = np.ediff1d(brian_peak_isolation)\n",
    "print brian_peak_ediff\n",
    "print np.ediff1d(peak_isolation)"
   ]
  },
  {
   "cell_type": "code",
   "execution_count": 117,
   "metadata": {
    "collapsed": false
   },
   "outputs": [
    {
     "data": {
      "text/plain": [
       "array([[-1,  0,  0,  0,  0,  0,  0,  0,  0,  0,  0,  0,  0]])"
      ]
     },
     "execution_count": 117,
     "metadata": {},
     "output_type": "execute_result"
    }
   ],
   "source": [
    "x = np.asarray([np.ediff1d(peak_isolation),brian_peak_ediff])\n",
    "np.diff(x, axis=0)"
   ]
  },
  {
   "cell_type": "code",
   "execution_count": 119,
   "metadata": {
    "collapsed": false
   },
   "outputs": [
    {
     "name": "stdout",
     "output_type": "stream",
     "text": [
      "(0.8432740427115677, 0.00029286528857172517)\n"
     ]
    }
   ],
   "source": [
    "print scipy.stats.pearsonr(np.ediff1d(peak_isolation),brian_peak_ediff)"
   ]
  },
  {
   "cell_type": "code",
   "execution_count": null,
   "metadata": {
    "collapsed": true
   },
   "outputs": [],
   "source": []
  }
 ],
 "metadata": {
  "kernelspec": {
   "display_name": "Python 2",
   "language": "python",
   "name": "python2"
  },
  "language_info": {
   "codemirror_mode": {
    "name": "ipython",
    "version": 2
   },
   "file_extension": ".py",
   "mimetype": "text/x-python",
   "name": "python",
   "nbconvert_exporter": "python",
   "pygments_lexer": "ipython2",
   "version": "2.7.9"
  }
 },
 "nbformat": 4,
 "nbformat_minor": 0
}
