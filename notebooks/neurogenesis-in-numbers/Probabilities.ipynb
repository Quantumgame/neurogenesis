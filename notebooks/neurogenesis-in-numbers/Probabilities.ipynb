{
 "cells": [
  {
   "cell_type": "code",
   "execution_count": 1,
   "metadata": {
    "collapsed": true
   },
   "outputs": [],
   "source": [
    "import numpy as np\n",
    "import matplotlib.pylab as plt\n",
    "%matplotlib inline"
   ]
  },
  {
   "cell_type": "code",
   "execution_count": 8,
   "metadata": {
    "collapsed": true
   },
   "outputs": [],
   "source": [
    "weights = np.asarray([10, 10, 10, 10, 1], dtype=float)"
   ]
  },
  {
   "cell_type": "code",
   "execution_count": 19,
   "metadata": {
    "collapsed": false
   },
   "outputs": [
    {
     "data": {
      "text/plain": [
       "array([0, 0, 1, 2, 0, 2, 3, 0, 0, 1, 2, 2, 3, 1, 2, 1, 3, 0, 3, 1, 1, 3, 1,\n",
       "       1, 2, 2, 3, 2, 2, 1, 4, 0, 3, 0, 1, 3, 3, 0, 2, 2, 0, 0, 2, 0, 4, 2,\n",
       "       0, 0, 2, 3, 0, 1, 3, 2, 1, 4, 3, 2, 3, 0, 1, 3, 2, 1, 2, 0, 3, 4, 3,\n",
       "       1, 3, 3, 0, 0, 3, 3, 3, 0, 0, 0, 3, 3, 3, 1, 3, 2, 0, 0, 0, 2, 1, 1,\n",
       "       3, 0, 3, 0, 4, 3, 3, 3])"
      ]
     },
     "execution_count": 19,
     "metadata": {},
     "output_type": "execute_result"
    }
   ],
   "source": [
    "np.random.choice(range(len(weights)), size=100, p=weights/np.sum(weights))"
   ]
  },
  {
   "cell_type": "code",
   "execution_count": 14,
   "metadata": {
    "collapsed": false
   },
   "outputs": [
    {
     "data": {
      "text/plain": [
       "array([ 0.24390244,  0.24390244,  0.24390244,  0.24390244,  0.02439024])"
      ]
     },
     "execution_count": 14,
     "metadata": {},
     "output_type": "execute_result"
    }
   ],
   "source": [
    "(1 / np.sum(weights)) * weights"
   ]
  },
  {
   "cell_type": "code",
   "execution_count": null,
   "metadata": {
    "collapsed": true
   },
   "outputs": [],
   "source": []
  }
 ],
 "metadata": {
  "kernelspec": {
   "display_name": "Python 2",
   "language": "python",
   "name": "python2"
  },
  "language_info": {
   "codemirror_mode": {
    "name": "ipython",
    "version": 2
   },
   "file_extension": ".py",
   "mimetype": "text/x-python",
   "name": "python",
   "nbconvert_exporter": "python",
   "pygments_lexer": "ipython2",
   "version": "2.7.6"
  }
 },
 "nbformat": 4,
 "nbformat_minor": 0
}
