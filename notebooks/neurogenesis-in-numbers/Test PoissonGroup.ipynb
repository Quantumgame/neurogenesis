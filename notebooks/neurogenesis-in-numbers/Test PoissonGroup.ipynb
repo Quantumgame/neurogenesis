{
 "cells": [
  {
   "cell_type": "markdown",
   "metadata": {},
   "source": [
    "# Does changing the \\_rate of a PoissonGroup actually change the rate?"
   ]
  },
  {
   "cell_type": "code",
   "execution_count": 127,
   "metadata": {
    "collapsed": false
   },
   "outputs": [
    {
     "data": {
      "text/plain": [
       "<matplotlib.figure.Figure at 0xa33fb10>"
      ]
     },
     "metadata": {},
     "output_type": "display_data"
    }
   ],
   "source": [
    "import numpy as np\n",
    "import matplotlib.pyplot as plt\n",
    "from brian2 import *\n",
    "%matplotlib inline\n",
    "plt.viridis()\n",
    "duration = 100000.*ms\n",
    "dt = 10000. * ms"
   ]
  },
  {
   "cell_type": "code",
   "execution_count": 128,
   "metadata": {
    "collapsed": false
   },
   "outputs": [],
   "source": [
    "ratesmon = []\n",
    "start_scope()\n",
    "rate =  200 * Hz #np.random.randint(100, 200) * Hz\n",
    "ratesmon.append(rate)\n",
    "inp = PoissonGroup(1, rate)\n",
    "@network_operation(dt=dt)\n",
    "def change_stimulus():\n",
    "    rate = np.random.randint(100, 200) * Hz\n",
    "    ratesmon.append(rate)\n",
    "    inp._rates = rate\n",
    "spikemon = SpikeMonitor(inp)\n",
    "run(duration)"
   ]
  },
  {
   "cell_type": "code",
   "execution_count": 129,
   "metadata": {
    "collapsed": false
   },
   "outputs": [
    {
     "data": {
      "text/plain": [
       "(0, 100000.0)"
      ]
     },
     "execution_count": 129,
     "metadata": {},
     "output_type": "execute_result"
    },
    {
     "data": {
      "image/png": "[encoded data removed]",
      "text/plain": [
       "<matplotlib.figure.Figure at 0xaf4fb50>"
      ]
     },
     "metadata": {},
     "output_type": "display_data"
    }
   ],
   "source": [
    "# rate evolution\n",
    "\n",
    "empirical_rates = []\n",
    "for t_lim in np.linspace(dt/ms, duration/ms, duration/dt)*ms:\n",
    "    occurances_in_dt = np.count_nonzero([x if (t_lim-dt) <= x <t_lim else 0 for x in spikemon.t[:] ]) \n",
    "#     print occurances_in_dt\n",
    "    empirical_rates.append(occurances_in_dt / (dt))\n",
    "    \n",
    "    \n",
    "    \n",
    "plt.plot(np.repeat(np.asarray(ratesmon), dt/ms))\n",
    "plt.plot(np.repeat(np.asarray(empirical_rates), dt/ms), color='r')\n",
    "\n",
    "plt.xlim([0, duration/ms])\n",
    "# plt.ylim([50, 250])"
   ]
  },
  {
   "cell_type": "code",
   "execution_count": 130,
   "metadata": {
    "collapsed": false
   },
   "outputs": [
    {
     "name": "stdout",
     "output_type": "stream",
     "text": [
      "198.95 Hz\n",
      "200. Hz\n"
     ]
    }
   ],
   "source": [
    "print spikemon.num_spikes / (duration)\n",
    "print ratesmon[0]"
   ]
  },
  {
   "cell_type": "code",
   "execution_count": 132,
   "metadata": {
    "collapsed": false
   },
   "outputs": [
    {
     "name": "stdout",
     "output_type": "stream",
     "text": [
      "152.272727273\n"
     ]
    }
   ],
   "source": [
    "print np.mean(ratesmon)"
   ]
  },
  {
   "cell_type": "code",
   "execution_count": 133,
   "metadata": {
    "collapsed": false,
    "scrolled": true
   },
   "outputs": [
    {
     "data": {
      "text/plain": [
       "(0, 100000.0)"
      ]
     },
     "execution_count": 133,
     "metadata": {},
     "output_type": "execute_result"
    },
    {
     "data": {
      "image/png": "[encoded data removed]",
      "text/plain": [
       "<matplotlib.figure.Figure at 0xa2c6c50>"
      ]
     },
     "metadata": {},
     "output_type": "display_data"
    }
   ],
   "source": [
    "start_scope()\n",
    "\n",
    "inp = PoissonGroup(1, ratesmon[0])\n",
    "spikemon = SpikeMonitor(inp)\n",
    "run(duration)\n",
    "# rate evolution\n",
    "\n",
    "empirical_rates = []\n",
    "for t_lim in np.linspace(dt/ms, duration/ms, duration/dt)*ms:\n",
    "    occurances_in_dt = np.count_nonzero([x if (t_lim-dt) <= x <t_lim else 0 for x in spikemon.t[:] ]) \n",
    "#     print occurances_in_dt\n",
    "    empirical_rates.append(occurances_in_dt / (dt))\n",
    "    \n",
    "    \n",
    "    \n",
    "plt.plot(np.repeat(np.asarray(ratesmon[0]), duration/ms))\n",
    "plt.plot(np.repeat(np.asarray(empirical_rates), dt/ms), color='r')\n",
    "\n",
    "plt.xlim([0, duration/ms])\n",
    "# plt.ylim([50, 250])"
   ]
  },
  {
   "cell_type": "code",
   "execution_count": 134,
   "metadata": {
    "collapsed": false
   },
   "outputs": [
    {
     "name": "stdout",
     "output_type": "stream",
     "text": [
      "198.7 Hz\n",
      "200. Hz\n"
     ]
    }
   ],
   "source": [
    "print spikemon.num_spikes / (duration)\n",
    "print ratesmon[0]"
   ]
  },
  {
   "cell_type": "markdown",
   "metadata": {},
   "source": [
    "# Answer? _No_, this is not the way to set a new rate"
   ]
  },
  {
   "cell_type": "code",
   "execution_count": null,
   "metadata": {
    "collapsed": true
   },
   "outputs": [],
   "source": [
    ""
   ]
  }
 ],
 "metadata": {
  "kernelspec": {
   "display_name": "Python 2",
   "language": "python",
   "name": "python2"
  },
  "language_info": {
   "codemirror_mode": {
    "name": "ipython",
    "version": 2.0
   },
   "file_extension": ".py",
   "mimetype": "text/x-python",
   "name": "python",
   "nbconvert_exporter": "python",
   "pygments_lexer": "ipython2",
   "version": "2.7.9"
  }
 },
 "nbformat": 4,
 "nbformat_minor": 0
}