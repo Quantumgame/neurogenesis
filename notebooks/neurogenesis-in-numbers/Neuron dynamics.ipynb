{
 "cells": [
  {
   "cell_type": "code",
   "execution_count": 2,
   "metadata": {
    "collapsed": false
   },
   "outputs": [
    {
     "data": {
      "text/plain": [
       "<matplotlib.figure.Figure at 0x7f8d4a2fea50>"
      ]
     },
     "metadata": {},
     "output_type": "display_data"
    }
   ],
   "source": [
    "import numpy as np\n",
    "import matplotlib.pyplot as plt\n",
    "%matplotlib inline\n",
    "plt.viridis()"
   ]
  },
  {
   "cell_type": "code",
   "execution_count": 3,
   "metadata": {
    "collapsed": true
   },
   "outputs": [],
   "source": [
    "\n",
    "# Inputs\n",
    "f_mean = 20 #Hz\n",
    "f_base = 5 #Hz\n",
    "f_peak = 152.8 #Hz\n",
    "sigma_stim = 2\n",
    "t_stim = 0.02 #s\n",
    "\n",
    "rate = f_base + f_peak"
   ]
  },
  {
   "cell_type": "code",
   "execution_count": 4,
   "metadata": {
    "collapsed": false
   },
   "outputs": [
    {
     "ename": "NameError",
     "evalue": "name 'v_rest' is not defined",
     "output_type": "error",
     "traceback": [
      "\u001b[0;31m---------------------------------------------------------------------------\u001b[0m",
      "\u001b[0;31mNameError\u001b[0m                                 Traceback (most recent call last)",
      "\u001b[0;32m<ipython-input-4-4aad2b403520>\u001b[0m in \u001b[0;36m<module>\u001b[0;34m()\u001b[0m\n\u001b[1;32m      3\u001b[0m \u001b[0mtimes\u001b[0m \u001b[0;34m=\u001b[0m \u001b[0mnp\u001b[0m\u001b[0;34m.\u001b[0m\u001b[0marange\u001b[0m\u001b[0;34m(\u001b[0m\u001b[0;36m0\u001b[0m\u001b[0;34m,\u001b[0m \u001b[0mT\u001b[0m\u001b[0;34m+\u001b[0m\u001b[0mdt\u001b[0m\u001b[0;34m,\u001b[0m \u001b[0mdt\u001b[0m\u001b[0;34m)\u001b[0m\u001b[0;34m\u001b[0m\u001b[0m\n\u001b[1;32m      4\u001b[0m \u001b[0mprevious_spike_time\u001b[0m \u001b[0;34m=\u001b[0m \u001b[0mNone\u001b[0m\u001b[0;34m\u001b[0m\u001b[0m\n\u001b[0;32m----> 5\u001b[0;31m \u001b[0mVem\u001b[0m \u001b[0;34m=\u001b[0m \u001b[0mnp\u001b[0m\u001b[0;34m.\u001b[0m\u001b[0mones\u001b[0m\u001b[0;34m(\u001b[0m\u001b[0mlen\u001b[0m\u001b[0;34m(\u001b[0m\u001b[0mtimes\u001b[0m\u001b[0;34m)\u001b[0m\u001b[0;34m)\u001b[0m \u001b[0;34m*\u001b[0m \u001b[0mv_rest\u001b[0m\u001b[0;34m\u001b[0m\u001b[0m\n\u001b[0m\u001b[1;32m      6\u001b[0m \u001b[0minput_spikes\u001b[0m \u001b[0;34m=\u001b[0m \u001b[0mnp\u001b[0m\u001b[0;34m.\u001b[0m\u001b[0mrandom\u001b[0m\u001b[0;34m.\u001b[0m\u001b[0mpoisson\u001b[0m\u001b[0;34m(\u001b[0m\u001b[0mrate\u001b[0m\u001b[0;34m/\u001b[0m\u001b[0;36m1000.\u001b[0m\u001b[0;34m,\u001b[0m \u001b[0mlen\u001b[0m\u001b[0;34m(\u001b[0m\u001b[0mtimes\u001b[0m\u001b[0;34m)\u001b[0m\u001b[0;34m)\u001b[0m\u001b[0;34m\u001b[0m\u001b[0m\n\u001b[1;32m      7\u001b[0m \u001b[0minput_spikes\u001b[0m \u001b[0;34m=\u001b[0m \u001b[0mnp\u001b[0m\u001b[0;34m.\u001b[0m\u001b[0mclip\u001b[0m\u001b[0;34m(\u001b[0m\u001b[0minput_spikes\u001b[0m\u001b[0;34m,\u001b[0m \u001b[0;36m0\u001b[0m\u001b[0;34m,\u001b[0m\u001b[0;36m1\u001b[0m\u001b[0;34m)\u001b[0m\u001b[0;34m\u001b[0m\u001b[0m\n",
      "\u001b[0;31mNameError\u001b[0m: name 'v_rest' is not defined"
     ]
    }
   ],
   "source": [
    "T = 100\n",
    "dt = 0.1\n",
    "times = np.arange(0, T+dt, dt)\n",
    "previous_spike_time = None\n",
    "Vem = np.ones(len(times)) * v_rest\n",
    "input_spikes = np.random.poisson(rate/1000., len(times))\n",
    "input_spikes = np.clip(input_spikes, 0,1)\n",
    "g = np.ones(len(times)) * g_max\n",
    "print (np.count_nonzero(input_spikes))\n",
    "plt.plot(input_spikes)"
   ]
  },
  {
   "cell_type": "code",
   "execution_count": null,
   "metadata": {
    "collapsed": false
   },
   "outputs": [],
   "source": [
    "for i, t in enumerate(times):\n",
    "    if input_spikes[i]:\n",
    "        previous_spike_time = t\n",
    "    \n",
    "    if previous_spike_time:\n",
    "        g[i] = g[i-1] + g[i-1] * (np.e **(-(t-previous_spike_time)/tau_ex) )\n",
    "        \n",
    "    "
   ]
  },
  {
   "cell_type": "code",
   "execution_count": null,
   "metadata": {
    "collapsed": false
   },
   "outputs": [],
   "source": [
    "plt.plot(g)"
   ]
  },
  {
   "cell_type": "code",
   "execution_count": null,
   "metadata": {
    "collapsed": true
   },
   "outputs": [],
   "source": []
  },
  {
   "cell_type": "code",
   "execution_count": null,
   "metadata": {
    "collapsed": true
   },
   "outputs": [],
   "source": []
  },
  {
   "cell_type": "code",
   "execution_count": null,
   "metadata": {
    "collapsed": true
   },
   "outputs": [],
   "source": []
  },
  {
   "cell_type": "code",
   "execution_count": 30,
   "metadata": {
    "collapsed": false
   },
   "outputs": [
    {
     "data": {
      "text/plain": [
       "<matplotlib.text.Text at 0x7f8d46ed97d0>"
      ]
     },
     "execution_count": 30,
     "metadata": {},
     "output_type": "execute_result"
    },
    {
     "data": {
      "image/png": "[encoded data removed]",
      "text/plain": [
       "<matplotlib.figure.Figure at 0x7f8d46c1a410>"
      ]
     },
     "metadata": {},
     "output_type": "display_data"
    }
   ],
   "source": [
    "## setup parameters and state variables\n",
    "rate    = 100                  # per sec\n",
    "T       = 100                  # total time to simulate (msec)\n",
    "dt      = 0.1               # simulation time step (msec)\n",
    "time    = np.arange(0, T+dt, dt) # time array\n",
    "t_rest  = 0                   # initial refractory time\n",
    "no_spikes = 0\n",
    "poisson_presynaptic_spikes = np.random.poisson(rate/1000., len(time))\n",
    "regular_presynaptic_spikes = np.zeros(len(time))\n",
    "x = [int(i * (len(time)//(float(rate) / 1000. * T))) for i in range(int(float(rate) / 1000. * T))]\n",
    "regular_presynaptic_spikes[x] = 1.\n",
    "previous_spike = 0\n",
    "    \n",
    "# Membrane\n",
    "v_rest = -70 #mV\n",
    "e_ext = 0 #V\n",
    "v_thr = -54 #mV\n",
    "g_max = 0.2\n",
    "tau_m = 20. #ms\n",
    "tau_ex = 5. #ms\n",
    "    \n",
    "\n",
    "## LIF properties\n",
    "Vm      = np.ones(len(time)) * v_rest    # potential (V) trace over time\n",
    "Rm      = 1                   # resistance (kOhm)\n",
    "Cm      = 10                  # capacitance (uF)\n",
    "# tau_m   = Rm*Cm               # time constant (msec)\n",
    "tau_ref = dt * 3                  # refractory period (msec)\n",
    "Vth     = 1                   # spike threshold (V)\n",
    "V_spike = 1                 # spike delta (V)\n",
    "g = np.ones(len(time))*g_max\n",
    "\n",
    "## Stimulus\n",
    "I       = 1.5                 # input current (A)\n",
    "\n",
    "## iterate over each time step\n",
    "for i, t in enumerate(time): \n",
    "    if regular_presynaptic_spikes[i]:\n",
    "        previous_spike = t\n",
    "#     g[i] = g_max\n",
    "\n",
    "    g[i] = g[i] + g[i-1] * np.e ** (-(t - previous_spike)/tau_ex)\n",
    "    if t > t_rest:\n",
    "        Vm[i] = Vm[i-1] + (v_rest-Vm[i-1] + g[i] * (e_ext - Vm[i-1])) / tau_m * dt\n",
    "        if Vm[i] >= v_thr:\n",
    "            Vm[i] += V_spike\n",
    "#             g[i] = 0\n",
    "            no_spikes += 1\n",
    "            t_rest = t + tau_ref\n",
    "\n",
    "## plot membrane potential trace\n",
    "plt.plot(time, Vm)\n",
    "plt.title('Leaky Conductance Integrate-and-Fire Model')\n",
    "plt.ylabel('Membrane Potential (mV)')\n",
    "plt.xlabel('Time (msec)')\n",
    "# plt.ylim([0,2])"
   ]
  },
  {
   "cell_type": "code",
   "execution_count": null,
   "metadata": {
    "collapsed": true
   },
   "outputs": [],
   "source": []
  },
  {
   "cell_type": "code",
   "execution_count": 31,
   "metadata": {
    "collapsed": false
   },
   "outputs": [
    {
     "name": "stdout",
     "output_type": "stream",
     "text": [
      "empirical fireing rate (per sec) =  50.0\n"
     ]
    }
   ],
   "source": [
    "print \"empirical fireing rate (per sec) = \", float(no_spikes) / T * 1000. \n",
    "empiricical_rate = float(no_spikes) / T * 1000."
   ]
  },
  {
   "cell_type": "code",
   "execution_count": 32,
   "metadata": {
    "collapsed": false
   },
   "outputs": [
    {
     "data": {
      "text/plain": [
       "0.00999000999000999"
      ]
     },
     "execution_count": 32,
     "metadata": {},
     "output_type": "execute_result"
    }
   ],
   "source": [
    "np.count_nonzero(regular_presynaptic_spikes) / float(len(times))"
   ]
  },
  {
   "cell_type": "code",
   "execution_count": 33,
   "metadata": {
    "collapsed": false
   },
   "outputs": [
    {
     "data": {
      "text/plain": [
       "<matplotlib.text.Text at 0x7f8d46c69e10>"
      ]
     },
     "execution_count": 33,
     "metadata": {},
     "output_type": "execute_result"
    },
    {
     "data": {
      "image/png": "[encoded data removed]",
      "text/plain": [
       "<matplotlib.figure.Figure at 0x7f8d46dab1d0>"
      ]
     },
     "metadata": {},
     "output_type": "display_data"
    }
   ],
   "source": [
    "## plot membrane potential trace\n",
    "plt.plot(time, g)\n",
    "plt.title('Conductance')\n",
    "plt.ylabel('Conductance value')\n",
    "plt.xlabel('Time (msec)')"
   ]
  },
  {
   "cell_type": "code",
   "execution_count": 23,
   "metadata": {
    "collapsed": false
   },
   "outputs": [
    {
     "data": {
      "text/plain": [
       "[<matplotlib.lines.Line2D at 0x7f8d46f6cf50>]"
      ]
     },
     "execution_count": 23,
     "metadata": {},
     "output_type": "execute_result"
    },
    {
     "data": {
      "image/png": "[encoded data removed]",
      "text/plain": [
       "<matplotlib.figure.Figure at 0x7f8d46ff99d0>"
      ]
     },
     "metadata": {},
     "output_type": "display_data"
    }
   ],
   "source": [
    "plt.plot(time, regular_presynaptic_spikes)"
   ]
  },
  {
   "cell_type": "markdown",
   "metadata": {},
   "source": []
  },
  {
   "cell_type": "raw",
   "metadata": {},
   "source": []
  }
 ],
 "metadata": {
  "kernelspec": {
   "display_name": "Python 2",
   "language": "python",
   "name": "python2"
  },
  "language_info": {
   "codemirror_mode": {
    "name": "ipython",
    "version": 2
   },
   "file_extension": ".py",
   "mimetype": "text/x-python",
   "name": "python",
   "nbconvert_exporter": "python",
   "pygments_lexer": "ipython2",
   "version": "2.7.6"
  }
 },
 "nbformat": 4,
 "nbformat_minor": 0
}
