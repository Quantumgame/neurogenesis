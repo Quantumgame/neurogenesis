{
 "cells": [
  {
   "cell_type": "code",
   "execution_count": 3,
   "metadata": {
    "collapsed": false
   },
   "outputs": [
    {
     "data": {
      "text/plain": [
       "<matplotlib.figure.Figure at 0x87dc050>"
      ]
     },
     "metadata": {},
     "output_type": "display_data"
    }
   ],
   "source": [
    "import numpy as np\n",
    "import matplotlib.pyplot as plt\n",
    "from brian2 import *\n",
    "%matplotlib inline\n",
    "plt.viridis()"
   ]
  },
  {
   "cell_type": "code",
   "execution_count": 4,
   "metadata": {
    "collapsed": false
   },
   "outputs": [],
   "source": [
    "no_iterations = 3000000\n",
    "\n",
    "# Wiring\n",
    "n = 16\n",
    "N_layer = n ** 2\n",
    "S = (n, n)\n",
    "\n",
    "s_max = 32\n",
    "sigma_form_forward = 2.5\n",
    "sigma_form_lateral = 1\n",
    "p_form_lateral = 1\n",
    "p_form_forward = 0.16\n",
    "p_elim_dep = 0.0245\n",
    "p_elim_pot = 1.36 * np.e ** -4\n",
    "f_rew = 10 ** 4 * Hz#Hz\n",
    "\n",
    "# Membrane\n",
    "v_rest = -70 * mvolt #mV\n",
    "e_ext = 0 * mvolt #V\n",
    "v_thr = -54 * mvolt #mV\n",
    "g_max = 0.2\n",
    "tau_m = 20* ms #ms\n",
    "tau_ex = 5* ms #ms\n",
    "e = np.e\n",
    "g = g_max\n",
    "pre_t = 0 * ms\n",
    "\n",
    "\n",
    "# Inputs\n",
    "f_mean = 20 * Hz\n",
    "f_base = 5 * Hz\n",
    "f_peak = 152.8  * Hz\n",
    "sigma_stim = 2\n",
    "t_stim = 0.02 * second\n",
    "rate = 200 * Hz\n",
    "\n",
    "# STDP\n",
    "Apre = a_plus = 0.1\n",
    "b = 1.2\n",
    "taupre = tau_plus = 20 * ms #ms\n",
    "taupost = tau_minus = 64 * ms #ms\n",
    "Apost = a_minus = (a_plus * tau_plus * b) / tau_minus"
   ]
  },
  {
   "cell_type": "code",
   "execution_count": 4,
   "metadata": {
    "collapsed": false
   },
   "outputs": [
    {
     "name": "stdout",
     "output_type": "stream",
     "text": [
      "creating c:\\users\\petrut\\appdata\\local\\temp\\scipy-Petrut-let17a\\python27_intermediate\\compiler_e3b0c44298fc1c149afbf4c8996fb924\n",
      "0. s 5.2 ms 10.5 ms 15.7 ms 21. ms 26.3 ms 31.5 ms 36.8 ms 42.1 ms 47.3 ms 52.6 ms 57.8 ms 63.1 ms 68.4 ms 73.6 ms 78.9 ms 84.2 ms 89.4 ms 94.7 ms rate =  0. Hz\n"
     ]
    },
    {
     "data": {
      "image/png": "[encoded data removed]",
      "text/plain": [
       "<matplotlib.figure.Figure at 0x7ff2270>"
      ]
     },
     "metadata": {},
     "output_type": "display_data"
    },
    {
     "data": {
      "image/png": "[encoded data removed]",
      "text/plain": [
       "<matplotlib.figure.Figure at 0x803ee30>"
      ]
     },
     "metadata": {},
     "output_type": "display_data"
    }
   ],
   "source": [
    "start_scope()\n",
    "eqs = '''\n",
    "dv/dt = (v_rest-v + gex * (e_ext - v))/tau_m : volt\n",
    "dgex/dt = -gex/tau_ex: 1\n",
    "'''\n",
    "G = NeuronGroup(1, eqs, threshold='v > -54 * mV',\n",
    "                reset='v = -70 * mV', method='euler', dt=0.1 * ms)#, events={'trigger_stdp' : 'v > v_thr'})\n",
    "G.v = -70*mV\n",
    "G.gex = 0.0\n",
    "# G.run_on_event('trigger_stdp', 'x=0')\n",
    "# event_mon = EventMonitor(group, 'trigger_stdp')\n",
    "statemon = StateMonitor(G, ['v', 'gex',], record=0)\n",
    "spikemon = SpikeMonitor(G)\n",
    "\n",
    "\n",
    "\n",
    "# Pre pop\n",
    "# gap = 100 * ms / (rate  * (100 *ms))\n",
    "times = np.linspace(0, 100, rate  * (100 *ms)) * ms\n",
    "inp = SpikeGeneratorGroup(1, [0] * len(times), times)\n",
    "\n",
    "# Connection from pre pop\n",
    "feedforward = Synapses(inp, G, \n",
    "                 '''\n",
    "                 w : 1\n",
    "                 dapre/dt = -apre/taupre : 1 (event-driven)\n",
    "                 dapost/dt = -apost/taupost : 1 (event-driven)\n",
    "                 ''', \n",
    "                 on_pre=\n",
    "                 '''\n",
    "                 gex_post += w\n",
    "                 apre += Apre\n",
    "                 w = clip(w+apost, 0, g_max)\n",
    "                 ''',\n",
    "                 on_post='''\n",
    "                 apost += Apost\n",
    "                 w = clip(w+apre, 0, g_max)\n",
    "                 ''')\n",
    "feedforward.connect(j='i')\n",
    "feedforward.w = g_max\n",
    "# feedforward.g = g_max\n",
    "\n",
    "\n",
    "\n",
    "# G.g = linked_var(feedforward, 'g')\n",
    "# print G.g\n",
    "\n",
    "\n",
    "inp_spikemon = SpikeMonitor(inp)\n",
    "\n",
    "run(100*ms)\n",
    "\n",
    "plot(statemon.t/ms, statemon.v[0])\n",
    "for t in spikemon.t:\n",
    "    axvline(t/ms, ls='--', c='r', lw=3)\n",
    "    print t,\n",
    "for t in inp_spikemon.t:\n",
    "    axvline(t/ms, ls=':', c='y', lw=1)\n",
    "    print t,\n",
    "xlabel('Time (ms)')\n",
    "ylabel('v')\n",
    "ylim([-.075, -.05])\n",
    "figure()\n",
    "plot(statemon.t/ms, statemon.gex[0])\n",
    "print \"rate = \", len(spikemon.t) / (100 * ms)"
   ]
  },
  {
   "cell_type": "code",
   "execution_count": null,
   "metadata": {
    "collapsed": true
   },
   "outputs": [],
   "source": []
  },
  {
   "cell_type": "code",
   "execution_count": 201,
   "metadata": {
    "collapsed": false
   },
   "outputs": [
    {
     "data": {
      "text/plain": [
       "array([   0.        ,    7.14285714,   14.28571429,   21.42857143,\n",
       "         28.57142857,   35.71428571,   42.85714286,   50.        ,\n",
       "         57.14285714,   64.28571429,   71.42857143,   78.57142857,\n",
       "         85.71428571,   92.85714286,  100.        ])"
      ]
     },
     "execution_count": 201,
     "metadata": {},
     "output_type": "execute_result"
    }
   ],
   "source": [
    "np.linspace(0, 100, rate  * (100 *ms))"
   ]
  },
  {
   "cell_type": "code",
   "execution_count": 110,
   "metadata": {
    "collapsed": false
   },
   "outputs": [
    {
     "name": "stdout",
     "output_type": "stream",
     "text": [
      "[   0.   10.   20.   30.   40.   50.   60.   70.   80.   90.  100.  110.\n",
      "  120.  130.  140.  150.  160.  170.  180.  190.] ms\n"
     ]
    }
   ],
   "source": [
    "print times"
   ]
  },
  {
   "cell_type": "code",
   "execution_count": 154,
   "metadata": {
    "collapsed": false
   },
   "outputs": [
    {
     "data": {
      "text/plain": [
       "20.0"
      ]
     },
     "execution_count": 154,
     "metadata": {},
     "output_type": "execute_result"
    }
   ],
   "source": [
    "rate  * (100 *ms)"
   ]
  },
  {
   "cell_type": "code",
   "execution_count": 245,
   "metadata": {
    "collapsed": false
   },
   "outputs": [
    {
     "data": {
      "text/plain": [
       "157.8"
      ]
     },
     "execution_count": 245,
     "metadata": {},
     "output_type": "execute_result"
    }
   ],
   "source": [
    "rate"
   ]
  },
  {
   "cell_type": "code",
   "execution_count": 22,
   "metadata": {
    "collapsed": false
   },
   "outputs": [
    {
     "data": {
      "text/latex": [
       "$\\left[\\begin{array}{cccccccccccccccc}57.5166051713957 & 63.9776311224967 & 71.0627062170279 & 78.7190237380432 & 86.7879462777017 & 94.909156724203 & 102.361997713353 & 107.909006857777 & 110.017801799261 & 107.909006857777 & 102.361997713353 & 94.909156724203 & 86.7879462777017 & 78.7190237380432 & 71.0627062170279 & 63.9776311224967\\\\54.9536656097486 & 60.7762224829591 & 67.0376871644956 & 73.630658173968 & 80.3408960451927 & 86.7879462777017 & 92.3665846028651 & 96.2626555249402 & 97.6778848040904 & 96.2626555249402 & 92.3665846028651 & 86.7879462777017 & 80.3408960451927 & 73.630658173968 & 67.0376871644956 & 60.7762224829591\\\\51.9875294299273 & 57.1351412918042 & 62.5611964099803 & 68.1331760157029 & 73.630658173968 & 78.7190237380432 & 82.9435055028187 & 85.7818601746323 & 86.7879462777017 & 85.7818601746323 & 82.9435055028187 & 78.7190237380432 & 73.630658173968 & 68.1331760157029 & 62.5611964099803 & 57.1351412918042\\\\48.7779329602371 & 53.2640423966775 & 57.9035108825739 & 62.5611964099803 & 67.0376871644956 & 71.0627062170279 & 74.3080084584684 & 76.4347582020794 & 77.1776092588271 & 76.4347582020794 & 74.3080084584684 & 71.0627062170279 & 67.0376871644956 & 62.5611964099803 & 57.9035108825739 & 53.2640423966775\\\\45.4619347787627 & 49.3313902504523 & 53.2640423966775 & 57.1351412918042 & 60.7762224829591 & 63.9776311224967 & 66.5048565859823 & 68.1331760157029 & 68.6965166068761 & 68.1331760157029 & 66.5048565859823 & 63.9776311224967 & 60.7762224829591 & 57.1351412918042 & 53.2640423966775 & 49.3313902504523\\\\42.1482370215479 & 45.4619347787627 & 48.7779329602371 & 51.9875294299273 & 54.9536656097486 & 57.5166051713957 & 59.508326527905 & 60.7762224829591 & 61.2119786109964 & 60.7762224829591 & 59.508326527905 & 57.5166051713957 & 54.9536656097486 & 51.9875294299273 & 48.7779329602371 & 45.4619347787627\\\\45.4619347787627 & 49.3313902504523 & 53.2640423966775 & 57.1351412918042 & 60.7762224829591 & 63.9776311224967 & 66.5048565859823 & 68.1331760157029 & 68.6965166068761 & 68.1331760157029 & 66.5048565859823 & 63.9776311224967 & 60.7762224829591 & 57.1351412918042 & 53.2640423966775 & 49.3313902504523\\\\48.7779329602371 & 53.2640423966775 & 57.9035108825739 & 62.5611964099803 & 67.0376871644956 & 71.0627062170279 & 74.3080084584684 & 76.4347582020794 & 77.1776092588271 & 76.4347582020794 & 74.3080084584684 & 71.0627062170279 & 67.0376871644956 & 62.5611964099803 & 57.9035108825739 & 53.2640423966775\\\\51.9875294299273 & 57.1351412918042 & 62.5611964099803 & 68.1331760157029 & 73.630658173968 & 78.7190237380432 & 82.9435055028187 & 85.7818601746323 & 86.7879462777017 & 85.7818601746323 & 82.9435055028187 & 78.7190237380432 & 73.630658173968 & 68.1331760157029 & 62.5611964099803 & 57.1351412918042\\\\54.9536656097486 & 60.7762224829591 & 67.0376871644956 & 73.630658173968 & 80.3408960451927 & 86.7879462777017 & 92.3665846028651 & 96.2626555249402 & 97.6778848040904 & 96.2626555249402 & 92.3665846028651 & 86.7879462777017 & 80.3408960451927 & 73.630658173968 & 67.0376871644956 & 60.7762224829591\\\\57.5166051713957 & 63.9776311224967 & 71.0627062170279 & 78.7190237380432 & 86.7879462777017 & 94.909156724203 & 102.361997713353 & 107.909006857777 & 110.017801799261 & 107.909006857777 & 102.361997713353 & 94.909156724203 & 86.7879462777017 & 78.7190237380432 & 71.0627062170279 & 63.9776311224967\\\\59.508326527905 & 66.5048565859823 & 74.3080084584684 & 82.9435055028187 & 92.3665846028651 & 102.361997713353 & 112.294403002698 & 120.54053023644 & 124.000759653311 & 120.54053023644 & 112.294403002698 & 102.361997713353 & 92.3665846028651 & 82.9435055028187 & 74.3080084584684 & 66.5048565859823\\\\60.7762224829591 & 68.1331760157029 & 76.4347582020794 & 85.7818601746323 & 96.2626555249402 & 107.909006857777 & 120.54053023644 & 133.041340116434 & 139.845526714926 & 133.041340116434 & 120.54053023644 & 107.909006857777 & 96.2626555249402 & 85.7818601746323 & 76.4347582020794 & 68.1331760157029\\\\61.2119786109964 & 68.6965166068761 & 77.1776092588271 & 86.7879462777017 & 97.6778848040904 & 110.017801799261 & 124.000759653311 & 139.845526714926 & 157.8 & 139.845526714926 & 124.000759653311 & 110.017801799261 & 97.6778848040904 & 86.7879462777017 & 77.1776092588271 & 68.6965166068761\\\\60.7762224829591 & 68.1331760157029 & 76.4347582020794 & 85.7818601746323 & 96.2626555249402 & 107.909006857777 & 120.54053023644 & 133.041340116434 & 139.845526714926 & 133.041340116434 & 120.54053023644 & 107.909006857777 & 96.2626555249402 & 85.7818601746323 & 76.4347582020794 & 68.1331760157029\\\\59.508326527905 & 66.5048565859823 & 74.3080084584684 & 82.9435055028187 & 92.3665846028651 & 102.361997713353 & 112.294403002698 & 120.54053023644 & 124.000759653311 & 120.54053023644 & 112.294403002698 & 102.361997713353 & 92.3665846028651 & 82.9435055028187 & 74.3080084584684 & 66.5048565859823\\end{array}\\right]\\,\\mathrm{Hz}$"
      ],
      "text/plain": [
       "array([[  57.51660517,   63.97763112,   71.06270622,   78.71902374,\n",
       "          86.78794628,   94.90915672,  102.36199771,  107.90900686,\n",
       "         110.0178018 ,  107.90900686,  102.36199771,   94.90915672,\n",
       "          86.78794628,   78.71902374,   71.06270622,   63.97763112],\n",
       "       [  54.95366561,   60.77622248,   67.03768716,   73.63065817,\n",
       "          80.34089605,   86.78794628,   92.3665846 ,   96.26265552,\n",
       "          97.6778848 ,   96.26265552,   92.3665846 ,   86.78794628,\n",
       "          80.34089605,   73.63065817,   67.03768716,   60.77622248],\n",
       "       [  51.98752943,   57.13514129,   62.56119641,   68.13317602,\n",
       "          73.63065817,   78.71902374,   82.9435055 ,   85.78186017,\n",
       "          86.78794628,   85.78186017,   82.9435055 ,   78.71902374,\n",
       "          73.63065817,   68.13317602,   62.56119641,   57.13514129],\n",
       "       [  48.77793296,   53.2640424 ,   57.90351088,   62.56119641,\n",
       "          67.03768716,   71.06270622,   74.30800846,   76.4347582 ,\n",
       "          77.17760926,   76.4347582 ,   74.30800846,   71.06270622,\n",
       "          67.03768716,   62.56119641,   57.90351088,   53.2640424 ],\n",
       "       [  45.46193478,   49.33139025,   53.2640424 ,   57.13514129,\n",
       "          60.77622248,   63.97763112,   66.50485659,   68.13317602,\n",
       "          68.69651661,   68.13317602,   66.50485659,   63.97763112,\n",
       "          60.77622248,   57.13514129,   53.2640424 ,   49.33139025],\n",
       "       [  42.14823702,   45.46193478,   48.77793296,   51.98752943,\n",
       "          54.95366561,   57.51660517,   59.50832653,   60.77622248,\n",
       "          61.21197861,   60.77622248,   59.50832653,   57.51660517,\n",
       "          54.95366561,   51.98752943,   48.77793296,   45.46193478],\n",
       "       [  45.46193478,   49.33139025,   53.2640424 ,   57.13514129,\n",
       "          60.77622248,   63.97763112,   66.50485659,   68.13317602,\n",
       "          68.69651661,   68.13317602,   66.50485659,   63.97763112,\n",
       "          60.77622248,   57.13514129,   53.2640424 ,   49.33139025],\n",
       "       [  48.77793296,   53.2640424 ,   57.90351088,   62.56119641,\n",
       "          67.03768716,   71.06270622,   74.30800846,   76.4347582 ,\n",
       "          77.17760926,   76.4347582 ,   74.30800846,   71.06270622,\n",
       "          67.03768716,   62.56119641,   57.90351088,   53.2640424 ],\n",
       "       [  51.98752943,   57.13514129,   62.56119641,   68.13317602,\n",
       "          73.63065817,   78.71902374,   82.9435055 ,   85.78186017,\n",
       "          86.78794628,   85.78186017,   82.9435055 ,   78.71902374,\n",
       "          73.63065817,   68.13317602,   62.56119641,   57.13514129],\n",
       "       [  54.95366561,   60.77622248,   67.03768716,   73.63065817,\n",
       "          80.34089605,   86.78794628,   92.3665846 ,   96.26265552,\n",
       "          97.6778848 ,   96.26265552,   92.3665846 ,   86.78794628,\n",
       "          80.34089605,   73.63065817,   67.03768716,   60.77622248],\n",
       "       [  57.51660517,   63.97763112,   71.06270622,   78.71902374,\n",
       "          86.78794628,   94.90915672,  102.36199771,  107.90900686,\n",
       "         110.0178018 ,  107.90900686,  102.36199771,   94.90915672,\n",
       "          86.78794628,   78.71902374,   71.06270622,   63.97763112],\n",
       "       [  59.50832653,   66.50485659,   74.30800846,   82.9435055 ,\n",
       "          92.3665846 ,  102.36199771,  112.294403  ,  120.54053024,\n",
       "         124.00075965,  120.54053024,  112.294403  ,  102.36199771,\n",
       "          92.3665846 ,   82.9435055 ,   74.30800846,   66.50485659],\n",
       "       [  60.77622248,   68.13317602,   76.4347582 ,   85.78186017,\n",
       "          96.26265552,  107.90900686,  120.54053024,  133.04134012,\n",
       "         139.84552671,  133.04134012,  120.54053024,  107.90900686,\n",
       "          96.26265552,   85.78186017,   76.4347582 ,   68.13317602],\n",
       "       [  61.21197861,   68.69651661,   77.17760926,   86.78794628,\n",
       "          97.6778848 ,  110.0178018 ,  124.00075965,  139.84552671,\n",
       "         157.8       ,  139.84552671,  124.00075965,  110.0178018 ,\n",
       "          97.6778848 ,   86.78794628,   77.17760926,   68.69651661],\n",
       "       [  60.77622248,   68.13317602,   76.4347582 ,   85.78186017,\n",
       "          96.26265552,  107.90900686,  120.54053024,  133.04134012,\n",
       "         139.84552671,  133.04134012,  120.54053024,  107.90900686,\n",
       "          96.26265552,   85.78186017,   76.4347582 ,   68.13317602],\n",
       "       [  59.50832653,   66.50485659,   74.30800846,   82.9435055 ,\n",
       "          92.3665846 ,  102.36199771,  112.294403  ,  120.54053024,\n",
       "         124.00075965,  120.54053024,  112.294403  ,  102.36199771,\n",
       "          92.3665846 ,   82.9435055 ,   74.30800846,   66.50485659]]) * hertz"
      ]
     },
     "execution_count": 22,
     "metadata": {},
     "output_type": "execute_result"
    }
   ],
   "source": [
    "generate_rates((13,8))"
   ]
  },
  {
   "cell_type": "code",
   "execution_count": 23,
   "metadata": {
    "collapsed": false
   },
   "outputs": [
    {
     "data": {
      "text/plain": [
       "<matplotlib.colorbar.Colorbar at 0x7ff01a19ebd0>"
      ]
     },
     "execution_count": 23,
     "metadata": {},
     "output_type": "execute_result"
    },
    {
     "data": {
      "image/png": "[encoded data removed]",
      "text/plain": [
       "<matplotlib.figure.Figure at 0x7ff01c9a1990>"
      ]
     },
     "metadata": {},
     "output_type": "display_data"
    }
   ],
   "source": [
    "\n",
    "plt.matshow(generate_rates((13,8))/Hz, fignum=100)\n",
    "plt.grid(visible=True)\n",
    "plt.colorbar()"
   ]
  },
  {
   "cell_type": "code",
   "execution_count": 5,
   "metadata": {
    "collapsed": false
   },
   "outputs": [],
   "source": [
    "def distance(s, t, grid_size=S, dist_type='euclidian'):\n",
    "    '''\n",
    "    Function that computes distance in a grid of neurons taking into account periodic boundry conditions.\n",
    "    \n",
    "    First, translate source into the center of the grid.\n",
    "    Second, translate target by the same amount.\n",
    "    Finally, perform desired distance computation.\n",
    "    '''\n",
    "    s = np.asarray(s)\n",
    "    t = np.asarray(t)\n",
    "    _grid_size = np.asarray(grid_size)\n",
    "    trans = s - (_grid_size//2)\n",
    "    s = np.mod(s - trans, grid_size)\n",
    "    t = np.mod(t - trans, grid_size)\n",
    "    if dist_type == 'manhattan':\n",
    "        return s[0] - t[0] + s[1] - t[1]\n",
    "    return np.sqrt((s[0] - t[0])**2 + (s[1] - t[1])**2)"
   ]
  },
  {
   "cell_type": "code",
   "execution_count": 6,
   "metadata": {
    "collapsed": true
   },
   "outputs": [],
   "source": [
    "def generate_rates(s, grid_size=S, dist_type='euclidian'):\n",
    "    '''\n",
    "    Function that generates an array the same shape as the input layer so that \n",
    "    each cell has a value corresponding to the firing rate for the neuron\n",
    "    at that position.\n",
    "    '''\n",
    "    _rates = np.zeros(S)\n",
    "    for x, y in np.ndindex(S):\n",
    "        _d = distance(s, (x,y), grid_size=grid_size, dist_type=dist_type)\n",
    "        _rates[x, y] = f_base + f_peak * np.e ** (-_d/(2 * sigma_stim**2))\n",
    "    return _rates * Hz\n",
    "        "
   ]
  },
  {
   "cell_type": "markdown",
   "metadata": {},
   "source": [
    "**Neuron dynamics (target-layer)**: the membrane voltage $V_{mem}$ is described by:\n",
    "\n",
    "$\\tau_{mem}\\frac{\\delta V_{mem}}{\\delta t} = V_{rest} - V_{mem} + g_{ex}(t)(E_{ex}-V_{mem})$\n",
    "\n",
    "\n",
    "$E_{ex}$ = excitatory reversal potential; $V_{rest}$ = resting potential; $\\tau_{mem}$ = membrane time constant. Upon reaching a threshold $V_{thr}$, a spike occurs and $V_{mem}$ is reset to $V_{rest}$. A presynaptic\n",
    "spike at time 0 causes a synaptic conductance at time $t \\geq O$ of $g_{ex}(t) = ge^\\frac{-t}{\\tau_{ex}}(\\tau_{ex}$= synaptic time constant); this is cumulative for all pre-synaptic spikes.\n",
    "\n",
    "**STDP**: a pre-synaptic spike at time $t_{pre}$ and post-synaptic spike at $t_{post}$ modify the synaptic\n",
    "conductance by $g —> g + g_{max}F(\\Delta t)$,where $\\Delta t = t_{pre}—t_{post}$ and $F(\\Delta t) = A_{+}exp (\\Delta t/T_{+})$ if\n",
    "$\\Delta t$ < 0, otherwise $F(\\Delta t) = -A_{-}exp (-\\Delta t/T_{-})$, where $A_{+/-}$ are magnitudes and \n",
    "$\\tau_{+/-}$ are time constants for potentiation and depression respectively. This is cumulative for all pre and\n",
    "post-synaptic spike pairs; g is bounded in (0, $g_{max}$)."
   ]
  },
  {
   "cell_type": "code",
   "execution_count": 29,
   "metadata": {
    "collapsed": false
   },
   "outputs": [],
   "source": [
    "import time\n",
    "def simulate(input_source=(7,7), N=16**2, duration=100*ms, dt=0.1 * ms, rate=200 * Hz):\n",
    "    start = time.time() * second\n",
    "    start_scope()\n",
    "    neuron_dynamics = '''\n",
    "    dv/dt = (v_rest-v + gex * (e_ext - v))/tau_m : volt\n",
    "    dgex/dt = -gex/tau_ex: 1\n",
    "    '''\n",
    "    G = NeuronGroup(N, neuron_dynamics, threshold='v > -54 * mV',\n",
    "                    reset='v = -70 * mV', method='euler', dt=0.1 * ms)\n",
    "    G.v = -70*mV\n",
    "    G.gex = 0.0\n",
    "    statemon = StateMonitor(G, ['v', ], record=True)\n",
    "    spikemon = SpikeMonitor(G)\n",
    "\n",
    "\n",
    "\n",
    "    # Pre pop\n",
    "    location = np.random.randint(0,16, 2)\n",
    "    rates = generate_rates(location)/10.\n",
    "    inp = NeuronGroup(N, 'rates : Hz', threshold='rand()<rates*dt', dt=0.1 * ms) # rates.ravel())\n",
    "    inp.rates = rates.ravel()\n",
    "    \n",
    "    synapse_model = '''\n",
    "                     w : 1\n",
    "                     dapre/dt = -apre/taupre : 1 (event-driven)\n",
    "                     dapost/dt = -apost/taupost : 1 (event-driven)\n",
    "                     '''\n",
    "    on_pre_model = '''\n",
    "                     gex_post += w\n",
    "                     apre += Apre\n",
    "                     w = clip(w+apost, 0, g_max)\n",
    "                     '''\n",
    "    on_post_model = '''\n",
    "                     apost += Apost\n",
    "                     w = clip(w+apre, 0, g_max)\n",
    "                     '''\n",
    "\n",
    "    # Connection from pre pop\n",
    "    feedforward = Synapses(inp, G, synapse_model, \n",
    "                     on_pre = on_pre_model,\n",
    "                     on_post = on_post_model,\n",
    "                     dt = dt)\n",
    "    feedforward.connect(j='k for k in range(16**2)')\n",
    "    feedforward.w = g_max\n",
    "    \n",
    "    # Lateral connections (from target to target)\n",
    "    lateral = Synapses(G, G, synapse_model, \n",
    "                     on_pre = on_pre_model,\n",
    "                     on_post = on_post_model,\n",
    "                     dt = dt)\n",
    "    lateral.connect(j='k for k in range(16**2)')\n",
    "    lateral.w = g_max\n",
    "\n",
    "#     inp_spikemon = SpikeMonitor(inp)\n",
    "    @network_operation(dt=1./ f_rew)\n",
    "    def rewire():\n",
    "        pass\n",
    "    \n",
    "    @network_operation(dt=t_stim)\n",
    "    def change_stimulus():\n",
    "        location = np.random.randint(0,16, 2)\n",
    "        rates = generate_rates(location)/10.\n",
    "        inp.rates = rates.ravel()\n",
    "\n",
    "    run(duration)\n",
    "\n",
    "    \n",
    "    end = time.time() * second\n",
    "    print(end - start)\n",
    "    return statemon, spikemon"
   ]
  },
  {
   "cell_type": "code",
   "execution_count": 30,
   "metadata": {
    "collapsed": false
   },
   "outputs": [
    {
     "name": "stderr",
     "output_type": "stream",
     "text": [
      "WARNING    \"dt\" is an internal variable of group \"neurongroup_2\", but also exists in the run namespace with the value 100. * usecond. The internal variable will be used. [brian2.groups.group.Group.resolve.resolution_conflict]\n",
      "WARNING    \"rates\" is an internal variable of group \"neurongroup_2\", but also exists in the run namespace with the value array([[ 12.05405302,  11.2294403 ,  10.23619977,   9.23665846,\n",
      "          8.29435055,   7.43080085,   6.65048566,   5.95083265,\n",
      "          6.65048566,   7.43080085,   8.29435055,   9.23665846,\n",
      "         10.23619977,  11.2294403 ,  12.05405302,  12.40007597],\n",
      "       [ 13.30413401,  12.05405302,  10.79090069,   9.62626555,\n",
      "          8.57818602,   7.64347582,   6.8133176 ,   6.07762225,\n",
      "          6.8133176 ,   7.64347582,   8.57818602,   9.62626555,\n",
      "         10.79090069,  12.05405302,  13.30413401,  13.98455267],\n",
      "       [ 13.98455267,  12.40007597,  11.00178018,   9.76778848,\n",
      "          8.67879463,   7.71776093,   6.86965166,   6.12119786,\n",
      "          6.86965166,   7.71776093,   8.67879463,   9.76778848,\n",
      "         11.00178018,  12.40007597,  13.98455267,  15.78      ],\n",
      "       [ 13.30413401,  12.05405302,  10.79090069,   9.62626555,\n",
      "          8.57818602,   7.64347582,   6.8133176 ,   6.07762225,\n",
      "          6.8133176 ,   7.64347582,   8.57818602,   9.62626555,\n",
      "         10.79090069,  12.05405302,  13.30413401,  13.98455267],\n",
      "       [ 12.05405302,  11.2294403 ,  10.23619977,   9.23665846,\n",
      "          8.29435055,   7.43080085,   6.65048566,   5.95083265,\n",
      "          6.65048566,   7.43080085,   8.29435055,   9.23665846,\n",
      "         10.23619977,  11.2294403 ,  12.05405302,  12.40007597],\n",
      "       [ 10.79090069,  10.23619977,   9.49091567,   8.67879463,\n",
      "          7.87190237,   7.10627062,   6.39776311,   5.75166052,\n",
      "          6.39776311,   7.10627062,   7.87190237,   8.67879463,\n",
      "          9.49091567,  10.23619977,  10.79090069,  11.00178018],\n",
      "       [  9.62626555,   9.23665846,   8.67879463,   8.0340896 ,\n",
      "          7.36306582,   6.70376872,   6.07762225,   5.49536656,\n",
      "          6.07762225,   6.70376872,   7.36306582,   8.0340896 ,\n",
      "          8.67879463,   9.23665846,   9.62626555,   9.76778848],\n",
      "       [  8.57818602,   8.29435055,   7.87190237,   7.36306582,\n",
      "          6.8133176 ,   6.25611964,   5.71351413,   5.19875294,\n",
      "          5.71351413,   6.25611964,   6.8133176 ,   7.36306582,\n",
      "          7.87190237,   8.29435055,   8.57818602,   8.67879463],\n",
      "       [  7.64347582,   7.43080085,   7.10627062,   6.70376872,\n",
      "          6.25611964,   5.79035109,   5.32640424,   4.8777933 ,\n",
      "          5.32640424,   5.79035109,   6.25611964,   6.70376872,\n",
      "          7.10627062,   7.43080085,   7.64347582,   7.71776093],\n",
      "       [  6.8133176 ,   6.65048566,   6.39776311,   6.07762225,\n",
      "          5.71351413,   5.32640424,   4.93313903,   4.54619348,\n",
      "          4.93313903,   5.32640424,   5.71351413,   6.07762225,\n",
      "          6.39776311,   6.65048566,   6.8133176 ,   6.86965166],\n",
      "       [  6.07762225,   5.95083265,   5.75166052,   5.49536656,\n",
      "          5.19875294,   4.8777933 ,   4.54619348,   4.2148237 ,\n",
      "          4.54619348,   4.8777933 ,   5.19875294,   5.49536656,\n",
      "          5.75166052,   5.95083265,   6.07762225,   6.12119786],\n",
      "       [  6.8133176 ,   6.65048566,   6.39776311,   6.07762225,\n",
      "          5.71351413,   5.32640424,   4.93313903,   4.54619348,\n",
      "          4.93313903,   5.32640424,   5.71351413,   6.07762225,\n",
      "          6.39776311,   6.65048566,   6.8133176 ,   6.86965166],\n",
      "       [  7.64347582,   7.43080085,   7.10627062,   6.70376872,\n",
      "          6.25611964,   5.79035109,   5.32640424,   4.8777933 ,\n",
      "          5.32640424,   5.79035109,   6.25611964,   6.70376872,\n",
      "          7.10627062,   7.43080085,   7.64347582,   7.71776093],\n",
      "       [  8.57818602,   8.29435055,   7.87190237,   7.36306582,\n",
      "          6.8133176 ,   6.25611964,   5.71351413,   5.19875294,\n",
      "          5.71351413,   6.25611964,   6.8133176 ,   7.36306582,\n",
      "          7.87190237,   8.29435055,   8.57818602,   8.67879463],\n",
      "       [  9.62626555,   9.23665846,   8.67879463,   8.0340896 ,\n",
      "          7.36306582,   6.70376872,   6.07762225,   5.49536656,\n",
      "          6.07762225,   6.70376872,   7.36306582,   8.0340896 ,\n",
      "          8.67879463,   9.23665846,   9.62626555,   9.76778848],\n",
      "       [ 10.79090069,  10.23619977,   9.49091567,   8.67879463,\n",
      "          7.87190237,   7.10627062,   6.39776311,   5.75166052,\n",
      "          6.39776311,   7.10627062,   7.87190237,   8.67879463,\n",
      "          9.49091567,  10.23619977,  10.79090069,  11.00178018]]) * hertz. The internal variable will be used. [brian2.groups.group.Group.resolve.resolution_conflict]\n",
      "WARNING    \"t\" is an internal variable of group \"synapses_1\", but also exists in the run namespace with the value 96.5 * msecond. The internal variable will be used. [brian2.groups.group.Group.resolve.resolution_conflict]\n",
      "WARNING    \"t\" is an internal variable of group \"synapses\", but also exists in the run namespace with the value 96.5 * msecond. The internal variable will be used. [brian2.groups.group.Group.resolve.resolution_conflict]\n"
     ]
    },
    {
     "name": "stdout",
     "output_type": "stream",
     "text": [
      "17.06500006 s\n"
     ]
    }
   ],
   "source": [
    "state, spike = simulate(duration=100*ms)"
   ]
  },
  {
   "cell_type": "code",
   "execution_count": 31,
   "metadata": {
    "collapsed": false
   },
   "outputs": [
    {
     "data": {
      "text/plain": [
       "(-0.075, -0.05)"
      ]
     },
     "execution_count": 31,
     "metadata": {},
     "output_type": "execute_result"
    },
    {
     "data": {
      "image/png": "[encoded data removed]",
      "text/plain": [
       "<matplotlib.figure.Figure at 0xb152450>"
      ]
     },
     "metadata": {},
     "output_type": "display_data"
    }
   ],
   "source": [
    "\n",
    "#     print \"Output spike times:\"\n",
    "plot(state.t/ms, state.v[0])\n",
    "for t in spike.spike_trains()[0]:\n",
    "    axvline(t/ms, ls=':', c='r', lw=1, alpha=.3)\n",
    "#         print t,\n",
    "#     print \"Input spike times:\"\n",
    "#     for t in inp_spikemon.t:\n",
    "#         axvline(t/ms, ls=':', c='y', lw=1)\n",
    "#         print t,\n",
    "xlabel('Time (ms)')\n",
    "ylabel('v')\n",
    "ylim([-.075, -.05])"
   ]
  },
  {
   "cell_type": "code",
   "execution_count": 26,
   "metadata": {
    "collapsed": false
   },
   "outputs": [
    {
     "data": {
      "text/latex": [
       "$\\left[\\begin{matrix}1.6\\\\66.6\\\\4.7\\\\66.7\\\\66.8\\\\66.9\\\\67.0\\\\67.1\\\\67.2\\\\67.3\\\\67.4\\\\67.5\\\\67.6\\\\67.7\\\\4.6\\\\67.8\\\\67.9\\\\68.0\\\\68.1\\\\68.2\\\\68.3\\\\68.4\\\\68.5\\\\68.6\\\\68.7\\\\68.8\\\\66.5\\\\4.5\\\\66.4\\\\66.2\\\\63.9\\\\64.0\\\\64.1\\\\64.2\\\\64.3\\\\64.4\\\\64.5\\\\4.9\\\\64.6\\\\64.7\\\\64.8\\\\64.9\\\\65.0\\\\65.1\\\\65.2\\\\65.3\\\\65.4\\\\65.5\\\\65.6\\\\4.8\\\\65.7\\\\65.8\\\\65.9\\\\66.0\\\\66.1\\\\66.3\\\\68.9\\\\69.0\\\\69.1\\\\72.0\\\\4.2\\\\72.1\\\\72.2\\\\72.3\\\\72.4\\\\72.5\\\\72.6\\\\72.7\\\\72.8\\\\72.9\\\\73.0\\\\4.1\\\\73.1\\\\73.2\\\\73.3\\\\73.4\\\\73.5\\\\73.6\\\\73.7\\\\73.8\\\\73.9\\\\74.0\\\\74.1\\\\4.0\\\\71.9\\\\71.8\\\\71.7\\\\71.6\\\\69.2\\\\69.3\\\\69.4\\\\69.5\\\\69.6\\\\69.7\\\\69.8\\\\4.4\\\\69.9\\\\70.0\\\\70.1\\\\70.2\\\\63.8\\\\70.3\\\\70.5\\\\70.6\\\\70.7\\\\70.8\\\\70.9\\\\4.3\\\\71.0\\\\71.1\\\\71.2\\\\71.3\\\\71.4\\\\71.5\\\\70.4\\\\63.7\\\\63.6\\\\63.5\\\\55.9\\\\56.0\\\\5.7\\\\56.1\\\\56.2\\\\56.3\\\\56.4\\\\56.5\\\\56.6\\\\56.7\\\\56.8\\\\56.9\\\\57.0\\\\5.6\\\\57.1\\\\57.2\\\\57.3\\\\57.4\\\\57.5\\\\57.6\\\\57.7\\\\57.8\\\\57.9\\\\58.0\\\\58.1\\\\55.8\\\\55.7\\\\55.6\\\\55.5\\\\53.0\\\\53.1\\\\53.2\\\\53.3\\\\53.4\\\\53.5\\\\53.6\\\\53.7\\\\53.8\\\\5.9\\\\53.9\\\\54.0\\\\5.5\\\\54.1\\\\54.3\\\\54.4\\\\54.5\\\\54.6\\\\54.7\\\\54.8\\\\5.8\\\\55.0\\\\55.1\\\\55.2\\\\55.3\\\\55.4\\\\54.2\\\\74.2\\\\58.2\\\\58.4\\\\61.3\\\\5.2\\\\61.4\\\\61.5\\\\61.6\\\\61.7\\\\61.8\\\\61.9\\\\62.0\\\\62.1\\\\62.2\\\\62.3\\\\62.4\\\\5.1\\\\62.5\\\\62.6\\\\62.7\\\\62.8\\\\62.9\\\\63.0\\\\63.1\\\\63.2\\\\63.3\\\\63.4\\\\5.0\\\\61.2\\\\61.1\\\\61.0\\\\60.9\\\\58.5\\\\58.6\\\\58.7\\\\58.8\\\\58.9\\\\59.0\\\\59.1\\\\59.2\\\\5.4\\\\59.3\\\\59.4\\\\59.5\\\\58.3\\\\59.6\\\\59.8\\\\59.9\\\\60.0\\\\60.1\\\\60.2\\\\5.3\\\\60.3\\\\60.4\\\\60.5\\\\60.6\\\\60.7\\\\60.8\\\\59.7\\\\74.3\\\\74.4\\\\74.5\\\\88.0\\\\88.1\\\\88.2\\\\88.3\\\\88.4\\\\88.5\\\\88.6\\\\88.7\\\\88.8\\\\88.9\\\\89.0\\\\2.6\\\\89.1\\\\89.2\\\\89.3\\\\89.4\\\\89.5\\\\89.6\\\\89.7\\\\89.8\\\\89.9\\\\90.0\\\\2.5\\\\90.1\\\\90.2\\\\2.7\\\\87.9\\\\87.8\\\\87.7\\\\85.3\\\\85.4\\\\85.5\\\\85.6\\\\85.7\\\\85.8\\\\2.9\\\\85.9\\\\86.0\\\\86.1\\\\86.2\\\\86.3\\\\90.3\\\\86.4\\\\86.6\\\\86.7\\\\86.8\\\\2.8\\\\86.9\\\\87.0\\\\87.1\\\\87.2\\\\87.3\\\\87.4\\\\87.5\\\\87.6\\\\86.5\\\\85.2\\\\90.4\\\\90.6\\\\93.4\\\\93.5\\\\93.6\\\\93.7\\\\93.8\\\\93.9\\\\94.0\\\\94.1\\\\94.2\\\\94.3\\\\2.1\\\\94.4\\\\94.5\\\\94.6\\\\94.7\\\\94.8\\\\94.9\\\\95.0\\\\95.1\\\\95.2\\\\95.3\\\\95.4\\\\2.0\\\\95.5\\\\95.6\\\\93.3\\\\2.2\\\\93.2\\\\93.1\\\\90.7\\\\90.8\\\\90.9\\\\91.0\\\\91.1\\\\2.4\\\\91.2\\\\91.3\\\\91.4\\\\91.5\\\\91.6\\\\91.7\\\\90.5\\\\91.8\\\\92.0\\\\92.1\\\\92.2\\\\2.3\\\\92.3\\\\92.4\\\\92.5\\\\92.6\\\\92.7\\\\92.8\\\\92.9\\\\93.0\\\\91.9\\\\52.9\\\\85.1\\\\84.9\\\\3.7\\\\77.4\\\\77.5\\\\77.6\\\\77.7\\\\77.8\\\\77.9\\\\78.0\\\\78.1\\\\78.2\\\\99.7\\\\78.3\\\\3.6\\\\78.4\\\\78.5\\\\78.6\\\\78.7\\\\78.8\\\\78.9\\\\79.0\\\\79.1\\\\79.2\\\\79.3\\\\79.4\\\\3.5\\\\77.3\\\\77.2\\\\77.1\\\\77.0\\\\74.6\\\\74.7\\\\74.8\\\\74.9\\\\75.0\\\\75.1\\\\75.2\\\\3.9\\\\75.3\\\\75.4\\\\75.5\\\\75.6\\\\79.5\\\\75.7\\\\75.9\\\\76.0\\\\76.1\\\\76.2\\\\3.8\\\\76.3\\\\76.4\\\\76.5\\\\76.6\\\\76.7\\\\76.8\\\\76.9\\\\75.8\\\\85.0\\\\79.6\\\\79.8\\\\3.2\\\\82.7\\\\82.8\\\\82.9\\\\83.0\\\\83.1\\\\83.2\\\\83.3\\\\83.4\\\\83.5\\\\83.6\\\\3.1\\\\83.7\\\\83.8\\\\83.9\\\\84.0\\\\84.1\\\\84.2\\\\84.3\\\\84.4\\\\84.5\\\\84.6\\\\84.7\\\\3.0\\\\84.8\\\\82.6\\\\82.5\\\\82.4\\\\82.3\\\\79.9\\\\80.0\\\\80.1\\\\80.2\\\\80.3\\\\80.4\\\\3.4\\\\80.5\\\\80.6\\\\80.7\\\\80.8\\\\80.9\\\\79.7\\\\81.0\\\\81.2\\\\81.3\\\\81.4\\\\81.5\\\\3.3\\\\81.6\\\\81.7\\\\81.8\\\\81.9\\\\82.0\\\\82.1\\\\82.2\\\\81.1\\\\95.7\\\\52.8\\\\52.7\\\\23.6\\\\23.7\\\\23.8\\\\23.9\\\\24.0\\\\24.1\\\\8.7\\\\24.2\\\\24.3\\\\24.4\\\\24.5\\\\24.6\\\\24.7\\\\24.8\\\\24.9\\\\25.0\\\\25.1\\\\25.2\\\\8.6\\\\25.3\\\\25.4\\\\25.5\\\\25.6\\\\25.7\\\\25.8\\\\23.5\\\\25.9\\\\23.4\\\\23.2\\\\9.0\\\\21.0\\\\21.1\\\\21.2\\\\21.3\\\\21.4\\\\21.5\\\\21.6\\\\21.7\\\\21.8\\\\21.9\\\\22.0\\\\8.9\\\\22.1\\\\22.2\\\\22.3\\\\22.4\\\\22.5\\\\22.6\\\\22.7\\\\22.8\\\\22.9\\\\23.0\\\\8.8\\\\23.1\\\\23.3\\\\26.0\\\\26.1\\\\26.2\\\\28.9\\\\29.0\\\\29.1\\\\29.2\\\\29.3\\\\8.2\\\\29.4\\\\29.5\\\\29.6\\\\29.7\\\\29.8\\\\29.9\\\\30.0\\\\30.1\\\\30.2\\\\30.3\\\\30.4\\\\8.1\\\\30.5\\\\30.6\\\\30.7\\\\30.8\\\\30.9\\\\31.0\\\\31.1\\\\28.8\\\\28.7\\\\28.6\\\\28.5\\\\8.5\\\\26.3\\\\26.4\\\\26.5\\\\26.6\\\\26.7\\\\26.8\\\\26.9\\\\99.9\\\\27.0\\\\27.1\\\\27.2\\\\20.9\\\\8.4\\\\27.4\\\\27.5\\\\27.6\\\\27.7\\\\27.8\\\\27.9\\\\28.0\\\\28.1\\\\28.2\\\\28.3\\\\8.3\\\\28.4\\\\27.3\\\\20.8\\\\20.7\\\\20.6\\\\12.9\\\\13.0\\\\13.1\\\\13.2\\\\13.3\\\\13.4\\\\9.7\\\\13.5\\\\13.6\\\\13.7\\\\13.8\\\\13.9\\\\14.0\\\\14.1\\\\14.2\\\\14.3\\\\14.4\\\\14.5\\\\9.6\\\\14.6\\\\14.7\\\\14.8\\\\14.9\\\\15.0\\\\15.1\\\\12.8\\\\12.7\\\\12.6\\\\12.5\\\\10.2\\\\10.0\\\\10.3\\\\10.4\\\\10.5\\\\10.6\\\\10.7\\\\10.8\\\\10.9\\\\11.0\\\\11.1\\\\11.2\\\\15.2\\\\11.3\\\\11.4\\\\11.5\\\\11.6\\\\11.7\\\\11.8\\\\11.9\\\\12.0\\\\12.1\\\\12.2\\\\12.3\\\\12.4\\\\9.8\\\\9.9\\\\31.2\\\\15.3\\\\15.5\\\\18.3\\\\18.4\\\\18.5\\\\18.6\\\\18.7\\\\18.8\\\\9.2\\\\18.9\\\\19.0\\\\19.1\\\\19.2\\\\19.3\\\\19.4\\\\19.5\\\\19.6\\\\19.7\\\\19.8\\\\9.1\\\\19.9\\\\20.0\\\\20.1\\\\20.2\\\\20.3\\\\20.4\\\\20.5\\\\18.2\\\\18.1\\\\18.0\\\\17.9\\\\15.6\\\\9.5\\\\15.7\\\\15.8\\\\15.9\\\\16.0\\\\16.1\\\\16.2\\\\16.3\\\\16.4\\\\16.5\\\\16.6\\\\15.4\\\\9.4\\\\16.8\\\\16.9\\\\17.0\\\\17.1\\\\17.2\\\\17.3\\\\17.4\\\\17.5\\\\17.6\\\\17.7\\\\9.3\\\\17.8\\\\16.7\\\\31.3\\\\31.4\\\\31.5\\\\45.1\\\\45.2\\\\45.3\\\\45.4\\\\6.7\\\\45.5\\\\45.6\\\\45.7\\\\45.8\\\\45.9\\\\46.0\\\\46.1\\\\46.2\\\\46.3\\\\46.4\\\\6.6\\\\46.5\\\\46.6\\\\46.7\\\\46.8\\\\46.9\\\\47.0\\\\47.1\\\\47.2\\\\47.3\\\\45.0\\\\44.9\\\\44.8\\\\44.7\\\\42.3\\\\42.4\\\\42.5\\\\42.6\\\\42.7\\\\42.8\\\\42.9\\\\43.0\\\\43.1\\\\43.2\\\\6.9\\\\43.3\\\\47.4\\\\43.4\\\\43.6\\\\43.7\\\\43.8\\\\43.9\\\\44.0\\\\44.1\\\\44.2\\\\44.3\\\\6.8\\\\44.4\\\\44.5\\\\44.6\\\\43.5\\\\7.0\\\\47.5\\\\47.6\\\\50.5\\\\50.6\\\\50.7\\\\6.2\\\\50.8\\\\50.9\\\\51.0\\\\51.1\\\\51.2\\\\51.3\\\\51.4\\\\51.5\\\\51.6\\\\51.7\\\\6.1\\\\51.8\\\\51.9\\\\52.0\\\\52.1\\\\52.2\\\\52.3\\\\52.4\\\\52.5\\\\52.6\\\\99.8\\\\50.4\\\\50.3\\\\50.2\\\\50.1\\\\47.7\\\\47.8\\\\47.9\\\\48.0\\\\48.1\\\\48.2\\\\48.3\\\\48.4\\\\48.5\\\\48.6\\\\6.4\\\\48.7\\\\6.5\\\\48.8\\\\49.0\\\\49.1\\\\49.2\\\\49.3\\\\49.4\\\\49.5\\\\49.6\\\\6.3\\\\49.7\\\\49.8\\\\49.9\\\\50.0\\\\48.9\\\\6.0\\\\42.2\\\\42.0\\\\34.3\\\\34.4\\\\34.5\\\\34.6\\\\34.7\\\\7.7\\\\34.8\\\\34.9\\\\35.0\\\\35.1\\\\35.2\\\\35.3\\\\35.4\\\\35.5\\\\35.6\\\\35.7\\\\35.8\\\\7.6\\\\35.9\\\\36.0\\\\36.1\\\\36.2\\\\36.3\\\\36.4\\\\36.5\\\\34.2\\\\34.1\\\\34.0\\\\33.9\\\\8.0\\\\31.6\\\\31.7\\\\31.8\\\\31.9\\\\32.0\\\\32.1\\\\32.2\\\\32.3\\\\32.4\\\\32.5\\\\7.9\\\\36.6\\\\32.6\\\\32.8\\\\32.9\\\\33.0\\\\33.1\\\\33.2\\\\33.3\\\\33.4\\\\33.5\\\\33.6\\\\7.8\\\\33.7\\\\33.8\\\\32.7\\\\42.1\\\\36.7\\\\7.5\\\\39.7\\\\39.8\\\\39.9\\\\40.0\\\\7.2\\\\40.1\\\\40.2\\\\40.3\\\\40.4\\\\40.5\\\\40.6\\\\40.7\\\\40.8\\\\40.9\\\\41.0\\\\41.1\\\\7.1\\\\41.2\\\\41.3\\\\41.4\\\\41.5\\\\41.6\\\\41.7\\\\41.8\\\\41.9\\\\39.6\\\\39.5\\\\39.4\\\\39.3\\\\36.9\\\\37.0\\\\37.1\\\\37.2\\\\37.3\\\\37.4\\\\37.5\\\\37.6\\\\37.7\\\\37.8\\\\37.9\\\\7.4\\\\36.8\\\\38.0\\\\38.2\\\\38.3\\\\38.4\\\\38.5\\\\38.6\\\\38.7\\\\38.8\\\\38.9\\\\39.0\\\\7.3\\\\39.1\\\\39.2\\\\38.1\\\\95.8\\\\54.9\\\\10.1\\\\98.5\\\\98.9\\\\97.4\\\\96.1\\\\96.7\\\\97.5\\\\98.2\\\\99.0\\\\97.9\\\\98.0\\\\98.4\\\\99.6\\\\96.6\\\\99.2\\\\99.1\\\\96.8\\\\98.3\\\\97.7\\\\96.4\\\\1.7\\\\98.1\\\\99.4\\\\98.7\\\\95.9\\\\97.8\\\\96.3\\\\97.2\\\\97.0\\\\96.2\\\\98.6\\\\98.8\\\\96.9\\\\97.3\\\\99.5\\\\99.3\\\\96.0\\\\97.1\\\\1.8\\\\97.6\\\\1.9\\\\96.5\\end{matrix}\\right]\\,\\mathrm{m}\\,\\mathrm{s}$"
      ],
      "text/plain": [
       "array([  1.6,  66.6,   4.7,  66.7,  66.8,  66.9,  67. ,  67.1,  67.2,\n",
       "        67.3,  67.4,  67.5,  67.6,  67.7,   4.6,  67.8,  67.9,  68. ,\n",
       "        68.1,  68.2,  68.3,  68.4,  68.5,  68.6,  68.7,  68.8,  66.5,\n",
       "         4.5,  66.4,  66.2,  63.9,  64. ,  64.1,  64.2,  64.3,  64.4,\n",
       "        64.5,   4.9,  64.6,  64.7,  64.8,  64.9,  65. ,  65.1,  65.2,\n",
       "        65.3,  65.4,  65.5,  65.6,   4.8,  65.7,  65.8,  65.9,  66. ,\n",
       "        66.1,  66.3,  68.9,  69. ,  69.1,  72. ,   4.2,  72.1,  72.2,\n",
       "        72.3,  72.4,  72.5,  72.6,  72.7,  72.8,  72.9,  73. ,   4.1,\n",
       "        73.1,  73.2,  73.3,  73.4,  73.5,  73.6,  73.7,  73.8,  73.9,\n",
       "        74. ,  74.1,   4. ,  71.9,  71.8,  71.7,  71.6,  69.2,  69.3,\n",
       "        69.4,  69.5,  69.6,  69.7,  69.8,   4.4,  69.9,  70. ,  70.1,\n",
       "        70.2,  63.8,  70.3,  70.5,  70.6,  70.7,  70.8,  70.9,   4.3,\n",
       "        71. ,  71.1,  71.2,  71.3,  71.4,  71.5,  70.4,  63.7,  63.6,\n",
       "        63.5,  55.9,  56. ,   5.7,  56.1,  56.2,  56.3,  56.4,  56.5,\n",
       "        56.6,  56.7,  56.8,  56.9,  57. ,   5.6,  57.1,  57.2,  57.3,\n",
       "        57.4,  57.5,  57.6,  57.7,  57.8,  57.9,  58. ,  58.1,  55.8,\n",
       "        55.7,  55.6,  55.5,  53. ,  53.1,  53.2,  53.3,  53.4,  53.5,\n",
       "        53.6,  53.7,  53.8,   5.9,  53.9,  54. ,   5.5,  54.1,  54.3,\n",
       "        54.4,  54.5,  54.6,  54.7,  54.8,   5.8,  55. ,  55.1,  55.2,\n",
       "        55.3,  55.4,  54.2,  74.2,  58.2,  58.4,  61.3,   5.2,  61.4,\n",
       "        61.5,  61.6,  61.7,  61.8,  61.9,  62. ,  62.1,  62.2,  62.3,\n",
       "        62.4,   5.1,  62.5,  62.6,  62.7,  62.8,  62.9,  63. ,  63.1,\n",
       "        63.2,  63.3,  63.4,   5. ,  61.2,  61.1,  61. ,  60.9,  58.5,\n",
       "        58.6,  58.7,  58.8,  58.9,  59. ,  59.1,  59.2,   5.4,  59.3,\n",
       "        59.4,  59.5,  58.3,  59.6,  59.8,  59.9,  60. ,  60.1,  60.2,\n",
       "         5.3,  60.3,  60.4,  60.5,  60.6,  60.7,  60.8,  59.7,  74.3,\n",
       "        74.4,  74.5,  88. ,  88.1,  88.2,  88.3,  88.4,  88.5,  88.6,\n",
       "        88.7,  88.8,  88.9,  89. ,   2.6,  89.1,  89.2,  89.3,  89.4,\n",
       "        89.5,  89.6,  89.7,  89.8,  89.9,  90. ,   2.5,  90.1,  90.2,\n",
       "         2.7,  87.9,  87.8,  87.7,  85.3,  85.4,  85.5,  85.6,  85.7,\n",
       "        85.8,   2.9,  85.9,  86. ,  86.1,  86.2,  86.3,  90.3,  86.4,\n",
       "        86.6,  86.7,  86.8,   2.8,  86.9,  87. ,  87.1,  87.2,  87.3,\n",
       "        87.4,  87.5,  87.6,  86.5,  85.2,  90.4,  90.6,  93.4,  93.5,\n",
       "        93.6,  93.7,  93.8,  93.9,  94. ,  94.1,  94.2,  94.3,   2.1,\n",
       "        94.4,  94.5,  94.6,  94.7,  94.8,  94.9,  95. ,  95.1,  95.2,\n",
       "        95.3,  95.4,   2. ,  95.5,  95.6,  93.3,   2.2,  93.2,  93.1,\n",
       "        90.7,  90.8,  90.9,  91. ,  91.1,   2.4,  91.2,  91.3,  91.4,\n",
       "        91.5,  91.6,  91.7,  90.5,  91.8,  92. ,  92.1,  92.2,   2.3,\n",
       "        92.3,  92.4,  92.5,  92.6,  92.7,  92.8,  92.9,  93. ,  91.9,\n",
       "        52.9,  85.1,  84.9,   3.7,  77.4,  77.5,  77.6,  77.7,  77.8,\n",
       "        77.9,  78. ,  78.1,  78.2,  99.7,  78.3,   3.6,  78.4,  78.5,\n",
       "        78.6,  78.7,  78.8,  78.9,  79. ,  79.1,  79.2,  79.3,  79.4,\n",
       "         3.5,  77.3,  77.2,  77.1,  77. ,  74.6,  74.7,  74.8,  74.9,\n",
       "        75. ,  75.1,  75.2,   3.9,  75.3,  75.4,  75.5,  75.6,  79.5,\n",
       "        75.7,  75.9,  76. ,  76.1,  76.2,   3.8,  76.3,  76.4,  76.5,\n",
       "        76.6,  76.7,  76.8,  76.9,  75.8,  85. ,  79.6,  79.8,   3.2,\n",
       "        82.7,  82.8,  82.9,  83. ,  83.1,  83.2,  83.3,  83.4,  83.5,\n",
       "        83.6,   3.1,  83.7,  83.8,  83.9,  84. ,  84.1,  84.2,  84.3,\n",
       "        84.4,  84.5,  84.6,  84.7,   3. ,  84.8,  82.6,  82.5,  82.4,\n",
       "        82.3,  79.9,  80. ,  80.1,  80.2,  80.3,  80.4,   3.4,  80.5,\n",
       "        80.6,  80.7,  80.8,  80.9,  79.7,  81. ,  81.2,  81.3,  81.4,\n",
       "        81.5,   3.3,  81.6,  81.7,  81.8,  81.9,  82. ,  82.1,  82.2,\n",
       "        81.1,  95.7,  52.8,  52.7,  23.6,  23.7,  23.8,  23.9,  24. ,\n",
       "        24.1,   8.7,  24.2,  24.3,  24.4,  24.5,  24.6,  24.7,  24.8,\n",
       "        24.9,  25. ,  25.1,  25.2,   8.6,  25.3,  25.4,  25.5,  25.6,\n",
       "        25.7,  25.8,  23.5,  25.9,  23.4,  23.2,   9. ,  21. ,  21.1,\n",
       "        21.2,  21.3,  21.4,  21.5,  21.6,  21.7,  21.8,  21.9,  22. ,\n",
       "         8.9,  22.1,  22.2,  22.3,  22.4,  22.5,  22.6,  22.7,  22.8,\n",
       "        22.9,  23. ,   8.8,  23.1,  23.3,  26. ,  26.1,  26.2,  28.9,\n",
       "        29. ,  29.1,  29.2,  29.3,   8.2,  29.4,  29.5,  29.6,  29.7,\n",
       "        29.8,  29.9,  30. ,  30.1,  30.2,  30.3,  30.4,   8.1,  30.5,\n",
       "        30.6,  30.7,  30.8,  30.9,  31. ,  31.1,  28.8,  28.7,  28.6,\n",
       "        28.5,   8.5,  26.3,  26.4,  26.5,  26.6,  26.7,  26.8,  26.9,\n",
       "        99.9,  27. ,  27.1,  27.2,  20.9,   8.4,  27.4,  27.5,  27.6,\n",
       "        27.7,  27.8,  27.9,  28. ,  28.1,  28.2,  28.3,   8.3,  28.4,\n",
       "        27.3,  20.8,  20.7,  20.6,  12.9,  13. ,  13.1,  13.2,  13.3,\n",
       "        13.4,   9.7,  13.5,  13.6,  13.7,  13.8,  13.9,  14. ,  14.1,\n",
       "        14.2,  14.3,  14.4,  14.5,   9.6,  14.6,  14.7,  14.8,  14.9,\n",
       "        15. ,  15.1,  12.8,  12.7,  12.6,  12.5,  10.2,  10. ,  10.3,\n",
       "        10.4,  10.5,  10.6,  10.7,  10.8,  10.9,  11. ,  11.1,  11.2,\n",
       "        15.2,  11.3,  11.4,  11.5,  11.6,  11.7,  11.8,  11.9,  12. ,\n",
       "        12.1,  12.2,  12.3,  12.4,   9.8,   9.9,  31.2,  15.3,  15.5,\n",
       "        18.3,  18.4,  18.5,  18.6,  18.7,  18.8,   9.2,  18.9,  19. ,\n",
       "        19.1,  19.2,  19.3,  19.4,  19.5,  19.6,  19.7,  19.8,   9.1,\n",
       "        19.9,  20. ,  20.1,  20.2,  20.3,  20.4,  20.5,  18.2,  18.1,\n",
       "        18. ,  17.9,  15.6,   9.5,  15.7,  15.8,  15.9,  16. ,  16.1,\n",
       "        16.2,  16.3,  16.4,  16.5,  16.6,  15.4,   9.4,  16.8,  16.9,\n",
       "        17. ,  17.1,  17.2,  17.3,  17.4,  17.5,  17.6,  17.7,   9.3,\n",
       "        17.8,  16.7,  31.3,  31.4,  31.5,  45.1,  45.2,  45.3,  45.4,\n",
       "         6.7,  45.5,  45.6,  45.7,  45.8,  45.9,  46. ,  46.1,  46.2,\n",
       "        46.3,  46.4,   6.6,  46.5,  46.6,  46.7,  46.8,  46.9,  47. ,\n",
       "        47.1,  47.2,  47.3,  45. ,  44.9,  44.8,  44.7,  42.3,  42.4,\n",
       "        42.5,  42.6,  42.7,  42.8,  42.9,  43. ,  43.1,  43.2,   6.9,\n",
       "        43.3,  47.4,  43.4,  43.6,  43.7,  43.8,  43.9,  44. ,  44.1,\n",
       "        44.2,  44.3,   6.8,  44.4,  44.5,  44.6,  43.5,   7. ,  47.5,\n",
       "        47.6,  50.5,  50.6,  50.7,   6.2,  50.8,  50.9,  51. ,  51.1,\n",
       "        51.2,  51.3,  51.4,  51.5,  51.6,  51.7,   6.1,  51.8,  51.9,\n",
       "        52. ,  52.1,  52.2,  52.3,  52.4,  52.5,  52.6,  99.8,  50.4,\n",
       "        50.3,  50.2,  50.1,  47.7,  47.8,  47.9,  48. ,  48.1,  48.2,\n",
       "        48.3,  48.4,  48.5,  48.6,   6.4,  48.7,   6.5,  48.8,  49. ,\n",
       "        49.1,  49.2,  49.3,  49.4,  49.5,  49.6,   6.3,  49.7,  49.8,\n",
       "        49.9,  50. ,  48.9,   6. ,  42.2,  42. ,  34.3,  34.4,  34.5,\n",
       "        34.6,  34.7,   7.7,  34.8,  34.9,  35. ,  35.1,  35.2,  35.3,\n",
       "        35.4,  35.5,  35.6,  35.7,  35.8,   7.6,  35.9,  36. ,  36.1,\n",
       "        36.2,  36.3,  36.4,  36.5,  34.2,  34.1,  34. ,  33.9,   8. ,\n",
       "        31.6,  31.7,  31.8,  31.9,  32. ,  32.1,  32.2,  32.3,  32.4,\n",
       "        32.5,   7.9,  36.6,  32.6,  32.8,  32.9,  33. ,  33.1,  33.2,\n",
       "        33.3,  33.4,  33.5,  33.6,   7.8,  33.7,  33.8,  32.7,  42.1,\n",
       "        36.7,   7.5,  39.7,  39.8,  39.9,  40. ,   7.2,  40.1,  40.2,\n",
       "        40.3,  40.4,  40.5,  40.6,  40.7,  40.8,  40.9,  41. ,  41.1,\n",
       "         7.1,  41.2,  41.3,  41.4,  41.5,  41.6,  41.7,  41.8,  41.9,\n",
       "        39.6,  39.5,  39.4,  39.3,  36.9,  37. ,  37.1,  37.2,  37.3,\n",
       "        37.4,  37.5,  37.6,  37.7,  37.8,  37.9,   7.4,  36.8,  38. ,\n",
       "        38.2,  38.3,  38.4,  38.5,  38.6,  38.7,  38.8,  38.9,  39. ,\n",
       "         7.3,  39.1,  39.2,  38.1,  95.8,  54.9,  10.1,  98.5,  98.9,\n",
       "        97.4,  96.1,  96.7,  97.5,  98.2,  99. ,  97.9,  98. ,  98.4,\n",
       "        99.6,  96.6,  99.2,  99.1,  96.8,  98.3,  97.7,  96.4,   1.7,\n",
       "        98.1,  99.4,  98.7,  95.9,  97.8,  96.3,  97.2,  97. ,  96.2,\n",
       "        98.6,  98.8,  96.9,  97.3,  99.5,  99.3,  96. ,  97.1,   1.8,\n",
       "        97.6,   1.9,  96.5]) * msecond"
      ]
     },
     "execution_count": 26,
     "metadata": {},
     "output_type": "execute_result"
    }
   ],
   "source": [
    "spike.spike_trains()[0]"
   ]
  },
  {
   "cell_type": "code",
   "execution_count": null,
   "metadata": {
    "collapsed": true
   },
   "outputs": [],
   "source": []
  }
 ],
 "metadata": {
  "kernelspec": {
   "display_name": "Python 2",
   "language": "python",
   "name": "python2"
  },
  "language_info": {
   "codemirror_mode": {
    "name": "ipython",
    "version": 2
   },
   "file_extension": ".py",
   "mimetype": "text/x-python",
   "name": "python",
   "nbconvert_exporter": "python",
   "pygments_lexer": "ipython2",
   "version": "2.7.9"
  }
 },
 "nbformat": 4,
 "nbformat_minor": 0
}
