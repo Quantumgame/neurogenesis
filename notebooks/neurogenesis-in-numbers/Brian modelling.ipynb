{
 "cells": [
  {
   "cell_type": "code",
   "execution_count": 1,
   "metadata": {
    "collapsed": false
   },
   "outputs": [
    {
     "data": {
      "text/plain": [
       "<matplotlib.figure.Figure at 0x7f307b778f90>"
      ]
     },
     "metadata": {},
     "output_type": "display_data"
    }
   ],
   "source": [
    "import numpy as np\n",
    "import matplotlib.pyplot as plt\n",
    "from brian2 import *\n",
    "%matplotlib inline\n",
    "plt.viridis()"
   ]
  },
  {
   "cell_type": "code",
   "execution_count": 182,
   "metadata": {
    "collapsed": false
   },
   "outputs": [],
   "source": [
    "# Membrane\n",
    "v_rest = -70 * mvolt #mV\n",
    "e_ext = 0 * mvolt #V\n",
    "v_thr = -54 * mvolt #mV\n",
    "g_max = 0.2\n",
    "tau_m = 20* ms #ms\n",
    "tau_ex = 5* ms #ms\n",
    "e = np.e\n",
    "g = g_max\n",
    "pre_t = 0 * ms\n",
    "rate = 200 * Hz\n",
    "\n",
    "\n",
    "# STDP\n",
    "Apre = a_plus = 0.1\n",
    "b = 1.2\n",
    "taupre = tau_plus = 20 * ms #ms\n",
    "taupost = tau_minus = 64 * ms #ms\n",
    "Apost = a_minus = (a_plus * tau_plus * b) / tau_minus"
   ]
  },
  {
   "cell_type": "code",
   "execution_count": 183,
   "metadata": {
    "collapsed": false
   },
   "outputs": [
    {
     "name": "stdout",
     "output_type": "stream",
     "text": [
      "0. s 5. ms 10. ms 15. ms 20. ms 25. ms 30. ms 35. ms 40. ms 45. ms 50. ms 55. ms 60. ms 65. ms 70. ms 75. ms 80. ms 85. ms 90. ms 95. ms rate =  0. Hz\n"
     ]
    },
    {
     "data": {
      "image/png": "[encoded data removed]",
      "text/plain": [
       "<matplotlib.figure.Figure at 0x7f306ba2a250>"
      ]
     },
     "metadata": {},
     "output_type": "display_data"
    },
    {
     "data": {
      "image/png": "[encoded data removed]",
      "text/plain": [
       "<matplotlib.figure.Figure at 0x7f30615baf50>"
      ]
     },
     "metadata": {},
     "output_type": "display_data"
    }
   ],
   "source": [
    "start_scope()\n",
    "eqs = '''\n",
    "dv/dt = (v_rest-v + gex * (e_ext - v))/tau_m : volt\n",
    "dgex/dt = -gex/tau_ex: 1\n",
    "'''\n",
    "G = NeuronGroup(1, eqs, threshold='v > -54 * mV',\n",
    "                reset='v = -70 * mV', method='euler', dt=0.1 * ms)#, events={'trigger_stdp' : 'v > v_thr'})\n",
    "G.v = -70*mV\n",
    "G.gex = 0.0\n",
    "# G.run_on_event('trigger_stdp', 'x=0')\n",
    "# event_mon = EventMonitor(group, 'trigger_stdp')\n",
    "statemon = StateMonitor(G, ['v', 'gex',], record=0)\n",
    "spikemon = SpikeMonitor(G)\n",
    "\n",
    "\n",
    "\n",
    "# Pre pop\n",
    "gap = 100 * ms / (rate  * (100 *ms))\n",
    "times = np.arange(rate  * (100 *ms)) * gap\n",
    "inp = SpikeGeneratorGroup(1, [0] * len(times), times)\n",
    "\n",
    "# Connection from pre pop\n",
    "feedforward = Synapses(inp, G, \n",
    "                 '''\n",
    "                 w : 1\n",
    "                 dapre/dt = -apre/taupre : 1 (event-driven)\n",
    "                 dapost/dt = -apost/taupost : 1 (event-driven)\n",
    "                 ''', \n",
    "                 on_pre=\n",
    "                 '''\n",
    "                 gex_post += w\n",
    "                 apre += Apre\n",
    "                 w = clip(w+apost, 0, g_max)\n",
    "                 ''',\n",
    "                 on_post='''\n",
    "                 apost += Apost\n",
    "                 w = clip(w+apre, 0, g_max)\n",
    "                 ''')\n",
    "feedforward.connect(j='i')\n",
    "feedforward.w = g\n",
    "# feedforward.g = g_max\n",
    "\n",
    "\n",
    "\n",
    "# G.g = linked_var(feedforward, 'g')\n",
    "# print G.g\n",
    "\n",
    "\n",
    "inp_spikemon = SpikeMonitor(inp)\n",
    "\n",
    "run(100*ms)\n",
    "\n",
    "plot(statemon.t/ms, statemon.v[0])\n",
    "for t in spikemon.t:\n",
    "    axvline(t/ms, ls='--', c='r', lw=3)\n",
    "    print t,\n",
    "for t in inp_spikemon.t:\n",
    "    axvline(t/ms, ls=':', c='y', lw=1)\n",
    "    print t,\n",
    "xlabel('Time (ms)')\n",
    "ylabel('v')\n",
    "ylim([-.075, -.05])\n",
    "figure()\n",
    "plot(statemon.t/ms, statemon.gex[0])\n",
    "print \"rate = \", len(spikemon.t) / (100 * ms)"
   ]
  },
  {
   "cell_type": "code",
   "execution_count": null,
   "metadata": {
    "collapsed": true
   },
   "outputs": [],
   "source": []
  },
  {
   "cell_type": "code",
   "execution_count": 92,
   "metadata": {
    "collapsed": false
   },
   "outputs": [
    {
     "data": {
      "text/plain": [
       "<spikemonitor_2.t: array([ 0.]) * second>"
      ]
     },
     "execution_count": 92,
     "metadata": {},
     "output_type": "execute_result"
    }
   ],
   "source": []
  },
  {
   "cell_type": "code",
   "execution_count": 100,
   "metadata": {
    "collapsed": false
   },
   "outputs": [
    {
     "data": {
      "text/latex": [
       "$\\left[\\begin{matrix}0.0\\\\10.0\\\\20.0\\\\30.0\\\\40.0\\\\50.0\\\\60.0\\\\70.0\\\\80.0\\\\90.0\\\\100.0\\\\110.0\\\\120.0\\\\130.0\\\\140.0\\\\150.0\\\\160.0\\\\170.0\\\\180.0\\\\190.0\\end{matrix}\\right]\\,\\mathrm{m}\\,\\mathrm{s}$"
      ],
      "text/plain": [
       "array([   0.,   10.,   20.,   30.,   40.,   50.,   60.,   70.,   80.,\n",
       "         90.,  100.,  110.,  120.,  130.,  140.,  150.,  160.,  170.,\n",
       "        180.,  190.]) * msecond"
      ]
     },
     "execution_count": 100,
     "metadata": {},
     "output_type": "execute_result"
    }
   ],
   "source": [
    "np.arange(rate  * (100 *ms)) * 10 * ms"
   ]
  },
  {
   "cell_type": "code",
   "execution_count": 110,
   "metadata": {
    "collapsed": false
   },
   "outputs": [
    {
     "name": "stdout",
     "output_type": "stream",
     "text": [
      "[   0.   10.   20.   30.   40.   50.   60.   70.   80.   90.  100.  110.\n",
      "  120.  130.  140.  150.  160.  170.  180.  190.] ms\n"
     ]
    }
   ],
   "source": [
    "print times"
   ]
  },
  {
   "cell_type": "code",
   "execution_count": 154,
   "metadata": {
    "collapsed": false
   },
   "outputs": [
    {
     "data": {
      "text/plain": [
       "20.0"
      ]
     },
     "execution_count": 154,
     "metadata": {},
     "output_type": "execute_result"
    }
   ],
   "source": [
    "rate  * (100 *ms)"
   ]
  },
  {
   "cell_type": "code",
   "execution_count": 155,
   "metadata": {
    "collapsed": false
   },
   "outputs": [
    {
     "data": {
      "text/latex": [
       "$200.0\\,\\mathrm{Hz}$"
      ],
      "text/plain": [
       "200. * hertz"
      ]
     },
     "execution_count": 155,
     "metadata": {},
     "output_type": "execute_result"
    }
   ],
   "source": [
    "rate"
   ]
  },
  {
   "cell_type": "code",
   "execution_count": 157,
   "metadata": {
    "collapsed": false
   },
   "outputs": [
    {
     "data": {
      "text/latex": [
       "$5.0\\,\\mathrm{m}\\,\\mathrm{s}$"
      ],
      "text/plain": [
       "5. * msecond"
      ]
     },
     "execution_count": 157,
     "metadata": {},
     "output_type": "execute_result"
    }
   ],
   "source": [
    "100 * ms / (rate  * (100 *ms))"
   ]
  },
  {
   "cell_type": "code",
   "execution_count": 161,
   "metadata": {
    "collapsed": false
   },
   "outputs": [
    {
     "data": {
      "text/plain": [
       "array([  0.,   1.,   2.,   3.,   4.,   5.,   6.,   7.,   8.,   9.,  10.,\n",
       "        11.,  12.,  13.,  14.,  15.,  16.,  17.,  18.,  19.])"
      ]
     },
     "execution_count": 161,
     "metadata": {},
     "output_type": "execute_result"
    }
   ],
   "source": [
    "np.arange(rate  * (100 *ms))"
   ]
  },
  {
   "cell_type": "code",
   "execution_count": null,
   "metadata": {
    "collapsed": true
   },
   "outputs": [],
   "source": []
  }
 ],
 "metadata": {
  "kernelspec": {
   "display_name": "Python 2",
   "language": "python",
   "name": "python2"
  },
  "language_info": {
   "codemirror_mode": {
    "name": "ipython",
    "version": 2
   },
   "file_extension": ".py",
   "mimetype": "text/x-python",
   "name": "python",
   "nbconvert_exporter": "python",
   "pygments_lexer": "ipython2",
   "version": "2.7.6"
  }
 },
 "nbformat": 4,
 "nbformat_minor": 0
}
