{
 "cells": [
  {
   "cell_type": "code",
   "execution_count": 35,
   "metadata": {
    "collapsed": false
   },
   "outputs": [
    {
     "data": {
      "text/plain": [
       "<matplotlib.figure.Figure at 0x7e05410>"
      ]
     },
     "metadata": {},
     "output_type": "display_data"
    }
   ],
   "source": [
    "import numpy as np\n",
    "import matplotlib.pyplot as plt\n",
    "from brian2 import *\n",
    "%matplotlib inline\n",
    "plt.viridis()"
   ]
  },
  {
   "cell_type": "code",
   "execution_count": 36,
   "metadata": {
    "collapsed": false
   },
   "outputs": [],
   "source": [
    "no_iterations = 3000000\n",
    "\n",
    "# Wiring\n",
    "n = 16\n",
    "N = n ** 2\n",
    "S = (n, n)\n",
    "\n",
    "s_max = 32\n",
    "sigma_form_forward = 2.5\n",
    "sigma_form_lateral = 1\n",
    "p_form_lateral = 1\n",
    "p_form_forward = 0.16\n",
    "p_elim_dep = 0.0245\n",
    "p_elim_pot = 1.36 * np.e ** -4\n",
    "f_rew = 10 ** 4 * Hz#Hz\n",
    "\n",
    "# Membrane\n",
    "v_rest = -70 * mvolt #mV\n",
    "e_ext = 0 * mvolt #V\n",
    "v_thr = -54 * mvolt #mV\n",
    "g_max = 0.2\n",
    "tau_m = 20* ms #ms\n",
    "tau_ex = 5* ms #ms\n",
    "e = np.e\n",
    "g = g_max\n",
    "pre_t = 0 * ms\n",
    "\n",
    "\n",
    "# Inputs\n",
    "f_mean = 20 * Hz\n",
    "f_base = 5 * Hz\n",
    "f_peak = 152.8  * Hz\n",
    "sigma_stim = 2\n",
    "t_stim = 0.02 * second\n",
    "rate = 200 * Hz\n",
    "\n",
    "# STDP\n",
    "Apre = a_plus = 0.1\n",
    "b = 1.2\n",
    "taupre = tau_plus = 20 * ms #ms\n",
    "taupost = tau_minus = 64 * ms #ms\n",
    "Apost = a_minus = (a_plus * tau_plus * b) / tau_minus"
   ]
  },
  {
   "cell_type": "code",
   "execution_count": 37,
   "metadata": {
    "collapsed": false
   },
   "outputs": [],
   "source": [
    "def distance(s, t, grid_size=S, dist_type='euclidian'):\n",
    "    '''\n",
    "    Function that computes distance in a grid of neurons taking into account periodic boundry conditions.\n",
    "    \n",
    "    First, translate source into the center of the grid.\n",
    "    Second, translate target by the same amount.\n",
    "    Finally, perform desired distance computation.\n",
    "    '''\n",
    "    s = np.asarray(s)\n",
    "    t = np.asarray(t)\n",
    "    _grid_size = np.asarray(grid_size)\n",
    "    trans = s - (_grid_size//2)\n",
    "    s = np.mod(s - trans, grid_size)\n",
    "    t = np.mod(t - trans, grid_size)\n",
    "    if dist_type == 'manhattan':\n",
    "        return s[0] - t[0] + s[1] - t[1]\n",
    "    return np.sqrt((s[0] - t[0])**2 + (s[1] - t[1])**2)"
   ]
  },
  {
   "cell_type": "code",
   "execution_count": 38,
   "metadata": {
    "collapsed": true
   },
   "outputs": [],
   "source": [
    "def generate_rates(s, grid_size=S, dist_type='euclidian'):\n",
    "    '''\n",
    "    Function that generates an array the same shape as the input layer so that \n",
    "    each cell has a value corresponding to the firing rate for the neuron\n",
    "    at that position.\n",
    "    '''\n",
    "    _rates = np.zeros(S)\n",
    "    for x, y in np.ndindex(S):\n",
    "        _d = distance(s, (x,y), grid_size=grid_size, dist_type=dist_type)\n",
    "        _rates[x, y] = f_base + f_peak * np.e ** (-_d/(2 * sigma_stim**2))\n",
    "    return _rates * Hz"
   ]
  },
  {
   "cell_type": "code",
   "execution_count": 39,
   "metadata": {
    "collapsed": false
   },
   "outputs": [
    {
     "data": {
      "text/plain": [
       "<matplotlib.colorbar.Colorbar at 0x9fff950>"
      ]
     },
     "execution_count": 39,
     "metadata": {},
     "output_type": "execute_result"
    },
    {
     "data": {
      "image/png": "[encoded data removed]",
      "text/plain": [
       "<matplotlib.figure.Figure at 0x7f2e3d0>"
      ]
     },
     "metadata": {},
     "output_type": "display_data"
    }
   ],
   "source": [
    "plt.matshow(generate_rates((13,8))/Hz, fignum=160)\n",
    "plt.grid(visible=True)\n",
    "plt.colorbar()"
   ]
  },
  {
   "cell_type": "code",
   "execution_count": 40,
   "metadata": {
    "collapsed": true
   },
   "outputs": [],
   "source": [
    "def potential_presynaptic_neuron(projection, postsynaptic_index, N=N):\n",
    "    potential_neurons = np.nonzero(np.invert(projection.synapse_connected.reshape(N,N)[:, postsynaptic_index]))[0]\n",
    "    if len(potential_neurons) == 0:\n",
    "        return None\n",
    "    random_index = potential_neurons[np.random.randint(0, len(potential_neurons))]\n",
    "    return random_index"
   ]
  },
  {
   "cell_type": "code",
   "execution_count": 41,
   "metadata": {
    "collapsed": false
   },
   "outputs": [
    {
     "name": "stdout",
     "output_type": "stream",
     "text": [
      "In the approximate simulated time of  300. s rewiring would be triggered 3000000.0 times\n"
     ]
    }
   ],
   "source": [
    "_sim_time = 5 * 60 * second\n",
    "print \"In the approximate simulated time of \", _sim_time, \"rewiring would be triggered\", _sim_time * f_rew, \"times\""
   ]
  },
  {
   "cell_type": "code",
   "execution_count": 42,
   "metadata": {
    "collapsed": false
   },
   "outputs": [
    {
     "data": {
      "text/plain": [
       "<matplotlib.colorbar.Colorbar at 0x7f4b5f0>"
      ]
     },
     "execution_count": 42,
     "metadata": {},
     "output_type": "execute_result"
    },
    {
     "data": {
      "image/png": "[encoded data removed]",
      "text/plain": [
       "<matplotlib.figure.Figure at 0x953c530>"
      ]
     },
     "metadata": {},
     "output_type": "display_data"
    }
   ],
   "source": [
    "distro = np.zeros((16,16))\n",
    "_location = (13,8)\n",
    "_no_iter = int(_sim_time * f_rew)\n",
    "for i in range(_no_iter):\n",
    "    _random_index = np.random.randint(0, 16, 2)\n",
    "    if np.random.rand() < p_form_forward * np.e ** (-(distance(_location, _random_index)**2)/(2*sigma_form_forward**2)):\n",
    "        distro[_random_index[0], _random_index[1]] += 1\n",
    "\n",
    "plt.matshow(distro, fignum=160)\n",
    "plt.grid(visible=True)\n",
    "plt.colorbar()"
   ]
  },
  {
   "cell_type": "code",
   "execution_count": 43,
   "metadata": {
    "collapsed": false
   },
   "outputs": [
    {
     "data": {
      "text/plain": [
       "<matplotlib.colorbar.Colorbar at 0xcbbcf70>"
      ]
     },
     "execution_count": 43,
     "metadata": {},
     "output_type": "execute_result"
    },
    {
     "data": {
      "image/png": "[encoded data removed]",
      "text/plain": [
       "<matplotlib.figure.Figure at 0x7dbc4d0>"
      ]
     },
     "metadata": {},
     "output_type": "display_data"
    }
   ],
   "source": [
    "plt.matshow(distro,cmap='Greys_r', fignum=160)\n",
    "plt.grid(visible=True)\n",
    "plt.colorbar()"
   ]
  },
  {
   "cell_type": "code",
   "execution_count": 44,
   "metadata": {
    "collapsed": false
   },
   "outputs": [
    {
     "name": "stdout",
     "output_type": "stream",
     "text": [
      "out of 3000000 potential synapses, 73757.0 projections have actually been created\n",
      "i.e. 2.45856666667 % of them\n"
     ]
    }
   ],
   "source": [
    "print \"out of\", _no_iter, \"potential synapses,\", np.sum(np.sum(distro, 1), 0), \"projections have actually been created\"\n",
    "print \"i.e.\", np.sum(np.sum(distro, 1), 0) * 100. / _no_iter, \"% of them\""
   ]
  },
  {
   "cell_type": "code",
   "execution_count": 45,
   "metadata": {
    "collapsed": false
   },
   "outputs": [
    {
     "ename": "KeyboardInterrupt",
     "evalue": "",
     "traceback": [
      "\u001b[1;31m---------------------------------------------------------------------------\u001b[0m",
      "\u001b[1;31mKeyboardInterrupt\u001b[0m                         Traceback (most recent call last)",
      "\u001b[1;32m<ipython-input-45-05476e2be90b>\u001b[0m in \u001b[0;36m<module>\u001b[1;34m()\u001b[0m\n\u001b[0;32m      3\u001b[0m \u001b[0m_no_iter\u001b[0m \u001b[1;33m=\u001b[0m \u001b[0mint\u001b[0m\u001b[1;33m(\u001b[0m\u001b[0m_sim_time\u001b[0m \u001b[1;33m*\u001b[0m \u001b[0mf_rew\u001b[0m\u001b[1;33m)\u001b[0m\u001b[1;33m\u001b[0m\u001b[0m\n\u001b[0;32m      4\u001b[0m \u001b[1;32mfor\u001b[0m \u001b[0mi\u001b[0m \u001b[1;32min\u001b[0m \u001b[0mrange\u001b[0m\u001b[1;33m(\u001b[0m\u001b[0m_no_iter\u001b[0m\u001b[1;33m)\u001b[0m\u001b[1;33m:\u001b[0m\u001b[1;33m\u001b[0m\u001b[0m\n\u001b[1;32m----> 5\u001b[1;33m     \u001b[0m_random_index\u001b[0m \u001b[1;33m=\u001b[0m \u001b[0mnp\u001b[0m\u001b[1;33m.\u001b[0m\u001b[0mrandom\u001b[0m\u001b[1;33m.\u001b[0m\u001b[0mrandint\u001b[0m\u001b[1;33m(\u001b[0m\u001b[1;36m0\u001b[0m\u001b[1;33m,\u001b[0m \u001b[1;36m16\u001b[0m\u001b[1;33m,\u001b[0m \u001b[1;36m2\u001b[0m\u001b[1;33m)\u001b[0m\u001b[1;33m\u001b[0m\u001b[0m\n\u001b[0m\u001b[0;32m      6\u001b[0m     \u001b[1;32mif\u001b[0m \u001b[0mnp\u001b[0m\u001b[1;33m.\u001b[0m\u001b[0mrandom\u001b[0m\u001b[1;33m.\u001b[0m\u001b[0mrand\u001b[0m\u001b[1;33m(\u001b[0m\u001b[1;33m)\u001b[0m \u001b[1;33m<\u001b[0m \u001b[0mp_form_lateral\u001b[0m \u001b[1;33m*\u001b[0m \u001b[0mnp\u001b[0m\u001b[1;33m.\u001b[0m\u001b[0me\u001b[0m \u001b[1;33m**\u001b[0m \u001b[1;33m(\u001b[0m\u001b[1;33m-\u001b[0m\u001b[1;33m(\u001b[0m\u001b[0mdistance\u001b[0m\u001b[1;33m(\u001b[0m\u001b[0m_location\u001b[0m\u001b[1;33m,\u001b[0m \u001b[0m_random_index\u001b[0m\u001b[1;33m)\u001b[0m\u001b[1;33m**\u001b[0m\u001b[1;36m2\u001b[0m\u001b[1;33m)\u001b[0m\u001b[1;33m/\u001b[0m\u001b[1;33m(\u001b[0m\u001b[1;36m2\u001b[0m\u001b[1;33m*\u001b[0m\u001b[0msigma_form_lateral\u001b[0m\u001b[1;33m**\u001b[0m\u001b[1;36m2\u001b[0m\u001b[1;33m)\u001b[0m\u001b[1;33m)\u001b[0m\u001b[1;33m:\u001b[0m\u001b[1;33m\u001b[0m\u001b[0m\n\u001b[0;32m      7\u001b[0m         \u001b[0mdistro\u001b[0m\u001b[1;33m[\u001b[0m\u001b[0m_random_index\u001b[0m\u001b[1;33m[\u001b[0m\u001b[1;36m0\u001b[0m\u001b[1;33m]\u001b[0m\u001b[1;33m,\u001b[0m \u001b[0m_random_index\u001b[0m\u001b[1;33m[\u001b[0m\u001b[1;36m1\u001b[0m\u001b[1;33m]\u001b[0m\u001b[1;33m]\u001b[0m \u001b[1;33m+=\u001b[0m \u001b[1;36m1\u001b[0m\u001b[1;33m\u001b[0m\u001b[0m\n",
      "\u001b[1;31mKeyboardInterrupt\u001b[0m: "
     ],
     "output_type": "error"
    }
   ],
   "source": [
    "distro = np.zeros((16,16))\n",
    "_location = (13,8)\n",
    "_no_iter = int(_sim_time * f_rew)\n",
    "for i in range(_no_iter):\n",
    "    _random_index = np.random.randint(0, 16, 2)\n",
    "    if np.random.rand() < p_form_lateral * np.e ** (-(distance(_location, _random_index)**2)/(2*sigma_form_lateral**2)):\n",
    "        distro[_random_index[0], _random_index[1]] += 1\n",
    "\n",
    "plt.matshow(distro, fignum=160)\n",
    "plt.grid(visible=True)\n",
    "plt.colorbar()"
   ]
  },
  {
   "cell_type": "code",
   "execution_count": null,
   "metadata": {
    "collapsed": false
   },
   "outputs": [],
   "source": [
    "plt.matshow(distro,cmap='Greys_r', fignum=160)\n",
    "plt.grid(visible=True)\n",
    "plt.colorbar()"
   ]
  },
  {
   "cell_type": "code",
   "execution_count": null,
   "metadata": {
    "collapsed": false
   },
   "outputs": [],
   "source": [
    "print \"out of\", _no_iter, \"potential synapses,\", np.sum(np.sum(distro, 1), 0), \"projections have actually been created\"\n",
    "print \"i.e.\", np.sum(np.sum(distro, 1), 0) * 100. / _no_iter, \"% of them\""
   ]
  },
  {
   "cell_type": "code",
   "execution_count": null,
   "metadata": {
    "collapsed": true
   },
   "outputs": [],
   "source": [
    "def visualise_connectivity(S):\n",
    "    Ns = len(S.source)\n",
    "    Nt = len(S.target)\n",
    "    figure(figsize=(10, 4))\n",
    "    subplot(121)\n",
    "    plot(zeros(Ns), arange(Ns), 'ok', ms=10)\n",
    "    plot(ones(Nt), arange(Nt), 'ok', ms=10)\n",
    "    for i, j in zip(S.i, S.j):\n",
    "        plot([0, 1], [i, j], '-k')\n",
    "    xticks([0, 1], ['Source', 'Target'])\n",
    "    ylabel('Neuron index')\n",
    "    xlim(-0.1, 1.1)\n",
    "    ylim(-1, max(Ns, Nt))\n",
    "    subplot(122)\n",
    "    plot(S.i, S.j, 'ok')\n",
    "    xlim(-1, Ns)\n",
    "    ylim(-1, Nt)\n",
    "    xlabel('Source neuron index')\n",
    "    ylabel('Target neuron index')"
   ]
  },
  {
   "cell_type": "markdown",
   "metadata": {},
   "source": [
    "**Neuron dynamics (target-layer)**: the membrane voltage $V_{mem}$ is described by:\n",
    "\n",
    "$\\tau_{mem}\\frac{\\delta V_{mem}}{\\delta t} = V_{rest} - V_{mem} + g_{ex}(t)(E_{ex}-V_{mem})$\n",
    "\n",
    "\n",
    "$E_{ex}$ = excitatory reversal potential; $V_{rest}$ = resting potential; $\\tau_{mem}$ = membrane time constant. Upon reaching a threshold $V_{thr}$, a spike occurs and $V_{mem}$ is reset to $V_{rest}$. A presynaptic\n",
    "spike at time 0 causes a synaptic conductance at time $t \\geq O$ of $g_{ex}(t) = ge^\\frac{-t}{\\tau_{ex}}(\\tau_{ex}$= synaptic time constant); this is cumulative for all pre-synaptic spikes.\n",
    "\n",
    "**STDP**: a pre-synaptic spike at time $t_{pre}$ and post-synaptic spike at $t_{post}$ modify the synaptic\n",
    "conductance by $g —> g + g_{max}F(\\Delta t)$,where $\\Delta t = t_{pre}—t_{post}$ and $F(\\Delta t) = A_{+}exp (\\Delta t/T_{+})$ if\n",
    "$\\Delta t$ < 0, otherwise $F(\\Delta t) = -A_{-}exp (-\\Delta t/T_{-})$, where $A_{+/-}$ are magnitudes and \n",
    "$\\tau_{+/-}$ are time constants for potentiation and depression respectively. This is cumulative for all pre and\n",
    "post-synaptic spike pairs; g is bounded in (0, $g_{max}$)."
   ]
  },
  {
   "cell_type": "code",
   "execution_count": 47,
   "metadata": {
    "collapsed": false
   },
   "outputs": [],
   "source": [
    "import time\n",
    "def simulate(n=n, N=N, duration=100*ms, dt=0.1 * ms, rate=200 * Hz):\n",
    "    start = time.time() * second\n",
    "    comp_s_max = np.ones(N) * s_max\n",
    "    start_scope()\n",
    "    projections = []\n",
    "    layers = []\n",
    "    neuron_dynamics = '''\n",
    "    dv/dt = (v_rest-v + gex * (e_ext - v))/tau_m : volt\n",
    "    dgex/dt = -gex/tau_ex: 1\n",
    "    s : 1\n",
    "    '''\n",
    "    G = NeuronGroup(N, neuron_dynamics, threshold='v > -54 * mV',\n",
    "                    reset='v = -70 * mV', method='euler', dt=0.1 * ms, name=\"target_layer\")\n",
    "    G.v   = [-70*mV,] * N\n",
    "    G.gex = [0.0, ]   * N\n",
    "    G.s   = [0, ]     * N\n",
    "    layers.append(G)\n",
    "    statemon = StateMonitor(G, ['v', ], record=True)\n",
    "    spikemon = SpikeMonitor(G)\n",
    "\n",
    "\n",
    "\n",
    "    # Pre pop\n",
    "    location = np.random.randint(0,n, 2)\n",
    "    rates = generate_rates(location)\n",
    "    inp = NeuronGroup(N, 'rates : Hz', threshold='rand()<rates*dt', dt=0.1 * ms, name=\"source_layer\")\n",
    "    layers.append(inp)\n",
    "    inp.rates = rates.ravel()\n",
    "    \n",
    "    synapse_model = '''\n",
    "                     w : 1\n",
    "                     dapre/dt = -apre/taupre : 1 (event-driven)\n",
    "                     dapost/dt = -apost/taupost : 1 (event-driven)\n",
    "                     '''\n",
    "    on_pre_model = '''\n",
    "                     gex_post += w\n",
    "                     apre += Apre\n",
    "                     w = clip(w+apost, 0, g_max)\n",
    "                     '''\n",
    "    on_post_model = '''\n",
    "                     apost += Apost\n",
    "                     w = clip(w+apre, 0, g_max)\n",
    "                     '''\n",
    "    \n",
    "    # Feedforward connections (from source to target)\n",
    "    feedforward = Synapses(inp, G, synapse_model, \n",
    "                     on_pre = on_pre_model,\n",
    "                     on_post = on_post_model,\n",
    "                     dt = dt, name=\"feedforward_projections\")\n",
    "    feedforward.connect()\n",
    "    feedforward.add_attribute('synapse_connected')\n",
    "    feedforward.synapse_connected = np.zeros(N**2, dtype=np.bool_)\n",
    "    feedforward.w = [0, ] * (N**2)\n",
    "    projections.append(feedforward)\n",
    "    \n",
    "    # Lateral connections (from target to target)\n",
    "    \n",
    "    lateral = Synapses(G, G, synapse_model, \n",
    "                     on_pre = on_pre_model,\n",
    "                     on_post = on_post_model,\n",
    "                     dt = dt, name=\"lateral_projections\")\n",
    "    lateral.connect()\n",
    "    lateral.add_attribute('synapse_connected')\n",
    "    lateral.synapse_connected = np.zeros(N**2, dtype=np.bool_)\n",
    "    lateral.w = [0, ] * (N**2)\n",
    "    projections.append(lateral)\n",
    "    \n",
    "    \n",
    "    def elimination_rule(projection, synapse_index, N=N):\n",
    "        '''\n",
    "        Delete a synapse based on the elimination probability\n",
    "        '''\n",
    "        # Pre is the row index\n",
    "        pre = synapse_index // N\n",
    "        # Post is the column index\n",
    "        post = synapse_index % N\n",
    "        # Generate a value to check against form / elimination probabilities \n",
    "        r = np.random.rand()\n",
    "        if (projection.w[synapse_index] <= .5 * g_max and r < p_elim_dep) or r < p_elim_pot:\n",
    "            projection.w[synapse_index] = 0\n",
    "            projection.synapse_connected[synapse_index] = False\n",
    "            projection.target.s[post] -= 1\n",
    "            \n",
    "    \n",
    "    def formation_rule(projection, synapse_index, N=N):\n",
    "        '''\n",
    "        Create a new synapse based on the formation probability\n",
    "        Also, take into account the number of existing presynaptic projections into the current neuron\n",
    "        '''\n",
    "        # Pre is the row index\n",
    "        pre = synapse_index // N\n",
    "        # Post is the column index\n",
    "        post = synapse_index % N\n",
    "        # Generate a value to check against form / elimination probabilities \n",
    "        r = np.random.rand()        \n",
    "        if 'feedforward' in projection.name and r < p_form_forward *\\\n",
    "                np.e **(-(distance((pre//n, pre%n), (post//n, post%n))**2)/(2*sigma_form_forward**2)):\n",
    "            # Form synapse\n",
    "            projection.w[synapse_index] = g_max\n",
    "            projection.synapse_connected[synapse_index] = True\n",
    "            projection.target.s[post] += 1\n",
    "        elif 'lateral' in projection.name and r < p_form_lateral *\\\n",
    "                np.e **(-(distance((pre//n, pre%n), (post//n, post%n))**2)/(2*sigma_form_lateral**2)):\n",
    "            # Form synapse\n",
    "            projection.w[synapse_index] = g_max\n",
    "            projection.synapse_connected[synapse_index] = True\n",
    "            projection.target.s[post] += 1\n",
    "            \n",
    "    \n",
    "#     inp_spikemon = SpikeMonitor(inp)\n",
    "    @network_operation(dt=1./ f_rew)\n",
    "    def rewire():\n",
    "        '''\n",
    "        At a fixed rate, a potential synapse is chosen. If it already exists, follow elimination rule, \n",
    "        else follow formation rule.\n",
    "        \n",
    "        '''\n",
    "        # First, choose a type of projection (FF or LAT)\n",
    "        projection_index = np.random.randint(0, len(projections))\n",
    "        # Second, choose a postsynaptic neuron from that projection\n",
    "        postsynaptic_neuron_index = np.random.randint(0, N)\n",
    "        \n",
    "        potential_pre = potential_presynaptic_neuron(projections[projection_index], postsynaptic_neuron_index, N=N)\n",
    "        _2d_to_1d_arithmetic = potential_pre * N + postsynaptic_neuron_index\n",
    "#         _2d_to_1d_arithmetic = pre_x * N + pre_y\n",
    "        # Third, check if the synapse exists or not and follow the appropriate rule\n",
    "        if projections[projection_index].synapse_connected[_2d_to_1d_arithmetic]:\n",
    "            elimination_rule(projections[projection_index], _2d_to_1d_arithmetic)\n",
    "        elif projections[projection_index].target.s[postsynaptic_neuron_index] < s_max:\n",
    "            formation_rule(projections[projection_index], _2d_to_1d_arithmetic)\n",
    "    \n",
    "    @network_operation(dt=t_stim)\n",
    "    def change_stimulus():\n",
    "        location = np.random.randint(0,n, 2)\n",
    "        rates = generate_rates(location)\n",
    "        inp.rates = rates.ravel()\n",
    "\n",
    "    # Initial synapses    \n",
    "    for postsynaptic_neuron_index in range(N):\n",
    "        # Place Feedforward first (S_max // 2)\n",
    "        while G.s[postsynaptic_neuron_index] < s_max//2:\n",
    "            potential_pre = potential_presynaptic_neuron(projections[0], postsynaptic_neuron_index, N=N)\n",
    "            _2d_to_1d_arithmetic = potential_pre * N + postsynaptic_neuron_index\n",
    "            formation_rule(projections[0], _2d_to_1d_arithmetic)\n",
    "        \n",
    "        # Place Lateral now (S_max // 2)\n",
    "        while G.s[postsynaptic_neuron_index] < s_max:\n",
    "            potential_pre = potential_presynaptic_neuron(projections[1], postsynaptic_neuron_index, N=N)\n",
    "            _2d_to_1d_arithmetic = potential_pre * N + postsynaptic_neuron_index\n",
    "            formation_rule(projections[1], _2d_to_1d_arithmetic)\n",
    "    init_done = time.time() * second\n",
    "    print \"Initialization done in \", init_done - start\n",
    "    print \"Starting sim\"    \n",
    "    run(duration)\n",
    "    print \"Sim done\"\n",
    "\n",
    "    \n",
    "    end = time.time() * second\n",
    "    print \"Simulation finished in\", end - init_done\n",
    "    output = (statemon, spikemon, feedforward, lateral)\n",
    "    return output"
   ]
  },
  {
   "cell_type": "code",
   "execution_count": 48,
   "metadata": {
    "collapsed": false
   },
   "outputs": [
    {
     "name": "stdout",
     "output_type": "stream",
     "text": [
      "Initialization done in  57.89899993 s\n",
      "Starting sim\n"
     ]
    },
    {
     "name": "stderr",
     "output_type": "stream",
     "text": [
      "WARNING    \"rates\" is an internal variable of group \"source_layer\", but also exists in the run namespace with the value array([[  66.50485659,   59.50832653,   66.50485659,   74.30800846,\n",
      "          82.9435055 ,   92.3665846 ,  102.36199771,  112.294403  ,\n",
      "         120.54053024,  124.00075965,  120.54053024,  112.294403  ,\n",
      "         102.36199771,   92.3665846 ,   82.9435055 ,   74.30800846],\n",
      "       [  63.97763112,   57.51660517,   63.97763112,   71.06270622,\n",
      "          78.71902374,   86.78794628,   94.90915672,  102.36199771,\n",
      "         107.90900686,  110.0178018 ,  107.90900686,  102.36199771,\n",
      "          94.90915672,   86.78794628,   78.71902374,   71.06270622],\n",
      "       [  60.77622248,   54.95366561,   60.77622248,   67.03768716,\n",
      "          73.63065817,   80.34089605,   86.78794628,   92.3665846 ,\n",
      "          96.26265552,   97.6778848 ,   96.26265552,   92.3665846 ,\n",
      "          86.78794628,   80.34089605,   73.63065817,   67.03768716],\n",
      "       [  57.13514129,   51.98752943,   57.13514129,   62.56119641,\n",
      "          68.13317602,   73.63065817,   78.71902374,   82.9435055 ,\n",
      "          85.78186017,   86.78794628,   85.78186017,   82.9435055 ,\n",
      "          78.71902374,   73.63065817,   68.13317602,   62.56119641],\n",
      "       [  53.2640424 ,   48.77793296,   53.2640424 ,   57.90351088,\n",
      "          62.56119641,   67.03768716,   71.06270622,   74.30800846,\n",
      "          76.4347582 ,   77.17760926,   76.4347582 ,   74.30800846,\n",
      "          71.06270622,   67.03768716,   62.56119641,   57.90351088],\n",
      "       [  49.33139025,   45.46193478,   49.33139025,   53.2640424 ,\n",
      "          57.13514129,   60.77622248,   63.97763112,   66.50485659,\n",
      "          68.13317602,   68.69651661,   68.13317602,   66.50485659,\n",
      "          63.97763112,   60.77622248,   57.13514129,   53.2640424 ],\n",
      "       [  45.46193478,   42.14823702,   45.46193478,   48.77793296,\n",
      "          51.98752943,   54.95366561,   57.51660517,   59.50832653,\n",
      "          60.77622248,   61.21197861,   60.77622248,   59.50832653,\n",
      "          57.51660517,   54.95366561,   51.98752943,   48.77793296],\n",
      "       [  49.33139025,   45.46193478,   49.33139025,   53.2640424 ,\n",
      "          57.13514129,   60.77622248,   63.97763112,   66.50485659,\n",
      "          68.13317602,   68.69651661,   68.13317602,   66.50485659,\n",
      "          63.97763112,   60.77622248,   57.13514129,   53.2640424 ],\n",
      "       [  53.2640424 ,   48.77793296,   53.2640424 ,   57.90351088,\n",
      "          62.56119641,   67.03768716,   71.06270622,   74.30800846,\n",
      "          76.4347582 ,   77.17760926,   76.4347582 ,   74.30800846,\n",
      "          71.06270622,   67.03768716,   62.56119641,   57.90351088],\n",
      "       [  57.13514129,   51.98752943,   57.13514129,   62.56119641,\n",
      "          68.13317602,   73.63065817,   78.71902374,   82.9435055 ,\n",
      "          85.78186017,   86.78794628,   85.78186017,   82.9435055 ,\n",
      "          78.71902374,   73.63065817,   68.13317602,   62.56119641],\n",
      "       [  60.77622248,   54.95366561,   60.77622248,   67.03768716,\n",
      "          73.63065817,   80.34089605,   86.78794628,   92.3665846 ,\n",
      "          96.26265552,   97.6778848 ,   96.26265552,   92.3665846 ,\n",
      "          86.78794628,   80.34089605,   73.63065817,   67.03768716],\n",
      "       [  63.97763112,   57.51660517,   63.97763112,   71.06270622,\n",
      "          78.71902374,   86.78794628,   94.90915672,  102.36199771,\n",
      "         107.90900686,  110.0178018 ,  107.90900686,  102.36199771,\n",
      "          94.90915672,   86.78794628,   78.71902374,   71.06270622],\n",
      "       [  66.50485659,   59.50832653,   66.50485659,   74.30800846,\n",
      "          82.9435055 ,   92.3665846 ,  102.36199771,  112.294403  ,\n",
      "         120.54053024,  124.00075965,  120.54053024,  112.294403  ,\n",
      "         102.36199771,   92.3665846 ,   82.9435055 ,   74.30800846],\n",
      "       [  68.13317602,   60.77622248,   68.13317602,   76.4347582 ,\n",
      "          85.78186017,   96.26265552,  107.90900686,  120.54053024,\n",
      "         133.04134012,  139.84552671,  133.04134012,  120.54053024,\n",
      "         107.90900686,   96.26265552,   85.78186017,   76.4347582 ],\n",
      "       [  68.69651661,   61.21197861,   68.69651661,   77.17760926,\n",
      "          86.78794628,   97.6778848 ,  110.0178018 ,  124.00075965,\n",
      "         139.84552671,  157.8       ,  139.84552671,  124.00075965,\n",
      "         110.0178018 ,   97.6778848 ,   86.78794628,   77.17760926],\n",
      "       [  68.13317602,   60.77622248,   68.13317602,   76.4347582 ,\n",
      "          85.78186017,   96.26265552,  107.90900686,  120.54053024,\n",
      "         133.04134012,  139.84552671,  133.04134012,  120.54053024,\n",
      "         107.90900686,   96.26265552,   85.78186017,   76.4347582 ]]) * hertz. The internal variable will be used. [brian2.groups.group.Group.resolve.resolution_conflict]\n",
      "WARNING    \"t\" is an internal variable of group \"feedforward_projections\", but also exists in the run namespace with the value 39.3 * msecond. The internal variable will be used. [brian2.groups.group.Group.resolve.resolution_conflict]\n",
      "WARNING    \"t\" is an internal variable of group \"lateral_projections\", but also exists in the run namespace with the value 39.3 * msecond. The internal variable will be used. [brian2.groups.group.Group.resolve.resolution_conflict]\n"
     ]
    },
    {
     "ename": "BrianObjectException",
     "evalue": "Original error and traceback:\nTraceback (most recent call last):\n  File \"c:\\python27\\lib\\site-packages\\brian2\\core\\network.py\", line 686, in before_run\n    obj.before_run(run_namespace)\n  File \"c:\\python27\\lib\\site-packages\\brian2\\groups\\group.py\", line 1038, in before_run\n    codeobj_class=self.codeobj_class\n  File \"c:\\python27\\lib\\site-packages\\brian2\\codegen\\codeobject.py\", line 233, in create_runner_codeobj\n    run_namespace=run_namespace)\n  File \"c:\\python27\\lib\\site-packages\\brian2\\groups\\group.py\", line 706, in resolve_all\n    run_namespace=run_namespace)\n  File \"c:\\python27\\lib\\site-packages\\brian2\\groups\\group.py\", line 663, in _resolve\n    return self._resolve_external(identifier, run_namespace=run_namespace)\n  File \"c:\\python27\\lib\\site-packages\\brian2\\groups\\group.py\", line 774, in _resolve_external\n    (identifier))\nKeyError: 'The identifier \"v_reset\" could not be resolved.'\n\nError encountered with object named \"target_layer_resetter\".\nObject was created here (most recent call only, full details in debug log):\n  File \"<ipython-input-47-b5660efefc87>\", line 14, in simulate\n    reset='v = v_reset', method='euler', dt=0.1 * ms, name=\"target_layer\")\n\nAn error occurred when preparing an object. KeyError: 'The identifier \"v_reset\" could not be resolved.'\n(See above for original error message and traceback.)",
     "traceback": [
      "\u001b[1;31m---------------------------------------------------------------------------\u001b[0m",
      "\u001b[1;31mBrianObjectException\u001b[0m                      Traceback (most recent call last)",
      "\u001b[1;32m<ipython-input-48-dd5797c9ede8>\u001b[0m in \u001b[0;36m<module>\u001b[1;34m()\u001b[0m\n\u001b[1;32m----> 1\u001b[1;33m \u001b[0mstate\u001b[0m\u001b[1;33m,\u001b[0m \u001b[0mspike\u001b[0m\u001b[1;33m,\u001b[0m \u001b[0mff\u001b[0m\u001b[1;33m,\u001b[0m \u001b[0mlat\u001b[0m \u001b[1;33m=\u001b[0m \u001b[0msimulate\u001b[0m\u001b[1;33m(\u001b[0m\u001b[0mduration\u001b[0m\u001b[1;33m=\u001b[0m\u001b[1;36m100\u001b[0m\u001b[1;33m*\u001b[0m\u001b[0mms\u001b[0m\u001b[1;33m)\u001b[0m\u001b[1;33m\u001b[0m\u001b[0m\n\u001b[0m",
      "\u001b[1;32m<ipython-input-47-b5660efefc87>\u001b[0m in \u001b[0;36msimulate\u001b[1;34m(n, N, duration, dt, rate)\u001b[0m\n\u001b[0;32m    151\u001b[0m     \u001b[1;32mprint\u001b[0m \u001b[1;34m\"Initialization done in \"\u001b[0m\u001b[1;33m,\u001b[0m \u001b[0minit_done\u001b[0m \u001b[1;33m-\u001b[0m \u001b[0mstart\u001b[0m\u001b[1;33m\u001b[0m\u001b[0m\n\u001b[0;32m    152\u001b[0m     \u001b[1;32mprint\u001b[0m \u001b[1;34m\"Starting sim\"\u001b[0m\u001b[1;33m\u001b[0m\u001b[0m\n\u001b[1;32m--> 153\u001b[1;33m     \u001b[0mrun\u001b[0m\u001b[1;33m(\u001b[0m\u001b[0mduration\u001b[0m\u001b[1;33m)\u001b[0m\u001b[1;33m\u001b[0m\u001b[0m\n\u001b[0m\u001b[0;32m    154\u001b[0m     \u001b[1;32mprint\u001b[0m \u001b[1;34m\"Sim done\"\u001b[0m\u001b[1;33m\u001b[0m\u001b[0m\n\u001b[0;32m    155\u001b[0m \u001b[1;33m\u001b[0m\u001b[0m\n",
      "\u001b[1;32mc:\\python27\\lib\\site-packages\\brian2\\units\\fundamentalunits.pyc\u001b[0m in \u001b[0;36mnew_f\u001b[1;34m(*args, **kwds)\u001b[0m\n\u001b[0;32m   2403\u001b[0m                         raise DimensionMismatchError(error_message,\n\u001b[0;32m   2404\u001b[0m                                                      newkeyset[k])\n\u001b[1;32m-> 2405\u001b[1;33m             \u001b[0mresult\u001b[0m \u001b[1;33m=\u001b[0m \u001b[0mf\u001b[0m\u001b[1;33m(\u001b[0m\u001b[1;33m*\u001b[0m\u001b[0margs\u001b[0m\u001b[1;33m,\u001b[0m \u001b[1;33m**\u001b[0m\u001b[0mkwds\u001b[0m\u001b[1;33m)\u001b[0m\u001b[1;33m\u001b[0m\u001b[0m\n\u001b[0m\u001b[0;32m   2406\u001b[0m             \u001b[1;32mif\u001b[0m \u001b[1;34m'result'\u001b[0m \u001b[1;32min\u001b[0m \u001b[0mau\u001b[0m\u001b[1;33m:\u001b[0m\u001b[1;33m\u001b[0m\u001b[0m\n\u001b[0;32m   2407\u001b[0m                 \u001b[1;32mif\u001b[0m \u001b[1;32mnot\u001b[0m \u001b[0mhave_same_dimensions\u001b[0m\u001b[1;33m(\u001b[0m\u001b[0mresult\u001b[0m\u001b[1;33m,\u001b[0m \u001b[0mau\u001b[0m\u001b[1;33m[\u001b[0m\u001b[1;34m'result'\u001b[0m\u001b[1;33m]\u001b[0m\u001b[1;33m)\u001b[0m\u001b[1;33m:\u001b[0m\u001b[1;33m\u001b[0m\u001b[0m\n",
      "\u001b[1;32mc:\\python27\\lib\\site-packages\\brian2\\core\\magic.pyc\u001b[0m in \u001b[0;36mrun\u001b[1;34m(duration, report, report_period, namespace, profile, level)\u001b[0m\n\u001b[0;32m    369\u001b[0m     '''\n\u001b[0;32m    370\u001b[0m     return magic_network.run(duration, report=report, report_period=report_period,\n\u001b[1;32m--> 371\u001b[1;33m                              namespace=namespace, profile=profile, level=2+level)\n\u001b[0m\u001b[0;32m    372\u001b[0m \u001b[0mrun\u001b[0m\u001b[1;33m.\u001b[0m\u001b[0m__module__\u001b[0m \u001b[1;33m=\u001b[0m \u001b[0m__name__\u001b[0m\u001b[1;33m\u001b[0m\u001b[0m\n\u001b[0;32m    373\u001b[0m \u001b[1;33m\u001b[0m\u001b[0m\n",
      "\u001b[1;32mc:\\python27\\lib\\site-packages\\brian2\\core\\magic.pyc\u001b[0m in \u001b[0;36mrun\u001b[1;34m(self, duration, report, report_period, namespace, profile, level)\u001b[0m\n\u001b[0;32m    229\u001b[0m         \u001b[0mself\u001b[0m\u001b[1;33m.\u001b[0m\u001b[0m_update_magic_objects\u001b[0m\u001b[1;33m(\u001b[0m\u001b[0mlevel\u001b[0m\u001b[1;33m=\u001b[0m\u001b[0mlevel\u001b[0m\u001b[1;33m+\u001b[0m\u001b[1;36m1\u001b[0m\u001b[1;33m)\u001b[0m\u001b[1;33m\u001b[0m\u001b[0m\n\u001b[0;32m    230\u001b[0m         Network.run(self, duration, report=report, report_period=report_period,\n\u001b[1;32m--> 231\u001b[1;33m                     namespace=namespace, profile=profile, level=level+1)\n\u001b[0m\u001b[0;32m    232\u001b[0m \u001b[1;33m\u001b[0m\u001b[0m\n\u001b[0;32m    233\u001b[0m     \u001b[1;32mdef\u001b[0m \u001b[0mstore\u001b[0m\u001b[1;33m(\u001b[0m\u001b[0mself\u001b[0m\u001b[1;33m,\u001b[0m \u001b[0mname\u001b[0m\u001b[1;33m=\u001b[0m\u001b[1;34m'default'\u001b[0m\u001b[1;33m,\u001b[0m \u001b[0mfilename\u001b[0m\u001b[1;33m=\u001b[0m\u001b[0mNone\u001b[0m\u001b[1;33m,\u001b[0m \u001b[0mlevel\u001b[0m\u001b[1;33m=\u001b[0m\u001b[1;36m0\u001b[0m\u001b[1;33m)\u001b[0m\u001b[1;33m:\u001b[0m\u001b[1;33m\u001b[0m\u001b[0m\n",
      "\u001b[1;32mc:\\python27\\lib\\site-packages\\brian2\\core\\base.pyc\u001b[0m in \u001b[0;36mdevice_override_decorated_function\u001b[1;34m(*args, **kwds)\u001b[0m\n\u001b[0;32m    276\u001b[0m                 \u001b[1;32mreturn\u001b[0m \u001b[0mgetattr\u001b[0m\u001b[1;33m(\u001b[0m\u001b[0mcurdev\u001b[0m\u001b[1;33m,\u001b[0m \u001b[0mname\u001b[0m\u001b[1;33m)\u001b[0m\u001b[1;33m(\u001b[0m\u001b[1;33m*\u001b[0m\u001b[0margs\u001b[0m\u001b[1;33m,\u001b[0m \u001b[1;33m**\u001b[0m\u001b[0mkwds\u001b[0m\u001b[1;33m)\u001b[0m\u001b[1;33m\u001b[0m\u001b[0m\n\u001b[0;32m    277\u001b[0m             \u001b[1;32melse\u001b[0m\u001b[1;33m:\u001b[0m\u001b[1;33m\u001b[0m\u001b[0m\n\u001b[1;32m--> 278\u001b[1;33m                 \u001b[1;32mreturn\u001b[0m \u001b[0mfunc\u001b[0m\u001b[1;33m(\u001b[0m\u001b[1;33m*\u001b[0m\u001b[0margs\u001b[0m\u001b[1;33m,\u001b[0m \u001b[1;33m**\u001b[0m\u001b[0mkwds\u001b[0m\u001b[1;33m)\u001b[0m\u001b[1;33m\u001b[0m\u001b[0m\n\u001b[0m\u001b[0;32m    279\u001b[0m \u001b[1;33m\u001b[0m\u001b[0m\n\u001b[0;32m    280\u001b[0m         \u001b[0mdevice_override_decorated_function\u001b[0m\u001b[1;33m.\u001b[0m\u001b[0m__doc__\u001b[0m \u001b[1;33m=\u001b[0m \u001b[0mfunc\u001b[0m\u001b[1;33m.\u001b[0m\u001b[0m__doc__\u001b[0m\u001b[1;33m\u001b[0m\u001b[0m\n",
      "\u001b[1;32mc:\\python27\\lib\\site-packages\\brian2\\units\\fundamentalunits.pyc\u001b[0m in \u001b[0;36mnew_f\u001b[1;34m(*args, **kwds)\u001b[0m\n\u001b[0;32m   2403\u001b[0m                         raise DimensionMismatchError(error_message,\n\u001b[0;32m   2404\u001b[0m                                                      newkeyset[k])\n\u001b[1;32m-> 2405\u001b[1;33m             \u001b[0mresult\u001b[0m \u001b[1;33m=\u001b[0m \u001b[0mf\u001b[0m\u001b[1;33m(\u001b[0m\u001b[1;33m*\u001b[0m\u001b[0margs\u001b[0m\u001b[1;33m,\u001b[0m \u001b[1;33m**\u001b[0m\u001b[0mkwds\u001b[0m\u001b[1;33m)\u001b[0m\u001b[1;33m\u001b[0m\u001b[0m\n\u001b[0m\u001b[0;32m   2406\u001b[0m             \u001b[1;32mif\u001b[0m \u001b[1;34m'result'\u001b[0m \u001b[1;32min\u001b[0m \u001b[0mau\u001b[0m\u001b[1;33m:\u001b[0m\u001b[1;33m\u001b[0m\u001b[0m\n\u001b[0;32m   2407\u001b[0m                 \u001b[1;32mif\u001b[0m \u001b[1;32mnot\u001b[0m \u001b[0mhave_same_dimensions\u001b[0m\u001b[1;33m(\u001b[0m\u001b[0mresult\u001b[0m\u001b[1;33m,\u001b[0m \u001b[0mau\u001b[0m\u001b[1;33m[\u001b[0m\u001b[1;34m'result'\u001b[0m\u001b[1;33m]\u001b[0m\u001b[1;33m)\u001b[0m\u001b[1;33m:\u001b[0m\u001b[1;33m\u001b[0m\u001b[0m\n",
      "\u001b[1;32mc:\\python27\\lib\\site-packages\\brian2\\core\\network.pyc\u001b[0m in \u001b[0;36mrun\u001b[1;34m(self, duration, report, report_period, namespace, profile, level)\u001b[0m\n\u001b[0;32m    784\u001b[0m             \u001b[0mnamespace\u001b[0m \u001b[1;33m=\u001b[0m \u001b[0mget_local_namespace\u001b[0m\u001b[1;33m(\u001b[0m\u001b[0mlevel\u001b[0m\u001b[1;33m=\u001b[0m\u001b[0mlevel\u001b[0m\u001b[1;33m+\u001b[0m\u001b[1;36m3\u001b[0m\u001b[1;33m)\u001b[0m\u001b[1;33m\u001b[0m\u001b[0m\n\u001b[0;32m    785\u001b[0m \u001b[1;33m\u001b[0m\u001b[0m\n\u001b[1;32m--> 786\u001b[1;33m         \u001b[0mself\u001b[0m\u001b[1;33m.\u001b[0m\u001b[0mbefore_run\u001b[0m\u001b[1;33m(\u001b[0m\u001b[0mnamespace\u001b[0m\u001b[1;33m)\u001b[0m\u001b[1;33m\u001b[0m\u001b[0m\n\u001b[0m\u001b[0;32m    787\u001b[0m \u001b[1;33m\u001b[0m\u001b[0m\n\u001b[0;32m    788\u001b[0m         \u001b[1;32mif\u001b[0m \u001b[0mlen\u001b[0m\u001b[1;33m(\u001b[0m\u001b[0mself\u001b[0m\u001b[1;33m.\u001b[0m\u001b[0mobjects\u001b[0m\u001b[1;33m)\u001b[0m\u001b[1;33m==\u001b[0m\u001b[1;36m0\u001b[0m\u001b[1;33m:\u001b[0m\u001b[1;33m\u001b[0m\u001b[0m\n",
      "\u001b[1;32mc:\\python27\\lib\\site-packages\\brian2\\core\\base.pyc\u001b[0m in \u001b[0;36mdevice_override_decorated_function\u001b[1;34m(*args, **kwds)\u001b[0m\n\u001b[0;32m    276\u001b[0m                 \u001b[1;32mreturn\u001b[0m \u001b[0mgetattr\u001b[0m\u001b[1;33m(\u001b[0m\u001b[0mcurdev\u001b[0m\u001b[1;33m,\u001b[0m \u001b[0mname\u001b[0m\u001b[1;33m)\u001b[0m\u001b[1;33m(\u001b[0m\u001b[1;33m*\u001b[0m\u001b[0margs\u001b[0m\u001b[1;33m,\u001b[0m \u001b[1;33m**\u001b[0m\u001b[0mkwds\u001b[0m\u001b[1;33m)\u001b[0m\u001b[1;33m\u001b[0m\u001b[0m\n\u001b[0;32m    277\u001b[0m             \u001b[1;32melse\u001b[0m\u001b[1;33m:\u001b[0m\u001b[1;33m\u001b[0m\u001b[0m\n\u001b[1;32m--> 278\u001b[1;33m                 \u001b[1;32mreturn\u001b[0m \u001b[0mfunc\u001b[0m\u001b[1;33m(\u001b[0m\u001b[1;33m*\u001b[0m\u001b[0margs\u001b[0m\u001b[1;33m,\u001b[0m \u001b[1;33m**\u001b[0m\u001b[0mkwds\u001b[0m\u001b[1;33m)\u001b[0m\u001b[1;33m\u001b[0m\u001b[0m\n\u001b[0m\u001b[0;32m    279\u001b[0m \u001b[1;33m\u001b[0m\u001b[0m\n\u001b[0;32m    280\u001b[0m         \u001b[0mdevice_override_decorated_function\u001b[0m\u001b[1;33m.\u001b[0m\u001b[0m__doc__\u001b[0m \u001b[1;33m=\u001b[0m \u001b[0mfunc\u001b[0m\u001b[1;33m.\u001b[0m\u001b[0m__doc__\u001b[0m\u001b[1;33m\u001b[0m\u001b[0m\n",
      "\u001b[1;32mc:\\python27\\lib\\site-packages\\brian2\\core\\network.pyc\u001b[0m in \u001b[0;36mbefore_run\u001b[1;34m(self, run_namespace)\u001b[0m\n\u001b[0;32m    686\u001b[0m                     \u001b[0mobj\u001b[0m\u001b[1;33m.\u001b[0m\u001b[0mbefore_run\u001b[0m\u001b[1;33m(\u001b[0m\u001b[0mrun_namespace\u001b[0m\u001b[1;33m)\u001b[0m\u001b[1;33m\u001b[0m\u001b[0m\n\u001b[0;32m    687\u001b[0m                 \u001b[1;32mexcept\u001b[0m \u001b[0mException\u001b[0m \u001b[1;32mas\u001b[0m \u001b[0mex\u001b[0m\u001b[1;33m:\u001b[0m\u001b[1;33m\u001b[0m\u001b[0m\n\u001b[1;32m--> 688\u001b[1;33m                     \u001b[1;32mraise\u001b[0m \u001b[0mbrian_object_exception\u001b[0m\u001b[1;33m(\u001b[0m\u001b[1;34m\"An error occurred when preparing an object.\"\u001b[0m\u001b[1;33m,\u001b[0m \u001b[0mobj\u001b[0m\u001b[1;33m,\u001b[0m \u001b[0mex\u001b[0m\u001b[1;33m)\u001b[0m\u001b[1;33m\u001b[0m\u001b[0m\n\u001b[0m\u001b[0;32m    689\u001b[0m \u001b[1;33m\u001b[0m\u001b[0m\n\u001b[0;32m    690\u001b[0m         \u001b[1;31m# Check that no object has been run as part of another network before\u001b[0m\u001b[1;33m\u001b[0m\u001b[1;33m\u001b[0m\u001b[0m\n",
      "\u001b[1;31mBrianObjectException\u001b[0m: Original error and traceback:\nTraceback (most recent call last):\n  File \"c:\\python27\\lib\\site-packages\\brian2\\core\\network.py\", line 686, in before_run\n    obj.before_run(run_namespace)\n  File \"c:\\python27\\lib\\site-packages\\brian2\\groups\\group.py\", line 1038, in before_run\n    codeobj_class=self.codeobj_class\n  File \"c:\\python27\\lib\\site-packages\\brian2\\codegen\\codeobject.py\", line 233, in create_runner_codeobj\n    run_namespace=run_namespace)\n  File \"c:\\python27\\lib\\site-packages\\brian2\\groups\\group.py\", line 706, in resolve_all\n    run_namespace=run_namespace)\n  File \"c:\\python27\\lib\\site-packages\\brian2\\groups\\group.py\", line 663, in _resolve\n    return self._resolve_external(identifier, run_namespace=run_namespace)\n  File \"c:\\python27\\lib\\site-packages\\brian2\\groups\\group.py\", line 774, in _resolve_external\n    (identifier))\nKeyError: 'The identifier \"v_reset\" could not be resolved.'\n\nError encountered with object named \"target_layer_resetter\".\nObject was created here (most recent call only, full details in debug log):\n  File \"<ipython-input-47-b5660efefc87>\", line 14, in simulate\n    reset='v = v_reset', method='euler', dt=0.1 * ms, name=\"target_layer\")\n\nAn error occurred when preparing an object. KeyError: 'The identifier \"v_reset\" could not be resolved.'\n(See above for original error message and traceback.)"
     ],
     "output_type": "error"
    }
   ],
   "source": [
    "state, spike, ff, lat = simulate(duration=100*ms)"
   ]
  },
  {
   "cell_type": "code",
   "execution_count": null,
   "metadata": {
    "collapsed": false
   },
   "outputs": [],
   "source": [
    "#     print \"Output spike times:\"\n",
    "plot(state.t/ms, state.v[0])\n",
    "# for t in spike.spike_trains()[0]:\n",
    "#     axvline(t/ms, ls=':', c='r', lw=1, alpha=.3)\n",
    "#         print t,\n",
    "#     print \"Input spike times:\"\n",
    "#     for t in inp_spikemon.t:\n",
    "#         axvline(t/ms, ls=':', c='y', lw=1)\n",
    "#         print t,\n",
    "xlabel('Time (ms)')\n",
    "ylabel('v')\n",
    "ylim([-.075, -.05])"
   ]
  },
  {
   "cell_type": "code",
   "execution_count": 118,
   "metadata": {
    "collapsed": false
   },
   "outputs": [
    {
     "data": {
      "text/plain": [
       "71.33333333333333"
      ]
     },
     "execution_count": 118,
     "metadata": {},
     "output_type": "execute_result"
    }
   ],
   "source": [
    "214 * second / (3000 * ms)"
   ]
  },
  {
   "cell_type": "code",
   "execution_count": 119,
   "metadata": {
    "collapsed": false
   },
   "outputs": [
    {
     "data": {
      "text/plain": [
       "150.0"
      ]
     },
     "execution_count": 119,
     "metadata": {},
     "output_type": "execute_result"
    }
   ],
   "source": [
    "15 * second / (100 * ms)"
   ]
  },
  {
   "cell_type": "code",
   "execution_count": 20,
   "metadata": {
    "collapsed": false
   },
   "outputs": [
    {
     "data": {
      "text/latex": [
       "$9.96907552083\\,\\mathrm{k}\\,\\mathrm{Hz}$"
      ],
      "text/plain": [
       "9.96907552 * khertz"
      ]
     },
     "execution_count": 20,
     "metadata": {},
     "output_type": "execute_result"
    }
   ],
   "source": [
    "(spike.num_spikes/float(N)) / (3000 * ms)"
   ]
  },
  {
   "cell_type": "code",
   "execution_count": 19,
   "metadata": {
    "collapsed": false
   },
   "outputs": [
    {
     "data": {
      "text/plain": [
       "2552083"
      ]
     },
     "execution_count": 19,
     "metadata": {},
     "output_type": "execute_result"
    }
   ],
   "source": [
    "spike.num_spikes / 3"
   ]
  },
  {
   "cell_type": "code",
   "execution_count": 130,
   "metadata": {
    "collapsed": false
   },
   "outputs": [],
   "source": [
    "_d = spike.spike_trains()\n",
    "_s_p_n = []\n",
    "for _i in range(N):\n",
    "    _r = _d[_i]\n",
    "    _s_p_n.append(len(_r))"
   ]
  },
  {
   "cell_type": "code",
   "execution_count": 131,
   "metadata": {
    "collapsed": false
   },
   "outputs": [
    {
     "name": "stdout",
     "output_type": "stream",
     "text": [
      "256\n"
     ]
    }
   ],
   "source": [
    "print N"
   ]
  },
  {
   "cell_type": "code",
   "execution_count": 133,
   "metadata": {
    "collapsed": false
   },
   "outputs": [
    {
     "data": {
      "text/plain": [
       "29921.19140625"
      ]
     },
     "execution_count": 133,
     "metadata": {},
     "output_type": "execute_result"
    }
   ],
   "source": [
    "np.mean(_s_p_n)"
   ]
  },
  {
   "cell_type": "code",
   "execution_count": 134,
   "metadata": {
    "collapsed": false
   },
   "outputs": [
    {
     "data": {
      "text/plain": [
       "1.6148977978376642"
      ]
     },
     "execution_count": 134,
     "metadata": {},
     "output_type": "execute_result"
    }
   ],
   "source": [
    "np.std(_s_p_n)"
   ]
  },
  {
   "cell_type": "code",
   "execution_count": 137,
   "metadata": {
    "collapsed": false
   },
   "outputs": [
    {
     "data": {
      "text/latex": [
       "$9.97373046875\\,\\mathrm{k}\\,\\mathrm{Hz}$"
      ],
      "text/plain": [
       "9.97373047 * khertz"
      ]
     },
     "execution_count": 137,
     "metadata": {},
     "output_type": "execute_result"
    }
   ],
   "source": [
    "np.mean(_s_p_n / (3000*ms))"
   ]
  },
  {
   "cell_type": "code",
   "execution_count": 24,
   "metadata": {
    "collapsed": false
   },
   "outputs": [
    {
     "data": {
      "text/latex": [
       "$300.0\\,\\mathrm{s}$"
      ],
      "text/plain": [
       "300. * second"
      ]
     },
     "execution_count": 24,
     "metadata": {},
     "output_type": "execute_result"
    }
   ],
   "source": [
    "no_iterations * (.1 * ms)"
   ]
  },
  {
   "cell_type": "code",
   "execution_count": 25,
   "metadata": {
    "collapsed": false
   },
   "outputs": [
    {
     "data": {
      "text/plain": [
       "65536"
      ]
     },
     "execution_count": 25,
     "metadata": {},
     "output_type": "execute_result"
    }
   ],
   "source": [
    "len(np.nonzero(ff.w.variable.get_value())[0])"
   ]
  },
  {
   "cell_type": "code",
   "execution_count": 26,
   "metadata": {
    "collapsed": false
   },
   "outputs": [
    {
     "data": {
      "text/plain": [
       "<feedforward_projections.w: array([ 0.2,  0.2,  0.2, ...,  0.2,  0.2,  0.2])>"
      ]
     },
     "execution_count": 26,
     "metadata": {},
     "output_type": "execute_result"
    }
   ],
   "source": [
    "ff.w"
   ]
  },
  {
   "cell_type": "code",
   "execution_count": 27,
   "metadata": {
    "collapsed": false
   },
   "outputs": [
    {
     "ename": "NameError",
     "evalue": "name 'G' is not defined",
     "traceback": [
      "\u001b[1;31m---------------------------------------------------------------------------\u001b[0m",
      "\u001b[1;31mNameError\u001b[0m                                 Traceback (most recent call last)",
      "\u001b[1;32m<ipython-input-27-817180552196>\u001b[0m in \u001b[0;36m<module>\u001b[1;34m()\u001b[0m\n\u001b[1;32m----> 1\u001b[1;33m \u001b[0mG\u001b[0m\u001b[1;33m.\u001b[0m\u001b[0mv_rest\u001b[0m\u001b[1;33m\u001b[0m\u001b[0m\n\u001b[0m",
      "\u001b[1;31mNameError\u001b[0m: name 'G' is not defined"
     ],
     "output_type": "error"
    }
   ],
   "source": [
    ""
   ]
  },
  {
   "cell_type": "code",
   "execution_count": null,
   "metadata": {
    "collapsed": true
   },
   "outputs": [],
   "source": [
    ""
   ]
  }
 ],
 "metadata": {
  "kernelspec": {
   "display_name": "Python 2",
   "language": "python",
   "name": "python2"
  },
  "language_info": {
   "codemirror_mode": {
    "name": "ipython",
    "version": 2.0
   },
   "file_extension": ".py",
   "mimetype": "text/x-python",
   "name": "python",
   "nbconvert_exporter": "python",
   "pygments_lexer": "ipython2",
   "version": "2.7.9"
  }
 },
 "nbformat": 4,
 "nbformat_minor": 0
}