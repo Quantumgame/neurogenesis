{
 "cells": [
  {
   "cell_type": "code",
   "execution_count": 1,
   "metadata": {
    "collapsed": false
   },
   "outputs": [
    {
     "data": {
      "text/plain": [
       "<matplotlib.figure.Figure at 0x7f307b778f90>"
      ]
     },
     "metadata": {},
     "output_type": "display_data"
    }
   ],
   "source": [
    "import numpy as np\n",
    "import matplotlib.pyplot as plt\n",
    "from brian2 import *\n",
    "%matplotlib inline\n",
    "plt.viridis()"
   ]
  },
  {
   "cell_type": "code",
   "execution_count": 111,
   "metadata": {
    "collapsed": false
   },
   "outputs": [],
   "source": [
    "# Membrane\n",
    "v_rest = -70 * mvolt #mV\n",
    "e_ext = 0 * mvolt #V\n",
    "v_thr = -54 * mvolt #mV\n",
    "g_max = 0.2\n",
    "tau_m = 20* ms #ms\n",
    "tau_ex = 5* ms #ms\n",
    "e = np.e\n",
    "g = g_max\n",
    "pre_t = 0 * ms\n",
    "rate = 200 * Hz\n"
   ]
  },
  {
   "cell_type": "code",
   "execution_count": 139,
   "metadata": {
    "collapsed": false
   },
   "outputs": [
    {
     "name": "stderr",
     "output_type": "stream",
     "text": [
      "WARNING    \"presynaptic_spike\" is an internal variable of group \"neurongroup\", but also exists in the run namespace with the value 0. * second. The internal variable will be used. [brian2.groups.group.Group.resolve.resolution_conflict]\n"
     ]
    },
    {
     "name": "stdout",
     "output_type": "stream",
     "text": [
      "rate =  0. Hz\n"
     ]
    },
    {
     "data": {
      "image/png": "[encoded data removed]",
      "text/plain": [
       "<matplotlib.figure.Figure at 0x7f307394ca90>"
      ]
     },
     "metadata": {},
     "output_type": "display_data"
    },
    {
     "data": {
      "image/png": "[encoded data removed]",
      "text/plain": [
       "<matplotlib.figure.Figure at 0x7f307394c310>"
      ]
     },
     "metadata": {},
     "output_type": "display_data"
    }
   ],
   "source": [
    "start_scope()\n",
    "# Membrane\n",
    "# v_rest = -70 * mvolt #mV\n",
    "# e_ext = 0 * mvolt #V\n",
    "# v_thr = -54 * mvolt #mV\n",
    "# g_max = 0.2\n",
    "# tau_m = 20* ms #ms\n",
    "# tau_ex = 5* ms #ms\n",
    "presynaptic_spike = 0 * ms\n",
    "eqs = '''\n",
    "dv/dt = (v_rest-v + gex * (e_ext - v))/tau_m : volt\n",
    "# g : 1 (linked)\n",
    "gex = g * e ** (-(t-presynaptic_spike)/tau_ex): 1\n",
    "presynaptic_spike : second\n",
    "\n",
    "'''\n",
    "G = NeuronGroup(1, eqs, threshold='v > -54 * mV',\n",
    "                reset='v = -70 * mV', method = 'euler', dt=0.1 * ms)#, events={'trigger_stdp' : 'v > v_thr'})\n",
    "G.v = -70*mV\n",
    "# G.run_on_event('trigger_stdp', 'x=0')\n",
    "# event_mon = EventMonitor(group, 'trigger_stdp')\n",
    "statemon = StateMonitor(G, ['v', 'gex',], record=0)\n",
    "spikemon = SpikeMonitor(G)\n",
    "\n",
    "\n",
    "# Pre pop\n",
    "times = np.arange(rate  * (100 *ms)) * 10 * ms\n",
    "inp = SpikeGeneratorGroup(1, [0] * len(times), times)\n",
    "\n",
    "# Connection from pre pop\n",
    "synapse_model = '''\n",
    "# dg/dt = 0 :1\n",
    "'''\n",
    "feedforward = Synapses(inp, G, model=synapse_model, on_pre='presynaptic_spike_post = t_post')\n",
    "feedforward.connect(j='i')\n",
    "# feedforward.g = g_max\n",
    "\n",
    "\n",
    "\n",
    "# G.g = linked_var(feedforward, 'g')\n",
    "# print G.g\n",
    "\n",
    "\n",
    "\n",
    "run(100*ms)\n",
    "\n",
    "plot(statemon.t/ms, statemon.v[0])\n",
    "for t in spikemon.t:\n",
    "    axvline(t/ms, ls='--', c='r', lw=3)\n",
    "    print t,\n",
    "xlabel('Time (ms)')\n",
    "ylabel('v')\n",
    "ylim([-.075, -.05])\n",
    "figure()\n",
    "plot(statemon.t/ms, statemon.gex[0])\n",
    "print \"rate = \", len(spikemon.t) / (100 * ms)"
   ]
  },
  {
   "cell_type": "code",
   "execution_count": null,
   "metadata": {
    "collapsed": true
   },
   "outputs": [],
   "source": []
  },
  {
   "cell_type": "code",
   "execution_count": 100,
   "metadata": {
    "collapsed": false
   },
   "outputs": [
    {
     "data": {
      "text/latex": [
       "$\\left[\\begin{matrix}0.0\\\\10.0\\\\20.0\\\\30.0\\\\40.0\\\\50.0\\\\60.0\\\\70.0\\\\80.0\\\\90.0\\\\100.0\\\\110.0\\\\120.0\\\\130.0\\\\140.0\\\\150.0\\\\160.0\\\\170.0\\\\180.0\\\\190.0\\end{matrix}\\right]\\,\\mathrm{m}\\,\\mathrm{s}$"
      ],
      "text/plain": [
       "array([   0.,   10.,   20.,   30.,   40.,   50.,   60.,   70.,   80.,\n",
       "         90.,  100.,  110.,  120.,  130.,  140.,  150.,  160.,  170.,\n",
       "        180.,  190.]) * msecond"
      ]
     },
     "execution_count": 100,
     "metadata": {},
     "output_type": "execute_result"
    }
   ],
   "source": [
    "np.arange(rate  * (100 *ms)) * 10 * ms"
   ]
  },
  {
   "cell_type": "code",
   "execution_count": 110,
   "metadata": {
    "collapsed": false
   },
   "outputs": [
    {
     "name": "stdout",
     "output_type": "stream",
     "text": [
      "[   0.   10.   20.   30.   40.   50.   60.   70.   80.   90.  100.  110.\n",
      "  120.  130.  140.  150.  160.  170.  180.  190.] ms\n"
     ]
    }
   ],
   "source": [
    "print times"
   ]
  },
  {
   "cell_type": "code",
   "execution_count": null,
   "metadata": {
    "collapsed": true
   },
   "outputs": [],
   "source": []
  }
 ],
 "metadata": {
  "kernelspec": {
   "display_name": "Python 2",
   "language": "python",
   "name": "python2"
  },
  "language_info": {
   "codemirror_mode": {
    "name": "ipython",
    "version": 2
   },
   "file_extension": ".py",
   "mimetype": "text/x-python",
   "name": "python",
   "nbconvert_exporter": "python",
   "pygments_lexer": "ipython2",
   "version": "2.7.6"
  }
 },
 "nbformat": 4,
 "nbformat_minor": 0
}
