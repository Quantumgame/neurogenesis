{
 "cells": [
  {
   "cell_type": "code",
   "execution_count": 1,
   "metadata": {
    "collapsed": false
   },
   "outputs": [
    {
     "data": {
      "text/plain": [
       "<matplotlib.figure.Figure at 0x8a2b790>"
      ]
     },
     "metadata": {},
     "output_type": "display_data"
    }
   ],
   "source": [
    "import numpy as np\n",
    "import matplotlib.pyplot as plt\n",
    "from brian2 import *\n",
    "%matplotlib inline\n",
    "plt.viridis()"
   ]
  },
  {
   "cell_type": "code",
   "execution_count": 2,
   "metadata": {
    "collapsed": false
   },
   "outputs": [],
   "source": [
    "no_iterations = 3000000\n",
    "\n",
    "# Wiring\n",
    "n = 16\n",
    "N = n ** 2\n",
    "S = (n, n)\n",
    "\n",
    "s_max = 32\n",
    "sigma_form_forward = 2.5\n",
    "sigma_form_lateral = 1\n",
    "p_form_lateral = 1\n",
    "p_form_forward = 0.16\n",
    "p_elim_dep = 0.0245\n",
    "p_elim_pot = 1.36 * np.e ** -4\n",
    "f_rew = 10 ** 4 * Hz#Hz\n",
    "\n",
    "# Membrane\n",
    "v_rest = -70 * mvolt #mV\n",
    "e_ext = 0 * mvolt #V\n",
    "v_thr = -54 * mvolt #mV\n",
    "g_max = 0.2\n",
    "tau_m = 20* ms #ms\n",
    "tau_ex = 5* ms #ms\n",
    "e = np.e\n",
    "g = g_max\n",
    "pre_t = 0 * ms\n",
    "\n",
    "\n",
    "# Inputs\n",
    "f_mean = 20 * Hz\n",
    "f_base = 5 * Hz\n",
    "f_peak = 152.8  * Hz\n",
    "sigma_stim = 2\n",
    "t_stim = 0.02 * second\n",
    "rate = 200 * Hz\n",
    "\n",
    "# STDP\n",
    "Apre = a_plus = 0.1\n",
    "b = 1.2\n",
    "taupre = tau_plus = 20 * ms #ms\n",
    "taupost = tau_minus = 64 * ms #ms\n",
    "Apost = a_minus = (a_plus * tau_plus * b) / tau_minus"
   ]
  },
  {
   "cell_type": "code",
   "execution_count": 3,
   "metadata": {
    "collapsed": false
   },
   "outputs": [],
   "source": [
    "def distance(s, t, grid_size=S, dist_type='euclidian'):\n",
    "    '''\n",
    "    Function that computes distance in a grid of neurons taking into account periodic boundry conditions.\n",
    "    \n",
    "    First, translate source into the center of the grid.\n",
    "    Second, translate target by the same amount.\n",
    "    Finally, perform desired distance computation.\n",
    "    '''\n",
    "    s = np.asarray(s)\n",
    "    t = np.asarray(t)\n",
    "    _grid_size = np.asarray(grid_size)\n",
    "    trans = s - (_grid_size//2)\n",
    "    s = np.mod(s - trans, grid_size)\n",
    "    t = np.mod(t - trans, grid_size)\n",
    "    if dist_type == 'manhattan':\n",
    "        return s[0] - t[0] + s[1] - t[1]\n",
    "    return np.sqrt((s[0] - t[0])**2 + (s[1] - t[1])**2)"
   ]
  },
  {
   "cell_type": "code",
   "execution_count": 4,
   "metadata": {
    "collapsed": true
   },
   "outputs": [],
   "source": [
    "def generate_rates(s, grid_size=S, dist_type='euclidian'):\n",
    "    '''\n",
    "    Function that generates an array the same shape as the input layer so that \n",
    "    each cell has a value corresponding to the firing rate for the neuron\n",
    "    at that position.\n",
    "    '''\n",
    "    _rates = np.zeros(S)\n",
    "    for x, y in np.ndindex(S):\n",
    "        _d = distance(s, (x,y), grid_size=grid_size, dist_type=dist_type)\n",
    "        _rates[x, y] = f_base + f_peak * np.e ** (-_d/(2 * sigma_stim**2))\n",
    "    return _rates * Hz\n",
    "        "
   ]
  },
  {
   "cell_type": "code",
   "execution_count": 33,
   "metadata": {
    "collapsed": false
   },
   "outputs": [
    {
     "data": {
      "text/plain": [
       "<matplotlib.colorbar.Colorbar at 0xd734570>"
      ]
     },
     "execution_count": 33,
     "metadata": {},
     "output_type": "execute_result"
    },
    {
     "data": {
      "image/png": "[encoded data removed]",
      "text/plain": [
       "<matplotlib.figure.Figure at 0xcc3f590>"
      ]
     },
     "metadata": {},
     "output_type": "display_data"
    }
   ],
   "source": [
    "plt.matshow(generate_rates((13,8))/Hz, fignum=160)\n",
    "plt.grid(visible=True)\n",
    "plt.colorbar()"
   ]
  },
  {
   "cell_type": "code",
   "execution_count": 6,
   "metadata": {
    "collapsed": true
   },
   "outputs": [],
   "source": [
    "def potential_presynaptic_neuron(projection, postsynaptic_index, N):\n",
    "    potential_neurons = np.nonzero(projection.synapse_connected.reshape(N,N)[:, postsynaptic_index])\n",
    "    if len(potential_neurons) == 0:\n",
    "        return None\n",
    "    random_index = potential_neurons[np.random.randint(0, len(potential_neurons))]\n",
    "    return (random_index//N, random_index%N)"
   ]
  },
  {
   "cell_type": "code",
   "execution_count": 23,
   "metadata": {
    "collapsed": false
   },
   "outputs": [
    {
     "name": "stdout",
     "output_type": "stream",
     "text": [
      "In the approximate simulated time of  300. s rewiring would be triggered 3000000.0 times\n"
     ]
    }
   ],
   "source": [
    "_sim_time = 5 * 60 * second\n",
    "print \"In the approximate simulated time of \", _sim_time, \"rewiring would be triggered\", _sim_time * f_rew, \"times\""
   ]
  },
  {
   "cell_type": "code",
   "execution_count": 36,
   "metadata": {
    "collapsed": false
   },
   "outputs": [
    {
     "data": {
      "text/plain": [
       "<matplotlib.colorbar.Colorbar at 0xc777230>"
      ]
     },
     "execution_count": 36,
     "metadata": {},
     "output_type": "execute_result"
    },
    {
     "data": {
      "image/png": "[encoded data removed]",
      "text/plain": [
       "<matplotlib.figure.Figure at 0xbddf8b0>"
      ]
     },
     "metadata": {},
     "output_type": "display_data"
    }
   ],
   "source": [
    "distro = np.zeros((16,16))\n",
    "_location = (13,8)\n",
    "_no_iter = int(_sim_time * f_rew)\n",
    "for i in range(_no_iter):\n",
    "    _random_index = np.random.randint(0, 16, 2)\n",
    "    if np.random.rand() < p_form_forward * np.e ** (-(distance(_location, _random_index)**2)/(2*sigma_form_forward**2)):\n",
    "        distro[_random_index[0], _random_index[1]] += 1\n",
    "\n",
    "plt.matshow(distro, fignum=160)\n",
    "plt.grid(visible=True)\n",
    "plt.colorbar()"
   ]
  },
  {
   "cell_type": "code",
   "execution_count": 38,
   "metadata": {
    "collapsed": false
   },
   "outputs": [
    {
     "data": {
      "text/plain": [
       "<matplotlib.colorbar.Colorbar at 0xe2bee30>"
      ]
     },
     "execution_count": 38,
     "metadata": {},
     "output_type": "execute_result"
    },
    {
     "data": {
      "image/png": "[encoded data removed]",
      "text/plain": [
       "<matplotlib.figure.Figure at 0xe2a38d0>"
      ]
     },
     "metadata": {},
     "output_type": "display_data"
    }
   ],
   "source": [
    "plt.matshow(distro,cmap='Greys_r', fignum=160)\n",
    "plt.grid(visible=True)\n",
    "plt.colorbar()"
   ]
  },
  {
   "cell_type": "code",
   "execution_count": 27,
   "metadata": {
    "collapsed": false
   },
   "outputs": [
    {
     "name": "stdout",
     "output_type": "stream",
     "text": [
      "out of 3000000 potential synapses, 73211.0 projections have actually been created\n",
      "i.e. 2.44036666667 % of them\n"
     ]
    }
   ],
   "source": [
    "print \"out of\", _no_iter, \"potential synapses,\", np.sum(np.sum(distro, 1), 0), \"projections have actually been created\"\n",
    "print \"i.e.\", np.sum(np.sum(distro, 1), 0) * 100. / _no_iter, \"% of them\""
   ]
  },
  {
   "cell_type": "code",
   "execution_count": 39,
   "metadata": {
    "collapsed": false
   },
   "outputs": [
    {
     "data": {
      "text/plain": [
       "<matplotlib.colorbar.Colorbar at 0xe4fc350>"
      ]
     },
     "execution_count": 39,
     "metadata": {},
     "output_type": "execute_result"
    },
    {
     "data": {
      "image/png": "[encoded data removed]",
      "text/plain": [
       "<matplotlib.figure.Figure at 0xe2a3b10>"
      ]
     },
     "metadata": {},
     "output_type": "display_data"
    }
   ],
   "source": [
    "distro = np.zeros((16,16))\n",
    "_location = (13,8)\n",
    "_no_iter = int(_sim_time * f_rew)\n",
    "for i in range(_no_iter):\n",
    "    _random_index = np.random.randint(0, 16, 2)\n",
    "    if np.random.rand() < p_form_lateral * np.e ** (-(distance(_location, _random_index)**2)/(2*sigma_form_lateral**2)):\n",
    "        distro[_random_index[0], _random_index[1]] += 1\n",
    "\n",
    "plt.matshow(distro, fignum=160)\n",
    "plt.grid(visible=True)\n",
    "plt.colorbar()"
   ]
  },
  {
   "cell_type": "code",
   "execution_count": 40,
   "metadata": {
    "collapsed": false
   },
   "outputs": [
    {
     "data": {
      "text/plain": [
       "<matplotlib.colorbar.Colorbar at 0xe616d30>"
      ]
     },
     "execution_count": 40,
     "metadata": {},
     "output_type": "execute_result"
    },
    {
     "data": {
      "image/png": "[encoded data removed]",
      "text/plain": [
       "<matplotlib.figure.Figure at 0xe469450>"
      ]
     },
     "metadata": {},
     "output_type": "display_data"
    }
   ],
   "source": [
    "plt.matshow(distro,cmap='Greys_r', fignum=160)\n",
    "plt.grid(visible=True)\n",
    "plt.colorbar()"
   ]
  },
  {
   "cell_type": "code",
   "execution_count": 29,
   "metadata": {
    "collapsed": false
   },
   "outputs": [
    {
     "name": "stdout",
     "output_type": "stream",
     "text": [
      "out of 3000000 potential synapses, 73822.0 projections have actually been created\n",
      "i.e. 2.46073333333 % of them\n"
     ]
    }
   ],
   "source": [
    "print \"out of\", _no_iter, \"potential synapses,\", np.sum(np.sum(distro, 1), 0), \"projections have actually been created\"\n",
    "print \"i.e.\", np.sum(np.sum(distro, 1), 0) * 100. / _no_iter, \"% of them\""
   ]
  },
  {
   "cell_type": "code",
   "execution_count": 7,
   "metadata": {
    "collapsed": true
   },
   "outputs": [],
   "source": [
    "def visualise_connectivity(S):\n",
    "    Ns = len(S.source)\n",
    "    Nt = len(S.target)\n",
    "    figure(figsize=(10, 4))\n",
    "    subplot(121)\n",
    "    plot(zeros(Ns), arange(Ns), 'ok', ms=10)\n",
    "    plot(ones(Nt), arange(Nt), 'ok', ms=10)\n",
    "    for i, j in zip(S.i, S.j):\n",
    "        plot([0, 1], [i, j], '-k')\n",
    "    xticks([0, 1], ['Source', 'Target'])\n",
    "    ylabel('Neuron index')\n",
    "    xlim(-0.1, 1.1)\n",
    "    ylim(-1, max(Ns, Nt))\n",
    "    subplot(122)\n",
    "    plot(S.i, S.j, 'ok')\n",
    "    xlim(-1, Ns)\n",
    "    ylim(-1, Nt)\n",
    "    xlabel('Source neuron index')\n",
    "    ylabel('Target neuron index')"
   ]
  },
  {
   "cell_type": "markdown",
   "metadata": {},
   "source": [
    "**Neuron dynamics (target-layer)**: the membrane voltage $V_{mem}$ is described by:\n",
    "\n",
    "$\\tau_{mem}\\frac{\\delta V_{mem}}{\\delta t} = V_{rest} - V_{mem} + g_{ex}(t)(E_{ex}-V_{mem})$\n",
    "\n",
    "\n",
    "$E_{ex}$ = excitatory reversal potential; $V_{rest}$ = resting potential; $\\tau_{mem}$ = membrane time constant. Upon reaching a threshold $V_{thr}$, a spike occurs and $V_{mem}$ is reset to $V_{rest}$. A presynaptic\n",
    "spike at time 0 causes a synaptic conductance at time $t \\geq O$ of $g_{ex}(t) = ge^\\frac{-t}{\\tau_{ex}}(\\tau_{ex}$= synaptic time constant); this is cumulative for all pre-synaptic spikes.\n",
    "\n",
    "**STDP**: a pre-synaptic spike at time $t_{pre}$ and post-synaptic spike at $t_{post}$ modify the synaptic\n",
    "conductance by $g —> g + g_{max}F(\\Delta t)$,where $\\Delta t = t_{pre}—t_{post}$ and $F(\\Delta t) = A_{+}exp (\\Delta t/T_{+})$ if\n",
    "$\\Delta t$ < 0, otherwise $F(\\Delta t) = -A_{-}exp (-\\Delta t/T_{-})$, where $A_{+/-}$ are magnitudes and \n",
    "$\\tau_{+/-}$ are time constants for potentiation and depression respectively. This is cumulative for all pre and\n",
    "post-synaptic spike pairs; g is bounded in (0, $g_{max}$)."
   ]
  },
  {
   "cell_type": "code",
   "execution_count": 8,
   "metadata": {
    "collapsed": false
   },
   "outputs": [],
   "source": [
    "import time\n",
    "def simulate(n=n, N=N, duration=100*ms, dt=0.1 * ms, rate=200 * Hz):\n",
    "    start = time.time() * second\n",
    "    start_scope()\n",
    "    projections = []\n",
    "    layers = []\n",
    "    neuron_dynamics = '''\n",
    "    dv/dt = (v_rest-v + gex * (e_ext - v))/tau_m : volt\n",
    "    dgex/dt = -gex/tau_ex: 1\n",
    "    s : 1\n",
    "    '''\n",
    "    G = NeuronGroup(N, neuron_dynamics, threshold='v > -54 * mV',\n",
    "                    reset='v = -70 * mV', method='euler', dt=0.1 * ms, name=\"target_layer\")\n",
    "    G.v = [-70*mV,] * N\n",
    "    G.gex = [0.0, ] * N\n",
    "    G.s = [s_max, ] * N\n",
    "    layers.append(G)\n",
    "    statemon = StateMonitor(G, ['v', ], record=True)\n",
    "    spikemon = SpikeMonitor(G)\n",
    "\n",
    "\n",
    "\n",
    "    # Pre pop\n",
    "    location = np.random.randint(0,n, 2)\n",
    "    rates = generate_rates(location)\n",
    "    inp = NeuronGroup(N, 'rates : Hz', threshold='rand()<rates*dt', dt=0.1 * ms, name=\"source_layer\")\n",
    "    layers.append(inp)\n",
    "    inp.rates = rates.ravel()\n",
    "    \n",
    "    synapse_model = '''\n",
    "                     w : 1\n",
    "                     dapre/dt = -apre/taupre : 1 (event-driven)\n",
    "                     dapost/dt = -apost/taupost : 1 (event-driven)\n",
    "                     '''\n",
    "    on_pre_model = '''\n",
    "                     gex_post += w\n",
    "                     apre += Apre\n",
    "                     w = clip(w+apost, 0, g_max)\n",
    "                     '''\n",
    "    on_post_model = '''\n",
    "                     apost += Apost\n",
    "                     w = clip(w+apre, 0, g_max)\n",
    "                     '''\n",
    "    \n",
    "    # Feedforward connections (from source to target)\n",
    "    feedforward = Synapses(inp, G, synapse_model, \n",
    "                     on_pre = on_pre_model,\n",
    "                     on_post = on_post_model,\n",
    "                     dt = dt, name=\"feedforward_projections\")\n",
    "    feedforward.connect()\n",
    "    feedforward.add_attribute('synapse_connected')\n",
    "    feedforward.synapse_connected = np.zeros(N**2, dtype=np.bool_)\n",
    "    feedforward.w = [0, ] * (N**2)\n",
    "    projections.append(feedforward)\n",
    "    \n",
    "    # Lateral connections (from target to target)\n",
    "    \n",
    "    lateral = Synapses(G, G, synapse_model, \n",
    "                     on_pre = on_pre_model,\n",
    "                     on_post = on_post_model,\n",
    "                     dt = dt, name=\"lateral_projections\")\n",
    "    lateral.connect()\n",
    "    lateral.add_attribute('synapse_connected')\n",
    "    lateral.synapse_connected = np.zeros(N**2, dtype=np.bool_)\n",
    "    lateral.w = [0, ] * (N**2)\n",
    "    projections.append(lateral)\n",
    "    \n",
    "    \n",
    "    def elimination_rule(projection, synapse_index):\n",
    "        '''\n",
    "        Delete a synapse based on the elimination probability\n",
    "        '''\n",
    "        \n",
    "        # Generate a value to check against form / elimination probabilities \n",
    "        r = np.random.rand()\n",
    "        if 'feedforward' in projection[projection_index].name and r < p_form_forward * np.e ** (-1):\n",
    "            pass\n",
    "        else:\n",
    "            pass\n",
    "    \n",
    "    def formation_rule(projection, synapse_index):\n",
    "        '''\n",
    "        Create a new synapse based on the formation probability\n",
    "        Also, take into account the number of existing presynaptic projections into the current neuron\n",
    "        '''\n",
    "        \n",
    "        # Generate a value to check against form / elimination probabilities \n",
    "        r = np.random.rand()\n",
    "        if 'feedforward' in projection[projection_index].name:\n",
    "            pass\n",
    "        else:\n",
    "            pass\n",
    "            \n",
    "    \n",
    "#     inp_spikemon = SpikeMonitor(inp)\n",
    "    @network_operation(dt=1./ f_rew)\n",
    "    def rewire():\n",
    "        '''\n",
    "        At a fixed rate, a potential synapse is chosen. If it already exists, follow elimination rule, \n",
    "        else follow formation rule.\n",
    "        \n",
    "        '''\n",
    "        # First, choose a type of projection\n",
    "        projection_index = np.random.randint(0, len(projections))\n",
    "        # Second, choose a synapse from that projection\n",
    "        synapse_index = np.random.randint(0, N)\n",
    "        # Third, check if the synapse exists or not and follow the appropriate rule\n",
    "#         if projection[projection_index].synapse_connected[synapse_index]:\n",
    "#             elimination_rule(projection[projection_index], synapse_index)\n",
    "#         else:\n",
    "#             formation_rule(projection[projection_index], synapse_index)\n",
    "    \n",
    "    @network_operation(dt=t_stim)\n",
    "    def change_stimulus():\n",
    "        location = np.random.randint(0,n, 2)\n",
    "        rates = generate_rates(location)\n",
    "        inp.rates = rates.ravel()\n",
    "\n",
    "    run(duration)\n",
    "\n",
    "    \n",
    "    end = time.time() * second\n",
    "    print(end - start)\n",
    "    output = (statemon, spikemon, feedforward, lateral)\n",
    "    return output"
   ]
  },
  {
   "cell_type": "code",
   "execution_count": 60,
   "metadata": {
    "collapsed": false
   },
   "outputs": [
    {
     "name": "stderr",
     "output_type": "stream",
     "text": [
      "WARNING    \"rates\" is an internal variable of group \"source_layer\", but also exists in the run namespace with the value array([[  45.46193478,   49.33139025,   53.2640424 ,   57.13514129,\n",
      "          60.77622248,   63.97763112,   66.50485659,   68.13317602,\n",
      "          68.69651661,   68.13317602,   66.50485659,   63.97763112,\n",
      "          60.77622248,   57.13514129,   53.2640424 ,   49.33139025],\n",
      "       [  48.77793296,   53.2640424 ,   57.90351088,   62.56119641,\n",
      "          67.03768716,   71.06270622,   74.30800846,   76.4347582 ,\n",
      "          77.17760926,   76.4347582 ,   74.30800846,   71.06270622,\n",
      "          67.03768716,   62.56119641,   57.90351088,   53.2640424 ],\n",
      "       [  51.98752943,   57.13514129,   62.56119641,   68.13317602,\n",
      "          73.63065817,   78.71902374,   82.9435055 ,   85.78186017,\n",
      "          86.78794628,   85.78186017,   82.9435055 ,   78.71902374,\n",
      "          73.63065817,   68.13317602,   62.56119641,   57.13514129],\n",
      "       [  54.95366561,   60.77622248,   67.03768716,   73.63065817,\n",
      "          80.34089605,   86.78794628,   92.3665846 ,   96.26265552,\n",
      "          97.6778848 ,   96.26265552,   92.3665846 ,   86.78794628,\n",
      "          80.34089605,   73.63065817,   67.03768716,   60.77622248],\n",
      "       [  57.51660517,   63.97763112,   71.06270622,   78.71902374,\n",
      "          86.78794628,   94.90915672,  102.36199771,  107.90900686,\n",
      "         110.0178018 ,  107.90900686,  102.36199771,   94.90915672,\n",
      "          86.78794628,   78.71902374,   71.06270622,   63.97763112],\n",
      "       [  59.50832653,   66.50485659,   74.30800846,   82.9435055 ,\n",
      "          92.3665846 ,  102.36199771,  112.294403  ,  120.54053024,\n",
      "         124.00075965,  120.54053024,  112.294403  ,  102.36199771,\n",
      "          92.3665846 ,   82.9435055 ,   74.30800846,   66.50485659],\n",
      "       [  60.77622248,   68.13317602,   76.4347582 ,   85.78186017,\n",
      "          96.26265552,  107.90900686,  120.54053024,  133.04134012,\n",
      "         139.84552671,  133.04134012,  120.54053024,  107.90900686,\n",
      "          96.26265552,   85.78186017,   76.4347582 ,   68.13317602],\n",
      "       [  61.21197861,   68.69651661,   77.17760926,   86.78794628,\n",
      "          97.6778848 ,  110.0178018 ,  124.00075965,  139.84552671,\n",
      "         157.8       ,  139.84552671,  124.00075965,  110.0178018 ,\n",
      "          97.6778848 ,   86.78794628,   77.17760926,   68.69651661],\n",
      "       [  60.77622248,   68.13317602,   76.4347582 ,   85.78186017,\n",
      "          96.26265552,  107.90900686,  120.54053024,  133.04134012,\n",
      "         139.84552671,  133.04134012,  120.54053024,  107.90900686,\n",
      "          96.26265552,   85.78186017,   76.4347582 ,   68.13317602],\n",
      "       [  59.50832653,   66.50485659,   74.30800846,   82.9435055 ,\n",
      "          92.3665846 ,  102.36199771,  112.294403  ,  120.54053024,\n",
      "         124.00075965,  120.54053024,  112.294403  ,  102.36199771,\n",
      "          92.3665846 ,   82.9435055 ,   74.30800846,   66.50485659],\n",
      "       [  57.51660517,   63.97763112,   71.06270622,   78.71902374,\n",
      "          86.78794628,   94.90915672,  102.36199771,  107.90900686,\n",
      "         110.0178018 ,  107.90900686,  102.36199771,   94.90915672,\n",
      "          86.78794628,   78.71902374,   71.06270622,   63.97763112],\n",
      "       [  54.95366561,   60.77622248,   67.03768716,   73.63065817,\n",
      "          80.34089605,   86.78794628,   92.3665846 ,   96.26265552,\n",
      "          97.6778848 ,   96.26265552,   92.3665846 ,   86.78794628,\n",
      "          80.34089605,   73.63065817,   67.03768716,   60.77622248],\n",
      "       [  51.98752943,   57.13514129,   62.56119641,   68.13317602,\n",
      "          73.63065817,   78.71902374,   82.9435055 ,   85.78186017,\n",
      "          86.78794628,   85.78186017,   82.9435055 ,   78.71902374,\n",
      "          73.63065817,   68.13317602,   62.56119641,   57.13514129],\n",
      "       [  48.77793296,   53.2640424 ,   57.90351088,   62.56119641,\n",
      "          67.03768716,   71.06270622,   74.30800846,   76.4347582 ,\n",
      "          77.17760926,   76.4347582 ,   74.30800846,   71.06270622,\n",
      "          67.03768716,   62.56119641,   57.90351088,   53.2640424 ],\n",
      "       [  45.46193478,   49.33139025,   53.2640424 ,   57.13514129,\n",
      "          60.77622248,   63.97763112,   66.50485659,   68.13317602,\n",
      "          68.69651661,   68.13317602,   66.50485659,   63.97763112,\n",
      "          60.77622248,   57.13514129,   53.2640424 ,   49.33139025],\n",
      "       [  42.14823702,   45.46193478,   48.77793296,   51.98752943,\n",
      "          54.95366561,   57.51660517,   59.50832653,   60.77622248,\n",
      "          61.21197861,   60.77622248,   59.50832653,   57.51660517,\n",
      "          54.95366561,   51.98752943,   48.77793296,   45.46193478]]) * hertz. The internal variable will be used. [brian2.groups.group.Group.resolve.resolution_conflict]\n"
     ]
    },
    {
     "name": "stdout",
     "output_type": "stream",
     "text": [
      "10.83500004 s\n"
     ]
    }
   ],
   "source": [
    "state, spike, ff, lat = simulate(duration=100*ms)"
   ]
  },
  {
   "cell_type": "code",
   "execution_count": 58,
   "metadata": {
    "collapsed": false
   },
   "outputs": [
    {
     "data": {
      "text/plain": [
       "(-0.075, -0.05)"
      ]
     },
     "execution_count": 58,
     "metadata": {},
     "output_type": "execute_result"
    },
    {
     "data": {
      "image/png": "[encoded data removed]",
      "text/plain": [
       "<matplotlib.figure.Figure at 0x8f61e70>"
      ]
     },
     "metadata": {},
     "output_type": "display_data"
    }
   ],
   "source": [
    "\n",
    "#     print \"Output spike times:\"\n",
    "plot(state.t/ms, state.v[0])\n",
    "for t in spike.spike_trains()[0]:\n",
    "    axvline(t/ms, ls=':', c='r', lw=1, alpha=.3)\n",
    "#         print t,\n",
    "#     print \"Input spike times:\"\n",
    "#     for t in inp_spikemon.t:\n",
    "#         axvline(t/ms, ls=':', c='y', lw=1)\n",
    "#         print t,\n",
    "xlabel('Time (ms)')\n",
    "ylabel('v')\n",
    "ylim([-.075, -.05])"
   ]
  },
  {
   "cell_type": "code",
   "execution_count": null,
   "metadata": {
    "collapsed": true
   },
   "outputs": [],
   "source": []
  }
 ],
 "metadata": {
  "kernelspec": {
   "display_name": "Python 2",
   "language": "python",
   "name": "python2"
  },
  "language_info": {
   "codemirror_mode": {
    "name": "ipython",
    "version": 2
   },
   "file_extension": ".py",
   "mimetype": "text/x-python",
   "name": "python",
   "nbconvert_exporter": "python",
   "pygments_lexer": "ipython2",
   "version": "2.7.9"
  }
 },
 "nbformat": 4,
 "nbformat_minor": 0
}
