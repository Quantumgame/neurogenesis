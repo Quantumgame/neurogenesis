{
 "cells": [
  {
   "cell_type": "code",
   "execution_count": 49,
   "metadata": {
    "collapsed": false
   },
   "outputs": [
    {
     "data": {
      "text/plain": [
       "<matplotlib.figure.Figure at 0x8622d30>"
      ]
     },
     "metadata": {},
     "output_type": "display_data"
    }
   ],
   "source": [
    "import numpy as np\n",
    "import matplotlib.pyplot as plt\n",
    "from brian2 import *\n",
    "%matplotlib inline\n",
    "plt.viridis()"
   ]
  },
  {
   "cell_type": "code",
   "execution_count": 4,
   "metadata": {
    "collapsed": false
   },
   "outputs": [],
   "source": [
    "no_iterations = 3000000\n",
    "\n",
    "# Wiring\n",
    "n = 16\n",
    "N_layer = n ** 2\n",
    "S = (n, n)\n",
    "\n",
    "s_max = 32\n",
    "sigma_form_forward = 2.5\n",
    "sigma_form_lateral = 1\n",
    "p_form_lateral = 1\n",
    "p_form_forward = 0.16\n",
    "p_elim_dep = 0.0245\n",
    "p_elim_pot = 1.36 * np.e ** -4\n",
    "f_rew = 10 ** 4 * Hz#Hz\n",
    "\n",
    "# Membrane\n",
    "v_rest = -70 * mvolt #mV\n",
    "e_ext = 0 * mvolt #V\n",
    "v_thr = -54 * mvolt #mV\n",
    "g_max = 0.2\n",
    "tau_m = 20* ms #ms\n",
    "tau_ex = 5* ms #ms\n",
    "e = np.e\n",
    "g = g_max\n",
    "pre_t = 0 * ms\n",
    "\n",
    "\n",
    "# Inputs\n",
    "f_mean = 20 * Hz\n",
    "f_base = 5 * Hz\n",
    "f_peak = 152.8  * Hz\n",
    "sigma_stim = 2\n",
    "t_stim = 0.02 * second\n",
    "rate = 200 * Hz\n",
    "\n",
    "# STDP\n",
    "Apre = a_plus = 0.1\n",
    "b = 1.2\n",
    "taupre = tau_plus = 20 * ms #ms\n",
    "taupost = tau_minus = 64 * ms #ms\n",
    "Apost = a_minus = (a_plus * tau_plus * b) / tau_minus"
   ]
  },
  {
   "cell_type": "code",
   "execution_count": 4,
   "metadata": {
    "collapsed": false
   },
   "outputs": [
    {
     "name": "stdout",
     "output_type": "stream",
     "text": [
      "creating c:\\users\\petrut\\appdata\\local\\temp\\scipy-Petrut-let17a\\python27_intermediate\\compiler_e3b0c44298fc1c149afbf4c8996fb924\n",
      "0. s 5.2 ms 10.5 ms 15.7 ms 21. ms 26.3 ms 31.5 ms 36.8 ms 42.1 ms 47.3 ms 52.6 ms 57.8 ms 63.1 ms 68.4 ms 73.6 ms 78.9 ms 84.2 ms 89.4 ms 94.7 ms rate =  0. Hz\n"
     ]
    },
    {
     "data": {
      "image/png": "[encoded data removed]",
      "text/plain": [
       "<matplotlib.figure.Figure at 0x7ff2270>"
      ]
     },
     "metadata": {},
     "output_type": "display_data"
    },
    {
     "data": {
      "image/png": "[encoded data removed]",
      "text/plain": [
       "<matplotlib.figure.Figure at 0x803ee30>"
      ]
     },
     "metadata": {},
     "output_type": "display_data"
    }
   ],
   "source": [
    "start_scope()\n",
    "eqs = '''\n",
    "dv/dt = (v_rest-v + gex * (e_ext - v))/tau_m : volt\n",
    "dgex/dt = -gex/tau_ex: 1\n",
    "'''\n",
    "G = NeuronGroup(1, eqs, threshold='v > -54 * mV',\n",
    "                reset='v = -70 * mV', method='euler', dt=0.1 * ms)#, events={'trigger_stdp' : 'v > v_thr'})\n",
    "G.v = -70*mV\n",
    "G.gex = 0.0\n",
    "# G.run_on_event('trigger_stdp', 'x=0')\n",
    "# event_mon = EventMonitor(group, 'trigger_stdp')\n",
    "statemon = StateMonitor(G, ['v', 'gex',], record=0)\n",
    "spikemon = SpikeMonitor(G)\n",
    "\n",
    "\n",
    "\n",
    "# Pre pop\n",
    "# gap = 100 * ms / (rate  * (100 *ms))\n",
    "times = np.linspace(0, 100, rate  * (100 *ms)) * ms\n",
    "inp = SpikeGeneratorGroup(1, [0] * len(times), times)\n",
    "\n",
    "# Connection from pre pop\n",
    "feedforward = Synapses(inp, G, \n",
    "                 '''\n",
    "                 w : 1\n",
    "                 dapre/dt = -apre/taupre : 1 (event-driven)\n",
    "                 dapost/dt = -apost/taupost : 1 (event-driven)\n",
    "                 ''', \n",
    "                 on_pre=\n",
    "                 '''\n",
    "                 gex_post += w\n",
    "                 apre += Apre\n",
    "                 w = clip(w+apost, 0, g_max)\n",
    "                 ''',\n",
    "                 on_post='''\n",
    "                 apost += Apost\n",
    "                 w = clip(w+apre, 0, g_max)\n",
    "                 ''')\n",
    "feedforward.connect(j='i')\n",
    "feedforward.w = g_max\n",
    "# feedforward.g = g_max\n",
    "\n",
    "\n",
    "\n",
    "# G.g = linked_var(feedforward, 'g')\n",
    "# print G.g\n",
    "\n",
    "\n",
    "inp_spikemon = SpikeMonitor(inp)\n",
    "\n",
    "run(100*ms)\n",
    "\n",
    "plot(statemon.t/ms, statemon.v[0])\n",
    "for t in spikemon.t:\n",
    "    axvline(t/ms, ls='--', c='r', lw=3)\n",
    "    print t,\n",
    "for t in inp_spikemon.t:\n",
    "    axvline(t/ms, ls=':', c='y', lw=1)\n",
    "    print t,\n",
    "xlabel('Time (ms)')\n",
    "ylabel('v')\n",
    "ylim([-.075, -.05])\n",
    "figure()\n",
    "plot(statemon.t/ms, statemon.gex[0])\n",
    "print \"rate = \", len(spikemon.t) / (100 * ms)"
   ]
  },
  {
   "cell_type": "code",
   "execution_count": null,
   "metadata": {
    "collapsed": true
   },
   "outputs": [],
   "source": []
  },
  {
   "cell_type": "code",
   "execution_count": 201,
   "metadata": {
    "collapsed": false
   },
   "outputs": [
    {
     "data": {
      "text/plain": [
       "array([   0.        ,    7.14285714,   14.28571429,   21.42857143,\n",
       "         28.57142857,   35.71428571,   42.85714286,   50.        ,\n",
       "         57.14285714,   64.28571429,   71.42857143,   78.57142857,\n",
       "         85.71428571,   92.85714286,  100.        ])"
      ]
     },
     "execution_count": 201,
     "metadata": {},
     "output_type": "execute_result"
    }
   ],
   "source": [
    "np.linspace(0, 100, rate  * (100 *ms))"
   ]
  },
  {
   "cell_type": "code",
   "execution_count": 110,
   "metadata": {
    "collapsed": false
   },
   "outputs": [
    {
     "name": "stdout",
     "output_type": "stream",
     "text": [
      "[   0.   10.   20.   30.   40.   50.   60.   70.   80.   90.  100.  110.\n",
      "  120.  130.  140.  150.  160.  170.  180.  190.] ms\n"
     ]
    }
   ],
   "source": [
    "print times"
   ]
  },
  {
   "cell_type": "code",
   "execution_count": 154,
   "metadata": {
    "collapsed": false
   },
   "outputs": [
    {
     "data": {
      "text/plain": [
       "20.0"
      ]
     },
     "execution_count": 154,
     "metadata": {},
     "output_type": "execute_result"
    }
   ],
   "source": [
    "rate  * (100 *ms)"
   ]
  },
  {
   "cell_type": "code",
   "execution_count": 245,
   "metadata": {
    "collapsed": false
   },
   "outputs": [
    {
     "data": {
      "text/plain": [
       "157.8"
      ]
     },
     "execution_count": 245,
     "metadata": {},
     "output_type": "execute_result"
    }
   ],
   "source": [
    "rate"
   ]
  },
  {
   "cell_type": "code",
   "execution_count": 22,
   "metadata": {
    "collapsed": false
   },
   "outputs": [
    {
     "data": {
      "text/latex": [
       "$\\left[\\begin{array}{cccccccccccccccc}57.5166051713957 & 63.9776311224967 & 71.0627062170279 & 78.7190237380432 & 86.7879462777017 & 94.909156724203 & 102.361997713353 & 107.909006857777 & 110.017801799261 & 107.909006857777 & 102.361997713353 & 94.909156724203 & 86.7879462777017 & 78.7190237380432 & 71.0627062170279 & 63.9776311224967\\\\54.9536656097486 & 60.7762224829591 & 67.0376871644956 & 73.630658173968 & 80.3408960451927 & 86.7879462777017 & 92.3665846028651 & 96.2626555249402 & 97.6778848040904 & 96.2626555249402 & 92.3665846028651 & 86.7879462777017 & 80.3408960451927 & 73.630658173968 & 67.0376871644956 & 60.7762224829591\\\\51.9875294299273 & 57.1351412918042 & 62.5611964099803 & 68.1331760157029 & 73.630658173968 & 78.7190237380432 & 82.9435055028187 & 85.7818601746323 & 86.7879462777017 & 85.7818601746323 & 82.9435055028187 & 78.7190237380432 & 73.630658173968 & 68.1331760157029 & 62.5611964099803 & 57.1351412918042\\\\48.7779329602371 & 53.2640423966775 & 57.9035108825739 & 62.5611964099803 & 67.0376871644956 & 71.0627062170279 & 74.3080084584684 & 76.4347582020794 & 77.1776092588271 & 76.4347582020794 & 74.3080084584684 & 71.0627062170279 & 67.0376871644956 & 62.5611964099803 & 57.9035108825739 & 53.2640423966775\\\\45.4619347787627 & 49.3313902504523 & 53.2640423966775 & 57.1351412918042 & 60.7762224829591 & 63.9776311224967 & 66.5048565859823 & 68.1331760157029 & 68.6965166068761 & 68.1331760157029 & 66.5048565859823 & 63.9776311224967 & 60.7762224829591 & 57.1351412918042 & 53.2640423966775 & 49.3313902504523\\\\42.1482370215479 & 45.4619347787627 & 48.7779329602371 & 51.9875294299273 & 54.9536656097486 & 57.5166051713957 & 59.508326527905 & 60.7762224829591 & 61.2119786109964 & 60.7762224829591 & 59.508326527905 & 57.5166051713957 & 54.9536656097486 & 51.9875294299273 & 48.7779329602371 & 45.4619347787627\\\\45.4619347787627 & 49.3313902504523 & 53.2640423966775 & 57.1351412918042 & 60.7762224829591 & 63.9776311224967 & 66.5048565859823 & 68.1331760157029 & 68.6965166068761 & 68.1331760157029 & 66.5048565859823 & 63.9776311224967 & 60.7762224829591 & 57.1351412918042 & 53.2640423966775 & 49.3313902504523\\\\48.7779329602371 & 53.2640423966775 & 57.9035108825739 & 62.5611964099803 & 67.0376871644956 & 71.0627062170279 & 74.3080084584684 & 76.4347582020794 & 77.1776092588271 & 76.4347582020794 & 74.3080084584684 & 71.0627062170279 & 67.0376871644956 & 62.5611964099803 & 57.9035108825739 & 53.2640423966775\\\\51.9875294299273 & 57.1351412918042 & 62.5611964099803 & 68.1331760157029 & 73.630658173968 & 78.7190237380432 & 82.9435055028187 & 85.7818601746323 & 86.7879462777017 & 85.7818601746323 & 82.9435055028187 & 78.7190237380432 & 73.630658173968 & 68.1331760157029 & 62.5611964099803 & 57.1351412918042\\\\54.9536656097486 & 60.7762224829591 & 67.0376871644956 & 73.630658173968 & 80.3408960451927 & 86.7879462777017 & 92.3665846028651 & 96.2626555249402 & 97.6778848040904 & 96.2626555249402 & 92.3665846028651 & 86.7879462777017 & 80.3408960451927 & 73.630658173968 & 67.0376871644956 & 60.7762224829591\\\\57.5166051713957 & 63.9776311224967 & 71.0627062170279 & 78.7190237380432 & 86.7879462777017 & 94.909156724203 & 102.361997713353 & 107.909006857777 & 110.017801799261 & 107.909006857777 & 102.361997713353 & 94.909156724203 & 86.7879462777017 & 78.7190237380432 & 71.0627062170279 & 63.9776311224967\\\\59.508326527905 & 66.5048565859823 & 74.3080084584684 & 82.9435055028187 & 92.3665846028651 & 102.361997713353 & 112.294403002698 & 120.54053023644 & 124.000759653311 & 120.54053023644 & 112.294403002698 & 102.361997713353 & 92.3665846028651 & 82.9435055028187 & 74.3080084584684 & 66.5048565859823\\\\60.7762224829591 & 68.1331760157029 & 76.4347582020794 & 85.7818601746323 & 96.2626555249402 & 107.909006857777 & 120.54053023644 & 133.041340116434 & 139.845526714926 & 133.041340116434 & 120.54053023644 & 107.909006857777 & 96.2626555249402 & 85.7818601746323 & 76.4347582020794 & 68.1331760157029\\\\61.2119786109964 & 68.6965166068761 & 77.1776092588271 & 86.7879462777017 & 97.6778848040904 & 110.017801799261 & 124.000759653311 & 139.845526714926 & 157.8 & 139.845526714926 & 124.000759653311 & 110.017801799261 & 97.6778848040904 & 86.7879462777017 & 77.1776092588271 & 68.6965166068761\\\\60.7762224829591 & 68.1331760157029 & 76.4347582020794 & 85.7818601746323 & 96.2626555249402 & 107.909006857777 & 120.54053023644 & 133.041340116434 & 139.845526714926 & 133.041340116434 & 120.54053023644 & 107.909006857777 & 96.2626555249402 & 85.7818601746323 & 76.4347582020794 & 68.1331760157029\\\\59.508326527905 & 66.5048565859823 & 74.3080084584684 & 82.9435055028187 & 92.3665846028651 & 102.361997713353 & 112.294403002698 & 120.54053023644 & 124.000759653311 & 120.54053023644 & 112.294403002698 & 102.361997713353 & 92.3665846028651 & 82.9435055028187 & 74.3080084584684 & 66.5048565859823\\end{array}\\right]\\,\\mathrm{Hz}$"
      ],
      "text/plain": [
       "array([[  57.51660517,   63.97763112,   71.06270622,   78.71902374,\n",
       "          86.78794628,   94.90915672,  102.36199771,  107.90900686,\n",
       "         110.0178018 ,  107.90900686,  102.36199771,   94.90915672,\n",
       "          86.78794628,   78.71902374,   71.06270622,   63.97763112],\n",
       "       [  54.95366561,   60.77622248,   67.03768716,   73.63065817,\n",
       "          80.34089605,   86.78794628,   92.3665846 ,   96.26265552,\n",
       "          97.6778848 ,   96.26265552,   92.3665846 ,   86.78794628,\n",
       "          80.34089605,   73.63065817,   67.03768716,   60.77622248],\n",
       "       [  51.98752943,   57.13514129,   62.56119641,   68.13317602,\n",
       "          73.63065817,   78.71902374,   82.9435055 ,   85.78186017,\n",
       "          86.78794628,   85.78186017,   82.9435055 ,   78.71902374,\n",
       "          73.63065817,   68.13317602,   62.56119641,   57.13514129],\n",
       "       [  48.77793296,   53.2640424 ,   57.90351088,   62.56119641,\n",
       "          67.03768716,   71.06270622,   74.30800846,   76.4347582 ,\n",
       "          77.17760926,   76.4347582 ,   74.30800846,   71.06270622,\n",
       "          67.03768716,   62.56119641,   57.90351088,   53.2640424 ],\n",
       "       [  45.46193478,   49.33139025,   53.2640424 ,   57.13514129,\n",
       "          60.77622248,   63.97763112,   66.50485659,   68.13317602,\n",
       "          68.69651661,   68.13317602,   66.50485659,   63.97763112,\n",
       "          60.77622248,   57.13514129,   53.2640424 ,   49.33139025],\n",
       "       [  42.14823702,   45.46193478,   48.77793296,   51.98752943,\n",
       "          54.95366561,   57.51660517,   59.50832653,   60.77622248,\n",
       "          61.21197861,   60.77622248,   59.50832653,   57.51660517,\n",
       "          54.95366561,   51.98752943,   48.77793296,   45.46193478],\n",
       "       [  45.46193478,   49.33139025,   53.2640424 ,   57.13514129,\n",
       "          60.77622248,   63.97763112,   66.50485659,   68.13317602,\n",
       "          68.69651661,   68.13317602,   66.50485659,   63.97763112,\n",
       "          60.77622248,   57.13514129,   53.2640424 ,   49.33139025],\n",
       "       [  48.77793296,   53.2640424 ,   57.90351088,   62.56119641,\n",
       "          67.03768716,   71.06270622,   74.30800846,   76.4347582 ,\n",
       "          77.17760926,   76.4347582 ,   74.30800846,   71.06270622,\n",
       "          67.03768716,   62.56119641,   57.90351088,   53.2640424 ],\n",
       "       [  51.98752943,   57.13514129,   62.56119641,   68.13317602,\n",
       "          73.63065817,   78.71902374,   82.9435055 ,   85.78186017,\n",
       "          86.78794628,   85.78186017,   82.9435055 ,   78.71902374,\n",
       "          73.63065817,   68.13317602,   62.56119641,   57.13514129],\n",
       "       [  54.95366561,   60.77622248,   67.03768716,   73.63065817,\n",
       "          80.34089605,   86.78794628,   92.3665846 ,   96.26265552,\n",
       "          97.6778848 ,   96.26265552,   92.3665846 ,   86.78794628,\n",
       "          80.34089605,   73.63065817,   67.03768716,   60.77622248],\n",
       "       [  57.51660517,   63.97763112,   71.06270622,   78.71902374,\n",
       "          86.78794628,   94.90915672,  102.36199771,  107.90900686,\n",
       "         110.0178018 ,  107.90900686,  102.36199771,   94.90915672,\n",
       "          86.78794628,   78.71902374,   71.06270622,   63.97763112],\n",
       "       [  59.50832653,   66.50485659,   74.30800846,   82.9435055 ,\n",
       "          92.3665846 ,  102.36199771,  112.294403  ,  120.54053024,\n",
       "         124.00075965,  120.54053024,  112.294403  ,  102.36199771,\n",
       "          92.3665846 ,   82.9435055 ,   74.30800846,   66.50485659],\n",
       "       [  60.77622248,   68.13317602,   76.4347582 ,   85.78186017,\n",
       "          96.26265552,  107.90900686,  120.54053024,  133.04134012,\n",
       "         139.84552671,  133.04134012,  120.54053024,  107.90900686,\n",
       "          96.26265552,   85.78186017,   76.4347582 ,   68.13317602],\n",
       "       [  61.21197861,   68.69651661,   77.17760926,   86.78794628,\n",
       "          97.6778848 ,  110.0178018 ,  124.00075965,  139.84552671,\n",
       "         157.8       ,  139.84552671,  124.00075965,  110.0178018 ,\n",
       "          97.6778848 ,   86.78794628,   77.17760926,   68.69651661],\n",
       "       [  60.77622248,   68.13317602,   76.4347582 ,   85.78186017,\n",
       "          96.26265552,  107.90900686,  120.54053024,  133.04134012,\n",
       "         139.84552671,  133.04134012,  120.54053024,  107.90900686,\n",
       "          96.26265552,   85.78186017,   76.4347582 ,   68.13317602],\n",
       "       [  59.50832653,   66.50485659,   74.30800846,   82.9435055 ,\n",
       "          92.3665846 ,  102.36199771,  112.294403  ,  120.54053024,\n",
       "         124.00075965,  120.54053024,  112.294403  ,  102.36199771,\n",
       "          92.3665846 ,   82.9435055 ,   74.30800846,   66.50485659]]) * hertz"
      ]
     },
     "execution_count": 22,
     "metadata": {},
     "output_type": "execute_result"
    }
   ],
   "source": [
    "generate_rates((13,8))"
   ]
  },
  {
   "cell_type": "code",
   "execution_count": 23,
   "metadata": {
    "collapsed": false
   },
   "outputs": [
    {
     "data": {
      "text/plain": [
       "<matplotlib.colorbar.Colorbar at 0x7ff01a19ebd0>"
      ]
     },
     "execution_count": 23,
     "metadata": {},
     "output_type": "execute_result"
    },
    {
     "data": {
      "image/png": "[encoded data removed]",
      "text/plain": [
       "<matplotlib.figure.Figure at 0x7ff01c9a1990>"
      ]
     },
     "metadata": {},
     "output_type": "display_data"
    }
   ],
   "source": [
    "\n",
    "plt.matshow(generate_rates((13,8))/Hz, fignum=100)\n",
    "plt.grid(visible=True)\n",
    "plt.colorbar()"
   ]
  },
  {
   "cell_type": "code",
   "execution_count": 5,
   "metadata": {
    "collapsed": false
   },
   "outputs": [],
   "source": [
    "def distance(s, t, grid_size=S, dist_type='euclidian'):\n",
    "    '''\n",
    "    Function that computes distance in a grid of neurons taking into account periodic boundry conditions.\n",
    "    \n",
    "    First, translate source into the center of the grid.\n",
    "    Second, translate target by the same amount.\n",
    "    Finally, perform desired distance computation.\n",
    "    '''\n",
    "    s = np.asarray(s)\n",
    "    t = np.asarray(t)\n",
    "    _grid_size = np.asarray(grid_size)\n",
    "    trans = s - (_grid_size//2)\n",
    "    s = np.mod(s - trans, grid_size)\n",
    "    t = np.mod(t - trans, grid_size)\n",
    "    if dist_type == 'manhattan':\n",
    "        return s[0] - t[0] + s[1] - t[1]\n",
    "    return np.sqrt((s[0] - t[0])**2 + (s[1] - t[1])**2)"
   ]
  },
  {
   "cell_type": "code",
   "execution_count": 6,
   "metadata": {
    "collapsed": true
   },
   "outputs": [],
   "source": [
    "def generate_rates(s, grid_size=S, dist_type='euclidian'):\n",
    "    '''\n",
    "    Function that generates an array the same shape as the input layer so that \n",
    "    each cell has a value corresponding to the firing rate for the neuron\n",
    "    at that position.\n",
    "    '''\n",
    "    _rates = np.zeros(S)\n",
    "    for x, y in np.ndindex(S):\n",
    "        _d = distance(s, (x,y), grid_size=grid_size, dist_type=dist_type)\n",
    "        _rates[x, y] = f_base + f_peak * np.e ** (-_d/(2 * sigma_stim**2))\n",
    "    return _rates * Hz\n",
    "        "
   ]
  },
  {
   "cell_type": "markdown",
   "metadata": {},
   "source": [
    "**Neuron dynamics (target-layer)**: the membrane voltage $V_{mem}$ is described by:\n",
    "\n",
    "$\\tau_{mem}\\frac{\\delta V_{mem}}{\\delta t} = V_{rest} - V_{mem} + g_{ex}(t)(E_{ex}-V_{mem})$\n",
    "\n",
    "\n",
    "$E_{ex}$ = excitatory reversal potential; $V_{rest}$ = resting potential; $\\tau_{mem}$ = membrane time constant. Upon reaching a threshold $V_{thr}$, a spike occurs and $V_{mem}$ is reset to $V_{rest}$. A presynaptic\n",
    "spike at time 0 causes a synaptic conductance at time $t \\geq O$ of $g_{ex}(t) = ge^\\frac{-t}{\\tau_{ex}}(\\tau_{ex}$= synaptic time constant); this is cumulative for all pre-synaptic spikes.\n",
    "\n",
    "**STDP**: a pre-synaptic spike at time $t_{pre}$ and post-synaptic spike at $t_{post}$ modify the synaptic\n",
    "conductance by $g —> g + g_{max}F(\\Delta t)$,where $\\Delta t = t_{pre}—t_{post}$ and $F(\\Delta t) = A_{+}exp (\\Delta t/T_{+})$ if\n",
    "$\\Delta t$ < 0, otherwise $F(\\Delta t) = -A_{-}exp (-\\Delta t/T_{-})$, where $A_{+/-}$ are magnitudes and \n",
    "$\\tau_{+/-}$ are time constants for potentiation and depression respectively. This is cumulative for all pre and\n",
    "post-synaptic spike pairs; g is bounded in (0, $g_{max}$)."
   ]
  },
  {
   "cell_type": "code",
   "execution_count": 41,
   "metadata": {
    "collapsed": false
   },
   "outputs": [],
   "source": [
    "import time\n",
    "def simulate(input_source=(7,7), N=16**2, duration=100*ms, dt=0.1 * ms, rate=200 * Hz):\n",
    "    start = time.time() * second\n",
    "    start_scope()\n",
    "    neuron_dynamics = '''\n",
    "    dv/dt = (v_rest-v + gex * (e_ext - v))/tau_m : volt\n",
    "    dgex/dt = -gex/tau_ex: 1\n",
    "    '''\n",
    "    G = NeuronGroup(N, neuron_dynamics, threshold='v > -54 * mV',\n",
    "                    reset='v = -70 * mV', method='euler', dt=0.1 * ms)\n",
    "    G.v = -70*mV\n",
    "    G.gex = 0.0\n",
    "    statemon = StateMonitor(G, ['v', ], record=True)\n",
    "    spikemon = SpikeMonitor(G)\n",
    "\n",
    "\n",
    "\n",
    "    # Pre pop\n",
    "    location = np.random.randint(0,16, 2)\n",
    "    rates = generate_rates(location)\n",
    "    inp = NeuronGroup(N, 'rates : Hz', threshold='rand()<rates*dt', dt=0.1 * ms) # rates.ravel())\n",
    "    inp.rates = rates.ravel()\n",
    "    \n",
    "    synapse_model = '''\n",
    "                     w : 1\n",
    "                     dapre/dt = -apre/taupre : 1 (event-driven)\n",
    "                     dapost/dt = -apost/taupost : 1 (event-driven)\n",
    "                     '''\n",
    "    on_pre_model = '''\n",
    "                     gex_post += w\n",
    "                     apre += Apre\n",
    "                     w = clip(w+apost, 0, g_max)\n",
    "                     '''\n",
    "    on_post_model = '''\n",
    "                     apost += Apost\n",
    "                     w = clip(w+apre, 0, g_max)\n",
    "                     '''\n",
    "\n",
    "    # Connection from pre pop\n",
    "    feedforward = Synapses(inp, G, synapse_model, \n",
    "                     on_pre = on_pre_model,\n",
    "                     on_post = on_post_model,\n",
    "                     dt = dt)\n",
    "    feedforward.connect(j='k for k in range(16**2)')\n",
    "    feedforward.w = g_max\n",
    "    \n",
    "    # Lateral connections (from target to target)\n",
    "    lateral = Synapses(G, G, synapse_model, \n",
    "                     on_pre = on_pre_model,\n",
    "                     on_post = on_post_model,\n",
    "                     dt = dt)\n",
    "    lateral.connect(j='k for k in range(16**2)')\n",
    "    lateral.w = g_max\n",
    "\n",
    "#     inp_spikemon = SpikeMonitor(inp)\n",
    "    @network_operation(dt=1./ f_rew)\n",
    "    def rewire():\n",
    "        pass\n",
    "    \n",
    "    @network_operation(dt=t_stim)\n",
    "    def change_stimulus():\n",
    "        location = np.random.randint(0,16, 2)\n",
    "        rates = generate_rates(location)\n",
    "        inp.rates = rates.ravel()\n",
    "\n",
    "    run(duration)\n",
    "\n",
    "    \n",
    "    end = time.time() * second\n",
    "    print(end - start)\n",
    "    output = (statemon, spikemon, feedforward, lateral)\n",
    "    return output"
   ]
  },
  {
   "cell_type": "code",
   "execution_count": 42,
   "metadata": {
    "collapsed": false
   },
   "outputs": [
    {
     "name": "stderr",
     "output_type": "stream",
     "text": [
      "WARNING    \"rates\" is an internal variable of group \"neurongroup_2\", but also exists in the run namespace with the value array([[  74.30800846,   66.50485659,   59.50832653,   66.50485659,\n",
      "          74.30800846,   82.9435055 ,   92.3665846 ,  102.36199771,\n",
      "         112.294403  ,  120.54053024,  124.00075965,  120.54053024,\n",
      "         112.294403  ,  102.36199771,   92.3665846 ,   82.9435055 ],\n",
      "       [  76.4347582 ,   68.13317602,   60.77622248,   68.13317602,\n",
      "          76.4347582 ,   85.78186017,   96.26265552,  107.90900686,\n",
      "         120.54053024,  133.04134012,  139.84552671,  133.04134012,\n",
      "         120.54053024,  107.90900686,   96.26265552,   85.78186017],\n",
      "       [  77.17760926,   68.69651661,   61.21197861,   68.69651661,\n",
      "          77.17760926,   86.78794628,   97.6778848 ,  110.0178018 ,\n",
      "         124.00075965,  139.84552671,  157.8       ,  139.84552671,\n",
      "         124.00075965,  110.0178018 ,   97.6778848 ,   86.78794628],\n",
      "       [  76.4347582 ,   68.13317602,   60.77622248,   68.13317602,\n",
      "          76.4347582 ,   85.78186017,   96.26265552,  107.90900686,\n",
      "         120.54053024,  133.04134012,  139.84552671,  133.04134012,\n",
      "         120.54053024,  107.90900686,   96.26265552,   85.78186017],\n",
      "       [  74.30800846,   66.50485659,   59.50832653,   66.50485659,\n",
      "          74.30800846,   82.9435055 ,   92.3665846 ,  102.36199771,\n",
      "         112.294403  ,  120.54053024,  124.00075965,  120.54053024,\n",
      "         112.294403  ,  102.36199771,   92.3665846 ,   82.9435055 ],\n",
      "       [  71.06270622,   63.97763112,   57.51660517,   63.97763112,\n",
      "          71.06270622,   78.71902374,   86.78794628,   94.90915672,\n",
      "         102.36199771,  107.90900686,  110.0178018 ,  107.90900686,\n",
      "         102.36199771,   94.90915672,   86.78794628,   78.71902374],\n",
      "       [  67.03768716,   60.77622248,   54.95366561,   60.77622248,\n",
      "          67.03768716,   73.63065817,   80.34089605,   86.78794628,\n",
      "          92.3665846 ,   96.26265552,   97.6778848 ,   96.26265552,\n",
      "          92.3665846 ,   86.78794628,   80.34089605,   73.63065817],\n",
      "       [  62.56119641,   57.13514129,   51.98752943,   57.13514129,\n",
      "          62.56119641,   68.13317602,   73.63065817,   78.71902374,\n",
      "          82.9435055 ,   85.78186017,   86.78794628,   85.78186017,\n",
      "          82.9435055 ,   78.71902374,   73.63065817,   68.13317602],\n",
      "       [  57.90351088,   53.2640424 ,   48.77793296,   53.2640424 ,\n",
      "          57.90351088,   62.56119641,   67.03768716,   71.06270622,\n",
      "          74.30800846,   76.4347582 ,   77.17760926,   76.4347582 ,\n",
      "          74.30800846,   71.06270622,   67.03768716,   62.56119641],\n",
      "       [  53.2640424 ,   49.33139025,   45.46193478,   49.33139025,\n",
      "          53.2640424 ,   57.13514129,   60.77622248,   63.97763112,\n",
      "          66.50485659,   68.13317602,   68.69651661,   68.13317602,\n",
      "          66.50485659,   63.97763112,   60.77622248,   57.13514129],\n",
      "       [  48.77793296,   45.46193478,   42.14823702,   45.46193478,\n",
      "          48.77793296,   51.98752943,   54.95366561,   57.51660517,\n",
      "          59.50832653,   60.77622248,   61.21197861,   60.77622248,\n",
      "          59.50832653,   57.51660517,   54.95366561,   51.98752943],\n",
      "       [  53.2640424 ,   49.33139025,   45.46193478,   49.33139025,\n",
      "          53.2640424 ,   57.13514129,   60.77622248,   63.97763112,\n",
      "          66.50485659,   68.13317602,   68.69651661,   68.13317602,\n",
      "          66.50485659,   63.97763112,   60.77622248,   57.13514129],\n",
      "       [  57.90351088,   53.2640424 ,   48.77793296,   53.2640424 ,\n",
      "          57.90351088,   62.56119641,   67.03768716,   71.06270622,\n",
      "          74.30800846,   76.4347582 ,   77.17760926,   76.4347582 ,\n",
      "          74.30800846,   71.06270622,   67.03768716,   62.56119641],\n",
      "       [  62.56119641,   57.13514129,   51.98752943,   57.13514129,\n",
      "          62.56119641,   68.13317602,   73.63065817,   78.71902374,\n",
      "          82.9435055 ,   85.78186017,   86.78794628,   85.78186017,\n",
      "          82.9435055 ,   78.71902374,   73.63065817,   68.13317602],\n",
      "       [  67.03768716,   60.77622248,   54.95366561,   60.77622248,\n",
      "          67.03768716,   73.63065817,   80.34089605,   86.78794628,\n",
      "          92.3665846 ,   96.26265552,   97.6778848 ,   96.26265552,\n",
      "          92.3665846 ,   86.78794628,   80.34089605,   73.63065817],\n",
      "       [  71.06270622,   63.97763112,   57.51660517,   63.97763112,\n",
      "          71.06270622,   78.71902374,   86.78794628,   94.90915672,\n",
      "         102.36199771,  107.90900686,  110.0178018 ,  107.90900686,\n",
      "         102.36199771,   94.90915672,   86.78794628,   78.71902374]]) * hertz. The internal variable will be used. [brian2.groups.group.Group.resolve.resolution_conflict]\n",
      "WARNING    \"t\" is an internal variable of group \"synapses_1\", but also exists in the run namespace with the value 0.9286 * second. The internal variable will be used. [brian2.groups.group.Group.resolve.resolution_conflict]\n",
      "WARNING    \"t\" is an internal variable of group \"synapses\", but also exists in the run namespace with the value 0.9286 * second. The internal variable will be used. [brian2.groups.group.Group.resolve.resolution_conflict]\n"
     ]
    },
    {
     "name": "stdout",
     "output_type": "stream",
     "text": [
      "11.21500015 s\n"
     ]
    }
   ],
   "source": [
    "state, spike, ff, lat = simulate(duration=100*ms)"
   ]
  },
  {
   "cell_type": "code",
   "execution_count": 43,
   "metadata": {
    "collapsed": false
   },
   "outputs": [
    {
     "data": {
      "text/plain": [
       "(-0.075, -0.05)"
      ]
     },
     "execution_count": 43,
     "metadata": {},
     "output_type": "execute_result"
    },
    {
     "data": {
      "image/png": "[encoded data removed]",
      "text/plain": [
       "<matplotlib.figure.Figure at 0x15a64090>"
      ]
     },
     "metadata": {},
     "output_type": "display_data"
    }
   ],
   "source": [
    "\n",
    "#     print \"Output spike times:\"\n",
    "plot(state.t/ms, state.v[0])\n",
    "for t in spike.spike_trains()[0]:\n",
    "    axvline(t/ms, ls=':', c='r', lw=1, alpha=.3)\n",
    "#         print t,\n",
    "#     print \"Input spike times:\"\n",
    "#     for t in inp_spikemon.t:\n",
    "#         axvline(t/ms, ls=':', c='y', lw=1)\n",
    "#         print t,\n",
    "xlabel('Time (ms)')\n",
    "ylabel('v')\n",
    "ylim([-.075, -.05])"
   ]
  },
  {
   "cell_type": "code",
   "execution_count": 50,
   "metadata": {
    "collapsed": false
   },
   "outputs": [
    {
     "data": {
      "text/plain": [
       "[SynapticPathway(clock=Clock(dt=100. * usecond, name='neurongroup_2_clock_1'), when=synapses, order=-1, name='synapses_pre'),\n",
       " SynapticPathway(clock=Clock(dt=100. * usecond, name='neurongroup_1_clock'), when=synapses, order=1, name='synapses_post')]"
      ]
     },
     "execution_count": 50,
     "metadata": {},
     "output_type": "execute_result"
    }
   ],
   "source": [
    "ff._pathways"
   ]
  },
  {
   "cell_type": "code",
   "execution_count": 57,
   "metadata": {
    "collapsed": false
   },
   "outputs": [
    {
     "data": {
      "text/plain": [
       "array([    0,     1,     2, ..., 65533, 65534, 65535])"
      ]
     },
     "execution_count": 57,
     "metadata": {},
     "output_type": "execute_result"
    }
   ],
   "source": [
    "SynapticIndexing(ff)(None)"
   ]
  },
  {
   "cell_type": "code",
   "execution_count": 53,
   "metadata": {
    "collapsed": true
   },
   "outputs": [],
   "source": [
    "from brian2.synapses.synapses import SynapticIndexing"
   ]
  },
  {
   "cell_type": "code",
   "execution_count": null,
   "metadata": {
    "collapsed": true
   },
   "outputs": [],
   "source": []
  }
 ],
 "metadata": {
  "kernelspec": {
   "display_name": "Python 2",
   "language": "python",
   "name": "python2"
  },
  "language_info": {
   "codemirror_mode": {
    "name": "ipython",
    "version": 2
   },
   "file_extension": ".py",
   "mimetype": "text/x-python",
   "name": "python",
   "nbconvert_exporter": "python",
   "pygments_lexer": "ipython2",
   "version": "2.7.9"
  }
 },
 "nbformat": 4,
 "nbformat_minor": 0
}
