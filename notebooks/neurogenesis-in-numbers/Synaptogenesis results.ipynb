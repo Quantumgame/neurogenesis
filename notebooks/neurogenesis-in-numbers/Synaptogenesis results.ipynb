{
 "cells": [
  {
   "cell_type": "code",
   "execution_count": 1,
   "metadata": {
    "collapsed": false
   },
   "outputs": [
    {
     "data": {
      "text/plain": [
       "<matplotlib.figure.Figure at 0x793a7f0>"
      ]
     },
     "metadata": {},
     "output_type": "display_data"
    }
   ],
   "source": [
    "import numpy as np\n",
    "import matplotlib.pyplot as plt\n",
    "from brian2 import *\n",
    "%matplotlib inline\n",
    "plt.viridis()\n",
    "import os"
   ]
  },
  {
   "cell_type": "code",
   "execution_count": 2,
   "metadata": {
    "collapsed": true
   },
   "outputs": [],
   "source": [
    "ff_w = []\n",
    "lat_w = []\n",
    "spikes = {}\n",
    "state = []\n",
    "ff_conn = []\n",
    "lat_conn = []\n",
    "final_s = []\n",
    "duration = 0 * second"
   ]
  },
  {
   "cell_type": "code",
   "execution_count": 3,
   "metadata": {
    "collapsed": false
   },
   "outputs": [
    {
     "name": "stdout",
     "output_type": "stream",
     "text": [
      "['spikes', 'lat_w', 'lat_conn', 'final_s', 'state', 'rates', 'duration', 'ff_w', 'ff_conn']\n"
     ]
    }
   ],
   "source": [
    "seed = 7\n",
    "np.random.seed(seed)\n",
    "recording_filename_location = \"../../synaptogenesis/\"\n",
    "recording_filename = str(np.random.randint(100000, 1000000))\n",
    "\n",
    "\n",
    "if os.path.isfile(recording_filename_location + recording_filename + \".npz\"):\n",
    "    with np.load(recording_filename_location + \"save-\" + recording_filename + \".npz\")as init_data:\n",
    "        print init_data.keys()\n",
    "        ff_w = init_data['ff_w']\n",
    "        lat_w = init_data['lat_w']\n",
    "        spikes = init_data['spikes']\n",
    "        state = init_data['state']\n",
    "        ff_conn =  init_data['ff_conn']\n",
    "        lat_conn = init_data['lat_conn']\n",
    "        final_s = init_data['final_s'].astype(np.int32)\n",
    "        duration = init_data['duration'] * second"
   ]
  },
  {
   "cell_type": "code",
   "execution_count": 4,
   "metadata": {
    "collapsed": false
   },
   "outputs": [
    {
     "data": {
      "text/plain": [
       "<matplotlib.colorbar.Colorbar at 0x7e54d10>"
      ]
     },
     "execution_count": 4,
     "metadata": {},
     "output_type": "execute_result"
    },
    {
     "data": {
      "image/png": "[encoded data removed]",
      "text/plain": [
       "<matplotlib.figure.Figure at 0x79967f0>"
      ]
     },
     "metadata": {},
     "output_type": "display_data"
    }
   ],
   "source": [
    "plt.matshow(final_s.reshape(16,16))\n",
    "plt.grid(visible=True)\n",
    "plt.colorbar()"
   ]
  },
  {
   "cell_type": "code",
   "execution_count": 31,
   "metadata": {
    "collapsed": false
   },
   "outputs": [
    {
     "data": {
      "text/latex": [
       "$200.0\\,\\mathrm{m}\\,\\mathrm{s}$"
      ],
      "text/plain": [
       "200. * msecond"
      ]
     },
     "execution_count": 31,
     "metadata": {},
     "output_type": "execute_result"
    }
   ],
   "source": [
    "duration"
   ]
  },
  {
   "cell_type": "code",
   "execution_count": null,
   "metadata": {
    "collapsed": true
   },
   "outputs": [],
   "source": []
  }
 ],
 "metadata": {
  "kernelspec": {
   "display_name": "Python 2",
   "language": "python",
   "name": "python2"
  },
  "language_info": {
   "codemirror_mode": {
    "name": "ipython",
    "version": 2
   },
   "file_extension": ".py",
   "mimetype": "text/x-python",
   "name": "python",
   "nbconvert_exporter": "python",
   "pygments_lexer": "ipython2",
   "version": "2.7.9"
  }
 },
 "nbformat": 4,
 "nbformat_minor": 0
}
