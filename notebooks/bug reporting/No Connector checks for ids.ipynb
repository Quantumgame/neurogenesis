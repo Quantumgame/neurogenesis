{
 "cells": [
  {
   "cell_type": "code",
   "execution_count": 39,
   "metadata": {
    "collapsed": true
   },
   "outputs": [],
   "source": [
    "import spynnaker.pyNN as p\n",
    "import numpy as np\n",
    "import matplotlib.pyplot as plt\n",
    "%matplotlib inline"
   ]
  },
  {
   "cell_type": "code",
   "execution_count": 31,
   "metadata": {
    "collapsed": false
   },
   "outputs": [
    {
     "data": {
      "text/plain": [
       "0"
      ]
     },
     "execution_count": 31,
     "metadata": {},
     "output_type": "execute_result"
    }
   ],
   "source": [
    "p.setup(timestep=1.0)"
   ]
  },
  {
   "cell_type": "code",
   "execution_count": 32,
   "metadata": {
    "collapsed": true
   },
   "outputs": [],
   "source": [
    "# Parameters\n",
    "cell_params_lif = {'cm': 0.25,\n",
    "                   'i_offset': 0.0,\n",
    "                   'tau_m': 20.0,\n",
    "                   'tau_refrac': 5.0,\n",
    "                   'tau_syn_E': 5.0,\n",
    "                   'tau_syn_I': 5.0,\n",
    "                   'v_reset': -70.0,\n",
    "                   'v_rest': -65.0,\n",
    "                   'v_thresh': -50.0\n",
    "                   }\n",
    "\n",
    "weight_to_spike = 2.\n",
    "delay = 1"
   ]
  },
  {
   "cell_type": "code",
   "execution_count": 33,
   "metadata": {
    "collapsed": true
   },
   "outputs": [],
   "source": [
    "p1 = p.Population(1, p.IF_curr_exp, cell_params_lif)\n",
    "p2 = p.Population(2, p.IF_curr_exp, cell_params_lif)"
   ]
  },
  {
   "cell_type": "code",
   "execution_count": 34,
   "metadata": {
    "collapsed": false
   },
   "outputs": [
    {
     "data": {
      "text/plain": [
       "projection Projection 1"
      ]
     },
     "execution_count": 34,
     "metadata": {},
     "output_type": "execute_result"
    }
   ],
   "source": [
    "p.Projection(p1, p2, p.OneToOneConnector(weight_to_spike, delay))\n",
    "p.Projection(p2, p1, p.FromListConnector([(2,3, weight_to_spike, delay)]))"
   ]
  },
  {
   "cell_type": "code",
   "execution_count": 35,
   "metadata": {
    "collapsed": false
   },
   "outputs": [
    {
     "data": {
      "text/plain": [
       "projection input_p1->1"
      ]
     },
     "execution_count": 35,
     "metadata": {},
     "output_type": "execute_result"
    }
   ],
   "source": [
    "spikeArray = {'spike_times': [0, 10]}\n",
    "\n",
    "# Input populations\n",
    "input_p1 = p.Population(1, p.SpikeSourceArray, spikeArray,label='inputSpikes_p1')\n",
    "p.Projection(input_p1, p1, p.OneToOneConnector(weight_to_spike, delay),  label='input_p1->1')"
   ]
  },
  {
   "cell_type": "code",
   "execution_count": 36,
   "metadata": {
    "collapsed": true
   },
   "outputs": [],
   "source": [
    "p1.record_v()\n",
    "p1.record_gsyn()\n",
    "p1.record()"
   ]
  },
  {
   "cell_type": "code",
   "execution_count": 37,
   "metadata": {
    "collapsed": false
   },
   "outputs": [
    {
     "name": "stderr",
     "output_type": "stream",
     "text": [
      "Allocating virtual identifiers\n",
      "|0                           50%                         100%|\n",
      " ============================================================\n",
      "Partitioning graph vertices\n",
      "|0                           50%                         100%|\n",
      " ============================================================\n",
      "Partitioning graph edges\n",
      "|0                           50%                         100%|\n",
      " ============================================================\n",
      "Generating partitioner report\n",
      "|0                           50%                         100%|\n",
      " ============================================================\n",
      "Filtering edges\n",
      "|0                           50%                         100%|\n",
      " ============================================================\n",
      "Placing graph vertices\n",
      "|0                           50%                         100%|\n",
      " ====================================================================================================================================================================================\n",
      "Generating placement report\n",
      "|0                           50%                         100%|\n",
      " ============================================================\n",
      "Generating placement by core report\n",
      "|0                           50%                         100%|\n",
      " ============================================================\n",
      "Generating SDRAM usage report\n",
      "|0                           50%                         100%|\n",
      " ============================================================\n",
      "Routing\n",
      "|0                           50%                         100%|\n",
      " ============================================================\n",
      "Allocating tags\n",
      "|0                           50%                         100%|\n",
      " ============================================================\n",
      "Reporting Tags\n",
      "|0                           50%                         100%|\n",
      " ============================================================\n",
      "Getting the number of keys required by each edge using theapplication graph\n",
      "|0                           50%                         100%|\n",
      " ============================================================\n",
      "Allocating routing keys\n",
      "|0                           50%                         100%|\n",
      " ============================================================\n",
      "Generating Routing info report\n",
      "|0                           50%                         100%|\n",
      " ============================================================\n",
      "Generating routing tables\n",
      "|0                           50%                         100%|\n",
      " ============================================================\n",
      "Generating Router table report\n",
      "|0                           50%                         100%|\n",
      " ============================================================\n",
      "Compressing routing Tables\n",
      "|0                           50%                         100%|\n",
      " ============================================================\n",
      "Generating compressed router table report\n",
      "|0                           50%                         100%|\n",
      " ============================================================\n",
      "Generating comparison of router table report\n",
      "|0                           50%                         100%|\n",
      " ============================================================\n",
      "Initialising buffers\n",
      "|0                           50%                         100%|\n",
      " ============================================================\n",
      "Generating sPyNNaker data specifications\n",
      "|0                           50%                         100%|\n",
      " ============================================================\n",
      "Loading routing data onto the machine\n",
      "|0                           50%                         100%|\n",
      " ============================================================\n",
      "Clearing tags\n",
      "|0                           50%                         100%|\n",
      " ============================================================\n",
      "Loading Tags\n",
      "|0                           50%                         100%|\n",
      " ============================================================\n",
      "Executing data specifications and loading data\n",
      "|0                           50%                         100%|\n",
      " ============================================================\n",
      "Finding binaries\n",
      "|0                           50%                         100%|\n",
      " ============================================================\n",
      "Loading executables onto the machine\n",
      "|0                           50%                         100%|\n",
      " ============================================================\n",
      "Updating run time\n",
      "|0                           50%                         100%|\n",
      " ============================================================\n",
      "Loading buffers (22 bytes)\n",
      "|0                           50%                         100%|\n",
      " ============================================================\n"
     ]
    }
   ],
   "source": [
    "v_p1 = p1.get_v(compatible_output=True)\n",
    "gsyn_p1 = p1.get_gsyn(compatible_output=True)\n",
    "spikes_p1 = p1.getSpikes(compatible_output=True)\n",
    "p.run(100)"
   ]
  },
  {
   "cell_type": "code",
   "execution_count": 38,
   "metadata": {
    "collapsed": false
   },
   "outputs": [
    {
     "name": "stderr",
     "output_type": "stream",
     "text": [
      "Getting provenance data from machine graph\n",
      "|0                           50%                         100%|\n",
      " ============================================================\n",
      "Getting provenance data\n",
      "|0                           50%                         100%|\n",
      " ============================================================\n",
      "Getting Router Provenance\n",
      "|0                           50%                         100%|\n",
      " ============================================================\n",
      "Extracting IOBUF\n",
      "|0                           50%                         100%|\n",
      " ============================================================\n"
     ]
    }
   ],
   "source": [
    "p.end()"
   ]
  },
  {
   "cell_type": "code",
   "execution_count": 40,
   "metadata": {
    "collapsed": false
   },
   "outputs": [
    {
     "data": {
      "text/plain": [
       "<matplotlib.text.Text at 0x7f61dc06b510>"
      ]
     },
     "execution_count": 40,
     "metadata": {},
     "output_type": "execute_result"
    },
    {
     "data": {
      "image/png": "[encoded data removed]",
      "text/plain": [
       "<matplotlib.figure.Figure at 0x7f61dc04af10>"
      ]
     },
     "metadata": {},
     "output_type": "display_data"
    }
   ],
   "source": [
    "plt.plot(v_p1[:, 2])\n",
    "for input_t in spikeArray['spike_times']:\n",
    "    plt.axvline(input_t, ls=':', c='g', lw=2, alpha=.5)\n",
    "for t in spikes_p1[:,1]:\n",
    "    plt.axvline(t, ls='-', c='r', lw=2, alpha=.5)\n",
    "plt.title(\"\")\n",
    "plt.ylabel(\"Potential (mV)\")\n",
    "plt.xlabel(\"Time (ms)\")"
   ]
  },
  {
   "cell_type": "code",
   "execution_count": null,
   "metadata": {
    "collapsed": true
   },
   "outputs": [],
   "source": []
  }
 ],
 "metadata": {
  "kernelspec": {
   "display_name": "Python 2",
   "language": "python",
   "name": "python2"
  },
  "language_info": {
   "codemirror_mode": {
    "name": "ipython",
    "version": 2
   },
   "file_extension": ".py",
   "mimetype": "text/x-python",
   "name": "python",
   "nbconvert_exporter": "python",
   "pygments_lexer": "ipython2",
   "version": "2.7.6"
  }
 },
 "nbformat": 4,
 "nbformat_minor": 0
}
