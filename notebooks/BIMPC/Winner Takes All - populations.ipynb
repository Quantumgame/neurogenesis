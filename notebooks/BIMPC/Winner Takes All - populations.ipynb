{
 "cells": [
  {
   "cell_type": "code",
   "execution_count": 194,
   "metadata": {
    "collapsed": false
   },
   "outputs": [],
   "source": [
    "import spynnaker.pyNN as p\n",
    "import matplotlib.pyplot as plt\n",
    "%matplotlib inline\n",
    "import numpy as np\n",
    "from brian2.units import *\n",
    "import spynnaker_extra_pynn_models as q"
   ]
  },
  {
   "cell_type": "code",
   "execution_count": 195,
   "metadata": {
    "collapsed": true
   },
   "outputs": [],
   "source": [
    "p.setup(timestep=1.0, min_delay=1.0, max_delay=144.0)\n",
    "n_neurons = 100"
   ]
  },
  {
   "cell_type": "code",
   "execution_count": 196,
   "metadata": {
    "collapsed": false
   },
   "outputs": [],
   "source": [
    "run_time = 1000 * ms\n",
    "f_p1 = 50 * Hz\n",
    "f_p2 = 10 * Hz\n",
    "p_connection = .1"
   ]
  },
  {
   "cell_type": "code",
   "execution_count": 197,
   "metadata": {
    "collapsed": true
   },
   "outputs": [],
   "source": [
    "cell_params_lif = {'cm': 0.25,\n",
    "                   'i_offset': 0.0,\n",
    "                   'tau_m': 20.0,\n",
    "                   'tau_refrac': 2.0,\n",
    "                   'tau_syn_E': 5.0,\n",
    "                   'tau_syn_I': 5.0,\n",
    "                   'v_reset': -70.0,\n",
    "                   'v_rest': -65.0,\n",
    "                   'v_thresh': -50.0\n",
    "                   }"
   ]
  },
  {
   "cell_type": "code",
   "execution_count": 198,
   "metadata": {
    "collapsed": true
   },
   "outputs": [],
   "source": [
    "weight_to_spike = 1.\n",
    "delay = 1"
   ]
  },
  {
   "cell_type": "code",
   "execution_count": 199,
   "metadata": {
    "collapsed": false
   },
   "outputs": [],
   "source": [
    "p1 = p.Population(n_neurons, p.IF_curr_exp, cell_params_lif,\n",
    "                   label='pop_1')\n",
    "p2 = p.Population(n_neurons, p.IF_curr_exp, cell_params_lif,\n",
    "                   label='pop_2')"
   ]
  },
  {
   "cell_type": "code",
   "execution_count": 200,
   "metadata": {
    "collapsed": true
   },
   "outputs": [],
   "source": [
    "stdp_model = p.STDPMechanism(\n",
    "    timing_dependence = q.Vogels2011Rule(alpha=0.12,tau=20.0),\n",
    "    weight_dependence = p.AdditiveWeightDependence(w_min=0.0, w_max=1.0, A_plus=0.05),\n",
    "    mad=True\n",
    ")"
   ]
  },
  {
   "cell_type": "code",
   "execution_count": 201,
   "metadata": {
    "collapsed": false
   },
   "outputs": [
    {
     "data": {
      "text/plain": [
       "projection inhib 2->1"
      ]
     },
     "execution_count": 201,
     "metadata": {},
     "output_type": "execute_result"
    }
   ],
   "source": [
    "p.Projection(p1, p2, p.FixedProbabilityConnector(p_connection, weights=weight_to_spike), \n",
    "             target='inhibitory', label='inhib 1->2', synapse_dynamics=p.SynapseDynamics(slow=stdp_model))\n",
    "p.Projection(p2, p1, p.FixedProbabilityConnector(p_connection, weights=weight_to_spike), \n",
    "             target='inhibitory', label='inhib 2->1', synapse_dynamics=p.SynapseDynamics(slow=stdp_model))"
   ]
  },
  {
   "cell_type": "code",
   "execution_count": 202,
   "metadata": {
    "collapsed": false
   },
   "outputs": [
    {
     "data": {
      "text/plain": [
       "projection excite 2->2"
      ]
     },
     "execution_count": 202,
     "metadata": {},
     "output_type": "execute_result"
    }
   ],
   "source": [
    "p.Projection(p1, p1, p.FixedProbabilityConnector(p_connection, weights=weight_to_spike), label='excite 1->1')\n",
    "p.Projection(p2, p2, p.FixedProbabilityConnector(p_connection, weights=weight_to_spike), label='excite 2->2')"
   ]
  },
  {
   "cell_type": "code",
   "execution_count": 203,
   "metadata": {
    "collapsed": true
   },
   "outputs": [],
   "source": [
    "p1.record_v()\n",
    "p1.record_gsyn()\n",
    "p1.record()\n",
    "p2.record_v()\n",
    "p2.record_gsyn()\n",
    "p2.record()"
   ]
  },
  {
   "cell_type": "code",
   "execution_count": 204,
   "metadata": {
    "collapsed": false
   },
   "outputs": [
    {
     "data": {
      "text/plain": [
       "projection excite input_p2->2"
      ]
     },
     "execution_count": 204,
     "metadata": {},
     "output_type": "execute_result"
    }
   ],
   "source": [
    "# Input rates\n",
    "p1_spike_times= np.linspace(0, run_time/ms, run_time * f_p1)\n",
    "p2_spike_times= np.linspace(0, run_time/ms, run_time * f_p2)\n",
    "\n",
    "t1 = p1_spike_times + run_time/ms\n",
    "t2 = p2_spike_times + run_time/ms\n",
    "\n",
    "d1 = t1 + run_time/ms \n",
    "d2 = t2 + run_time/ms\n",
    "\n",
    "spikeArray_p1 = {'spike_times': np.concatenate((p1_spike_times,t2, d1))}\n",
    "spikeArray_p2 = {'spike_times': np.concatenate((p2_spike_times,t1, d2))}\n",
    "\n",
    "# Input populations\n",
    "input_p1 = p.Population(1, p.SpikeSourceArray, spikeArray_p1,label='inputSpikes_p1')\n",
    "input_p2 = p.Population(1, p.SpikeSourceArray, spikeArray_p2,label='inputSpikes_p2')\n",
    "\n",
    "# Input connections\n",
    "p.Projection(input_p1, p1, p.FixedProbabilityConnector(p_connection, weights=weight_to_spike), \n",
    "             label='excite input_p1->1')\n",
    "p.Projection(input_p2, p2, p.FixedProbabilityConnector(p_connection, weights=weight_to_spike), \n",
    "             label='excite input_p2->2')"
   ]
  },
  {
   "cell_type": "code",
   "execution_count": 205,
   "metadata": {
    "collapsed": false
   },
   "outputs": [
    {
     "name": "stderr",
     "output_type": "stream",
     "text": [
      "Allocating virtual identifiers\n",
      "|0                           50%                         100%|\n",
      " ============================================================\n",
      "Partitioning graph vertices\n",
      "|0                           50%                         100%|\n",
      " ============================================================\n",
      "Partitioning graph edges\n",
      "|0                           50%                         100%|\n",
      " ============================================================\n",
      "Generating partitioner report\n",
      "|0                           50%                         100%|\n",
      " ============================================================\n",
      "Filtering edges\n",
      "|0                           50%                         100%|\n",
      " ============================================================\n",
      "Placing graph vertices\n",
      "|0                           50%                         100%|\n",
      " ========================================================================================================================\n",
      "Generating placement report\n",
      "|0                           50%                         100%|\n",
      " ============================================================\n",
      "Generating placement by core report\n",
      "|0                           50%                         100%|\n",
      " ============================================================\n",
      "Generating SDRAM usage report\n",
      "|0                           50%                         100%|\n",
      " ============================================================\n",
      "Routing\n",
      "|0                           50%                         100%|\n",
      " ============================================================\n",
      "Allocating tags\n",
      "|0                           50%                         100%|\n",
      " ============================================================\n",
      "Reporting Tags\n",
      "|0                           50%                         100%|\n",
      " ============================================================\n",
      "Getting the number of keys required by each edge using theapplication graph\n",
      "|0                           50%                         100%|\n",
      " ============================================================\n",
      "Allocating routing keys\n",
      "|0                           50%                         100%|\n",
      " ============================================================\n",
      "Generating Routing info report\n",
      "|0                           50%                         100%|\n",
      " ============================================================\n",
      "Generating routing tables\n",
      "|0                           50%                         100%|\n",
      " ============================================================\n",
      "Generating Router table report\n",
      "|0                           50%                         100%|\n",
      " ============================================================\n",
      "Compressing routing Tables\n",
      "|0                           50%                         100%|\n",
      " ============================================================\n",
      "Generating compressed router table report\n",
      "|0                           50%                         100%|\n",
      " ============================================================\n",
      "Generating comparison of router table report\n",
      "|0                           50%                         100%|\n",
      " ============================================================\n",
      "Generating sPyNNaker data specifications\n",
      "|0                           50%                         100%|\n",
      " ============================================================\n",
      "Loading routing data onto the machine\n",
      "|0                           50%                         100%|\n",
      " ============================================================\n",
      "Clearing tags\n",
      "|0                           50%                         100%|\n",
      " ============================================================\n",
      "Loading Tags\n",
      "|0                           50%                         100%|\n",
      " ============================================================\n",
      "Executing data specifications and loading data\n",
      "|0                           50%                         100%|\n",
      " ============================================================\n",
      "Finding binaries\n",
      "|0                           50%                         100%|\n",
      " ============================================================\n",
      "Loading executables onto the machine\n",
      "|0                           50%                         100%|\n",
      " ============================================================\n",
      "Initialising buffers\n",
      "|0                           50%                         100%|\n",
      " "
     ]
    },
    {
     "ename": "SpinnmanIOException",
     "evalue": "IO Error: Error binding socket to 0.0.0.0:17896: [Errno 98] Address already in use",
     "output_type": "error",
     "traceback": [
      "\u001b[0;31m---------------------------------------------------------------------------\u001b[0m",
      "\u001b[0;31mSpinnmanIOException\u001b[0m                       Traceback (most recent call last)",
      "\u001b[0;32m<ipython-input-205-91f479d7d9e3>\u001b[0m in \u001b[0;36m<module>\u001b[0;34m()\u001b[0m\n\u001b[0;32m----> 1\u001b[0;31m \u001b[0mp\u001b[0m\u001b[0;34m.\u001b[0m\u001b[0mrun\u001b[0m\u001b[0;34m(\u001b[0m\u001b[0;36m3\u001b[0m \u001b[0;34m*\u001b[0m \u001b[0mrun_time\u001b[0m\u001b[0;34m/\u001b[0m\u001b[0mms\u001b[0m\u001b[0;34m)\u001b[0m\u001b[0;34m\u001b[0m\u001b[0m\n\u001b[0m",
      "\u001b[0;32m/home/bogdanp/SpiNNaker/sPyNNaker/spynnaker/pyNN/__init__.pyc\u001b[0m in \u001b[0;36mrun\u001b[0;34m(run_time)\u001b[0m\n\u001b[1;32m    180\u001b[0m     \"\"\"\n\u001b[1;32m    181\u001b[0m     \u001b[0;32mglobal\u001b[0m \u001b[0m_spinnaker\u001b[0m\u001b[0;34m\u001b[0m\u001b[0m\n\u001b[0;32m--> 182\u001b[0;31m     \u001b[0m_spinnaker\u001b[0m\u001b[0;34m.\u001b[0m\u001b[0mrun\u001b[0m\u001b[0;34m(\u001b[0m\u001b[0mrun_time\u001b[0m\u001b[0;34m)\u001b[0m\u001b[0;34m\u001b[0m\u001b[0m\n\u001b[0m\u001b[1;32m    183\u001b[0m     \u001b[0;32mreturn\u001b[0m \u001b[0mNone\u001b[0m\u001b[0;34m\u001b[0m\u001b[0m\n\u001b[1;32m    184\u001b[0m \u001b[0;34m\u001b[0m\u001b[0m\n",
      "\u001b[0;32m/home/bogdanp/SpiNNaker/sPyNNaker/spynnaker/pyNN/spinnaker.pyc\u001b[0m in \u001b[0;36mrun\u001b[0;34m(self, run_time)\u001b[0m\n\u001b[1;32m    366\u001b[0m         \u001b[0;31m# extra post run algorithms\u001b[0m\u001b[0;34m\u001b[0m\u001b[0;34m\u001b[0m\u001b[0m\n\u001b[1;32m    367\u001b[0m         \u001b[0mself\u001b[0m\u001b[0;34m.\u001b[0m\u001b[0m_dsg_algorithm\u001b[0m \u001b[0;34m=\u001b[0m \u001b[0;34m\"SpynnakerDataSpecificationWriter\"\u001b[0m\u001b[0;34m\u001b[0m\u001b[0m\n\u001b[0;32m--> 368\u001b[0;31m         \u001b[0mSpinnakerMainInterface\u001b[0m\u001b[0;34m.\u001b[0m\u001b[0mrun\u001b[0m\u001b[0;34m(\u001b[0m\u001b[0mself\u001b[0m\u001b[0;34m,\u001b[0m \u001b[0mrun_time\u001b[0m\u001b[0;34m)\u001b[0m\u001b[0;34m\u001b[0m\u001b[0m\n\u001b[0m",
      "\u001b[0;32m/home/bogdanp/SpiNNaker/SpiNNFrontEndCommon/spinn_front_end_common/interface/spinnaker_main_interface.pyc\u001b[0m in \u001b[0;36mrun\u001b[0;34m(self, run_time)\u001b[0m\n\u001b[1;32m    548\u001b[0m         \u001b[0;32mfor\u001b[0m \u001b[0mi\u001b[0m\u001b[0;34m,\u001b[0m \u001b[0mstep\u001b[0m \u001b[0;32min\u001b[0m \u001b[0menumerate\u001b[0m\u001b[0;34m(\u001b[0m\u001b[0msteps\u001b[0m\u001b[0;34m)\u001b[0m\u001b[0;34m:\u001b[0m\u001b[0;34m\u001b[0m\u001b[0m\n\u001b[1;32m    549\u001b[0m             \u001b[0mlogger\u001b[0m\u001b[0;34m.\u001b[0m\u001b[0minfo\u001b[0m\u001b[0;34m(\u001b[0m\u001b[0;34m\"Run {} of {}\"\u001b[0m\u001b[0;34m.\u001b[0m\u001b[0mformat\u001b[0m\u001b[0;34m(\u001b[0m\u001b[0mi\u001b[0m \u001b[0;34m+\u001b[0m \u001b[0;36m1\u001b[0m\u001b[0;34m,\u001b[0m \u001b[0mlen\u001b[0m\u001b[0;34m(\u001b[0m\u001b[0msteps\u001b[0m\u001b[0;34m)\u001b[0m\u001b[0;34m)\u001b[0m\u001b[0;34m)\u001b[0m\u001b[0;34m\u001b[0m\u001b[0m\n\u001b[0;32m--> 550\u001b[0;31m             \u001b[0mself\u001b[0m\u001b[0;34m.\u001b[0m\u001b[0m_do_run\u001b[0m\u001b[0;34m(\u001b[0m\u001b[0mstep\u001b[0m\u001b[0;34m)\u001b[0m\u001b[0;34m\u001b[0m\u001b[0m\n\u001b[0m\u001b[1;32m    551\u001b[0m \u001b[0;34m\u001b[0m\u001b[0m\n\u001b[1;32m    552\u001b[0m         \u001b[0;31m# Indicate that the signal handler needs to act\u001b[0m\u001b[0;34m\u001b[0m\u001b[0;34m\u001b[0m\u001b[0m\n",
      "\u001b[0;32m/home/bogdanp/SpiNNaker/SpiNNFrontEndCommon/spinn_front_end_common/interface/spinnaker_main_interface.pyc\u001b[0m in \u001b[0;36m_do_run\u001b[0;34m(self, n_machine_time_steps)\u001b[0m\n\u001b[1;32m   1171\u001b[0m                 \u001b[0mxml_paths\u001b[0m\u001b[0;34m=\u001b[0m\u001b[0mself\u001b[0m\u001b[0;34m.\u001b[0m\u001b[0m_xml_paths\u001b[0m\u001b[0;34m,\u001b[0m \u001b[0mrequired_outputs\u001b[0m\u001b[0;34m=\u001b[0m\u001b[0moutputs\u001b[0m\u001b[0;34m,\u001b[0m\u001b[0;34m\u001b[0m\u001b[0m\n\u001b[1;32m   1172\u001b[0m                 do_timings=self._do_timings, print_timings=self._print_timings)\n\u001b[0;32m-> 1173\u001b[0;31m             \u001b[0mexecutor\u001b[0m\u001b[0;34m.\u001b[0m\u001b[0mexecute_mapping\u001b[0m\u001b[0;34m(\u001b[0m\u001b[0;34m)\u001b[0m\u001b[0;34m\u001b[0m\u001b[0m\n\u001b[0m\u001b[1;32m   1174\u001b[0m             \u001b[0mself\u001b[0m\u001b[0;34m.\u001b[0m\u001b[0m_pacman_provenance\u001b[0m\u001b[0;34m.\u001b[0m\u001b[0mextract_provenance\u001b[0m\u001b[0;34m(\u001b[0m\u001b[0mexecutor\u001b[0m\u001b[0;34m)\u001b[0m\u001b[0;34m\u001b[0m\u001b[0m\n\u001b[1;32m   1175\u001b[0m         \u001b[0;32mexcept\u001b[0m \u001b[0mKeyboardInterrupt\u001b[0m\u001b[0;34m:\u001b[0m\u001b[0;34m\u001b[0m\u001b[0m\n",
      "\u001b[0;32m/home/bogdanp/SpiNNaker/PACMAN/pacman/executor/pacman_algorithm_executor.pyc\u001b[0m in \u001b[0;36mexecute_mapping\u001b[0;34m(self)\u001b[0m\n\u001b[1;32m    443\u001b[0m \u001b[0;34m\u001b[0m\u001b[0m\n\u001b[1;32m    444\u001b[0m                 \u001b[0;31m# Execute the algorithm\u001b[0m\u001b[0;34m\u001b[0m\u001b[0;34m\u001b[0m\u001b[0m\n\u001b[0;32m--> 445\u001b[0;31m                 \u001b[0mresults\u001b[0m \u001b[0;34m=\u001b[0m \u001b[0malgorithm\u001b[0m\u001b[0;34m.\u001b[0m\u001b[0mcall\u001b[0m\u001b[0;34m(\u001b[0m\u001b[0mself\u001b[0m\u001b[0;34m.\u001b[0m\u001b[0m_internal_type_mapping\u001b[0m\u001b[0;34m)\u001b[0m\u001b[0;34m\u001b[0m\u001b[0m\n\u001b[0m\u001b[1;32m    446\u001b[0m \u001b[0;34m\u001b[0m\u001b[0m\n\u001b[1;32m    447\u001b[0m                 \u001b[0;31m# handle_prov_data\u001b[0m\u001b[0;34m\u001b[0m\u001b[0;34m\u001b[0m\u001b[0m\n",
      "\u001b[0;32m/home/bogdanp/SpiNNaker/PACMAN/pacman/executor/algorithm_classes/abstract_python_algorithm.pyc\u001b[0m in \u001b[0;36mcall\u001b[0;34m(self, inputs)\u001b[0m\n\u001b[1;32m     42\u001b[0m \u001b[0;34m\u001b[0m\u001b[0m\n\u001b[1;32m     43\u001b[0m         \u001b[0;31m# Run the algorithm and get the results\u001b[0m\u001b[0;34m\u001b[0m\u001b[0;34m\u001b[0m\u001b[0m\n\u001b[0;32m---> 44\u001b[0;31m         \u001b[0mresults\u001b[0m \u001b[0;34m=\u001b[0m \u001b[0mself\u001b[0m\u001b[0;34m.\u001b[0m\u001b[0mcall_python\u001b[0m\u001b[0;34m(\u001b[0m\u001b[0mmethod_inputs\u001b[0m\u001b[0;34m)\u001b[0m\u001b[0;34m\u001b[0m\u001b[0m\n\u001b[0m\u001b[1;32m     45\u001b[0m \u001b[0;34m\u001b[0m\u001b[0m\n\u001b[1;32m     46\u001b[0m         \u001b[0;32mif\u001b[0m \u001b[0mresults\u001b[0m \u001b[0;32mis\u001b[0m \u001b[0;32mnot\u001b[0m \u001b[0mNone\u001b[0m \u001b[0;32mand\u001b[0m \u001b[0;32mnot\u001b[0m \u001b[0misinstance\u001b[0m\u001b[0;34m(\u001b[0m\u001b[0mresults\u001b[0m\u001b[0;34m,\u001b[0m \u001b[0mtuple\u001b[0m\u001b[0;34m)\u001b[0m\u001b[0;34m:\u001b[0m\u001b[0;34m\u001b[0m\u001b[0m\n",
      "\u001b[0;32m/home/bogdanp/SpiNNaker/PACMAN/pacman/executor/algorithm_classes/python_class_algorithm.pyc\u001b[0m in \u001b[0;36mcall_python\u001b[0;34m(self, inputs)\u001b[0m\n\u001b[1;32m     55\u001b[0m         \u001b[0;32mif\u001b[0m \u001b[0mself\u001b[0m\u001b[0;34m.\u001b[0m\u001b[0m_python_method\u001b[0m \u001b[0;32mis\u001b[0m \u001b[0;32mnot\u001b[0m \u001b[0mNone\u001b[0m\u001b[0;34m:\u001b[0m\u001b[0;34m\u001b[0m\u001b[0m\n\u001b[1;32m     56\u001b[0m             \u001b[0mmethod\u001b[0m \u001b[0;34m=\u001b[0m \u001b[0mgetattr\u001b[0m\u001b[0;34m(\u001b[0m\u001b[0minstance\u001b[0m\u001b[0;34m,\u001b[0m \u001b[0mself\u001b[0m\u001b[0;34m.\u001b[0m\u001b[0m_python_method\u001b[0m\u001b[0;34m)\u001b[0m\u001b[0;34m\u001b[0m\u001b[0m\n\u001b[0;32m---> 57\u001b[0;31m         \u001b[0;32mreturn\u001b[0m \u001b[0mmethod\u001b[0m\u001b[0;34m(\u001b[0m\u001b[0;34m**\u001b[0m\u001b[0minputs\u001b[0m\u001b[0;34m)\u001b[0m\u001b[0;34m\u001b[0m\u001b[0m\n\u001b[0m\u001b[1;32m     58\u001b[0m \u001b[0;34m\u001b[0m\u001b[0m\n\u001b[1;32m     59\u001b[0m     \u001b[0;32mdef\u001b[0m \u001b[0m__repr__\u001b[0m\u001b[0;34m(\u001b[0m\u001b[0mself\u001b[0m\u001b[0;34m)\u001b[0m\u001b[0;34m:\u001b[0m\u001b[0;34m\u001b[0m\u001b[0m\n",
      "\u001b[0;32m/home/bogdanp/SpiNNaker/SpiNNFrontEndCommon/spinn_front_end_common/interface/interface_functions/front_end_common_buffer_manager_creator.pyc\u001b[0m in \u001b[0;36m__call__\u001b[0;34m(self, placements, tags, txrx, write_reload_files, app_data_folder)\u001b[0m\n\u001b[1;32m     27\u001b[0m             \u001b[0;32mif\u001b[0m \u001b[0misinstance\u001b[0m\u001b[0;34m(\u001b[0m\u001b[0mplacement\u001b[0m\u001b[0;34m.\u001b[0m\u001b[0mvertex\u001b[0m\u001b[0;34m,\u001b[0m \u001b[0mAbstractSendsBuffersFromHost\u001b[0m\u001b[0;34m)\u001b[0m\u001b[0;34m:\u001b[0m\u001b[0;34m\u001b[0m\u001b[0m\n\u001b[1;32m     28\u001b[0m                 \u001b[0;32mif\u001b[0m \u001b[0mplacement\u001b[0m\u001b[0;34m.\u001b[0m\u001b[0mvertex\u001b[0m\u001b[0;34m.\u001b[0m\u001b[0mbuffering_input\u001b[0m\u001b[0;34m(\u001b[0m\u001b[0;34m)\u001b[0m\u001b[0;34m:\u001b[0m\u001b[0;34m\u001b[0m\u001b[0m\n\u001b[0;32m---> 29\u001b[0;31m                     \u001b[0mbuffer_manager\u001b[0m\u001b[0;34m.\u001b[0m\u001b[0madd_sender_vertex\u001b[0m\u001b[0;34m(\u001b[0m\u001b[0mplacement\u001b[0m\u001b[0;34m.\u001b[0m\u001b[0mvertex\u001b[0m\u001b[0;34m)\u001b[0m\u001b[0;34m\u001b[0m\u001b[0m\n\u001b[0m\u001b[1;32m     30\u001b[0m \u001b[0;34m\u001b[0m\u001b[0m\n\u001b[1;32m     31\u001b[0m             \u001b[0;32mif\u001b[0m \u001b[0misinstance\u001b[0m\u001b[0;34m(\u001b[0m\u001b[0mplacement\u001b[0m\u001b[0;34m.\u001b[0m\u001b[0mvertex\u001b[0m\u001b[0;34m,\u001b[0m \u001b[0mAbstractReceiveBuffersToHost\u001b[0m\u001b[0;34m)\u001b[0m\u001b[0;34m:\u001b[0m\u001b[0;34m\u001b[0m\u001b[0m\n",
      "\u001b[0;32m/home/bogdanp/SpiNNaker/SpiNNFrontEndCommon/spinn_front_end_common/interface/buffer_management/buffer_manager.pyc\u001b[0m in \u001b[0;36madd_sender_vertex\u001b[0;34m(self, vertex)\u001b[0m\n\u001b[1;32m    253\u001b[0m                 self._transceiver.register_udp_listener(\n\u001b[1;32m    254\u001b[0m                     \u001b[0mself\u001b[0m\u001b[0;34m.\u001b[0m\u001b[0mreceive_buffer_command_message\u001b[0m\u001b[0;34m,\u001b[0m \u001b[0mUDPEIEIOConnection\u001b[0m\u001b[0;34m,\u001b[0m\u001b[0;34m\u001b[0m\u001b[0m\n\u001b[0;32m--> 255\u001b[0;31m                     local_port=tag.port, local_host=tag.ip_address)\n\u001b[0m\u001b[1;32m    256\u001b[0m \u001b[0;34m\u001b[0m\u001b[0m\n\u001b[1;32m    257\u001b[0m         \u001b[0;31m# if reload script is set up, store the buffers for future usage\u001b[0m\u001b[0;34m\u001b[0m\u001b[0;34m\u001b[0m\u001b[0m\n",
      "\u001b[0;32m/home/bogdanp/SpiNNaker/SpiNNMan/spinnman/transceiver.pyc\u001b[0m in \u001b[0;36mregister_udp_listener\u001b[0;34m(self, callback, connection_class, local_port, local_host)\u001b[0m\n\u001b[1;32m   2541\u001b[0m             \u001b[0;32mif\u001b[0m \u001b[0mconnection\u001b[0m \u001b[0;32mis\u001b[0m \u001b[0mNone\u001b[0m\u001b[0;34m:\u001b[0m\u001b[0;34m\u001b[0m\u001b[0m\n\u001b[1;32m   2542\u001b[0m                 connection = connection_class(local_port=local_port,\n\u001b[0;32m-> 2543\u001b[0;31m                                               local_host=local_host)\n\u001b[0m\u001b[1;32m   2544\u001b[0m                 \u001b[0mself\u001b[0m\u001b[0;34m.\u001b[0m\u001b[0m_all_connections\u001b[0m\u001b[0;34m.\u001b[0m\u001b[0madd\u001b[0m\u001b[0;34m(\u001b[0m\u001b[0mconnection\u001b[0m\u001b[0;34m)\u001b[0m\u001b[0;34m\u001b[0m\u001b[0m\n\u001b[1;32m   2545\u001b[0m             \u001b[0mlistener\u001b[0m \u001b[0;34m=\u001b[0m \u001b[0mConnectionListener\u001b[0m\u001b[0;34m(\u001b[0m\u001b[0mconnection\u001b[0m\u001b[0;34m)\u001b[0m\u001b[0;34m\u001b[0m\u001b[0m\n",
      "\u001b[0;32m/home/bogdanp/SpiNNaker/SpiNNMan/spinnman/connections/udp_packet_connections/udp_eieio_connection.pyc\u001b[0m in \u001b[0;36m__init__\u001b[0;34m(self, local_host, local_port, remote_host, remote_port)\u001b[0m\n\u001b[1;32m     37\u001b[0m         \"\"\"\n\u001b[1;32m     38\u001b[0m         UDPConnection.__init__(\n\u001b[0;32m---> 39\u001b[0;31m             self, local_host, local_port, remote_host, remote_port)\n\u001b[0m\u001b[1;32m     40\u001b[0m         \u001b[0mAbstractEIEIOReceiver\u001b[0m\u001b[0;34m.\u001b[0m\u001b[0m__init__\u001b[0m\u001b[0;34m(\u001b[0m\u001b[0mself\u001b[0m\u001b[0;34m)\u001b[0m\u001b[0;34m\u001b[0m\u001b[0m\n\u001b[1;32m     41\u001b[0m         \u001b[0mAbstractEIEIOSender\u001b[0m\u001b[0;34m.\u001b[0m\u001b[0m__init__\u001b[0m\u001b[0;34m(\u001b[0m\u001b[0mself\u001b[0m\u001b[0;34m)\u001b[0m\u001b[0;34m\u001b[0m\u001b[0m\n",
      "\u001b[0;32m/home/bogdanp/SpiNNaker/SpiNNMan/spinnman/connections/udp_packet_connections/udp_connection.pyc\u001b[0m in \u001b[0;36m__init__\u001b[0;34m(self, local_host, local_port, remote_host, remote_port)\u001b[0m\n\u001b[1;32m     63\u001b[0m             raise SpinnmanIOException(\n\u001b[1;32m     64\u001b[0m                 \"Error binding socket to {}:{}: {}\".format(\n\u001b[0;32m---> 65\u001b[0;31m                     local_bind_host, local_bind_port, exception))\n\u001b[0m\u001b[1;32m     66\u001b[0m \u001b[0;34m\u001b[0m\u001b[0m\n\u001b[1;32m     67\u001b[0m         \u001b[0;31m# Mark the socket as non-sending, unless the remote host is\u001b[0m\u001b[0;34m\u001b[0m\u001b[0;34m\u001b[0m\u001b[0m\n",
      "\u001b[0;31mSpinnmanIOException\u001b[0m: IO Error: Error binding socket to 0.0.0.0:17896: [Errno 98] Address already in use"
     ]
    }
   ],
   "source": [
    "p.run(3 * run_time/ms)"
   ]
  },
  {
   "cell_type": "code",
   "execution_count": null,
   "metadata": {
    "collapsed": false
   },
   "outputs": [],
   "source": [
    "v_p1 = p1.get_v(compatible_output=True)\n",
    "gsyn_p1 = p1.get_gsyn(compatible_output=True)\n",
    "spikes_p1 = p1.getSpikes(compatible_output=True)\n",
    "v_p2 = p2.get_v(compatible_output=True)\n",
    "gsyn_p2 = p2.get_gsyn(compatible_output=True)\n",
    "spikes_p2 = p2.getSpikes(compatible_output=True)\n",
    "p.end()"
   ]
  },
  {
   "cell_type": "code",
   "execution_count": null,
   "metadata": {
    "collapsed": false
   },
   "outputs": [],
   "source": [
    "if spikes_p1 is not None:\n",
    "#     print spikes_p1\n",
    "    plt.figure()\n",
    "    plt.plot([i[1] for i in spikes_p1], [i[0] for i in spikes_p1], \".\")\n",
    "    plt.xlabel('Time/ms')\n",
    "    plt.ylabel('spikes')\n",
    "    plt.title('spikes')"
   ]
  },
  {
   "cell_type": "code",
   "execution_count": null,
   "metadata": {
    "collapsed": false
   },
   "outputs": [],
   "source": [
    "if spikes_p2 is not None:\n",
    "#     print spikes_p1\n",
    "    plt.figure()\n",
    "    plt.plot([i[1] for i in spikes_p2], [i[0] for i in spikes_p2], \".\")\n",
    "    plt.xlabel('Time/ms')\n",
    "    plt.ylabel('spikes')\n",
    "    plt.title('spikes')"
   ]
  },
  {
   "cell_type": "code",
   "execution_count": null,
   "metadata": {
    "collapsed": false
   },
   "outputs": [],
   "source": [
    "fig = plt.figure(figsize=(16,8))\n",
    "plt.plot(np.average(v_p1[:, 2].reshape(100, 3000), axis=0), c='b')\n",
    "plt.plot(np.average(v_p2[:, 2].reshape(100, 3000), axis=0), c='r')\n",
    "plt.axvline(run_time/ms, ls='-', c='g', lw=1, alpha=1)\n",
    "plt.axvline(2*run_time/ms, ls='-', c='g', lw=1, alpha=1)\n",
    "plt.xlabel('Time/ms')\n",
    "plt.ylabel('mV')\n",
    "plt.title('Average voltage over 10 neurons')"
   ]
  },
  {
   "cell_type": "code",
   "execution_count": null,
   "metadata": {
    "collapsed": false
   },
   "outputs": [],
   "source": [
    "fig = plt.figure(figsize=(16,8))\n",
    "plt.plot([i[1] for i in spikes_p1], [i[0] for i in spikes_p1], \".\", c='b')\n",
    "plt.plot([i[1] for i in spikes_p2], [i[0] for i in spikes_p2], \".\", c='r')\n",
    "plt.axvline(run_time/ms, ls='-', c='g', lw=1, alpha=1)\n",
    "plt.axvline(2*run_time/ms, ls='-', c='g', lw=1, alpha=1)\n",
    "plt.xlabel('Time/ms')\n",
    "plt.ylabel('spikes')\n",
    "plt.title('spikes - 10 neurons')"
   ]
  },
  {
   "cell_type": "code",
   "execution_count": null,
   "metadata": {
    "collapsed": true
   },
   "outputs": [],
   "source": []
  }
 ],
 "metadata": {
  "kernelspec": {
   "display_name": "Python 2",
   "language": "python",
   "name": "python2"
  },
  "language_info": {
   "codemirror_mode": {
    "name": "ipython",
    "version": 2
   },
   "file_extension": ".py",
   "mimetype": "text/x-python",
   "name": "python",
   "nbconvert_exporter": "python",
   "pygments_lexer": "ipython2",
   "version": "2.7.6"
  }
 },
 "nbformat": 4,
 "nbformat_minor": 0
}
