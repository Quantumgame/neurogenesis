{
 "cells": [
  {
   "cell_type": "markdown",
   "metadata": {},
   "source": [
    "# Known IDs\n",
    "\n",
    "The **INPUT** IDs are 0 and 1, corresponding to left and right respectively.\n",
    "\n",
    "# Exploring the other IDs\n",
    "\n",
    "The equation that computs **OUTPUT** neuron IDs is \n",
    "\n",
    "$ SPECIAL\\_EVENT\\_MAX + (i << 9) + (j << 1) + colour\\_bit $,\n",
    "\n",
    "where SPECIAL_EVENT_MAX is an enum type (with a value of 2), (i,j) are 2D pixel positions ranging over width and height, respectively, and colour_bit is a boolean value indicating whether the pixel is on.\n",
    "\n",
    "Neuron IDs for ON events:"
   ]
  },
  {
   "cell_type": "code",
   "execution_count": 54,
   "metadata": {
    "collapsed": true
   },
   "outputs": [],
   "source": [
    "special = 2\n",
    "colour_on = 1\n",
    "colour_off = 0\n",
    "on_neuron_ids = []\n",
    "off_neuron_ids = []\n",
    "width = 160\n",
    "height = 128"
   ]
  },
  {
   "cell_type": "code",
   "execution_count": 55,
   "metadata": {
    "collapsed": true
   },
   "outputs": [],
   "source": [
    "for i in range(160):\n",
    "    for j in range(128):\n",
    "        for colour in [colour_off, colour_on]:\n",
    "            if colour == colour_off:\n",
    "                off_neuron_ids.append(special + (i<<9) + (j<<1) + colour)\n",
    "            else:                \n",
    "                on_neuron_ids.append(special + (i<<9) + (j<<1) + colour)"
   ]
  },
  {
   "cell_type": "code",
   "execution_count": 56,
   "metadata": {
    "collapsed": true
   },
   "outputs": [],
   "source": [
    "import numpy as np"
   ]
  },
  {
   "cell_type": "code",
   "execution_count": 57,
   "metadata": {
    "collapsed": false
   },
   "outputs": [],
   "source": [
    "on_neuron_ids = np.asarray(on_neuron_ids)\n",
    "off_neuron_ids = np.asarray(off_neuron_ids)"
   ]
  },
  {
   "cell_type": "code",
   "execution_count": 58,
   "metadata": {
    "collapsed": false
   },
   "outputs": [
    {
     "name": "stdout",
     "output_type": "stream",
     "text": [
      "[    3     5     7 ..., 81661 81663 81665]\n"
     ]
    }
   ],
   "source": [
    "print np.sort(on_neuron_ids)"
   ]
  },
  {
   "cell_type": "code",
   "execution_count": 59,
   "metadata": {
    "collapsed": false
   },
   "outputs": [
    {
     "name": "stdout",
     "output_type": "stream",
     "text": [
      "[    2     4     6 ..., 81660 81662 81664]\n"
     ]
    }
   ],
   "source": [
    "print np.sort(off_neuron_ids)"
   ]
  },
  {
   "cell_type": "markdown",
   "metadata": {},
   "source": [
    "What about the IDs of the neurons resposible for communication the score going up or down?"
   ]
  },
  {
   "cell_type": "code",
   "execution_count": 60,
   "metadata": {
    "collapsed": true
   },
   "outputs": [],
   "source": [
    "event_up = 0\n",
    "event_down = 1"
   ]
  },
  {
   "cell_type": "markdown",
   "metadata": {},
   "source": [
    "Huh, OK... This means that neurons 0 and 1 are IO. They don't spike in response to input going into them, but rather spike only when the ball hits the paddles."
   ]
  },
  {
   "cell_type": "code",
   "execution_count": 67,
   "metadata": {
    "collapsed": false
   },
   "outputs": [],
   "source": [
    "off_neuron_ids = np.zeros((width, height))\n",
    "colour = colour_off\n",
    "for i in range(width):\n",
    "    for j in range(height):\n",
    "        off_neuron_ids[i,j] = special + (i << 9) + (j << 1) + colour"
   ]
  },
  {
   "cell_type": "code",
   "execution_count": 68,
   "metadata": {
    "collapsed": false
   },
   "outputs": [
    {
     "data": {
      "text/plain": [
       "array([[  2.00000000e+00,   4.00000000e+00,   6.00000000e+00, ...,\n",
       "          2.52000000e+02,   2.54000000e+02,   2.56000000e+02],\n",
       "       [  5.14000000e+02,   5.16000000e+02,   5.18000000e+02, ...,\n",
       "          7.64000000e+02,   7.66000000e+02,   7.68000000e+02],\n",
       "       [  1.02600000e+03,   1.02800000e+03,   1.03000000e+03, ...,\n",
       "          1.27600000e+03,   1.27800000e+03,   1.28000000e+03],\n",
       "       ..., \n",
       "       [  8.03860000e+04,   8.03880000e+04,   8.03900000e+04, ...,\n",
       "          8.06360000e+04,   8.06380000e+04,   8.06400000e+04],\n",
       "       [  8.08980000e+04,   8.09000000e+04,   8.09020000e+04, ...,\n",
       "          8.11480000e+04,   8.11500000e+04,   8.11520000e+04],\n",
       "       [  8.14100000e+04,   8.14120000e+04,   8.14140000e+04, ...,\n",
       "          8.16600000e+04,   8.16620000e+04,   8.16640000e+04]])"
      ]
     },
     "execution_count": 68,
     "metadata": {},
     "output_type": "execute_result"
    }
   ],
   "source": [
    "off_neuron_ids"
   ]
  },
  {
   "cell_type": "code",
   "execution_count": 69,
   "metadata": {
    "collapsed": false
   },
   "outputs": [
    {
     "data": {
      "text/plain": [
       "(160, 128)"
      ]
     },
     "execution_count": 69,
     "metadata": {},
     "output_type": "execute_result"
    }
   ],
   "source": [
    "off_neuron_ids.shape"
   ]
  },
  {
   "cell_type": "markdown",
   "metadata": {},
   "source": [
    "ids without the paddle"
   ]
  },
  {
   "cell_type": "code",
   "execution_count": 70,
   "metadata": {
    "collapsed": false
   },
   "outputs": [],
   "source": [
    "no_pad_ids = off_neuron_ids[0:-1, :]"
   ]
  },
  {
   "cell_type": "code",
   "execution_count": 75,
   "metadata": {
    "collapsed": false
   },
   "outputs": [
    {
     "data": {
      "text/plain": [
       "(159, 128)"
      ]
     },
     "execution_count": 75,
     "metadata": {},
     "output_type": "execute_result"
    }
   ],
   "source": [
    "no_pad_ids.shape"
   ]
  },
  {
   "cell_type": "code",
   "execution_count": 79,
   "metadata": {
    "collapsed": true
   },
   "outputs": [],
   "source": [
    "res = []\n",
    "for i in range(1):\n",
    "    for j in no_pad_ids[:, i]:\n",
    "        res.append((j,i,3,1))"
   ]
  },
  {
   "cell_type": "code",
   "execution_count": 80,
   "metadata": {
    "collapsed": false
   },
   "outputs": [
    {
     "data": {
      "text/plain": [
       "159"
      ]
     },
     "execution_count": 80,
     "metadata": {},
     "output_type": "execute_result"
    }
   ],
   "source": [
    "len(res)\n"
   ]
  },
  {
   "cell_type": "code",
   "execution_count": 97,
   "metadata": {
    "collapsed": false
   },
   "outputs": [],
   "source": [
    "on_neuron_ids = None\n",
    "COLOUR_ON = 1\n",
    "SPECIAL_EVENT_MAX=2\n",
    "GAME_WIDTH=160\n",
    "GAME_HEIGHT = 128\n",
    "weight_to_spike = 2.\n",
    "delay = 1\n",
    "def get_on_neuron_ids(width=GAME_WIDTH, height=GAME_HEIGHT):\n",
    "    global on_neuron_ids\n",
    "    if on_neuron_ids:\n",
    "        return on_neuron_ids\n",
    "    on_neuron_ids = np.zeros((height, width), dtype=np.int32)\n",
    "    colour = COLOUR_ON\n",
    "    for i in range(width):\n",
    "        for j in range(height):\n",
    "            on_neuron_ids[j, i] = SPECIAL_EVENT_MAX + (i << 9) + (j << 1) + colour\n",
    "    return on_neuron_ids"
   ]
  },
  {
   "cell_type": "code",
   "execution_count": 98,
   "metadata": {
    "collapsed": false
   },
   "outputs": [],
   "source": [
    "ids = get_on_neuron_ids()"
   ]
  },
  {
   "cell_type": "code",
   "execution_count": 99,
   "metadata": {
    "collapsed": true
   },
   "outputs": [],
   "source": [
    "no_paddle_on_ids = ids[0:-1, :]"
   ]
  },
  {
   "cell_type": "code",
   "execution_count": 100,
   "metadata": {
    "collapsed": false
   },
   "outputs": [],
   "source": [
    "list_of_on_connections = []\n",
    "\n",
    "for i in range(GAME_WIDTH):\n",
    "    for j in no_paddle_on_ids[:, i]:\n",
    "        list_of_on_connections.append((j, i, weight_to_spike, delay))"
   ]
  },
  {
   "cell_type": "code",
   "execution_count": 102,
   "metadata": {
    "collapsed": false
   },
   "outputs": [
    {
     "data": {
      "text/plain": [
       "20320"
      ]
     },
     "execution_count": 102,
     "metadata": {},
     "output_type": "execute_result"
    }
   ],
   "source": [
    "len(list_of_on_connections)"
   ]
  },
  {
   "cell_type": "code",
   "execution_count": 108,
   "metadata": {
    "collapsed": false
   },
   "outputs": [
    {
     "data": {
      "text/plain": [
       "127"
      ]
     },
     "execution_count": 108,
     "metadata": {},
     "output_type": "execute_result"
    }
   ],
   "source": [
    "no_paddle_on_ids[:, 0].size"
   ]
  },
  {
   "cell_type": "code",
   "execution_count": 107,
   "metadata": {
    "collapsed": false
   },
   "outputs": [
    {
     "data": {
      "text/plain": [
       "(127, 160)"
      ]
     },
     "execution_count": 107,
     "metadata": {},
     "output_type": "execute_result"
    }
   ],
   "source": [
    "no_paddle_on_ids.shape"
   ]
  },
  {
   "cell_type": "code",
   "execution_count": null,
   "metadata": {
    "collapsed": true
   },
   "outputs": [],
   "source": []
  }
 ],
 "metadata": {
  "kernelspec": {
   "display_name": "Python 2",
   "language": "python",
   "name": "python2"
  },
  "language_info": {
   "codemirror_mode": {
    "name": "ipython",
    "version": 2
   },
   "file_extension": ".py",
   "mimetype": "text/x-python",
   "name": "python",
   "nbconvert_exporter": "python",
   "pygments_lexer": "ipython2",
   "version": "2.7.6"
  }
 },
 "nbformat": 4,
 "nbformat_minor": 0
}
