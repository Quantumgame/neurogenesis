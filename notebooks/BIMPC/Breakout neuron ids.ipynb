{
 "cells": [
  {
   "cell_type": "markdown",
   "metadata": {},
   "source": [
    "# Known IDs\n",
    "\n",
    "The **INPUT** IDs are 0 and 1, corresponding to left and right respectively.\n",
    "\n",
    "# Exploring the other IDs\n",
    "\n",
    "The equation that computs **OUTPUT** neuron IDs is \n",
    "\n",
    "$ SPECIAL\\_EVENT\\_MAX + (i << 9) + (j << 1) + colour\\_bit $,\n",
    "\n",
    "where SPECIAL_EVENT_MAX is an enum type (with a value of 2), (i,j) are 2D pixel positions ranging over width and height, respectively, and colour_bit is a boolean value indicating whether the pixel is on.\n",
    "\n",
    "Neuron IDs for ON events:"
   ]
  },
  {
   "cell_type": "code",
   "execution_count": 15,
   "metadata": {
    "collapsed": true
   },
   "outputs": [],
   "source": [
    "special = 2\n",
    "colour_on = 1\n",
    "colour_off = 0\n",
    "on_neuron_ids = []\n",
    "off_neuron_ids = []\n",
    "width = 160\n",
    "height = 128"
   ]
  },
  {
   "cell_type": "code",
   "execution_count": 16,
   "metadata": {
    "collapsed": true
   },
   "outputs": [],
   "source": [
    "for i in range(160):\n",
    "    for j in range(128):\n",
    "        for colour in [colour_off, colour_on]:\n",
    "            if colour == colour_off:\n",
    "                off_neuron_ids.append(special + i<<9 + j<<1 + colour)\n",
    "            else:                \n",
    "                on_neuron_ids.append(special + i<<9 + j<<1 + colour)"
   ]
  },
  {
   "cell_type": "code",
   "execution_count": 12,
   "metadata": {
    "collapsed": true
   },
   "outputs": [],
   "source": [
    "import numpy as np"
   ]
  },
  {
   "cell_type": "code",
   "execution_count": 23,
   "metadata": {
    "collapsed": false
   },
   "outputs": [],
   "source": [
    "on_neuron_ids = np.asarray(on_neuron_ids)\n",
    "off_neuron_ids = np.asarray(off_neuron_ids)"
   ]
  },
  {
   "cell_type": "code",
   "execution_count": 22,
   "metadata": {
    "collapsed": false
   },
   "outputs": [
    {
     "name": "stdout",
     "output_type": "stream",
     "text": [
      "[4096 6144 8192 ..., 55403413852599516867252800083610773116420096L\n",
      " 55751862996326557853839295681620903764951040L\n",
      " 56100312140053598840425791279631034413481984L]\n"
     ]
    }
   ],
   "source": [
    "print np.sort(on_neuron_ids)"
   ]
  },
  {
   "cell_type": "code",
   "execution_count": 24,
   "metadata": {
    "collapsed": false
   },
   "outputs": [
    {
     "name": "stdout",
     "output_type": "stream",
     "text": [
      "[2048 3072 4096 ..., 27701706926299758433626400041805386558210048L\n",
      " 27875931498163278926919647840810451882475520L\n",
      " 28050156070026799420212895639815517206740992L]\n"
     ]
    }
   ],
   "source": [
    "print np.sort(off_neuron_ids)"
   ]
  },
  {
   "cell_type": "markdown",
   "metadata": {},
   "source": [
    "What about the IDs of the neurons resposible for communication the score going up or down?"
   ]
  },
  {
   "cell_type": "code",
   "execution_count": 25,
   "metadata": {
    "collapsed": true
   },
   "outputs": [],
   "source": [
    "event_up = 0\n",
    "event_down = 1"
   ]
  },
  {
   "cell_type": "markdown",
   "metadata": {},
   "source": [
    "Huh, OK... This means that neurons 0 and 1 are IO. They don't spike in response to input going into them, but rather spike only when the ball hits the paddles."
   ]
  }
 ],
 "metadata": {
  "kernelspec": {
   "display_name": "Python 2",
   "language": "python",
   "name": "python2"
  },
  "language_info": {
   "codemirror_mode": {
    "name": "ipython",
    "version": 2
   },
   "file_extension": ".py",
   "mimetype": "text/x-python",
   "name": "python",
   "nbconvert_exporter": "python",
   "pygments_lexer": "ipython2",
   "version": "2.7.6"
  }
 },
 "nbformat": 4,
 "nbformat_minor": 0
}
