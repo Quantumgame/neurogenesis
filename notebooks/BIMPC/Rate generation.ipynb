{
 "cells": [
  {
   "cell_type": "code",
   "execution_count": 326,
   "metadata": {
    "collapsed": true
   },
   "outputs": [],
   "source": [
    "import spynnaker.pyNN as p\n",
    "import matplotlib.pyplot as plt\n",
    "%matplotlib inline\n",
    "import numpy as np\n",
    "from brian2.units import *"
   ]
  },
  {
   "cell_type": "code",
   "execution_count": 327,
   "metadata": {
    "collapsed": true
   },
   "outputs": [],
   "source": [
    "p.setup(timestep=1.0, min_delay=1.0, max_delay=144.0)\n",
    "n_neurons = 1 "
   ]
  },
  {
   "cell_type": "code",
   "execution_count": 328,
   "metadata": {
    "collapsed": true
   },
   "outputs": [],
   "source": [
    "run_time = 1000 * ms\n",
    "f_p1 = 15 * Hz\n",
    "f_p2 = 10 * Hz"
   ]
  },
  {
   "cell_type": "code",
   "execution_count": 329,
   "metadata": {
    "collapsed": true
   },
   "outputs": [],
   "source": [
    "cell_params_lif = {'cm': 0.25,\n",
    "                   'i_offset': 0.0,\n",
    "                   'tau_m': 20.0,\n",
    "                   'tau_refrac': 0.0,\n",
    "                   'tau_syn_E': 5.0,\n",
    "                   'tau_syn_I': 5.0,\n",
    "                   'v_reset': -70.0,\n",
    "                   'v_rest': -65.0,\n",
    "                   'v_thresh': -50.0\n",
    "                   }"
   ]
  },
  {
   "cell_type": "code",
   "execution_count": 330,
   "metadata": {
    "collapsed": true
   },
   "outputs": [],
   "source": [
    "weight_to_spike = 2.\n",
    "delay = 1"
   ]
  },
  {
   "cell_type": "code",
   "execution_count": null,
   "metadata": {
    "collapsed": true
   },
   "outputs": [],
   "source": []
  },
  {
   "cell_type": "code",
   "execution_count": 331,
   "metadata": {
    "collapsed": true
   },
   "outputs": [],
   "source": [
    "p1 = p.Population(n_neurons, p.IF_curr_exp, cell_params_lif,\n",
    "                   label='pop_1')\n",
    "p2 = p.Population(n_neurons, p.IF_curr_exp, cell_params_lif,\n",
    "                   label='pop_2')"
   ]
  },
  {
   "cell_type": "code",
   "execution_count": 332,
   "metadata": {
    "collapsed": false
   },
   "outputs": [
    {
     "data": {
      "text/plain": [
       "projection excite 2->1"
      ]
     },
     "execution_count": 332,
     "metadata": {},
     "output_type": "execute_result"
    }
   ],
   "source": [
    "p.Projection(p1, p2, p.OneToOneConnector(weight_to_spike), label='excite 1->2')\n",
    "p.Projection(p2, p1, p.OneToOneConnector(weight_to_spike), label='excite 2->1')"
   ]
  },
  {
   "cell_type": "code",
   "execution_count": 333,
   "metadata": {
    "collapsed": true
   },
   "outputs": [],
   "source": [
    "p1.record_v()\n",
    "p1.record_gsyn()\n",
    "p1.record()\n",
    "p2.record_v()\n",
    "p2.record_gsyn()\n",
    "p2.record()"
   ]
  },
  {
   "cell_type": "code",
   "execution_count": 334,
   "metadata": {
    "collapsed": false
   },
   "outputs": [
    {
     "data": {
      "text/plain": [
       "projection inhib input_p1->1"
      ]
     },
     "execution_count": 334,
     "metadata": {},
     "output_type": "execute_result"
    }
   ],
   "source": [
    "pout = p.Population(n_neurons, p.IF_curr_exp, cell_params_lif,\n",
    "                   label='pop_out')\n",
    "spikeArray = {'spike_times': [0, 2*run_time/ms//4]}\n",
    "\n",
    "# Input populations\n",
    "input_p1 = p.Population(1, p.SpikeSourceArray, spikeArray,label='inputSpikes_p1')\n",
    "\n",
    "# Input connections\n",
    "p.Projection(input_p1, p1, p.OneToOneConnector(weight_to_spike), label='excite input_p1->1')\n",
    "\n",
    "# Input populations\n",
    "input_p2 = p.Population(1, p.SpikeSourceArray, {'spike_times': [run_time/ms//4, 3*run_time/ms//4]},label='inputSpikes_p2')\n",
    "\n",
    "# Input connections\n",
    "p.Projection(input_p2, p1, p.OneToOneConnector(weight_to_spike),target='inhibitory',  label='inhib input_p1->1')\n",
    "p.Projection(input_p2, p2, p.OneToOneConnector(weight_to_spike),target='inhibitory',  label='inhib input_p1->1')"
   ]
  },
  {
   "cell_type": "code",
   "execution_count": 335,
   "metadata": {
    "collapsed": true
   },
   "outputs": [],
   "source": [
    "pout.record_v()\n",
    "pout.record_gsyn()\n",
    "pout.record()"
   ]
  },
  {
   "cell_type": "code",
   "execution_count": 336,
   "metadata": {
    "collapsed": false
   },
   "outputs": [
    {
     "data": {
      "text/plain": [
       "projection excite 1->out"
      ]
     },
     "execution_count": 336,
     "metadata": {},
     "output_type": "execute_result"
    }
   ],
   "source": [
    "p.Projection(p1, pout, p.OneToOneConnector(weight_to_spike/.2), label='excite 1->out')\n",
    "# p.Projection(p2, pout, p.OneToOneConnector(weight_to_spike/.5), label='excite 2->out')"
   ]
  },
  {
   "cell_type": "code",
   "execution_count": 337,
   "metadata": {
    "collapsed": false
   },
   "outputs": [
    {
     "name": "stderr",
     "output_type": "stream",
     "text": [
      "Allocating virtual identifiers\n",
      "|0                           50%                         100%|\n",
      " ============================================================\n",
      "Partitioning graph vertices\n",
      "|0                           50%                         100%|\n",
      " ============================================================\n",
      "Partitioning graph edges\n",
      "|0                           50%                         100%|\n",
      " ============================================================\n",
      "Generating partitioner report\n",
      "|0                           50%                         100%|\n",
      " ============================================================\n",
      "Filtering edges\n",
      "|0                           50%                         100%|\n",
      " ============================================================\n",
      "Placing graph vertices\n",
      "|0                           50%                         100%|\n",
      " ====================================================================================================\n",
      "Generating placement report\n",
      "|0                           50%                         100%|\n",
      " ============================================================\n",
      "Generating placement by core report\n",
      "|0                           50%                         100%|\n",
      " ============================================================\n",
      "Generating SDRAM usage report\n",
      "|0                           50%                         100%|\n",
      " ============================================================\n",
      "Routing\n",
      "|0                           50%                         100%|\n",
      " ============================================================\n",
      "Allocating tags\n",
      "|0                           50%                         100%|\n",
      " ============================================================\n",
      "Reporting Tags\n",
      "|0                           50%                         100%|\n",
      " ============================================================\n",
      "Getting the number of keys required by each edge using theapplication graph\n",
      "|0                           50%                         100%|\n",
      " ============================================================\n",
      "Allocating routing keys\n",
      "|0                           50%                         100%|\n",
      " ============================================================\n",
      "Generating Routing info report\n",
      "|0                           50%                         100%|\n",
      " ============================================================\n",
      "Generating routing tables\n",
      "|0                           50%                         100%|\n",
      " ============================================================\n",
      "Generating Router table report\n",
      "|0                           50%                         100%|\n",
      " ============================================================\n",
      "Compressing routing Tables\n",
      "|0                           50%                         100%|\n",
      " ============================================================\n",
      "Generating compressed router table report\n",
      "|0                           50%                         100%|\n",
      " ============================================================\n",
      "Generating comparison of router table report\n",
      "|0                           50%                         100%|\n",
      " ============================================================\n",
      "Initialising buffers\n",
      "|0                           50%                         100%|\n",
      " ============================================================\n",
      "Generating sPyNNaker data specifications\n",
      "|0                           50%                         100%|\n",
      " ============================================================\n",
      "Loading routing data onto the machine\n",
      "|0                           50%                         100%|\n",
      " ============================================================\n",
      "Clearing tags\n",
      "|0                           50%                         100%|\n",
      " ============================================================\n",
      "Loading Tags\n",
      "|0                           50%                         100%|\n",
      " ============================================================\n",
      "Executing data specifications and loading data\n",
      "|0                           50%                         100%|\n",
      " ============================================================\n",
      "Finding binaries\n",
      "|0                           50%                         100%|\n",
      " ============================================================\n",
      "Loading executables onto the machine\n",
      "|0                           50%                         100%|\n",
      " ============================================================\n",
      "Updating run time\n",
      "|0                           50%                         100%|\n",
      " ============================================================\n",
      "Loading buffers (44 bytes)\n",
      "|0                           50%                         100%|\n",
      " ============================================================\n"
     ]
    }
   ],
   "source": [
    "p.run(run_time/ms)"
   ]
  },
  {
   "cell_type": "code",
   "execution_count": 338,
   "metadata": {
    "collapsed": false
   },
   "outputs": [
    {
     "name": "stderr",
     "output_type": "stream",
     "text": [
      "Getting membrane voltage for pop_out\n",
      "|0                           50%                         100%|\n",
      " ============================================================\n",
      "Getting conductance for pop_out\n",
      "|0                           50%                         100%|\n",
      " ============================================================\n",
      "Getting spikes for pop_out\n",
      "|0                           50%                         100%|\n",
      " ============================================================\n",
      "Getting membrane voltage for pop_2\n",
      "|0                           50%                         100%|\n",
      " ============================================================\n",
      "Getting conductance for pop_2\n",
      "|0                           50%                         100%|\n",
      " ============================================================\n",
      "Getting spikes for pop_2\n",
      "|0                           50%                         100%|\n",
      " ============================================================\n",
      "Getting provenance data from machine graph\n",
      "|0                           50%                         100%|\n",
      " ============================================================\n",
      "Getting provenance data\n",
      "|0                           50%                         100%|\n",
      " ============================================================\n",
      "Getting Router Provenance\n",
      "|0                           50%                         100%|\n",
      " ============================================================\n",
      "Extracting IOBUF\n",
      "|0                           50%                         100%|\n",
      " ============================================================\n"
     ]
    }
   ],
   "source": [
    "v_p1 = pout.get_v(compatible_output=True)\n",
    "gsyn_p1 = pout.get_gsyn(compatible_output=True)\n",
    "spikes_p1 = pout.getSpikes(compatible_output=True)\n",
    "v_p2 = p2.get_v(compatible_output=True)\n",
    "gsyn_p2 = p2.get_gsyn(compatible_output=True)\n",
    "spikes_p2 = p2.getSpikes(compatible_output=True)\n",
    "p.end()"
   ]
  },
  {
   "cell_type": "code",
   "execution_count": 339,
   "metadata": {
    "collapsed": false
   },
   "outputs": [
    {
     "data": {
      "image/png": "[encoded data removed]",
      "text/plain": [
       "<matplotlib.figure.Figure at 0x7fb48f327a50>"
      ]
     },
     "metadata": {},
     "output_type": "display_data"
    }
   ],
   "source": [
    "if spikes_p1 is not None:\n",
    "#     print spikes_p1\n",
    "    plt.figure()\n",
    "    plt.plot([i[1] for i in spikes_p1], [i[0] for i in spikes_p1], \".\")\n",
    "    plt.xlabel('Time/ms')\n",
    "    plt.ylabel('spikes')\n",
    "    plt.title('spikes')"
   ]
  },
  {
   "cell_type": "code",
   "execution_count": 340,
   "metadata": {
    "collapsed": false
   },
   "outputs": [
    {
     "data": {
      "image/png": "[encoded data removed]",
      "text/plain": [
       "<matplotlib.figure.Figure at 0x7fb48f0da690>"
      ]
     },
     "metadata": {},
     "output_type": "display_data"
    }
   ],
   "source": [
    "if spikes_p2 is not None:\n",
    "#     print spikes_p1\n",
    "    plt.figure()\n",
    "    plt.plot([i[1] for i in spikes_p2], [i[0] for i in spikes_p2], \".\")\n",
    "    plt.xlabel('Time/ms')\n",
    "    plt.ylabel('spikes')\n",
    "    plt.title('spikes')"
   ]
  },
  {
   "cell_type": "code",
   "execution_count": 341,
   "metadata": {
    "collapsed": false
   },
   "outputs": [
    {
     "data": {
      "text/plain": [
       "[<matplotlib.lines.Line2D at 0x7fb48eebef50>]"
      ]
     },
     "execution_count": 341,
     "metadata": {},
     "output_type": "execute_result"
    },
    {
     "data": {
      "image/png": "[encoded data removed]",
      "text/plain": [
       "<matplotlib.figure.Figure at 0x7fb48f0d3cd0>"
      ]
     },
     "metadata": {},
     "output_type": "display_data"
    }
   ],
   "source": [
    "plt.plot(v_p1[:50, 2])"
   ]
  },
  {
   "cell_type": "code",
   "execution_count": 342,
   "metadata": {
    "collapsed": false
   },
   "outputs": [
    {
     "data": {
      "text/latex": [
       "$0.995\\,\\mathrm{k}\\,\\mathrm{Hz}$"
      ],
      "text/plain": [
       "0.995 * khertz"
      ]
     },
     "execution_count": 342,
     "metadata": {},
     "output_type": "execute_result"
    }
   ],
   "source": [
    "spikes_p1[:, 1].size / (run_time)"
   ]
  },
  {
   "cell_type": "code",
   "execution_count": 343,
   "metadata": {
    "collapsed": false
   },
   "outputs": [
    {
     "data": {
      "text/plain": [
       "array([  100.,   200.,   300.,   400.,   500.,   600.,   700.,   800.,\n",
       "         900.,  1000.])"
      ]
     },
     "execution_count": 343,
     "metadata": {},
     "output_type": "execute_result"
    }
   ],
   "source": [
    "np.linspace(100, 1000, 10)"
   ]
  },
  {
   "cell_type": "code",
   "execution_count": null,
   "metadata": {
    "collapsed": true
   },
   "outputs": [],
   "source": []
  }
 ],
 "metadata": {
  "kernelspec": {
   "display_name": "Python 2",
   "language": "python",
   "name": "python2"
  },
  "language_info": {
   "codemirror_mode": {
    "name": "ipython",
    "version": 2
   },
   "file_extension": ".py",
   "mimetype": "text/x-python",
   "name": "python",
   "nbconvert_exporter": "python",
   "pygments_lexer": "ipython2",
   "version": "2.7.6"
  }
 },
 "nbformat": 4,
 "nbformat_minor": 0
}
