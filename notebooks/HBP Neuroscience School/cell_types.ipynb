{
 "cells": [
  {
   "cell_type": "markdown",
   "metadata": {},
   "source": [
    "## Cell Types Database\n",
    "\n",
    "This notebook demonstrates most of the features of the AllenSDK that help manipulate data in the Cell Types Database.  The main entry point will be through the `CellTypesCache` class.\n",
    "\n",
    "`CellTypesCache` is responsible for downloading Cell Types Database data to a standard directory structure on your hard drive.  If you use this class, you will not have to keep track of where your data lives, other than a root directory.\n",
    "\n",
    "Download this file in .ipynb format <a href='cell_types.ipynb'>here</a>."
   ]
  },
  {
   "cell_type": "code",
   "execution_count": null,
   "metadata": {
    "collapsed": false
   },
   "outputs": [],
   "source": [
    "from allensdk.core.cell_types_cache import CellTypesCache\n",
    "\n",
    "# Instantiate the CellTypesCache instance.  The manifest_file argument\n",
    "# tells it where to store the manifest, which is a JSON file that tracks\n",
    "# file paths.  If you supply a relative path (like this), it will go\n",
    "# into your current working directory\n",
    "ctc = CellTypesCache(manifest_file='cell_types/cell_types_manifest.json')\n",
    "\n",
    "# this saves the NWB file to 'cell_types/specimen_464212183/ephys.nwb'\n",
    "data_set = ctc.get_ephys_data(464212183)"
   ]
  },
  {
   "cell_type": "markdown",
   "metadata": {},
   "source": [
    "The `data_set` variable is an `NwbDataSet` instance, which has some methods we can use to access the injected current stimulus waveform and the voltage response waveform for all experimental sweeps.  Let's pull one sweep out and plot it."
   ]
  },
  {
   "cell_type": "code",
   "execution_count": null,
   "metadata": {
    "collapsed": false,
    "scrolled": true
   },
   "outputs": [],
   "source": [
    "%matplotlib inline\n",
    "import numpy as np\n",
    "import matplotlib.pyplot as plt\n",
    "\n",
    "sweep_number = 30\n",
    "sweep_data = data_set.get_sweep(sweep_number)\n",
    "\n",
    "index_range = sweep_data[\"index_range\"]\n",
    "i = sweep_data[\"stimulus\"][0:index_range[1]+1] # in A\n",
    "v = sweep_data[\"response\"][0:index_range[1]+1] # in V\n",
    "i *= 1e12 # to pA\n",
    "v *= 1e3 # to mV\n",
    "\n",
    "sampling_rate = sweep_data[\"sampling_rate\"] # in Hz\n",
    "t = np.arange(0, len(v)) * (1.0 / sampling_rate)\n",
    "\n",
    "plt.style.use('ggplot')\n",
    "fig, axes = plt.subplots(2, 1, sharex=True)\n",
    "axes[0].plot(t, v, color='black')\n",
    "axes[1].plot(t, i, color='gray')\n",
    "axes[0].set_ylabel(\"mV\")\n",
    "axes[1].set_ylabel(\"pA\")\n",
    "axes[1].set_xlabel(\"seconds\")\n",
    "plt.show()"
   ]
  },
  {
   "cell_type": "markdown",
   "metadata": {},
   "source": [
    "## Filtering Cells via Metadata\n",
    "\n",
    "Cell records in the Cell Types Database come with a large amount of metadata.  We have exposed the most commonly used of these are arguments to CellTypesCache.get_cells.  "
   ]
  },
  {
   "cell_type": "code",
   "execution_count": null,
   "metadata": {
    "collapsed": false,
    "scrolled": true
   },
   "outputs": [],
   "source": [
    "from allensdk.core.cell_types_cache import CellTypesCache\n",
    "from allensdk.core.cell_types_cache import ReporterStatus as RS\n",
    "\n",
    "# download all cells\n",
    "cells = ctc.get_cells()\n",
    "print \"Total cells: \", len(cells)\n",
    "\n",
    "# download metadata for all cells with morphology images\n",
    "cells = ctc.get_cells(require_morphology = True)\n",
    "print \"Cells with morphology images: \", len(cells)\n",
    "\n",
    "# cells with reconstructions\n",
    "cells = ctc.get_cells(require_reconstruction = True)\n",
    "print \"Cells with reconstructions: \", len(cells)\n",
    "\n",
    "# all cre positive cells\n",
    "cells = ctc.get_cells(reporter_status = RS.POSITIVE)\n",
    "print \"Cre-positive cells: \", len(cells)\n",
    "\n",
    "# cre negative cells with reconstructions\n",
    "cells = ctc.get_cells(require_reconstruction = True, \n",
    "                      reporter_status = RS.NEGATIVE)\n",
    "print \"Cre-negative cells with reconstructions: \", len(cells)"
   ]
  },
  {
   "cell_type": "markdown",
   "metadata": {},
   "source": [
    "## Cell Morphology Reconstructions\n",
    "\n",
    "The Cell Types Database also contains 3D reconstructions of neuronal morphologies. The data are presented in the SWC format. We'll download a particular cell's reconstrution here.\n",
    "\n",
    "The AllenSDK contains a module that makes it easier to work with the SWC files. We'll see how the data is contained in the file by looking at the first node."
   ]
  },
  {
   "cell_type": "code",
   "execution_count": null,
   "metadata": {
    "collapsed": false
   },
   "outputs": [],
   "source": [
    "import pprint\n",
    "\n",
    "# download and open an SWC file\n",
    "cell_id = 480114344\n",
    "morphology = ctc.get_reconstruction(cell_id) \n",
    "\n",
    "# the compartment list has all of the nodes in the file\n",
    "pprint.pprint(morphology.compartment_list[0])"
   ]
  },
  {
   "cell_type": "markdown",
   "metadata": {},
   "source": [
    "Note that the `type` field refers to the type of neuronal compartment. The values can be 1 for the soma, 2 for the axon, 3 for dendrites, and 4 for apical dendrites (if present).\n",
    "\n",
    "Morphologies now also come with marker files, which contains points of interest in the reconstruction.  The marker file contains locations where dendrites have been truncated due to slicing and when axons were not reconstructed.  The `name` field indicates the type of marker (10 for dendrite truncation, 20 for no reconstruction)."
   ]
  },
  {
   "cell_type": "code",
   "execution_count": null,
   "metadata": {
    "collapsed": false
   },
   "outputs": [],
   "source": [
    "# download and open a marker file\n",
    "markers = ctc.get_reconstruction_markers(cell_id) \n",
    "print len(markers)\n",
    "pprint.pprint(markers[0])"
   ]
  },
  {
   "cell_type": "markdown",
   "metadata": {},
   "source": [
    "We can use this data to draw lines between each node and all its children to get a drawing of the cell. We'll do it looking at it from the front and from the side."
   ]
  },
  {
   "cell_type": "code",
   "execution_count": null,
   "metadata": {
    "collapsed": false
   },
   "outputs": [],
   "source": [
    "from allensdk.core.swc import Marker\n",
    "fig, axes = plt.subplots(1, 2, sharey=True, sharex=True)\n",
    "axes[0].set_aspect('equal', 'box-forced')\n",
    "axes[1].set_aspect('equal', 'box-forced')\n",
    "\n",
    "# Make a line drawing of x-y and y-z views\n",
    "for n in morphology.compartment_list:\n",
    "    for c in morphology.children_of(n):\n",
    "        axes[0].plot([n['x'], c['x']], [n['y'], c['y']], color='black')\n",
    "        axes[1].plot([n['z'], c['z']], [n['y'], c['y']], color='black')\n",
    "\n",
    "# cut dendrite markers\n",
    "dm = [ m for m in markers if m['name'] == Marker.CUT_DENDRITE ]\n",
    "\n",
    "axes[0].scatter([m['x'] for m in dm], [m['y'] for m in dm], color='#3333ff')\n",
    "axes[1].scatter([m['z'] for m in dm], [m['y'] for m in dm], color='#3333ff')\n",
    "\n",
    "# no reconstruction markers\n",
    "nm = [ m for m in markers if m['name'] == Marker.NO_RECONSTRUCTION ]\n",
    "\n",
    "axes[0].scatter([m['x'] for m in nm], [m['y'] for m in nm], color='#333333')\n",
    "axes[1].scatter([m['z'] for m in nm], [m['y'] for m in nm], color='#333333')\n",
    "\n",
    "axes[0].set_ylabel('y')\n",
    "axes[0].set_xlabel('x')\n",
    "axes[1].set_xlabel('z')\n",
    "plt.show()"
   ]
  },
  {
   "cell_type": "markdown",
   "metadata": {},
   "source": [
    "## Electrophysiology Features\n",
    "\n",
    "The Cell Types Database contains a set of features that have already been computed, which could serve as good starting points for analysis. We can query the database using the SDK to get these features."
   ]
  },
  {
   "cell_type": "code",
   "execution_count": null,
   "metadata": {
    "collapsed": false
   },
   "outputs": [],
   "source": [
    "import pprint\n",
    "pp = pprint.PrettyPrinter(indent=2)\n",
    "\n",
    "# download all electrophysiology features for all cells\n",
    "ephys_features = ctc.get_ephys_features()\n",
    "\n",
    "print(\"Ephys. features available for %d cells\" % len(ephys_features))\n",
    "\n",
    "\n",
    "# filter down to a specific cell\n",
    "specimen_id = 464212183\n",
    "cell_ephys_features = [f for f in ephys_features if f['specimen_id'] == specimen_id]\n",
    "\n",
    "pp.pprint(cell_ephys_features)"
   ]
  },
  {
   "cell_type": "markdown",
   "metadata": {},
   "source": [
    "That's how to get all the ephys features for a given specimen - what if we want a particular feature for all cells?"
   ]
  },
  {
   "cell_type": "code",
   "execution_count": null,
   "metadata": {
    "collapsed": false
   },
   "outputs": [],
   "source": [
    "updown = np.array([f['upstroke_downstroke_ratio_long_square'] for f in ephys_features], dtype=float)\n",
    "fasttrough = np.array([f['fast_trough_v_long_square'] for f in ephys_features], dtype=float)\n",
    "\n",
    "plt.figure()\n",
    "plt.scatter(fasttrough, updown, color='#2ca25f')\n",
    "plt.ylabel(\"upstroke-downstroke ratio\")\n",
    "plt.xlabel(\"fast trough depth (mV)\")\n",
    "plt.show()"
   ]
  },
  {
   "cell_type": "markdown",
   "metadata": {},
   "source": [
    "Let's use numpy to fit a regression line to these data and plot it."
   ]
  },
  {
   "cell_type": "code",
   "execution_count": null,
   "metadata": {
    "collapsed": false
   },
   "outputs": [],
   "source": [
    "A = np.vstack([fasttrough, np.ones_like(updown)]).T\n",
    "print \"First 5 rows of A:\"\n",
    "print A[:5, :]\n",
    "\n",
    "m, c = np.linalg.lstsq(A, updown)[0]\n",
    "print \"m\", m, \"c\", c\n",
    "\n",
    "plt.figure()\n",
    "plt.scatter(fasttrough, updown, color='#2ca25f')\n",
    "plt.plot(fasttrough, m * fasttrough + c, c='gray')\n",
    "plt.ylabel(\"upstroke-downstroke ratio\")\n",
    "plt.xlabel(\"fast trough depth (mV)\")\n",
    "plt.show()"
   ]
  },
  {
   "cell_type": "markdown",
   "metadata": {},
   "source": [
    "It looks like there may be roughly two clusters in the data above. Maybe they relate to whether the cells are presumably excitatory (spiny) cells or inhibitory (aspiny) cells. Let's query the API and split up the two sets to see."
   ]
  },
  {
   "cell_type": "code",
   "execution_count": null,
   "metadata": {
    "collapsed": false
   },
   "outputs": [],
   "source": [
    "cells = ctc.get_cells()\n",
    "\n",
    "cell_index = { c['id']: c for c in cells}\n",
    "\n",
    "dendrite_types = ['spiny', 'aspiny']\n",
    "data = {}\n",
    "\n",
    "# group fast trough depth and upstroke downstroke ratio values by cell dendrite type\n",
    "for dendrite_type in dendrite_types:\n",
    "    type_features = [f for f in ephys_features if cell_index[f['specimen_id']]['dendrite_type'] == dendrite_type]\n",
    "    data[dendrite_type] = {\n",
    "        \"fasttrough\": [f['fast_trough_v_long_square'] for f in type_features],\n",
    "        \"updown\": [f['upstroke_downstroke_ratio_short_square'] for f in type_features],\n",
    "    }\n",
    "    \n",
    "plt.figure()\n",
    "for a_type, color in zip(dendrite_types, [\"#d95f02\", \"#7570b3\"]):\n",
    "    plt.scatter(data[a_type]['fasttrough'], data[a_type]['updown'], color=color, label=a_type)\n",
    "plt.legend(loc='best')\n",
    "plt.ylabel(\"upstroke-downstroke ratio\")\n",
    "plt.xlabel(\"fast trough depth (mV)\")\n",
    "plt.show()"
   ]
  },
  {
   "cell_type": "markdown",
   "metadata": {},
   "source": [
    "## Morphology Features\n",
    "\n",
    "The Cell Types Database contains a set of precomputed morphological features for cells that have reconstructions.  You can access morphology features by themselves, or combined with the electrophysiology features."
   ]
  },
  {
   "cell_type": "code",
   "execution_count": null,
   "metadata": {
    "collapsed": false
   },
   "outputs": [],
   "source": [
    "# download all morphology features for cells with reconstructions\n",
    "morphology_features = ctc.get_morphology_features()\n",
    "\n",
    "# or download both morphology and ephys features\n",
    "# this time we'll ask the cache to return a pandas dataframe\n",
    "all_features = ctc.get_all_features(dataframe=True, require_reconstruction=True)\n",
    "\n",
    "print(\"All features available for %d cells\" % len(all_features))\n",
    "\n",
    "all_features.head()"
   ]
  },
  {
   "cell_type": "markdown",
   "metadata": {},
   "source": [
    "## Computing Electrophysiology Features\n",
    "\n",
    "The AllenSDK contains the code used to compute the electrophysiology features you accessed above.  You can run it yourself like this."
   ]
  },
  {
   "cell_type": "code",
   "execution_count": null,
   "metadata": {
    "collapsed": false
   },
   "outputs": [],
   "source": [
    "from allensdk.ephys.feature_extractor import EphysFeatureExtractor\n",
    "\n",
    "sweep_number = 35\n",
    "sweep_data = data_set.get_sweep(sweep_number)\n",
    "\n",
    "index_range = sweep_data[\"index_range\"]\n",
    "i = sweep_data[\"stimulus\"][0:index_range[1]+1] # in A\n",
    "v = sweep_data[\"response\"][0:index_range[1]+1] # in V\n",
    "i *= 1e12 # to pA\n",
    "v *= 1e3 # to mV\n",
    "\n",
    "sampling_rate = sweep_data[\"sampling_rate\"] # in Hz\n",
    "t = np.arange(0, len(v)) * (1.0 / sampling_rate)\n",
    "\n",
    "fx = EphysFeatureExtractor()\n",
    "\n",
    "stim_start = 1.0\n",
    "stim_duration = 1.0\n",
    "\n",
    "fx.process_instance(\"\", v, i, t, stim_start, stim_duration, \"\")\n",
    "feature_data = fx.feature_list[0].mean\n",
    "print \"Avg spike width: {:.2f} ms\".format(feature_data['width'])\n",
    "print \"Avg spike threshold: {:.1f} mV\".format(feature_data[\"threshold\"])"
   ]
  },
  {
   "cell_type": "code",
   "execution_count": null,
   "metadata": {
    "collapsed": false
   },
   "outputs": [],
   "source": [
    "import pprint\n",
    "pp = pprint.PrettyPrinter(indent=2)\n",
    "pp.pprint(feature_data[\"spikes\"][0])"
   ]
  },
  {
   "cell_type": "markdown",
   "metadata": {},
   "source": [
    "A list comprehension is an easy way to pull out the spike times."
   ]
  },
  {
   "cell_type": "code",
   "execution_count": null,
   "metadata": {
    "collapsed": false
   },
   "outputs": [],
   "source": [
    "spike_times = [s[\"t\"] for s in feature_data[\"spikes\"]]\n",
    "\n",
    "print spike_times[:5] "
   ]
  },
  {
   "cell_type": "code",
   "execution_count": null,
   "metadata": {
    "collapsed": false
   },
   "outputs": [],
   "source": [
    "plt.figure()\n",
    "plt.plot(t, v, color='black')\n",
    "\n",
    "min_v = v.min()\n",
    "\n",
    "min_v -= 5.0\n",
    "\n",
    "plt.scatter(spike_times, np.ones(len(spike_times)) * min_v, c='r')\n",
    "plt.xlim(0.9, 1.2)\n",
    "plt.show()"
   ]
  }
 ],
 "metadata": {
  "kernelspec": {
   "display_name": "Python 2",
   "language": "python",
   "name": "python2"
  },
  "language_info": {
   "codemirror_mode": {
    "name": "ipython",
    "version": 2
   },
   "file_extension": ".py",
   "mimetype": "text/x-python",
   "name": "python",
   "nbconvert_exporter": "python",
   "pygments_lexer": "ipython2",
   "version": "2.7.9"
  }
 },
 "nbformat": 4,
 "nbformat_minor": 0
}
